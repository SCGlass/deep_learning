{
 "cells": [
  {
   "cell_type": "markdown",
   "metadata": {},
   "source": [
    "# RNN Lab - Sentiment Classification"
   ]
  },
  {
   "cell_type": "code",
   "execution_count": 12,
   "metadata": {},
   "outputs": [
    {
     "name": "stderr",
     "output_type": "stream",
     "text": [
      "[nltk_data] Downloading package stopwords to\n",
      "[nltk_data]     /home/sam_glass/nltk_data...\n",
      "[nltk_data]   Package stopwords is already up-to-date!\n",
      "[nltk_data] Downloading package punkt to /home/sam_glass/nltk_data...\n",
      "[nltk_data]   Package punkt is already up-to-date!\n",
      "[nltk_data] Downloading package wordnet to\n",
      "[nltk_data]     /home/sam_glass/nltk_data...\n",
      "[nltk_data]   Package wordnet is already up-to-date!\n"
     ]
    }
   ],
   "source": [
    "# importing relevant packages\n",
    "\n",
    "import pandas as pd\n",
    "import matplotlib.pyplot as plt\n",
    "import nltk\n",
    "nltk.download([\"stopwords\", \"punkt\", \"wordnet\"])\n",
    "from nltk.stem import WordNetLemmatizer\n",
    "from nltk.corpus import stopwords\n",
    "from nltk.tokenize import word_tokenize\n",
    "from sklearn.model_selection import train_test_split\n",
    "import numpy as np\n",
    "\n",
    "import tensorflow as tf\n",
    "from tensorflow.keras.preprocessing.text import Tokenizer\n",
    "from tensorflow.keras.preprocessing.sequence import pad_sequences\n",
    "from  tensorflow.keras.models import Sequential\n",
    "from tensorflow.keras.layers import GRU,Dense,Embedding,Dropout, Conv1D,MaxPooling1D,GlobalAveragePooling1D, SimpleRNN \n",
    "from tensorflow.keras.callbacks import EarlyStopping, ModelCheckpoint\n",
    "from tensorflow.keras.optimizers import Adam\n",
    "from keras.models import load_model\n",
    "import kerastuner as kt\n",
    "\n",
    "import nlpaug.augmenter.word as naw\n",
    "import torch\n"
   ]
  },
  {
   "cell_type": "markdown",
   "metadata": {},
   "source": [
    "#### Loading data"
   ]
  },
  {
   "cell_type": "code",
   "execution_count": 13,
   "metadata": {},
   "outputs": [
    {
     "data": {
      "text/html": [
       "<div>\n",
       "<style scoped>\n",
       "    .dataframe tbody tr th:only-of-type {\n",
       "        vertical-align: middle;\n",
       "    }\n",
       "\n",
       "    .dataframe tbody tr th {\n",
       "        vertical-align: top;\n",
       "    }\n",
       "\n",
       "    .dataframe thead th {\n",
       "        text-align: right;\n",
       "    }\n",
       "</style>\n",
       "<table border=\"1\" class=\"dataframe\">\n",
       "  <thead>\n",
       "    <tr style=\"text-align: right;\">\n",
       "      <th></th>\n",
       "      <th>text</th>\n",
       "      <th>label</th>\n",
       "    </tr>\n",
       "  </thead>\n",
       "  <tbody>\n",
       "    <tr>\n",
       "      <th>0</th>\n",
       "      <td>i feel so pissed off over an old friend and so...</td>\n",
       "      <td>anger</td>\n",
       "    </tr>\n",
       "    <tr>\n",
       "      <th>1</th>\n",
       "      <td>ive found it has made a huge difference especi...</td>\n",
       "      <td>anger</td>\n",
       "    </tr>\n",
       "    <tr>\n",
       "      <th>2</th>\n",
       "      <td>i also feel it is unfortunate that nearly all ...</td>\n",
       "      <td>sadness</td>\n",
       "    </tr>\n",
       "    <tr>\n",
       "      <th>3</th>\n",
       "      <td>i feel petty a href http clairee</td>\n",
       "      <td>anger</td>\n",
       "    </tr>\n",
       "    <tr>\n",
       "      <th>4</th>\n",
       "      <td>i used to believe that a feeling like fear was...</td>\n",
       "      <td>sadness</td>\n",
       "    </tr>\n",
       "  </tbody>\n",
       "</table>\n",
       "</div>"
      ],
      "text/plain": [
       "                                                text    label\n",
       "0  i feel so pissed off over an old friend and so...    anger\n",
       "1  ive found it has made a huge difference especi...    anger\n",
       "2  i also feel it is unfortunate that nearly all ...  sadness\n",
       "3                   i feel petty a href http clairee    anger\n",
       "4  i used to believe that a feeling like fear was...  sadness"
      ]
     },
     "execution_count": 13,
     "metadata": {},
     "output_type": "execute_result"
    }
   ],
   "source": [
    "data = pd.read_csv(\"../Lab_RNN/Data/emotions.csv\") # creating data frame from the csv file\n",
    "\n",
    "data.head()"
   ]
  },
  {
   "cell_type": "code",
   "execution_count": 14,
   "metadata": {},
   "outputs": [
    {
     "data": {
      "text/plain": [
       "<bound method DataFrame.value_counts of                                                     text    label\n",
       "0      i feel so pissed off over an old friend and so...    anger\n",
       "1      ive found it has made a huge difference especi...    anger\n",
       "2      i also feel it is unfortunate that nearly all ...  sadness\n",
       "3                       i feel petty a href http clairee    anger\n",
       "4      i used to believe that a feeling like fear was...  sadness\n",
       "...                                                  ...      ...\n",
       "19995  i was i might be buying stuff from there but i...      joy\n",
       "19996  i like sonam deepika and genelia who i feel ar...      joy\n",
       "19997  i feel pathetic that i can hardly go a whole d...  sadness\n",
       "19998  id have spent more time with her on reading i ...  sadness\n",
       "19999  i do however feel like one of those pathetic g...  sadness\n",
       "\n",
       "[20000 rows x 2 columns]>"
      ]
     },
     "execution_count": 14,
     "metadata": {},
     "output_type": "execute_result"
    }
   ],
   "source": [
    "data.value_counts # using value count to count how many rows in data frame"
   ]
  },
  {
   "cell_type": "code",
   "execution_count": 15,
   "metadata": {},
   "outputs": [
    {
     "data": {
      "text/plain": [
       "text     0\n",
       "label    0\n",
       "dtype: int64"
      ]
     },
     "execution_count": 15,
     "metadata": {},
     "output_type": "execute_result"
    }
   ],
   "source": [
    "# Checking for any null values\n",
    "data.isnull().sum()"
   ]
  },
  {
   "cell_type": "code",
   "execution_count": 16,
   "metadata": {},
   "outputs": [
    {
     "name": "stdout",
     "output_type": "stream",
     "text": [
      "Duplicates                                                    text label\n",
      "6154  i feel more adventurous willing to take risks ...   joy\n"
     ]
    }
   ],
   "source": [
    "duplicates =data[data.duplicated]\n",
    "print(f\"Duplicates {duplicates}\")"
   ]
  },
  {
   "cell_type": "code",
   "execution_count": 17,
   "metadata": {},
   "outputs": [],
   "source": [
    "# remove duplicates\n",
    "data = data.drop_duplicates()"
   ]
  },
  {
   "cell_type": "markdown",
   "metadata": {},
   "source": [
    "The data set contains 20,000 rows of text lines then classed with an emotion."
   ]
  },
  {
   "cell_type": "code",
   "execution_count": 18,
   "metadata": {},
   "outputs": [
    {
     "data": {
      "text/plain": [
       "<Axes: xlabel='label'>"
      ]
     },
     "execution_count": 18,
     "metadata": {},
     "output_type": "execute_result"
    },
    {
     "data": {
      "image/png": "[encoded data removed]",
      "text/plain": [
       "<Figure size 640x480 with 1 Axes>"
      ]
     },
     "metadata": {},
     "output_type": "display_data"
    }
   ],
   "source": [
    "data.label.value_counts().plot.bar() "
   ]
  },
  {
   "cell_type": "markdown",
   "metadata": {},
   "source": [
    "Here we can see that the data set is not very equal across all catagories. This may make the training more biased to certain emotions like joy and sadness. We also see that there is six different catagories for the emotions."
   ]
  },
  {
   "cell_type": "code",
   "execution_count": 19,
   "metadata": {},
   "outputs": [],
   "source": [
    "joy = data[data[\"label\"]== \"joy\"]\n",
    "sadness = data[data[\"label\"]== \"sadness\"]\n",
    "anger = data[data[\"label\"]== \"anger\"]\n",
    "fear = data[data[\"label\"] == \"fear\"]\n",
    "love = data[data[\"label\"] == \"love\"]\n",
    "surprise = data[data[\"label\"] == \"surprise\"]\n",
    "\n",
    "love = love.sample(n=len(surprise), random_state=42)\n",
    "fear = fear.sample(n=len(surprise), random_state=42)\n",
    "anger = anger.sample(n=len(surprise), random_state=42)\n",
    "sadness = sadness.sample(n=len(surprise), random_state=42)\n",
    "joy = joy.sample(n=len(surprise), random_state=42)\n",
    "\n",
    "data = pd.concat([joy,sadness,anger,fear,love,surprise], axis=0)"
   ]
  },
  {
   "cell_type": "code",
   "execution_count": 20,
   "metadata": {},
   "outputs": [
    {
     "data": {
      "text/html": [
       "<div>\n",
       "<style scoped>\n",
       "    .dataframe tbody tr th:only-of-type {\n",
       "        vertical-align: middle;\n",
       "    }\n",
       "\n",
       "    .dataframe tbody tr th {\n",
       "        vertical-align: top;\n",
       "    }\n",
       "\n",
       "    .dataframe thead th {\n",
       "        text-align: right;\n",
       "    }\n",
       "</style>\n",
       "<table border=\"1\" class=\"dataframe\">\n",
       "  <thead>\n",
       "    <tr style=\"text-align: right;\">\n",
       "      <th></th>\n",
       "      <th>text</th>\n",
       "      <th>label</th>\n",
       "    </tr>\n",
       "  </thead>\n",
       "  <tbody>\n",
       "    <tr>\n",
       "      <th>17713</th>\n",
       "      <td>i feel so glad that im able to have the time t...</td>\n",
       "      <td>joy</td>\n",
       "    </tr>\n",
       "    <tr>\n",
       "      <th>14436</th>\n",
       "      <td>i could look up the coordinates of the cave bu...</td>\n",
       "      <td>joy</td>\n",
       "    </tr>\n",
       "    <tr>\n",
       "      <th>8631</th>\n",
       "      <td>i need you i need someone i need to be protect...</td>\n",
       "      <td>joy</td>\n",
       "    </tr>\n",
       "    <tr>\n",
       "      <th>6740</th>\n",
       "      <td>i can t imagine a real life scenario where i w...</td>\n",
       "      <td>joy</td>\n",
       "    </tr>\n",
       "    <tr>\n",
       "      <th>1381</th>\n",
       "      <td>im feeling very optimistic about it and find m...</td>\n",
       "      <td>joy</td>\n",
       "    </tr>\n",
       "  </tbody>\n",
       "</table>\n",
       "</div>"
      ],
      "text/plain": [
       "                                                    text label\n",
       "17713  i feel so glad that im able to have the time t...   joy\n",
       "14436  i could look up the coordinates of the cave bu...   joy\n",
       "8631   i need you i need someone i need to be protect...   joy\n",
       "6740   i can t imagine a real life scenario where i w...   joy\n",
       "1381   im feeling very optimistic about it and find m...   joy"
      ]
     },
     "execution_count": 20,
     "metadata": {},
     "output_type": "execute_result"
    }
   ],
   "source": [
    "data.head()"
   ]
  },
  {
   "cell_type": "code",
   "execution_count": 21,
   "metadata": {},
   "outputs": [
    {
     "name": "stdout",
     "output_type": "stream",
     "text": [
      "<class 'pandas.core.frame.DataFrame'>\n",
      "Index: 4314 entries, 17713 to 19949\n",
      "Data columns (total 2 columns):\n",
      " #   Column  Non-Null Count  Dtype \n",
      "---  ------  --------------  ----- \n",
      " 0   text    4314 non-null   object\n",
      " 1   label   4314 non-null   object\n",
      "dtypes: object(2)\n",
      "memory usage: 101.1+ KB\n"
     ]
    }
   ],
   "source": [
    "data.info()"
   ]
  },
  {
   "cell_type": "code",
   "execution_count": 22,
   "metadata": {},
   "outputs": [
    {
     "data": {
      "text/plain": [
       "<Axes: xlabel='label'>"
      ]
     },
     "execution_count": 22,
     "metadata": {},
     "output_type": "execute_result"
    },
    {
     "data": {
      "image/png": "[encoded data removed]",
      "text/plain": [
       "<Figure size 640x480 with 1 Axes>"
      ]
     },
     "metadata": {},
     "output_type": "display_data"
    }
   ],
   "source": [
    "data.label.value_counts().plot.bar() "
   ]
  },
  {
   "cell_type": "code",
   "execution_count": 23,
   "metadata": {},
   "outputs": [
    {
     "data": {
      "text/html": [
       "<div>\n",
       "<style scoped>\n",
       "    .dataframe tbody tr th:only-of-type {\n",
       "        vertical-align: middle;\n",
       "    }\n",
       "\n",
       "    .dataframe tbody tr th {\n",
       "        vertical-align: top;\n",
       "    }\n",
       "\n",
       "    .dataframe thead th {\n",
       "        text-align: right;\n",
       "    }\n",
       "</style>\n",
       "<table border=\"1\" class=\"dataframe\">\n",
       "  <thead>\n",
       "    <tr style=\"text-align: right;\">\n",
       "      <th></th>\n",
       "      <th>text</th>\n",
       "      <th>label</th>\n",
       "      <th>text_column</th>\n",
       "      <th>emotion_column</th>\n",
       "    </tr>\n",
       "  </thead>\n",
       "  <tbody>\n",
       "    <tr>\n",
       "      <th>0</th>\n",
       "      <td>i feel so glad that im able to have the time t...</td>\n",
       "      <td>joy</td>\n",
       "      <td>NaN</td>\n",
       "      <td>NaN</td>\n",
       "    </tr>\n",
       "    <tr>\n",
       "      <th>1</th>\n",
       "      <td>i could look up the coordinates of the cave bu...</td>\n",
       "      <td>joy</td>\n",
       "      <td>NaN</td>\n",
       "      <td>NaN</td>\n",
       "    </tr>\n",
       "    <tr>\n",
       "      <th>2</th>\n",
       "      <td>i need you i need someone i need to be protect...</td>\n",
       "      <td>joy</td>\n",
       "      <td>NaN</td>\n",
       "      <td>NaN</td>\n",
       "    </tr>\n",
       "    <tr>\n",
       "      <th>3</th>\n",
       "      <td>i can t imagine a real life scenario where i w...</td>\n",
       "      <td>joy</td>\n",
       "      <td>NaN</td>\n",
       "      <td>NaN</td>\n",
       "    </tr>\n",
       "    <tr>\n",
       "      <th>4</th>\n",
       "      <td>im feeling very optimistic about it and find m...</td>\n",
       "      <td>joy</td>\n",
       "      <td>NaN</td>\n",
       "      <td>NaN</td>\n",
       "    </tr>\n",
       "    <tr>\n",
       "      <th>...</th>\n",
       "      <td>...</td>\n",
       "      <td>...</td>\n",
       "      <td>...</td>\n",
       "      <td>...</td>\n",
       "    </tr>\n",
       "    <tr>\n",
       "      <th>8623</th>\n",
       "      <td>NaN</td>\n",
       "      <td>NaN</td>\n",
       "      <td>[i go around people and try i act normal again...</td>\n",
       "      <td>surprise</td>\n",
       "    </tr>\n",
       "    <tr>\n",
       "      <th>8624</th>\n",
       "      <td>NaN</td>\n",
       "      <td>NaN</td>\n",
       "      <td>[once i feel no herpes coming home i would be ...</td>\n",
       "      <td>surprise</td>\n",
       "    </tr>\n",
       "    <tr>\n",
       "      <th>8625</th>\n",
       "      <td>NaN</td>\n",
       "      <td>NaN</td>\n",
       "      <td>[yet i like to sometimes do extreme things tha...</td>\n",
       "      <td>surprise</td>\n",
       "    </tr>\n",
       "    <tr>\n",
       "      <th>8626</th>\n",
       "      <td>NaN</td>\n",
       "      <td>NaN</td>\n",
       "      <td>[i feel almost like approaching a monster beca...</td>\n",
       "      <td>surprise</td>\n",
       "    </tr>\n",
       "    <tr>\n",
       "      <th>8627</th>\n",
       "      <td>NaN</td>\n",
       "      <td>NaN</td>\n",
       "      <td>[because i feel absolutely damned amazing]</td>\n",
       "      <td>surprise</td>\n",
       "    </tr>\n",
       "  </tbody>\n",
       "</table>\n",
       "<p>8628 rows × 4 columns</p>\n",
       "</div>"
      ],
      "text/plain": [
       "                                                   text  ... emotion_column\n",
       "0     i feel so glad that im able to have the time t...  ...            NaN\n",
       "1     i could look up the coordinates of the cave bu...  ...            NaN\n",
       "2     i need you i need someone i need to be protect...  ...            NaN\n",
       "3     i can t imagine a real life scenario where i w...  ...            NaN\n",
       "4     im feeling very optimistic about it and find m...  ...            NaN\n",
       "...                                                 ...  ...            ...\n",
       "8623                                                NaN  ...       surprise\n",
       "8624                                                NaN  ...       surprise\n",
       "8625                                                NaN  ...       surprise\n",
       "8626                                                NaN  ...       surprise\n",
       "8627                                                NaN  ...       surprise\n",
       "\n",
       "[8628 rows x 4 columns]"
      ]
     },
     "execution_count": 23,
     "metadata": {},
     "output_type": "execute_result"
    }
   ],
   "source": [
    "def augment_with_emotion(row, aug):\n",
    "    original_text = row['text']\n",
    "    original_emotion = row['label']\n",
    "    \n",
    "    augmented_text = aug.augment(original_text)\n",
    "    \n",
    "    # Create a new row with augmented text and the original emotion label\n",
    "    augmented_row = {'text_column': augmented_text, 'emotion_column': original_emotion}\n",
    "    \n",
    "    return pd.Series(augmented_row)\n",
    "\n",
    "# Augmenter configuration\n",
    "aug = naw.ContextualWordEmbsAug(model_path='bert-base-uncased', action=\"insert\")\n",
    "\n",
    "# Apply the augmentation function to each row in the DataFrame\n",
    "augmented_df = data.apply(lambda row: augment_with_emotion(row, aug), axis=1)\n",
    "\n",
    "# Concatenate the original and augmented DataFrames\n",
    "data = pd.concat([data, augmented_df], ignore_index=True)\n",
    "\n",
    "# Display the combined DataFrame\n",
    "data"
   ]
  },
  {
   "cell_type": "markdown",
   "metadata": {},
   "source": [
    "#### Preprocessing"
   ]
  },
  {
   "cell_type": "code",
   "execution_count": 24,
   "metadata": {},
   "outputs": [],
   "source": [
    "# Even though the data does not seem to have and Upper case or punctuation it may be good to do as there is many lines to check through manually\n",
    "data.loc[:, \"text\"] = data[\"text\"].str.lower().str.replace('[^\\w\\s]','') # convert text to lowercase and remove punctuation\n",
    "data.loc[:, \"label\"] = data[\"label\"].str.lower().str.replace('[^\\w\\s]','')"
   ]
  },
  {
   "cell_type": "code",
   "execution_count": 25,
   "metadata": {},
   "outputs": [],
   "source": [
    "# create a preproccessing function that will process the text column\n",
    "\n",
    "def preprocess_text(text):\n",
    "    \n",
    "    # convert text to lowercase\n",
    "    text = text.lower()\n",
    "\n",
    "    #Remove stop words\n",
    "\n",
    "    stop_words = set(stopwords.words(\"english\"))\n",
    "    tokens = text.split()\n",
    "    filtered_tokens = [token for token in tokens if token not in stop_words]\n",
    "\n",
    "    # Lemmatize the tokens\n",
    "\n",
    "    lemmatizer = WordNetLemmatizer()\n",
    "    lemmatized_tokens = [lemmatizer.lemmatize(token) for token in filtered_tokens]\n",
    "\n",
    "    processed_text = \" \".join(lemmatized_tokens)\n",
    "\n",
    "    return processed_text\n",
    "\n"
   ]
  },
  {
   "cell_type": "code",
   "execution_count": 26,
   "metadata": {},
   "outputs": [
    {
     "ename": "AttributeError",
     "evalue": "'float' object has no attribute 'lower'",
     "output_type": "error",
     "traceback": [
      "\u001b[0;31m---------------------------------------------------------------------------\u001b[0m",
      "\u001b[0;31mAttributeError\u001b[0m                            Traceback (most recent call last)",
      "Cell \u001b[0;32mIn[26], line 1\u001b[0m\n\u001b[0;32m----> 1\u001b[0m data\u001b[38;5;241m.\u001b[39mloc[:, \u001b[38;5;124m\"\u001b[39m\u001b[38;5;124mtext\u001b[39m\u001b[38;5;124m\"\u001b[39m] \u001b[38;5;241m=\u001b[39m \u001b[43mdata\u001b[49m\u001b[43m[\u001b[49m\u001b[38;5;124;43m\"\u001b[39;49m\u001b[38;5;124;43mtext\u001b[39;49m\u001b[38;5;124;43m\"\u001b[39;49m\u001b[43m]\u001b[49m\u001b[38;5;241;43m.\u001b[39;49m\u001b[43mapply\u001b[49m\u001b[43m(\u001b[49m\u001b[43mpreprocess_text\u001b[49m\u001b[43m)\u001b[49m\n\u001b[1;32m      2\u001b[0m data\n",
      "File \u001b[0;32m~/deep_learning/venv/lib/python3.10/site-packages/pandas/core/series.py:4764\u001b[0m, in \u001b[0;36mSeries.apply\u001b[0;34m(self, func, convert_dtype, args, by_row, **kwargs)\u001b[0m\n\u001b[1;32m   4629\u001b[0m \u001b[38;5;28;01mdef\u001b[39;00m \u001b[38;5;21mapply\u001b[39m(\n\u001b[1;32m   4630\u001b[0m     \u001b[38;5;28mself\u001b[39m,\n\u001b[1;32m   4631\u001b[0m     func: AggFuncType,\n\u001b[0;32m   (...)\u001b[0m\n\u001b[1;32m   4636\u001b[0m     \u001b[38;5;241m*\u001b[39m\u001b[38;5;241m*\u001b[39mkwargs,\n\u001b[1;32m   4637\u001b[0m ) \u001b[38;5;241m-\u001b[39m\u001b[38;5;241m>\u001b[39m DataFrame \u001b[38;5;241m|\u001b[39m Series:\n\u001b[1;32m   4638\u001b[0m \u001b[38;5;250m    \u001b[39m\u001b[38;5;124;03m\"\"\"\u001b[39;00m\n\u001b[1;32m   4639\u001b[0m \u001b[38;5;124;03m    Invoke function on values of Series.\u001b[39;00m\n\u001b[1;32m   4640\u001b[0m \n\u001b[0;32m   (...)\u001b[0m\n\u001b[1;32m   4755\u001b[0m \u001b[38;5;124;03m    dtype: float64\u001b[39;00m\n\u001b[1;32m   4756\u001b[0m \u001b[38;5;124;03m    \"\"\"\u001b[39;00m\n\u001b[1;32m   4757\u001b[0m     \u001b[38;5;28;01mreturn\u001b[39;00m \u001b[43mSeriesApply\u001b[49m\u001b[43m(\u001b[49m\n\u001b[1;32m   4758\u001b[0m \u001b[43m        \u001b[49m\u001b[38;5;28;43mself\u001b[39;49m\u001b[43m,\u001b[49m\n\u001b[1;32m   4759\u001b[0m \u001b[43m        \u001b[49m\u001b[43mfunc\u001b[49m\u001b[43m,\u001b[49m\n\u001b[1;32m   4760\u001b[0m \u001b[43m        \u001b[49m\u001b[43mconvert_dtype\u001b[49m\u001b[38;5;241;43m=\u001b[39;49m\u001b[43mconvert_dtype\u001b[49m\u001b[43m,\u001b[49m\n\u001b[1;32m   4761\u001b[0m \u001b[43m        \u001b[49m\u001b[43mby_row\u001b[49m\u001b[38;5;241;43m=\u001b[39;49m\u001b[43mby_row\u001b[49m\u001b[43m,\u001b[49m\n\u001b[1;32m   4762\u001b[0m \u001b[43m        \u001b[49m\u001b[43margs\u001b[49m\u001b[38;5;241;43m=\u001b[39;49m\u001b[43margs\u001b[49m\u001b[43m,\u001b[49m\n\u001b[1;32m   4763\u001b[0m \u001b[43m        \u001b[49m\u001b[43mkwargs\u001b[49m\u001b[38;5;241;43m=\u001b[39;49m\u001b[43mkwargs\u001b[49m\u001b[43m,\u001b[49m\n\u001b[0;32m-> 4764\u001b[0m \u001b[43m    \u001b[49m\u001b[43m)\u001b[49m\u001b[38;5;241;43m.\u001b[39;49m\u001b[43mapply\u001b[49m\u001b[43m(\u001b[49m\u001b[43m)\u001b[49m\n",
      "File \u001b[0;32m~/deep_learning/venv/lib/python3.10/site-packages/pandas/core/apply.py:1209\u001b[0m, in \u001b[0;36mSeriesApply.apply\u001b[0;34m(self)\u001b[0m\n\u001b[1;32m   1206\u001b[0m     \u001b[38;5;28;01mreturn\u001b[39;00m \u001b[38;5;28mself\u001b[39m\u001b[38;5;241m.\u001b[39mapply_compat()\n\u001b[1;32m   1208\u001b[0m \u001b[38;5;66;03m# self.func is Callable\u001b[39;00m\n\u001b[0;32m-> 1209\u001b[0m \u001b[38;5;28;01mreturn\u001b[39;00m \u001b[38;5;28;43mself\u001b[39;49m\u001b[38;5;241;43m.\u001b[39;49m\u001b[43mapply_standard\u001b[49m\u001b[43m(\u001b[49m\u001b[43m)\u001b[49m\n",
      "File \u001b[0;32m~/deep_learning/venv/lib/python3.10/site-packages/pandas/core/apply.py:1289\u001b[0m, in \u001b[0;36mSeriesApply.apply_standard\u001b[0;34m(self)\u001b[0m\n\u001b[1;32m   1283\u001b[0m \u001b[38;5;66;03m# row-wise access\u001b[39;00m\n\u001b[1;32m   1284\u001b[0m \u001b[38;5;66;03m# apply doesn't have a `na_action` keyword and for backward compat reasons\u001b[39;00m\n\u001b[1;32m   1285\u001b[0m \u001b[38;5;66;03m# we need to give `na_action=\"ignore\"` for categorical data.\u001b[39;00m\n\u001b[1;32m   1286\u001b[0m \u001b[38;5;66;03m# TODO: remove the `na_action=\"ignore\"` when that default has been changed in\u001b[39;00m\n\u001b[1;32m   1287\u001b[0m \u001b[38;5;66;03m#  Categorical (GH51645).\u001b[39;00m\n\u001b[1;32m   1288\u001b[0m action \u001b[38;5;241m=\u001b[39m \u001b[38;5;124m\"\u001b[39m\u001b[38;5;124mignore\u001b[39m\u001b[38;5;124m\"\u001b[39m \u001b[38;5;28;01mif\u001b[39;00m \u001b[38;5;28misinstance\u001b[39m(obj\u001b[38;5;241m.\u001b[39mdtype, CategoricalDtype) \u001b[38;5;28;01melse\u001b[39;00m \u001b[38;5;28;01mNone\u001b[39;00m\n\u001b[0;32m-> 1289\u001b[0m mapped \u001b[38;5;241m=\u001b[39m \u001b[43mobj\u001b[49m\u001b[38;5;241;43m.\u001b[39;49m\u001b[43m_map_values\u001b[49m\u001b[43m(\u001b[49m\n\u001b[1;32m   1290\u001b[0m \u001b[43m    \u001b[49m\u001b[43mmapper\u001b[49m\u001b[38;5;241;43m=\u001b[39;49m\u001b[43mcurried\u001b[49m\u001b[43m,\u001b[49m\u001b[43m \u001b[49m\u001b[43mna_action\u001b[49m\u001b[38;5;241;43m=\u001b[39;49m\u001b[43maction\u001b[49m\u001b[43m,\u001b[49m\u001b[43m \u001b[49m\u001b[43mconvert\u001b[49m\u001b[38;5;241;43m=\u001b[39;49m\u001b[38;5;28;43mself\u001b[39;49m\u001b[38;5;241;43m.\u001b[39;49m\u001b[43mconvert_dtype\u001b[49m\n\u001b[1;32m   1291\u001b[0m \u001b[43m\u001b[49m\u001b[43m)\u001b[49m\n\u001b[1;32m   1293\u001b[0m \u001b[38;5;28;01mif\u001b[39;00m \u001b[38;5;28mlen\u001b[39m(mapped) \u001b[38;5;129;01mand\u001b[39;00m \u001b[38;5;28misinstance\u001b[39m(mapped[\u001b[38;5;241m0\u001b[39m], ABCSeries):\n\u001b[1;32m   1294\u001b[0m     \u001b[38;5;66;03m# GH#43986 Need to do list(mapped) in order to get treated as nested\u001b[39;00m\n\u001b[1;32m   1295\u001b[0m     \u001b[38;5;66;03m#  See also GH#25959 regarding EA support\u001b[39;00m\n\u001b[1;32m   1296\u001b[0m     \u001b[38;5;28;01mreturn\u001b[39;00m obj\u001b[38;5;241m.\u001b[39m_constructor_expanddim(\u001b[38;5;28mlist\u001b[39m(mapped), index\u001b[38;5;241m=\u001b[39mobj\u001b[38;5;241m.\u001b[39mindex)\n",
      "File \u001b[0;32m~/deep_learning/venv/lib/python3.10/site-packages/pandas/core/base.py:921\u001b[0m, in \u001b[0;36mIndexOpsMixin._map_values\u001b[0;34m(self, mapper, na_action, convert)\u001b[0m\n\u001b[1;32m    918\u001b[0m \u001b[38;5;28;01mif\u001b[39;00m \u001b[38;5;28misinstance\u001b[39m(arr, ExtensionArray):\n\u001b[1;32m    919\u001b[0m     \u001b[38;5;28;01mreturn\u001b[39;00m arr\u001b[38;5;241m.\u001b[39mmap(mapper, na_action\u001b[38;5;241m=\u001b[39mna_action)\n\u001b[0;32m--> 921\u001b[0m \u001b[38;5;28;01mreturn\u001b[39;00m \u001b[43malgorithms\u001b[49m\u001b[38;5;241;43m.\u001b[39;49m\u001b[43mmap_array\u001b[49m\u001b[43m(\u001b[49m\u001b[43marr\u001b[49m\u001b[43m,\u001b[49m\u001b[43m \u001b[49m\u001b[43mmapper\u001b[49m\u001b[43m,\u001b[49m\u001b[43m \u001b[49m\u001b[43mna_action\u001b[49m\u001b[38;5;241;43m=\u001b[39;49m\u001b[43mna_action\u001b[49m\u001b[43m,\u001b[49m\u001b[43m \u001b[49m\u001b[43mconvert\u001b[49m\u001b[38;5;241;43m=\u001b[39;49m\u001b[43mconvert\u001b[49m\u001b[43m)\u001b[49m\n",
      "File \u001b[0;32m~/deep_learning/venv/lib/python3.10/site-packages/pandas/core/algorithms.py:1814\u001b[0m, in \u001b[0;36mmap_array\u001b[0;34m(arr, mapper, na_action, convert)\u001b[0m\n\u001b[1;32m   1812\u001b[0m values \u001b[38;5;241m=\u001b[39m arr\u001b[38;5;241m.\u001b[39mastype(\u001b[38;5;28mobject\u001b[39m, copy\u001b[38;5;241m=\u001b[39m\u001b[38;5;28;01mFalse\u001b[39;00m)\n\u001b[1;32m   1813\u001b[0m \u001b[38;5;28;01mif\u001b[39;00m na_action \u001b[38;5;129;01mis\u001b[39;00m \u001b[38;5;28;01mNone\u001b[39;00m:\n\u001b[0;32m-> 1814\u001b[0m     \u001b[38;5;28;01mreturn\u001b[39;00m \u001b[43mlib\u001b[49m\u001b[38;5;241;43m.\u001b[39;49m\u001b[43mmap_infer\u001b[49m\u001b[43m(\u001b[49m\u001b[43mvalues\u001b[49m\u001b[43m,\u001b[49m\u001b[43m \u001b[49m\u001b[43mmapper\u001b[49m\u001b[43m,\u001b[49m\u001b[43m \u001b[49m\u001b[43mconvert\u001b[49m\u001b[38;5;241;43m=\u001b[39;49m\u001b[43mconvert\u001b[49m\u001b[43m)\u001b[49m\n\u001b[1;32m   1815\u001b[0m \u001b[38;5;28;01melse\u001b[39;00m:\n\u001b[1;32m   1816\u001b[0m     \u001b[38;5;28;01mreturn\u001b[39;00m lib\u001b[38;5;241m.\u001b[39mmap_infer_mask(\n\u001b[1;32m   1817\u001b[0m         values, mapper, mask\u001b[38;5;241m=\u001b[39misna(values)\u001b[38;5;241m.\u001b[39mview(np\u001b[38;5;241m.\u001b[39muint8), convert\u001b[38;5;241m=\u001b[39mconvert\n\u001b[1;32m   1818\u001b[0m     )\n",
      "File \u001b[0;32mlib.pyx:2926\u001b[0m, in \u001b[0;36mpandas._libs.lib.map_infer\u001b[0;34m()\u001b[0m\n",
      "Cell \u001b[0;32mIn[25], line 6\u001b[0m, in \u001b[0;36mpreprocess_text\u001b[0;34m(text)\u001b[0m\n\u001b[1;32m      3\u001b[0m \u001b[38;5;28;01mdef\u001b[39;00m \u001b[38;5;21mpreprocess_text\u001b[39m(text):\n\u001b[1;32m      4\u001b[0m     \n\u001b[1;32m      5\u001b[0m     \u001b[38;5;66;03m# convert text to lowercase\u001b[39;00m\n\u001b[0;32m----> 6\u001b[0m     text \u001b[38;5;241m=\u001b[39m \u001b[43mtext\u001b[49m\u001b[38;5;241;43m.\u001b[39;49m\u001b[43mlower\u001b[49m()\n\u001b[1;32m      8\u001b[0m     \u001b[38;5;66;03m#Remove stop words\u001b[39;00m\n\u001b[1;32m     10\u001b[0m     stop_words \u001b[38;5;241m=\u001b[39m \u001b[38;5;28mset\u001b[39m(stopwords\u001b[38;5;241m.\u001b[39mwords(\u001b[38;5;124m\"\u001b[39m\u001b[38;5;124menglish\u001b[39m\u001b[38;5;124m\"\u001b[39m))\n",
      "\u001b[0;31mAttributeError\u001b[0m: 'float' object has no attribute 'lower'"
     ]
    }
   ],
   "source": [
    "data.loc[:, \"text\"] = data[\"text\"].apply(preprocess_text)\n",
    "data"
   ]
  },
  {
   "cell_type": "code",
   "execution_count": null,
   "metadata": {},
   "outputs": [
    {
     "name": "stdout",
     "output_type": "stream",
     "text": [
      "61.47936949466852\n",
      "213\n"
     ]
    }
   ],
   "source": [
    "# checking the length of the strings so that i have an idea of how long i should make the max words in the sequence length for padding\n",
    "print(pd.Series(data[\"text\"]).str.len().mean())\n",
    "print(pd.Series(data[\"text\"]).str.len().max())"
   ]
  },
  {
   "cell_type": "markdown",
   "metadata": {},
   "source": [
    "This gives a rough idea that every string has an average of 60 words and that the longest sentence has 229 words. I can use a box plot to see more clearly"
   ]
  },
  {
   "cell_type": "code",
   "execution_count": null,
   "metadata": {},
   "outputs": [
    {
     "data": {
      "image/png": "[encoded data removed]",
      "text/plain": [
       "<Figure size 640x480 with 1 Axes>"
      ]
     },
     "metadata": {},
     "output_type": "display_data"
    },
    {
     "data": {
      "text/plain": [
       "count    4314.000000\n",
       "mean       61.479369\n",
       "std        34.839311\n",
       "min         6.000000\n",
       "25%        35.000000\n",
       "50%        54.000000\n",
       "75%        81.000000\n",
       "max       213.000000\n",
       "Name: text, dtype: float64"
      ]
     },
     "execution_count": 167,
     "metadata": {},
     "output_type": "execute_result"
    }
   ],
   "source": [
    "strings_len = pd.Series(data[\"text\"]).str.len()\n",
    "\n",
    "strings_len.plot.box()\n",
    "plt.title(\"Distribution of strings length\")\n",
    "plt.ylabel(\"Number of strings\")\n",
    "plt.show()\n",
    "\n",
    "strings_len.describe()"
   ]
  },
  {
   "cell_type": "markdown",
   "metadata": {},
   "source": [
    "You can see most strings are up to 150 words. But with using the describe function on the length of the strings we can see that around 75 % of the comments are up to 80 words long. This will be taken into account when padding. Some sentences may be shorter so they will need to have padding. This is an important stage as we need to decide how many relevant words of the text should be processed within the model. If we use too many the training process will be longer. We can see on the box plot that most of the text lengths are between the 40 to 80 range. So I think it is reasonable to have the input length at 80.    "
   ]
  },
  {
   "cell_type": "markdown",
   "metadata": {},
   "source": [
    "#### Preparing text to be used with Deep learning model\n",
    "\n",
    "I will now tokenize the text and pad it. I will also one hot code the labels."
   ]
  },
  {
   "cell_type": "code",
   "execution_count": null,
   "metadata": {},
   "outputs": [
    {
     "data": {
      "text/html": [
       "<div>\n",
       "<style scoped>\n",
       "    .dataframe tbody tr th:only-of-type {\n",
       "        vertical-align: middle;\n",
       "    }\n",
       "\n",
       "    .dataframe tbody tr th {\n",
       "        vertical-align: top;\n",
       "    }\n",
       "\n",
       "    .dataframe thead th {\n",
       "        text-align: right;\n",
       "    }\n",
       "</style>\n",
       "<table border=\"1\" class=\"dataframe\">\n",
       "  <thead>\n",
       "    <tr style=\"text-align: right;\">\n",
       "      <th></th>\n",
       "      <th>text</th>\n",
       "      <th>label</th>\n",
       "    </tr>\n",
       "  </thead>\n",
       "  <tbody>\n",
       "    <tr>\n",
       "      <th>17713</th>\n",
       "      <td>feel glad im able time spend time family</td>\n",
       "      <td>2</td>\n",
       "    </tr>\n",
       "    <tr>\n",
       "      <th>14436</th>\n",
       "      <td>could look coordinate cave im feeling adventur...</td>\n",
       "      <td>2</td>\n",
       "    </tr>\n",
       "    <tr>\n",
       "      <th>8631</th>\n",
       "      <td>need need someone need protected feel safe sma...</td>\n",
       "      <td>2</td>\n",
       "    </tr>\n",
       "    <tr>\n",
       "      <th>6740</th>\n",
       "      <td>imagine real life scenario would emotionally c...</td>\n",
       "      <td>2</td>\n",
       "    </tr>\n",
       "    <tr>\n",
       "      <th>1381</th>\n",
       "      <td>im feeling optimistic find wanting ride</td>\n",
       "      <td>2</td>\n",
       "    </tr>\n",
       "  </tbody>\n",
       "</table>\n",
       "</div>"
      ],
      "text/plain": [
       "                                                    text  label\n",
       "17713           feel glad im able time spend time family      2\n",
       "14436  could look coordinate cave im feeling adventur...      2\n",
       "8631   need need someone need protected feel safe sma...      2\n",
       "6740   imagine real life scenario would emotionally c...      2\n",
       "1381             im feeling optimistic find wanting ride      2"
      ]
     },
     "execution_count": 168,
     "metadata": {},
     "output_type": "execute_result"
    }
   ],
   "source": [
    "# encoding emotions\n",
    "encoded_emotions = {\n",
    "    \"anger\" : 0,\n",
    "    \"fear\": 1,\n",
    "    \"joy\" : 2,\n",
    "    \"love\": 3,\n",
    "    \"sadness\": 4,\n",
    "    \"surprise\": 5\n",
    "}\n",
    "\n",
    "data.replace(encoded_emotions, inplace = True)\n",
    "data.head()"
   ]
  },
  {
   "cell_type": "code",
   "execution_count": null,
   "metadata": {},
   "outputs": [
    {
     "name": "stdout",
     "output_type": "stream",
     "text": [
      "X_train = (2588,) and y_train = (2588,)\n",
      "X_test = (863,) and y_test = (863,)\n",
      "X_val = (863,) and y_val = (863,)\n"
     ]
    }
   ],
   "source": [
    "# Splitting the data into train, val and test before toeknization and padding\n",
    "\n",
    "X_train, X_test, y_train, y_test = train_test_split(data[\"text\"], data[\"label\"], test_size=0.2, random_state=42,stratify=data[\"label\"])\n",
    "\n",
    "X_train, X_val, y_train, y_val = train_test_split(X_train, y_train, test_size=0.25, random_state=42,stratify=y_train)\n",
    "\n",
    "print(f\"X_train = {X_train.shape} and y_train = {y_train.shape}\")\n",
    "print(f\"X_test = {X_test.shape} and y_test = {y_test.shape}\")\n",
    "print(f\"X_val = {X_val.shape} and y_val = {y_val.shape}\")\n"
   ]
  },
  {
   "cell_type": "code",
   "execution_count": null,
   "metadata": {},
   "outputs": [
    {
     "data": {
      "image/png": "[encoded data removed]",
      "text/plain": [
       "<Figure size 1500x500 with 3 Axes>"
      ]
     },
     "metadata": {},
     "output_type": "display_data"
    }
   ],
   "source": [
    "fig, axs = plt.subplots(1, 3, figsize=(15, 5))\n",
    "\n",
    "# Plot for y_train\n",
    "axs[0].bar(y_train.value_counts().index, y_train.value_counts())\n",
    "axs[0].set_title('y_train')\n",
    "axs[0].set_ylabel('Count')\n",
    "\n",
    "# Plot for y_val\n",
    "axs[1].bar(y_val.value_counts().index, y_val.value_counts())\n",
    "axs[1].set_title('y_val')\n",
    "axs[1].set_ylabel('Count')\n",
    "\n",
    "# Plot for y_test\n",
    "axs[2].bar(y_test.value_counts().index, y_test.value_counts())\n",
    "axs[2].set_title('y_test')\n",
    "axs[2].set_ylabel('Count')\n",
    "\n",
    "# Adjust layout\n",
    "plt.tight_layout()\n",
    "\n",
    "# Show the plots\n",
    "plt.show()"
   ]
  },
  {
   "cell_type": "code",
   "execution_count": null,
   "metadata": {},
   "outputs": [
    {
     "name": "stdout",
     "output_type": "stream",
     "text": [
      "5137\n",
      "{'feel': 1, 'feeling': 2, 'like': 3, 'im': 4, 'time': 5, 'really': 6, 'little': 7, 'know': 8, 'make': 9, 'people': 10, 'one': 11, 'get': 12, 'day': 13, 'bit': 14, 'thing': 15, 'even': 16, 'still': 17, 'want': 18, 'think': 19, 'would': 20, 'ive': 21, 'life': 22, 'something': 23, 'way': 24, 'love': 25, 'dont': 26, 'could': 27, 'go': 28, 'need': 29, 'back': 30, 'much': 31, 'going': 32, 'always': 33, 'year': 34, 'work': 35, 'overwhelmed': 36, 'though': 37, 'pretty': 38, 'say': 39, 'around': 40, 'weird': 41, 'help': 42, 'didnt': 43, 'strange': 44, 'good': 45, 'also': 46, 'made': 47, 'see': 48, 'right': 49, 'cant': 50, 'many': 51, 'surprised': 52, 'friend': 53, 'lot': 54, 'someone': 55, 'week': 56, 'impressed': 57, 'amazed': 58, 'got': 59, 'kind': 60, 'today': 61, 'sure': 62, 'thought': 63, 'take': 64, 'every': 65, 'never': 66, 'felt': 67, 'keep': 68, 'le': 69, 'amazing': 70, 'curious': 71, 'funny': 72, 'moment': 73, 'book': 74, 'quite': 75, 'look': 76, 'actually': 77, 'anything': 78, 'remember': 79, 'come': 80, 'loved': 81, 'trying': 82, 'home': 83, 'left': 84, 'find': 85, 'world': 86, 'start': 87, 'well': 88, 'started': 89, 'last': 90, 'getting': 91, 'everything': 92, 'without': 93, 'enough': 94, 'person': 95, 'happy': 96, 'write': 97, 'often': 98, 'new': 99, 'cold': 100, 'better': 101, 'hot': 102, 'http': 103, 'able': 104, 'almost': 105, 'let': 106, 'rather': 107, 'already': 108, 'two': 109, 'passionate': 110, 'thinking': 111, 'making': 112, 'hate': 113, 'ever': 114, 'girl': 115, 'href': 116, 'fact': 117, 'away': 118, 'face': 119, 'sometimes': 120, 'saying': 121, 'heart': 122, 'shocked': 123, 'liked': 124, 'place': 125, 'anyone': 126, 'kid': 127, 'family': 128, 'sweet': 129, 'tell': 130, 'mean': 131, 'id': 132, 'u': 133, 'talk': 134, 'others': 135, 'dazed': 136, 'old': 137, 'hope': 138, 'read': 139, 'month': 140, 'might': 141, 'point': 142, 'child': 143, 'completely': 144, 'hurt': 145, 'hard': 146, 'try': 147, 'ill': 148, 'put': 149, 'inside': 150, 'especially': 151, 'frustrated': 152, 'towards': 153, 'angry': 154, 'supporting': 155, 'eye': 156, 'long': 157, 'anxious': 158, 'situation': 159, 'body': 160, 'loving': 161, 'alone': 162, 'god': 163, 'wanted': 164, 'end': 165, 'hour': 166, 'blessed': 167, 'idea': 168, 'change': 169, 'first': 170, 'morning': 171, 'whole': 172, 'word': 173, 'tortured': 174, 'looking': 175, 'agitated': 176, 'give': 177, 'care': 178, 'nothing': 179, 'helpless': 180, 'bad': 181, 'believe': 182, 'stop': 183, 'understand': 184, 'hand': 185, 'said': 186, 'done': 187, 'lost': 188, 'past': 189, 'caring': 190, 'slightly': 191, 'guy': 192, 'working': 193, 'stressed': 194, 'head': 195, 'insecure': 196, 'post': 197, 'important': 198, 'writing': 199, 'woman': 200, 'pain': 201, 'another': 202, 'mother': 203, 'live': 204, 'hesitant': 205, 'gentle': 206, 'admit': 207, 'matter': 208, 'part': 209, 'uncomfortable': 210, 'best': 211, 'romantic': 212, 'afraid': 213, 'great': 214, 'tired': 215, 'irritable': 216, 'reading': 217, 'real': 218, 'since': 219, 'tender': 220, 'song': 221, 'cannot': 222, 'close': 223, 'night': 224, 'loyal': 225, 'experience': 226, 'running': 227, 'cause': 228, 'youre': 229, 'wear': 230, 'found': 231, 'house': 232, 'sense': 233, 'story': 234, 'open': 235, 'went': 236, 'sad': 237, 'school': 238, 'rushed': 239, 'particularly': 240, 'coming': 241, 'may': 242, 'else': 243, 'totally': 244, 'together': 245, 'needed': 246, 'terrified': 247, 'sort': 248, 'selfish': 249, 'show': 250, 'lovely': 251, 'fucked': 252, 'longer': 253, 'character': 254, 'insulted': 255, 'mad': 256, 'amp': 257, 'hear': 258, 'reason': 259, 'dream': 260, 'starting': 261, 'run': 262, 'call': 263, 'supportive': 264, 'bed': 265, 'spent': 266, 'far': 267, 'walk': 268, 'bothered': 269, 'share': 270, 'instead': 271, 'lately': 272, 'devoted': 273, 'everyone': 274, 'generous': 275, 'watching': 276, 'baby': 277, 'unsure': 278, 'eat': 279, 'petty': 280, 'pressured': 281, 'finally': 282, 'came': 283, 'usually': 284, 'accepted': 285, 'sleep': 286, 'told': 287, 'relationship': 288, 'self': 289, 'boy': 290, 'hated': 291, 'ago': 292, 'irritated': 293, 'taking': 294, 'frantic': 295, 'seem': 296, 'scared': 297, 'maybe': 298, 'next': 299, 'seeing': 300, 'lonely': 301, 'leave': 302, 'guess': 303, 'thankful': 304, 'move': 305, 'job': 306, 'side': 307, 'wish': 308, 'blog': 309, 'sympathetic': 310, 'probably': 311, 'must': 312, 'sick': 313, 'yet': 314, 'knowing': 315, 'use': 316, 'distracted': 317, 'stunned': 318, 'faithful': 319, 'offended': 320, 'doesnt': 321, 'shaken': 322, 'comfortable': 323, 'wasnt': 324, 'memory': 325, 'anymore': 326, 'become': 327, 'seems': 328, 'least': 329, 'buy': 330, 'nostalgic': 331, 'disappointed': 332, 'ask': 333, 'couldnt': 334, 'question': 335, 'punished': 336, 'big': 337, 'nervous': 338, 'shy': 339, 'money': 340, 'bitchy': 341, 'emotion': 342, 'longing': 343, 'miss': 344, 'uncertain': 345, 'intimidated': 346, 'fond': 347, 'hair': 348, 'kinda': 349, 'human': 350, 'stuff': 351, 'truly': 352, 'free': 353, 'skin': 354, 'resentful': 355, 'honestly': 356, 'extremely': 357, 'cranky': 358, 'toward': 359, 'shaky': 360, 'living': 361, 'delicate': 362, 'decision': 363, 'thats': 364, 'shit': 365, 'soon': 366, 'woke': 367, 'dissatisfied': 368, 'turn': 369, 'paranoid': 370, 'used': 371, 'chest': 372, 'pissed': 373, 'naughty': 374, 'plan': 375, 'frightened': 376, 'enjoy': 377, 'small': 378, 'impatient': 379, 'somehow': 380, 'movie': 381, 'mom': 382, 'control': 383, 'fear': 384, 'greedy': 385, 'wouldnt': 386, 'vulnerable': 387, 'rest': 388, 'effort': 389, 'reluctant': 390, 'there': 391, 'ugly': 392, 'excited': 393, 'behind': 394, 'compassionate': 395, 'mood': 396, 'generally': 397, 'reader': 398, 'isnt': 399, 'honest': 400, 'class': 401, 'top': 402, 'realized': 403, 'apprehensive': 404, 'wonderful': 405, 'wronged': 406, 'annoyed': 407, 'weekend': 408, 'anyway': 409, 'somewhat': 410, 'simply': 411, 'truth': 412, 'piece': 413, 'certain': 414, 'confused': 415, 'mine': 416, 'touch': 417, 'creative': 418, 'perfect': 419, 'definitely': 420, 'system': 421, 'finished': 422, 'grumpy': 423, 'horrible': 424, 'order': 425, 'wonder': 426, 'absolutely': 427, 'easy': 428, 'exhausted': 429, 'emotional': 430, 'took': 431, 'talented': 432, 'isolated': 433, 'second': 434, 'outside': 435, 'www': 436, 'full': 437, 'different': 438, 'beloved': 439, 'film': 440, 'room': 441, 'problem': 442, 'fine': 443, 'guilty': 444, 'vain': 445, 'realize': 446, 'stay': 447, 'older': 448, 'stand': 449, 'havent': 450, 'fun': 451, 'ok': 452, 'list': 453, 'entirely': 454, 'entire': 455, 'possible': 456, 'nice': 457, 'learning': 458, 'deal': 459, 'play': 460, 'upon': 461, 'minute': 462, 'embarrassed': 463, 'horny': 464, 'although': 465, 'however': 466, 'jealous': 467, 'food': 468, 'yesterday': 469, 'stupid': 470, 'constantly': 471, 'lucky': 472, 'fan': 473, 'forward': 474, 'personally': 475, 'tear': 476, 'kiss': 477, 'awkward': 478, 'joyful': 479, 'whether': 480, 'fall': 481, 'pathetic': 482, 'sitting': 483, 'vital': 484, 'game': 485, 'break': 486, 'leaving': 487, 'learned': 488, 'cry': 489, 'course': 490, 'three': 491, 'trust': 492, 'support': 493, 'company': 494, 'honoured': 495, 'couple': 496, 'enjoying': 497, 'photo': 498, 'imagine': 499, 'safe': 500, 'threatened': 501, 'forget': 502, 'telling': 503, 'style': 504, 'tree': 505, 'upset': 506, 'violent': 507, 'deeply': 508, 'meet': 509, 'bitter': 510, 'crappy': 511, 'brain': 512, 'wont': 513, 'dog': 514, 'husband': 515, 'front': 516, 'shes': 517, 'page': 518, 'positive': 519, 'pleasant': 520, 'sound': 521, 'mind': 522, 'wrong': 523, 'water': 524, 'ready': 525, 'art': 526, 'strong': 527, 'confident': 528, 'energy': 529, 'using': 530, 'knew': 531, 'distressed': 532, 'either': 533, 'giving': 534, 'anger': 535, 'country': 536, 'brother': 537, 'distraught': 538, 'known': 539, 'disgusted': 540, 'tried': 541, 'fat': 542, 'devastated': 543, 'son': 544, 'discouraged': 545, 'chance': 546, 'air': 547, 'satisfied': 548, 'straight': 549, 'add': 550, 'hit': 551, 'area': 552, 'whenever': 553, 'supposed': 554, 'whatever': 555, 'car': 556, 'regretful': 557, 'energetic': 558, 'watch': 559, 'act': 560, 'light': 561, 'gift': 562, 'amount': 563, 'true': 564, 'suddenly': 565, 'difficult': 566, 'pleased': 567, 'dangerous': 568, 'saw': 569, 'desire': 570, 'expect': 571, 'asked': 572, 'cool': 573, 'learn': 574, 'he': 575, 'wall': 576, 'doubt': 577, 'terrible': 578, 'terribly': 579, 'cute': 580, 'race': 581, 'determined': 582, 'finish': 583, 'warm': 584, 'decided': 585, 'looked': 586, 'skeptical': 587, 'proud': 588, 'voice': 589, 'happen': 590, 'shake': 591, 'online': 592, 'gave': 593, 'present': 594, 'nature': 595, 'hopeless': 596, 'heard': 597, 'sleeping': 598, 'result': 599, 'waiting': 600, 'comment': 601, 'incredibly': 602, 'etc': 603, 'missed': 604, 'useful': 605, 'leaf': 606, 'stranger': 607, 'father': 608, 'arent': 609, 'sorry': 610, 'training': 611, 'foot': 612, 'issue': 613, 'finding': 614, 'finger': 615, 'beautiful': 616, 'value': 617, 'doubtful': 618, 'student': 619, 'choice': 620, 'glad': 621, 'loss': 622, 'taken': 623, 'business': 624, 'spend': 625, 'co': 626, 'man': 627, 'catch': 628, 'begin': 629, 'expected': 630, 'happening': 631, 'special': 632, 'wait': 633, 'short': 634, 'envious': 635, 'trip': 636, 'wearing': 637, 'talking': 638, 'high': 639, 'level': 640, 'teacher': 641, 'sit': 642, 'fake': 643, 'eager': 644, 'silly': 645, 'pressure': 646, 'dance': 647, 'ashamed': 648, 'smell': 649, 'depressed': 650, 'gloomy': 651, 'weather': 652, 'perhaps': 653, 'groggy': 654, 'tonight': 655, 'theyre': 656, 'wife': 657, 'along': 658, 'sore': 659, 'burdened': 660, 'young': 661, 'ended': 662, 'black': 663, 'death': 664, 'pick': 665, 'choose': 666, 'usual': 667, 'late': 668, 'rebellious': 669, 'possibly': 670, 'drained': 671, 'busy': 672, 'fucking': 673, 'listen': 674, 'spirit': 675, 'damn': 676, 'lord': 677, 'harder': 678, 'single': 679, 'star': 680, 'superior': 681, 'blank': 682, 'wake': 683, 'music': 684, 'sister': 685, 'inspired': 686, 'hold': 687, 'road': 688, 'restless': 689, 'worthwhile': 690, 'posting': 691, 'future': 692, 'sun': 693, 'lol': 694, 'began': 695, 'suspicious': 696, 'content': 697, 'clever': 698, 'delighted': 699, 'party': 700, 'delicious': 701, 'playing': 702, 'heartbroken': 703, 'allow': 704, 'gorgeous': 705, 'grateful': 706, 'understanding': 707, 'history': 708, 'badly': 709, 'acceptable': 710, 'mile': 711, 'defeated': 712, 'position': 713, 'lip': 714, 'onto': 715, 'explain': 716, 'called': 717, 'fearful': 718, 'worry': 719, 'kick': 720, 'putting': 721, 'line': 722, 'aching': 723, 'meeting': 724, 'ignored': 725, 'peaceful': 726, 'dad': 727, 'folk': 728, 'picture': 729, 'except': 730, 'stood': 731, 'innocent': 732, 'performance': 733, 'assaulted': 734, 'pas': 735, 'spending': 736, 'parent': 737, 'unwelcome': 738, 'empty': 739, 'inadequate': 740, 'regular': 741, 'fit': 742, 'dumb': 743, 'seemed': 744, 'enthralled': 745, 'turned': 746, 'somewhere': 747, 'speak': 748, 'betrayed': 749, 'street': 750, 'keeping': 751, 'wrote': 752, 'stomach': 753, 'passed': 754, 'considering': 755, 'quickly': 756, 'four': 757, 'melancholy': 758, 'generation': 759, 'miserable': 760, 'strength': 761, 'troubled': 762, 'walked': 763, 'friendly': 764, 'sin': 765, 'homesick': 766, 'set': 767, 'drink': 768, 'wonderfully': 769, 'happened': 770, 'reaction': 771, 'oh': 772, 'type': 773, 'thanksgiving': 774, 'opportunity': 775, 'nearly': 776, 'pray': 777, 'utterly': 778, 'team': 779, 'please': 780, 'considerate': 781, 'okay': 782, 'health': 783, 'despite': 784, 'afternoon': 785, 'marathon': 786, 'fix': 787, 'humiliated': 788, 'crazy': 789, 'relaxed': 790, 'seriously': 791, 'age': 792, 'reminder': 793, 'conversation': 794, 'throw': 795, 'information': 796, 'jaded': 797, 'based': 798, 'detail': 799, 'eventually': 800, 'yoga': 801, 'evening': 802, 'privileged': 803, 'album': 804, 'sat': 805, 'joy': 806, 'favorite': 807, 'workout': 808, 'discussion': 809, 'optimistic': 810, 'ungrateful': 811, 'within': 812, 'concerned': 813, 'everywhere': 814, 'weight': 815, 'treasured': 816, 'professional': 817, 'guilt': 818, 'friday': 819, 'message': 820, 'pay': 821, 'check': 822, 'similar': 823, 'group': 824, 'suck': 825, 'tongue': 826, 'angered': 827, 'effect': 828, 'losing': 829, 'deprived': 830, 'tend': 831, 'classroom': 832, 'contented': 833, 'hang': 834, 'ability': 835, 'season': 836, 'grow': 837, 'mess': 838, 'internet': 839, 'bitch': 840, 'intention': 841, 'crowd': 842, 'carefree': 843, 'sarcastic': 844, 'sincere': 845, 'cut': 846, 'shower': 847, 'wanting': 848, 'relief': 849, 'met': 850, 'unable': 851, 'physically': 852, 'beaten': 853, 'died': 854, 'moved': 855, 'experienced': 856, 'phone': 857, 'emotionally': 858, 'adult': 859, 'lack': 860, 'topic': 861, 'bottom': 862, 'clean': 863, 'bored': 864, 'lead': 865, 'helping': 866, 'case': 867, 'dress': 868, 'treated': 869, 'facebook': 870, 'fault': 871, 'name': 872, 'decide': 873, 'convinced': 874, 'crap': 875, 'tv': 876, 'shut': 877, 'adventurous': 878, 'stage': 879, 'obviously': 880, 'moving': 881, 'med': 882, 'personal': 883, 'charming': 884, 'indecisive': 885, 'jump': 886, 'nail': 887, 'muscle': 888, 'video': 889, 'smile': 890, 'shame': 891, 'neither': 892, 'dinner': 893, 'notice': 894, 'boring': 895, 'eating': 896, 'red': 897, 'offer': 898, 'uptight': 899, 'flower': 900, 'disheartened': 901, 'band': 902, 'step': 903, 'ludicrous': 904, 'awful': 905, 'unless': 906, 'strongly': 907, 'img': 908, 'src': 909, 'college': 910, 'push': 911, 'precious': 912, 'overall': 913, 'thrilled': 914, 'vacation': 915, 'divine': 916, 'fairly': 917, 'scene': 918, 'possibility': 919, 'five': 920, 'english': 921, 'law': 922, 'managed': 923, 'field': 924, 'rotten': 925, 'opinion': 926, 'dark': 927, 'knowledge': 928, 'view': 929, 'summer': 930, 'daughter': 931, 'space': 932, 'lose': 933, 'useless': 934, 'beginning': 935, 'duty': 936, 'whats': 937, 'reassured': 938, 'reminded': 939, 'non': 940, 'mention': 941, 'wedding': 942, 'rule': 943, 'maintain': 944, 'frustration': 945, 'played': 946, 'ahead': 947, 'lame': 948, 'passion': 949, 'later': 950, 'slutty': 951, 'complete': 952, 'submissive': 953, 'urge': 954, 'likely': 955, 'kept': 956, 'simple': 957, 'screwed': 958, 'actual': 959, 'thigh': 960, 'letting': 961, 'fashion': 962, 'table': 963, 'fighting': 964, 'worse': 965, 'lazy': 966, 'apart': 967, 'anybody': 968, 'freak': 969, 'degree': 970, 'handle': 971, 'nose': 972, 'toe': 973, 'stronger': 974, 'reach': 975, 'soul': 976, 'report': 977, 'awesome': 978, 'avoid': 979, 'society': 980, 'super': 981, 'recently': 982, 'sign': 983, 'main': 984, 'site': 985, 'trusting': 986, 'radio': 987, 'respected': 988, 'skill': 989, 'rude': 990, 'gym': 991, 'suppose': 992, 'happens': 993, 'regret': 994, 'friendship': 995, 'lens': 996, 'match': 997, 'member': 998, 'state': 999, 'waking': 1000, 'rate': 1001, 'thanks': 1002, 'freedom': 1003, 'brought': 1004, 'colleague': 1005, 'compliment': 1006, 'properly': 1007, 'dull': 1008, 'adventure': 1009, 'physical': 1010, 'created': 1011, 'fantastic': 1012, 'benefit': 1013, 'ground': 1014, 'universe': 1015, 'nobody': 1016, 'half': 1017, 'link': 1018, 'huge': 1019, 'describe': 1020, 'hopefully': 1021, 'win': 1022, 'outgoing': 1023, 'amused': 1024, 'turning': 1025, 'posted': 1026, 'immediately': 1027, 'interest': 1028, 'fair': 1029, 'schedule': 1030, 'response': 1031, 'direction': 1032, 'dead': 1033, 'task': 1034, 'shitty': 1035, 'playful': 1036, 'blood': 1037, 'terrific': 1038, 'idiotic': 1039, 'cross': 1040, 'lethargic': 1041, 'development': 1042, 'talked': 1043, 'die': 1044, 'dropped': 1045, 'yes': 1046, 'million': 1047, 'lousy': 1048, 'allowing': 1049, 'sharing': 1050, 'calm': 1051, 'healthy': 1052, 'fitness': 1053, 'outraged': 1054, 'craving': 1055, 'given': 1056, 'across': 1057, 'rejected': 1058, 'culture': 1059, 'follow': 1060, 'arm': 1061, 'director': 1062, 'review': 1063, 'awhile': 1064, 'filled': 1065, 'cast': 1066, 'shall': 1067, 'sugar': 1068, 'peace': 1069, 'comfort': 1070, 'importance': 1071, 'figure': 1072, 'gracious': 1073, 'blogging': 1074, 'alarmed': 1075, 'express': 1076, 'appreciate': 1077, 'method': 1078, 'goal': 1079, 'fabulous': 1080, 'drive': 1081, 'responsibility': 1082, 'chocolate': 1083, 'consider': 1084, 'artist': 1085, 'connect': 1086, 'stuck': 1087, 'spot': 1088, 'vicious': 1089, 'attitude': 1090, 'throughout': 1091, 'beside': 1092, 'social': 1093, 'medium': 1094, 'connection': 1095, 'option': 1096, 'low': 1097, 'walking': 1098, 'timid': 1099, 'heal': 1100, 'monday': 1101, 'handed': 1102, 'number': 1103, 'worried': 1104, 'discontent': 1105, 'loud': 1106, 'si': 1107, 'product': 1108, 'forgive': 1109, 'extra': 1110, 'term': 1111, 'elevator': 1112, 'overly': 1113, 'respect': 1114, 'newborn': 1115, 'risk': 1116, 'resolved': 1117, 'enjoyed': 1118, 'certainly': 1119, 'cleaning': 1120, 'damaged': 1121, 'rich': 1122, 'unimportant': 1123, 'willing': 1124, 'oil': 1125, 'tomorrow': 1126, 'neglectful': 1127, 'assured': 1128, 'everyday': 1129, 'taste': 1130, 'particular': 1131, 'section': 1132, 'gone': 1133, 'gotten': 1134, 'mellow': 1135, 'valued': 1136, 'leg': 1137, 'beauty': 1138, 'overwhelming': 1139, 'excitement': 1140, 'anticipation': 1141, 'brings': 1142, 'cigarette': 1143, 'obvious': 1144, 'consuming': 1145, 'valuable': 1146, 'improve': 1147, 'brave': 1148, 'tiny': 1149, 'anxiety': 1150, 'seen': 1151, 'continue': 1152, 'bear': 1153, 'lived': 1154, 'staying': 1155, 'mostly': 1156, 'travel': 1157, 'process': 1158, 'slowly': 1159, 'football': 1160, 'player': 1161, 'near': 1162, 'pushing': 1163, 'wimpy': 1164, 'hoping': 1165, 'happier': 1166, 'tug': 1167, 'lady': 1168, 'checking': 1169, 'magazine': 1170, 'american': 1171, 'stayed': 1172, 'gut': 1173, 'edge': 1174, 'blue': 1175, 'shell': 1176, 'public': 1177, 'convince': 1178, 'boyfriend': 1179, 'email': 1180, 'neurotic': 1181, 'ignore': 1182, 'numb': 1183, 'becoming': 1184, 'flashback': 1185, 'entry': 1186, 'realise': 1187, 'door': 1188, 'questioning': 1189, 'clear': 1190, 'pregnant': 1191, 'bring': 1192, 'silence': 1193, 'dragon': 1194, 'begging': 1195, 'image': 1196, 'treat': 1197, 'hostile': 1198, 'display': 1199, 'worthless': 1200, 'empathetic': 1201, 'sadness': 1202, 'production': 1203, 'dirty': 1204, 'calling': 1205, 'carried': 1206, 'spider': 1207, 'record': 1208, 'ten': 1209, 'roll': 1210, 'shot': 1211, 'camera': 1212, 'forgotten': 1213, 'aggravated': 1214, 'escape': 1215, 'complaint': 1216, 'appreciated': 1217, 'soo': 1218, 'reference': 1219, 'judge': 1220, 'recent': 1221, 'blessing': 1222, 'release': 1223, 'homework': 1224, 'subject': 1225, 'teenager': 1226, 'growing': 1227, 'contact': 1228, 'ride': 1229, 'capable': 1230, 'barrier': 1231, 'exactly': 1232, 'beat': 1233, 'credit': 1234, 'smug': 1235, 'passing': 1236, 'stress': 1237, 'sex': 1238, 'caused': 1239, 'meant': 1240, 'contain': 1241, 'easier': 1242, 'bone': 1243, 'daily': 1244, 'return': 1245, 'flash': 1246, 'youve': 1247, 'successful': 1248, 'showing': 1249, 'war': 1250, 'flat': 1251, 'ice': 1252, 'cream': 1253, 'sandwich': 1254, 'ordinary': 1255, 'afterwards': 1256, 'till': 1257, 'sudden': 1258, 'pride': 1259, 'snap': 1260, 'plane': 1261, 'b': 1262, 'holiday': 1263, 'egg': 1264, 'comedy': 1265, 'gel': 1266, 'pair': 1267, 'falling': 1268, 'sensitive': 1269, 'forever': 1270, 'practice': 1271, 'attracted': 1272, 'creature': 1273, 'design': 1274, 'disappeared': 1275, 'unprotected': 1276, 'opened': 1277, 'saddened': 1278, 'stopped': 1279, 'men': 1280, 'affected': 1281, 'anywhere': 1282, 'nap': 1283, 'grey': 1284, 'serve': 1285, 'typing': 1286, 'victimized': 1287, 'artistic': 1288, 'odd': 1289, 'weepy': 1290, 'window': 1291, 'silent': 1292, 'tour': 1293, 'hell': 1294, 'grandmother': 1295, 'dread': 1296, 'card': 1297, 'planning': 1298, 'dating': 1299, 'gotta': 1300, 'total': 1301, 'related': 1302, 'stubborn': 1303, 'everybody': 1304, 'missing': 1305, 'productive': 1306, 'relieved': 1307, 'belief': 1308, 'latter': 1309, 'appearance': 1310, 'unhappy': 1311, 'tackle': 1312, 'legend': 1313, 'lifestyle': 1314, 'drama': 1315, 'female': 1316, 'floor': 1317, 'blogger': 1318, 'hill': 1319, 'population': 1320, 'popular': 1321, 'keen': 1322, 'hellip': 1323, 'purpose': 1324, 'agree': 1325, 'reality': 1326, 'honored': 1327, 'welcomed': 1328, 'search': 1329, 'genuinely': 1330, 'travelling': 1331, 'discover': 1332, 'manage': 1333, 'association': 1334, 'bus': 1335, 'lower': 1336, 'presented': 1337, 'ache': 1338, 'current': 1339, 'event': 1340, 'setting': 1341, 'worth': 1342, 'community': 1343, 'glimpse': 1344, 'bird': 1345, 'cat': 1346, 'stare': 1347, 'demand': 1348, 'tiredness': 1349, 'christmas': 1350, 'meaning': 1351, 'force': 1352, 'website': 1353, 'pleasantly': 1354, 'magic': 1355, 'bare': 1356, 'landscape': 1357, 'alongside': 1358, 'suffering': 1359, 'mistake': 1360, 'item': 1361, 'breakfast': 1362, 'worked': 1363, 'suggest': 1364, 'girlfriend': 1365, 'allergy': 1366, 'fever': 1367, 'interesting': 1368, 'presentation': 1369, 'bathroom': 1370, 'unloved': 1371, 'doctor': 1372, 'written': 1373, 'including': 1374, 'sentimental': 1375, 'shamed': 1376, 'jealousy': 1377, 'novel': 1378, 'habit': 1379, 'pull': 1380, 'expression': 1381, 'standing': 1382, 'sky': 1383, 'carrying': 1384, 'grouchy': 1385, 'toilet': 1386, 'lesson': 1387, 'cried': 1388, 'floating': 1389, 'reflect': 1390, 'affectionate': 1391, 'tiger': 1392, 'socially': 1393, 'emo': 1394, 'office': 1395, 'per': 1396, 'younger': 1397, 'wandering': 1398, 'watched': 1399, 'juice': 1400, 'touching': 1401, 'ecstatic': 1402, 'listening': 1403, 'naturally': 1404, 'scent': 1405, 'shop': 1406, 'belly': 1407, 'presence': 1408, 'feed': 1409, 'identity': 1410, 'realizing': 1411, 'pass': 1412, 'sloth': 1413, 'wound': 1414, 'virtuous': 1415, 'answer': 1416, 'example': 1417, 'costume': 1418, 'famous': 1419, 'normal': 1420, 'bite': 1421, 'gratitude': 1422, 'hanging': 1423, 'blanket': 1424, 'happily': 1425, 'lunch': 1426, 'mr': 1427, 'highly': 1428, 'brown': 1429, 'safety': 1430, 'officer': 1431, 'breeze': 1432, 'blur': 1433, 'chemo': 1434, 'shinobi': 1435, 'suffer': 1436, 'remind': 1437, 'pop': 1438, 'clearly': 1439, 'jesus': 1440, 'garden': 1441, 'grab': 1442, 'needy': 1443, 'doomed': 1444, 'attempt': 1445, 'inner': 1446, 'hateful': 1447, 'journey': 1448, 'supported': 1449, 'diet': 1450, 'master': 1451, 'startled': 1452, 'explore': 1453, 'mix': 1454, 'fill': 1455, 'computer': 1456, 'exercise': 1457, 'favourite': 1458, 'sea': 1459, 'city': 1460, 'fast': 1461, 'building': 1462, 'laugh': 1463, 'church': 1464, 'appalled': 1465, 'reputation': 1466, 'leader': 1467, 'w': 1468, 'depend': 1469, 'happiness': 1470, 'paper': 1471, 'healing': 1472, 'being': 1473, 'smart': 1474, 'experiment': 1475, 'create': 1476, 'injury': 1477, 'visit': 1478, 'catholic': 1479, 'fully': 1480, 'challenge': 1481, 'hospital': 1482, 'customer': 1483, 'casual': 1484, 'obnoxious': 1485, 'thank': 1486, 'annoying': 1487, 'anthony': 1488, 'cancer': 1489, 'deserve': 1490, 'save': 1491, 'born': 1492, 'caught': 1493, 'mush': 1494, 'caterpillar': 1495, 'personality': 1496, 'quiet': 1497, 'quit': 1498, 'heartache': 1499, 'nudge': 1500, 'quirky': 1501, 'beyond': 1502, 'neglected': 1503, 'rarely': 1504, 'advance': 1505, 'stick': 1506, 'prepared': 1507, 'somebody': 1508, 'fruit': 1509, 'refuse': 1510, 'housewife': 1511, 'resentment': 1512, 'hasnt': 1513, 'promised': 1514, 'rough': 1515, 'embrace': 1516, 'ish': 1517, 'collar': 1518, 'touched': 1519, 'mindset': 1520, 'pen': 1521, 'sake': 1522, 'episode': 1523, 'gear': 1524, 'reacting': 1525, 'closely': 1526, 'naked': 1527, 'psychologist': 1528, 'deserted': 1529, 'hurry': 1530, 'patch': 1531, 'policy': 1532, 'theater': 1533, 'third': 1534, 'serious': 1535, 'dear': 1536, 'copy': 1537, 'equally': 1538, 'morsel': 1539, 'discussing': 1540, 'ball': 1541, 'spill': 1542, 'messed': 1543, 'marriage': 1544, 'bewildered': 1545, 'mode': 1546, 'land': 1547, 'raising': 1548, 'ancestral': 1549, 'craft': 1550, 'adore': 1551, 'writer': 1552, 'situated': 1553, 'clothing': 1554, 'couch': 1555, 'k': 1556, 'tradition': 1557, 'send': 1558, 'messy': 1559, 'battle': 1560, 'humbled': 1561, 'alive': 1562, 'date': 1563, 'teach': 1564, 'allowed': 1565, 'thin': 1566, 'spoken': 1567, 'increasingly': 1568, 'exact': 1569, 'chase': 1570, 'sorrow': 1571, 'breath': 1572, 'partly': 1573, 'advertising': 1574, 'crew': 1575, 'hoped': 1576, 'bike': 1577, 'news': 1578, 'slight': 1579, 'difference': 1580, 'connected': 1581, 'courage': 1582, 'round': 1583, 'plenty': 1584, 'smack': 1585, 'assume': 1586, 'former': 1587, 'equal': 1588, 'sword': 1589, 'debate': 1590, 'unnecessary': 1591, 'concept': 1592, 'kitchen': 1593, 'recipe': 1594, 'bush': 1595, 'eaten': 1596, 'slow': 1597, 'dam': 1598, 'represent': 1599, 'awe': 1600, 'inspiring': 1601, 'earthquake': 1602, 'tsunami': 1603, 'marginalized': 1604, 'coworker': 1605, 'dwell': 1606, 'lest': 1607, 'serenity': 1608, 'stealing': 1609, 'inevitably': 1610, 'movement': 1611, 'secret': 1612, 'addition': 1613, 'toxin': 1614, 'urgency': 1615, 'darkness': 1616, 'youth': 1617, 'fuck': 1618, 'choir': 1619, 'gay': 1620, 'distanced': 1621, 'gonna': 1622, 'hungry': 1623, 'medication': 1624, 'majority': 1625, 'decent': 1626, 'abuse': 1627, 'damage': 1628, 'necessary': 1629, 'abused': 1630, 'til': 1631, 'creep': 1632, 'lover': 1633, 'awfully': 1634, 'programme': 1635, 'male': 1636, 'expose': 1637, 'feature': 1638, 'belong': 1639, 'squeeze': 1640, 'morally': 1641, 'dealing': 1642, 'worker': 1643, 'chicken': 1644, 'pot': 1645, 'becomes': 1646, 'approach': 1647, 'furious': 1648, 'various': 1649, 'mirror': 1650, 'ugliness': 1651, 'horror': 1652, 'required': 1653, 'empathy': 1654, 'packed': 1655, 'scientist': 1656, 'condition': 1657, 'yeah': 1658, 'powerful': 1659, 'pile': 1660, 'bigger': 1661, 'claret': 1662, 'jug': 1663, 'bond': 1664, 'twelve': 1665, 'beneath': 1666, 'awake': 1667, 'violence': 1668, 'metaphor': 1669, 'file': 1670, 'wood': 1671, 'purchase': 1672, 'inspiration': 1673, 'strike': 1674, 'destiny': 1675, 'circle': 1676, 'celebrate': 1677, 'traditional': 1678, 'kidnapped': 1679, 'forced': 1680, 'wasted': 1681, 'hardly': 1682, 'wow': 1683, 'tap': 1684, 'repeatedly': 1685, 'fridge': 1686, 'accident': 1687, 'rabbit': 1688, 'mere': 1689, 'fulfilled': 1690, 'whiny': 1691, 'captivated': 1692, 'progress': 1693, 'surround': 1694, 'pattern': 1695, 'theyd': 1696, 'weve': 1697, 'fellowship': 1698, 'pastor': 1699, 'essentially': 1700, 'biggest': 1701, 'nd': 1702, 'spoiled': 1703, 'blake': 1704, 'lively': 1705, 'motor': 1706, 'poetry': 1707, 'entered': 1708, 'depression': 1709, 'disillusioned': 1710, 'raise': 1711, 'range': 1712, 'lb': 1713, 'tight': 1714, 'vibe': 1715, 'judged': 1716, 'brief': 1717, 'failing': 1718, 'cared': 1719, 'bonding': 1720, 'decade': 1721, 'crazily': 1722, 'knight': 1723, 'hearing': 1724, 'china': 1725, 'th': 1726, 'treasure': 1727, 'solved': 1728, 'momentarily': 1729, 'throat': 1730, 'consumed': 1731, 'stuffing': 1732, 'ran': 1733, 'dollar': 1734, 'youll': 1735, 'assistant': 1736, 'washed': 1737, 'dry': 1738, 'longest': 1739, 'tempted': 1740, 'incense': 1741, 'pulling': 1742, 'powder': 1743, 'snapping': 1744, 'motion': 1745, 'quilting': 1746, 'source': 1747, 'insecurity': 1748, 'concentrated': 1749, 'installment': 1750, 'confess': 1751, 'triumphant': 1752, 'humor': 1753, 'cocky': 1754, 'focusing': 1755, 'snack': 1756, 'gunong': 1757, 'ledang': 1758, 'mountain': 1759, 'jungle': 1760, 'los': 1761, 'angeles': 1762, 'neck': 1763, 'cherry': 1764, 'despised': 1765, 'romance': 1766, 'relate': 1767, 'associate': 1768, 'siren': 1769, 'ate': 1770, 'shirt': 1771, 'frequently': 1772, 'hating': 1773, 'curiosity': 1774, 'smiled': 1775, 'righteousness': 1776, 'rush': 1777, 'inhibited': 1778, 'typical': 1779, 'ballet': 1780, 'caregiver': 1781, 'original': 1782, 'settle': 1783, 'invigorated': 1784, 'contraction': 1785, 'receive': 1786, 'incredible': 1787, 'root': 1788, 'wondered': 1789, 'oscar': 1790, 'begged': 1791, 'normally': 1792, 'chosen': 1793, 'noon': 1794, 'study': 1795, 'owner': 1796, 'manager': 1797, 'shoot': 1798, 'fate': 1799, 'developed': 1800, 'retrospect': 1801, 'hop': 1802, 'period': 1803, 'handling': 1804, 'hence': 1805, 'forgiving': 1806, 'insult': 1807, 'accidentally': 1808, 'planet': 1809, 'cost': 1810, 'hey': 1811, 'political': 1812, 'discus': 1813, 'clicked': 1814, 'limit': 1815, 'hint': 1816, 'experiencing': 1817, 'wind': 1818, 'prevent': 1819, 'expectation': 1820, 'warmth': 1821, 'guiding': 1822, 'mark': 1823, 'trouble': 1824, 'score': 1825, 'twitter': 1826, 'needing': 1827, 'partner': 1828, 'relevant': 1829, 'feedback': 1830, 'inherent': 1831, 'chair': 1832, 'adding': 1833, 'verdict': 1834, 'hide': 1835, 'oily': 1836, 'sing': 1837, 'tough': 1838, 'hiding': 1839, 'pent': 1840, 'stolen': 1841, 'blamed': 1842, 'solely': 1843, 'government': 1844, 'analysis': 1845, 'pregnancy': 1846, 'accept': 1847, 'strangely': 1848, 'combination': 1849, 'screen': 1850, 'climbed': 1851, 'protect': 1852, 'recognizing': 1853, 'remorseful': 1854, 'mask': 1855, 'tranny': 1856, 'greater': 1857, 'federal': 1858, 'authority': 1859, 'plain': 1860, 'stole': 1861, 'grandfather': 1862, 'exceptionally': 1863, 'closer': 1864, 'frankly': 1865, 'ni': 1866, 'tissue': 1867, 'compassion': 1868, 'ah': 1869, 'final': 1870, 'extended': 1871, 'di': 1872, 'hero': 1873, 'countless': 1874, 'career': 1875, 'path': 1876, 'tendency': 1877, 'tumor': 1878, 'sh': 1879, 'guessing': 1880, 'fellow': 1881, 'budget': 1882, 'impacted': 1883, 'intended': 1884, 'remove': 1885, 'pip': 1886, 'distinct': 1887, 'ultimately': 1888, 'plastic': 1889, 'birthday': 1890, 'beating': 1891, 'lay': 1892, 'raw': 1893, 'enemy': 1894, 'morose': 1895, 'shape': 1896, 'realistic': 1897, 'desperate': 1898, 'tension': 1899, 'letter': 1900, 'backward': 1901, 'eight': 1902, 'lyric': 1903, 'continued': 1904, 'cheek': 1905, 'thrift': 1906, 'princess': 1907, 'pic': 1908, 'starved': 1909, 'broke': 1910, 'occasionally': 1911, 'pool': 1912, 'saturday': 1913, 'sociable': 1914, 'unhealthy': 1915, 'hadnt': 1916, 'nowhere': 1917, 'noticed': 1918, 'grounded': 1919, 'centered': 1920, 'hatred': 1921, 'glow': 1922, 'wave': 1923, 'breathe': 1924, 'depth': 1925, 'loki': 1926, 'nerd': 1927, 'calorie': 1928, 'sensory': 1929, 'overload': 1930, 'driving': 1931, 'insane': 1932, 'lie': 1933, 'priority': 1934, 'earring': 1935, 'haha': 1936, 'neutral': 1937, 'quick': 1938, 'casually': 1939, 'mentioned': 1940, 'immune': 1941, 'vent': 1942, 'attempting': 1943, 'allows': 1944, 'awareness': 1945, 'mission': 1946, 'invited': 1947, 'unpleasant': 1948, 'nyc': 1949, 'itd': 1950, 'fish': 1951, 'therefore': 1952, 'secretly': 1953, 'store': 1954, 'animal': 1955, 'sand': 1956, 'constructivism': 1957, 'concern': 1958, 'savage': 1959, 'meat': 1960, 'turkey': 1961, 'green': 1962, 'santa': 1963, 'sending': 1964, 'speed': 1965, 'succumb': 1966, 'doc': 1967, 'unworthy': 1968, 'bread': 1969, 'quality': 1970, 'struggle': 1971, 'drug': 1972, 'forgot': 1973, 'predictably': 1974, 'kill': 1975, 'scale': 1976, 'reasonably': 1977, 'grand': 1978, 'unfair': 1979, 'wide': 1980, 'neuropathy': 1981, 'indeed': 1982, 'console': 1983, 'sequel': 1984, 'revenge': 1985, 'kuya': 1986, 'consequence': 1987, 'log': 1988, 'creativity': 1989, 'whiff': 1990, 'description': 1991, 'adoption': 1992, 'taylor': 1993, 'recall': 1994, 'mama': 1995, 'legitimate': 1996, 'expensive': 1997, 'supermarket': 1998, 'feelin': 1999, 'japanese': 2000, 'length': 2001, 'america': 2002, 'wise': 2003, 'lit': 2004, 'wanna': 2005, 'fight': 2006, 'entertaining': 2007, 'ballroom': 2008, 'cd': 2009, 'target': 2010, 'justin': 2011, 'knitter': 2012, 'layer': 2013, 'washing': 2014, 'suffered': 2015, 'disorder': 2016, 'puppy': 2017, 'giggle': 2018, 'pictured': 2019, 'brew': 2020, 'protected': 2021, 'intellectually': 2022, 'several': 2023, 'treatment': 2024, 'singer': 2025, 'cap': 2026, 'christian': 2027, 'protein': 2028, 'relax': 2029, 'category': 2030, 'fame': 2031, 'starter': 2032, 'metallic': 2033, 'facing': 2034, 'via': 2035, 'received': 2036, 'higher': 2037, 'giddy': 2038, 'invitation': 2039, 'flipping': 2040, 'noted': 2041, 'despair': 2042, 'aspect': 2043, 'early': 2044, 'introduce': 2045, 'infuriated': 2046, 'exam': 2047, 'luck': 2048, 'ip': 2049, 'schs': 2050, 'satisfaction': 2051, 'accessory': 2052, 'outfit': 2053, 'noticing': 2054, 'giver': 2055, 'gifted': 2056, 'christ': 2057, 'scary': 2058, 'behavior': 2059, 'balance': 2060, 'shoulder': 2061, 'appeal': 2062, 'join': 2063, 'copper': 2064, 'fresh': 2065, 'vision': 2066, 'cover': 2067, 'genre': 2068, 'studio': 2069, 'speaking': 2070, 'six': 2071, 'respond': 2072, 'influenced': 2073, 'dash': 2074, 'colon': 2075, 'century': 2076, 'obligation': 2077, 'rolled': 2078, 'gown': 2079, 'bitten': 2080, 'armor': 2081, 'altogether': 2082, 'web': 2083, 'technology': 2084, 'mothering': 2085, 'imposed': 2086, 'godly': 2087, 'extent': 2088, 'due': 2089, 'obtain': 2090, 'library': 2091, 'deranged': 2092, 'industry': 2093, 'ridiculously': 2094, 'closest': 2095, 'rid': 2096, 'lil': 2097, 'h': 2098, 'easily': 2099, 'achieved': 2100, 'broken': 2101, 'environment': 2102, 'murder': 2103, 'tool': 2104, 'rat': 2105, 'rhythm': 2106, 'r': 2107, 'e': 2108, 'loaded': 2109, 'logging': 2110, 'perform': 2111, 'glycerin': 2112, 'mixture': 2113, 'admired': 2114, 'clothes': 2115, 'text': 2116, 'purple': 2117, 'feng': 2118, 'shed': 2119, 'robin': 2120, 'mindful': 2121, 'jean': 2122, 'lighter': 2123, 'resigned': 2124, 'humbling': 2125, 'influence': 2126, 'author': 2127, 'selling': 2128, 'power': 2129, 'x': 2130, 'closed': 2131, 'colour': 2132, 'earlier': 2133, 'sexy': 2134, 'drake': 2135, 'pm': 2136, 'sorta': 2137, 'welcome': 2138, 'px': 2139, 'drawn': 2140, 'exist': 2141, 'cope': 2142, 'domain': 2143, 'spiritual': 2144, 'weewee': 2145, 'eternal': 2146, 'programming': 2147, 'individual': 2148, 'highlight': 2149, 'throne': 2150, 'ad': 2151, 'deep': 2152, 'sensation': 2153, 'religious': 2154, 'hollywood': 2155, 'research': 2156, 'specific': 2157, 'plot': 2158, 'verse': 2159, 'measuring': 2160, 'cent': 2161, 'laundry': 2162, 'decorate': 2163, 'compare': 2164, 'fulfill': 2165, 'sexual': 2166, 'faster': 2167, 'hidden': 2168, 'creating': 2169, 'participate': 2170, 'adopt': 2171, 'candle': 2172, 'goodbye': 2173, 'pump': 2174, 'sip': 2175, 'color': 2176, 'font': 2177, 'center': 2178, 'xvi': 2179, 'accomplished': 2180, 'benedict': 2181, 'regarding': 2182, 'module': 2183, 'service': 2184, 'listless': 2185, 'mum': 2186, 'queen': 2187, 'rep': 2188, 'myspace': 2189, 'guide': 2190, 'traitor': 2191, 'perfectly': 2192, 'admitting': 2193, 'bag': 2194, 'flexible': 2195, 'wipe': 2196, 'wushu': 2197, 'rain': 2198, 'vibrant': 2199, 'sized': 2200, 'headache': 2201, 'darling': 2202, 'wll': 2203, 'pea': 2204, 'carrot': 2205, 'complain': 2206, 'audience': 2207, 'studying': 2208, 'sinai': 2209, 'multiple': 2210, 'yomis': 2211, 'actuality': 2212, 'belittled': 2213, 'keyed': 2214, 'trigger': 2215, 'inarticulate': 2216, 'laughable': 2217, 'flattened': 2218, 'knowledgeable': 2219, 'strutting': 2220, 'steal': 2221, 'acknowledge': 2222, 'fail': 2223, 'medical': 2224, 'smoker': 2225, 'described': 2226, 'obsession': 2227, 'logistics': 2228, 'seemingly': 2229, 'tidbit': 2230, 'innate': 2231, 'inability': 2232, 'architectural': 2233, 'wowed': 2234, 'respecting': 2235, 'built': 2236, 'aware': 2237, 'actively': 2238, 'courageous': 2239, 'cycle': 2240, 'rating': 2241, 'predicting': 2242, 'oeuvre': 2243, 'nick': 2244, 'dewitt': 2245, 'distant': 2246, 'stubbornly': 2247, 'september': 2248, 'zumba': 2249, 'esque': 2250, 'curb': 2251, 'planned': 2252, 'outweighs': 2253, 'expressive': 2254, 'encourage': 2255, 'lifting': 2256, 'padlock': 2257, 'jerked': 2258, 'handsomefamily': 2259, 'complaining': 2260, 'sitter': 2261, 'heated': 2262, 'spouse': 2263, 'concerning': 2264, 'dreamworld': 2265, 'observing': 2266, 'gardening': 2267, 'plant': 2268, 'border': 2269, 'fabric': 2270, 'butt': 2271, 'visited': 2272, 'closing': 2273, 'nurse': 2274, 'motherlover': 2275, 'whack': 2276, 'spitting': 2277, 'cheer': 2278, 'newest': 2279, 'slanted': 2280, 'rachel': 2281, 'microcosm': 2282, 'argument': 2283, 'shoe': 2284, 'runner': 2285, 'prize': 2286, 'equilibrium': 2287, 'sims': 2288, 'unsafe': 2289, 'achievement': 2290, 'scraped': 2291, 'nook': 2292, 'cranny': 2293, 'juicy': 2294, 'explosive': 2295, 'letdown': 2296, 'misunderstood': 2297, 'bishan': 2298, 'fetch': 2299, 'scott': 2300, 'dale': 2301, 'frusterated': 2302, 'currently': 2303, 'zombie': 2304, 'pursue': 2305, 'fulfil': 2306, 'ambition': 2307, 'similarly': 2308, 'neighborhood': 2309, 'aj': 2310, 'frowned': 2311, 'wth': 2312, 'bald': 2313, 'wig': 2314, 'teetering': 2315, 'hoarding': 2316, 'insanity': 2317, 'overslept': 2318, 'hangover': 2319, 'kicked': 2320, 'mid': 2321, 'cyprus': 2322, 'timeline': 2323, 'visibly': 2324, 'dejected': 2325, 'insomnia': 2326, 'slugging': 2327, 'lends': 2328, 'explanation': 2329, 'projected': 2330, 'existent': 2331, 'phase': 2332, 'handled': 2333, 'stitch': 2334, 'asleep': 2335, 'nacho': 2336, 'rlsh': 2337, 'gimmick': 2338, 'strop': 2339, 'ruffling': 2340, 'inflating': 2341, 'exaggerating': 2342, 'desperately': 2343, 'secondary': 2344, 'pulse': 2345, 'translate': 2346, 'mercy': 2347, 'unfold': 2348, 'persistent': 2349, 'nonsense': 2350, 'hostel': 2351, 'stinging': 2352, 'asian': 2353, 'resident': 2354, 'sustainable': 2355, 'rugby': 2356, 'prep': 2357, 'cesspool': 2358, 'necessity': 2359, 'coat': 2360, 'attending': 2361, 'robbed': 2362, 'worthy': 2363, 'intellect': 2364, 'worsen': 2365, 'cashier': 2366, 'fumble': 2367, 'coin': 2368, 'purse': 2369, 'definition': 2370, 'weekday': 2371, 'olivia': 2372, 'marlin': 2373, 'boredom': 2374, 'includes': 2375, 'increasing': 2376, 'resonate': 2377, 'complication': 2378, 'trial': 2379, 'obstacle': 2380, 'dichotomy': 2381, 'grocery': 2382, 'shopping': 2383, 'browsing': 2384, 'net': 2385, 'exciting': 2386, 'screenwriter': 2387, 'roberto': 2388, 'orcis': 2389, 'bizarre': 2390, 'adoration': 2391, 'dubya': 2392, 'pampered': 2393, 'responsible': 2394, 'orci': 2395, 'owe': 2396, 'sooooo': 2397, 'photograph': 2398, 'temple': 2399, 'frantically': 2400, 'scramble': 2401, 'meticulously': 2402, 'meal': 2403, 'lightmeter': 2404, 'photography': 2405, 'elegant': 2406, 'structure': 2407, 'gardener': 2408, 'devastating': 2409, 'jerk': 2410, 'unsatisfying': 2411, 'internetsphere': 2412, 'disregarded': 2413, 'survive': 2414, 'toddlerhood': 2415, 'monogamous': 2416, 'rave': 2417, 'trauma': 2418, 'battered': 2419, 'circus': 2420, 'underpants': 2421, 'deny': 2422, 'develop': 2423, 'liverpool': 2424, 'miraculous': 2425, 'hihi': 2426, 'constant': 2427, 'destroying': 2428, 'tank': 2429, 'stretch': 2430, 'emerges': 2431, 'neighbor': 2432, 'kindly': 2433, 'wing': 2434, 'itll': 2435, 'forming': 2436, 'frequency': 2437, 'lighting': 2438, 'triggering': 2439, 'medicine': 2440, 'vomiting': 2441, 'variety': 2442, 'teamed': 2443, 'jim': 2444, 'vast': 2445, 'derided': 2446, 'respectful': 2447, 'referee': 2448, 'shouting': 2449, 'swearing': 2450, 'deserves': 2451, 'cousin': 2452, 'battalion': 2453, 'dreamy': 2454, 'cyber': 2455, 'slut': 2456, 'craves': 2457, 'competition': 2458, 'ajahn': 2459, 'brahmavamso': 2460, 'guru': 2461, 'owning': 2462, 'cellphone': 2463, 'convenient': 2464, 'fielding': 2465, 'incredulous': 2466, 'placce': 2467, 'nasty': 2468, 'outright': 2469, 'remark': 2470, 'disappoint': 2471, 'expecting': 2472, 'confession': 2473, 'planner': 2474, 'bridezillas': 2475, 'groom': 2476, 'goof': 2477, 'embark': 2478, 'ounce': 2479, 'scenario': 2480, 'prolonged': 2481, 'subsequently': 2482, 'v': 2483, 'mature': 2484, 'pregant': 2485, 'preferably': 2486, 'skinless': 2487, 'flavor': 2488, 'crock': 2489, 'greatly': 2490, 'empathize': 2491, 'capacity': 2492, 'provided': 2493, 'textbook': 2494, 'dye': 2495, 'reflection': 2496, 'annulled': 2497, 'barker': 2498, 'gen': 2499, 'xers': 2500, 'repaired': 2501, 'acted': 2502, 'withdrawn': 2503, 'daddy': 2504, 'challenging': 2505, 'decompress': 2506, 'initial': 2507, 'tuned': 2508, 'viewed': 2509, 'deciding': 2510, 'slobby': 2511, 'bully': 2512, 'empowered': 2513, 'mixer': 2514, 'extension': 2515, 'comforting': 2516, 'woken': 2517, 'grown': 2518, 'taller': 2519, 'crashing': 2520, 'kissed': 2521, 'needle': 2522, 'choke': 2523, 'profile': 2524, 'glass': 2525, 'frame': 2526, 'viewing': 2527, 'french': 2528, 'france': 2529, 'moon': 2530, 'cbc': 2531, 'jazzyboy': 2532, 'participating': 2533, 'longed': 2534, 'companion': 2535, 'percieve': 2536, 'representing': 2537, 'universal': 2538, 'urgent': 2539, 'shaving': 2540, 'precision': 2541, 'marvellous': 2542, 'thanked': 2543, 'commented': 2544, 'endless': 2545, 'stoup': 2546, 'karate': 2547, 'chop': 2548, 'abdomen': 2549, 'basis': 2550, 'spin': 2551, 'biostatistics': 2552, 'physiology': 2553, 'touchy': 2554, 'easter': 2555, 'creme': 2556, 'clown': 2557, 'norm': 2558, 'label': 2559, 'intelligent': 2560, 'factor': 2561, 'liv': 2562, 'wryly': 2563, 'banal': 2564, 'error': 2565, 'theyll': 2566, 'bought': 2567, 'sandal': 2568, 'lightness': 2569, 'desirable': 2570, 'ultimate': 2571, 'validation': 2572, 'babysitter': 2573, 'splurge': 2574, 'spur': 2575, 'basically': 2576, 'ceo': 2577, 'bob': 2578, 'relented': 2579, 'corrected': 2580, 'reached': 2581, 'salvaging': 2582, 'spray': 2583, 'orange': 2584, 'killed': 2585, 'outcasted': 2586, 'someday': 2587, 'bury': 2588, 'hatchet': 2589, 'apologizing': 2590, 'punk': 2591, 'xia': 2592, 'separated': 2593, 'earth': 2594, 'scarf': 2595, 'storm': 2596, 'confusion': 2597, 'gracias': 2598, 'por': 2599, 'todo': 2600, 'meditation': 2601, 'worldly': 2602, 'bright': 2603, 'recite': 2604, 'following': 2605, 'mantra': 2606, 'shiftless': 2607, 'gifting': 2608, 'subscription': 2609, 'minimal': 2610, 'iced': 2611, 'wrapped': 2612, 'mushy': 2613, 'feverishly': 2614, 'figured': 2615, 'miyavi': 2616, 'straightforward': 2617, 'tube': 2618, 'columbia': 2619, 'dragging': 2620, 'combo': 2621, 'language': 2622, 'instinctively': 2623, 'passer': 2624, 'c': 2625, 'legacy': 2626, 'beverage': 2627, 'bulk': 2628, 'coordinate': 2629, 'cave': 2630, 'tibris': 2631, 'publication': 2632, 'amorous': 2633, 'awoke': 2634, 'politician': 2635, 'discovered': 2636, 'lovedi': 2637, 'adrift': 2638, 'wondering': 2639, 'mansoor': 2640, 'raised': 2641, 'structural': 2642, 'linguistics': 2643, 'deconstructionist': 2644, 'clamour': 2645, 'followed': 2646, 'teddy': 2647, 'crave': 2648, 'picked': 2649, 'cuz': 2650, 'ollie': 2651, 'cholesterol': 2652, 'predicted': 2653, 'angle': 2654, 'gallows': 2655, 'suspect': 2656, 'private': 2657, 'sifting': 2658, 'nerve': 2659, 'answering': 2660, 'york': 2661, 'stinking': 2662, 'appointment': 2663, 'dang': 2664, 'seed': 2665, 'wardrode': 2666, 'impulsive': 2667, 'beam': 2668, 'metre': 2669, 'sweaty': 2670, 'instrumental': 2671, 'ala': 2672, 'hizaki': 2673, 'essential': 2674, 'puzzle': 2675, 'blair': 2676, 'bloated': 2677, 'sience': 2678, 'west': 2679, 'admin': 2680, 'posh': 2681, 'cushy': 2682, 'warning': 2683, 'affection': 2684, 'coughing': 2685, 'runny': 2686, 'poignantly': 2687, 'oliver': 2688, 'shrugged': 2689, 'educational': 2690, 'prefer': 2691, 'bandaid': 2692, 'unbearably': 2693, 'crushingly': 2694, 'creativeliar': 2695, 'address': 2696, 'ease': 2697, 'totaled': 2698, 'canvas': 2699, 'ignorant': 2700, 'drew': 2701, 'focalors': 2702, 'sigil': 2703, 'opium': 2704, 'grabbing': 2705, 'wooden': 2706, 'meditated': 2707, 'general': 2708, 'barcial': 2709, 'sewing': 2710, 'dominate': 2711, 'qualified': 2712, 'venue': 2713, 'questioned': 2714, 'observation': 2715, 'greatest': 2716, 'martin': 2717, 'feast': 2718, 'crow': 2719, 'motif': 2720, 'inbalance': 2721, 'committment': 2722, 'counselling': 2723, 'reconciliation': 2724, 'immersed': 2725, 'highschool': 2726, 'stormy': 2727, 'led': 2728, 'rent': 2729, 'smooth': 2730, 'flavour': 2731, 'glossy': 2732, 'apple': 2733, 'smoke': 2734, 'gastro': 2735, 'articulating': 2736, 'verbally': 2737, 'incident': 2738, 'completeness': 2739, 'coupled': 2740, 'sobered': 2741, 'attribute': 2742, 'bloody': 2743, 'stride': 2744, 'nonstop': 2745, 'demanding': 2746, 'preschooler': 2747, 'opposite': 2748, 'serioulsy': 2749, 'stephanie': 2750, 'setback': 2751, 'honesty': 2752, 'weak': 2753, 'weakness': 2754, 'encouraging': 2755, 'alhamdulillah': 2756, 'breastfeeding': 2757, 'acquaint': 2758, 'cutting': 2759, 'london': 2760, 'jewelry': 2761, 'childhood': 2762, 'series': 2763, 'puteri': 2764, 'evoking': 2765, 'fairy': 2766, 'booked': 2767, 'flight': 2768, 'burbank': 2769, 'frog': 2770, 'bbm': 2771, 'candy': 2772, 'sucking': 2773, 'isolation': 2774, 'creeped': 2775, 'glamorous': 2776, 'wholly': 2777, 'bos': 2778, 'yell': 2779, 'cuss': 2780, 'killer': 2781, 'returned': 2782, 'trusted': 2783, 'kisser': 2784, 'nijifagilie': 2785, 'corner': 2786, 'internal': 2787, 'continuous': 2788, 'wailing': 2789, 'hears': 2790, 'sensible': 2791, 'lease': 2792, 'nickey': 2793, 'houston': 2794, 'michelle': 2795, 'italian': 2796, 'restaurant': 2797, 'downtown': 2798, 'chicago': 2799, 'statistic': 2800, 'hsps': 2801, 'hsp': 2802, 'infection': 2803, 'awkwardness': 2804, 'refreshed': 2805, 'researching': 2806, 'lump': 2807, 'argue': 2808, 'cogently': 2809, 'misogynist': 2810, 'bruce': 2811, 'glint': 2812, 'madness': 2813, 'pathological': 2814, 'drugged': 2815, 'entertained': 2816, 'inclusion': 2817, 'gaming': 2818, 'jaw': 2819, 'filthy': 2820, 'beckon': 2821, 'script': 2822, 'nine': 2823, 'tends': 2824, 'yuuki': 2825, 'sitcom': 2826, 'pollution': 2827, 'dew': 2828, 'moisturising': 2829, 'luxurious': 2830, 'pant': 2831, 'laid': 2832, 'stoner': 2833, 'escaped': 2834, 'transcends': 2835, 'gorgeously': 2836, 'cinematic': 2837, 'belongs': 2838, 'grasp': 2839, 'jared': 2840, 'jacked': 2841, 'pitocin': 2842, 'shortage': 2843, 'migrate': 2844, 'middle': 2845, 'ignoring': 2846, 'lh': 2847, 'follows': 2848, 'hyena': 2849, 'award': 2850, 'storytelling': 2851, 'precise': 2852, 'suburb': 2853, 'midwest': 2854, 'heimbuch': 2855, 'documented': 2856, 'midwestern': 2857, 'hunting': 2858, 'released': 2859, 'manly': 2860, 'professionalism': 2861, 'specification': 2862, 'maintenance': 2863, 'hunger': 2864, 'jude': 2865, 'eve': 2866, 'underage': 2867, 'denounced': 2868, 'grotesque': 2869, 'unrealistic': 2870, 'suppport': 2871, 'responded': 2872, 'listed': 2873, 'abandoned': 2874, 'significant': 2875, 'communion': 2876, 'tremendous': 2877, 'theologically': 2878, 'weirdo': 2879, 'complex': 2880, 'magnitude': 2881, 'chill': 2882, 'whir': 2883, 'stir': 2884, 'coeur': 2885, 'alene': 2886, 'surrounded': 2887, 'nut': 2888, 'emma': 2889, 'benjamin': 2890, 'piano': 2891, 'hercules': 2892, 'standby': 2893, 'paralysed': 2894, 'shuts': 2895, 'snoring': 2896, 'visiting': 2897, 'dreamland': 2898, 'creepy': 2899, 'macabre': 2900, 'fountain': 2901, 'attorney': 2902, 'property': 2903, 'sd': 2904, 'amish': 2905, 'tad': 2906, 'unemployed': 2907, 'antsy': 2908, 'youthful': 2909, 'bless': 2910, 'perceives': 2911, 'doused': 2912, 'freind': 2913, 'asasoulawakens': 2914, 'feeli': 2915, 'saved': 2916, 'whilst': 2917, 'pedestrian': 2918, 'critically': 2919, 'flawed': 2920, 'kleinkinders': 2921, 'quaker': 2922, 'announced': 2923, 'excitedly': 2924, 'fortnight': 2925, 'sids': 2926, 'grief': 2927, 'desk': 2928, 'slate': 2929, 'unilaterally': 2930, 'intentionally': 2931, 'carelessness': 2932, 'thereby': 2933, 'perceived': 2934, 'impromptu': 2935, 'clash': 2936, 'laconic': 2937, 'dental': 2938, 'deliberation': 2939, 'suicide': 2940, 'burst': 2941, 'happenstance': 2942, 'clue': 2943, 'jubilant': 2944, 'elation': 2945, 'settling': 2946, 'spain': 2947, 'condone': 2948, 'achieve': 2949, 'bask': 2950, 'misery': 2951, 'fondness': 2952, 'nouveau': 2953, 'era': 2954, 'bracelet': 2955, 'poet': 2956, 'sucked': 2957, 'literary': 2958, 'board': 2959, 'aid': 2960, 'forth': 2961, 'burden': 2962, 'overtake': 2963, 'financial': 2964, 'hardship': 2965, 'overlapping': 2966, 'perplexed': 2967, 'liam': 2968, 'johnny': 2969, 'stuffed': 2970, 'padding': 2971, 'riding': 2972, 'acctually': 2973, 'wonderfull': 2974, 'israel': 2975, 'outsourcing': 2976, 'picky': 2977, 'sod': 2978, 'outsource': 2979, 'convey': 2980, 'deferential': 2981, 'frequented': 2982, 'execute': 2983, 'trick': 2984, 'dishwasher': 2985, 'rearranged': 2986, 'furniture': 2987, 'swarming': 2988, 'carnivore': 2989, 'empathizing': 2990, 'jury': 2991, 'narrowed': 2992, 'watcher': 2993, 'consisting': 2994, 'museli': 2995, 'yoghurt': 2996, 'runnin': 2997, 'bein': 2998, 'confined': 2999, 'stic': 3000, 'oxygen': 3001, 'shared': 3002, 'bitterness': 3003, 'detracted': 3004, 'mouthfeel': 3005, 'bothering': 3006, 'hyphen': 3007, 'unprofessional': 3008, 'tranquil': 3009, 'swim': 3010, 'crumbling': 3011, 'thompson': 3012, 'fluff': 3013, 'procedure': 3014, 'sam': 3015, 'attacked': 3016, 'teenage': 3017, 'wallet': 3018, 'orthodox': 3019, 'ex': 3020, 'politics': 3021, 'realm': 3022, 'usa': 3023, 'maker': 3024, 'employer': 3025, 'survey': 3026, 'shiver': 3027, 'spine': 3028, 'sinking': 3029, 'swear': 3030, 'sleepless': 3031, 'benefice': 3032, 'citizen': 3033, 'capitol': 3034, 'chemistry': 3035, 'engaging': 3036, 'watchable': 3037, 'mixed': 3038, 'christine': 3039, 'quote': 3040, 'continually': 3041, 'nourished': 3042, 'lisas': 3043, 'recognised': 3044, 'sink': 3045, 'odkh': 3046, 'milk': 3047, 'entering': 3048, 'organization': 3049, 'gigantic': 3050, 'tuesday': 3051, 'persistence': 3052, 'missgivings': 3053, 'blond': 3054, 'overconfident': 3055, 'title': 3056, 'tip': 3057, 'racked': 3058, 'fancy': 3059, 'goat': 3060, 'attached': 3061, 'expert': 3062, 'reluctance': 3063, 'employ': 3064, 'gas': 3065, 'rmb': 3066, 'maternal': 3067, 'sheep': 3068, 'provokingbeauty': 3069, 'shack': 3070, 'knitting': 3071, 'covered': 3072, 'ear': 3073, 'minimize': 3074, 'kali': 3075, 'aku': 3076, 'dah': 3077, 'bertukar': 3078, 'jadi': 3079, 'benci': 3080, 'form': 3081, 'asking': 3082, 'insincere': 3083, 'nosy': 3084, 'endurance': 3085, 'contempt': 3086, 'acquaintance': 3087, 'portrayed': 3088, 'san': 3089, 'vicente': 3090, 'confusing': 3091, 'spazzola': 3092, 'prima': 3093, 'andare': 3094, 'dormire': 3095, 'hundred': 3096, 'stroke': 3097, 'brush': 3098, 'update': 3099, 'region': 3100, 'decoration': 3101, 'showered': 3102, 'lunchtime': 3103, 'gosh': 3104, 'familiarity': 3105, 'celebrated': 3106, 'unique': 3107, 'newly': 3108, 'realization': 3109, 'frequent': 3110, 'achy': 3111, 'metastasis': 3112, 'intelligence': 3113, 'mild': 3114, 'wisconsin': 3115, 'version': 3116, 'gazing': 3117, 'price': 3118, 'rocketed': 3119, 'digust': 3120, 'denied': 3121, 'claimed': 3122, 'newsprint': 3123, 'article': 3124, 'readership': 3125, 'prejudice': 3126, 'settled': 3127, 'patio': 3128, 'storming': 3129, 'discovering': 3130, 'flush': 3131, 'disruptive': 3132, 'reacted': 3133, 'dramatic': 3134, 'turnout': 3135, 'haze': 3136, 'nyquil': 3137, 'fishing': 3138, 'hung': 3139, 'adjoining': 3140, 'cubicle': 3141, 'outsize': 3142, 'mac': 3143, 'sou': 3144, 'wester': 3145, 'dangled': 3146, 'enormous': 3147, 'wellies': 3148, 'negative': 3149, 'sobbed': 3150, 'sidewalk': 3151, 'pothole': 3152, 'leonard': 3153, 'cohen': 3154, 'ffayths': 3155, 'collection': 3156, 'attack': 3157, 'realness': 3158, 'portrayal': 3159, 'yelp': 3160, 'comparing': 3161, 'sneha': 3162, 'precisely': 3163, 'knocking': 3164, 'smackdown': 3165, 'daniel': 3166, 'bryan': 3167, 'appear': 3168, 'remaining': 3169, 'freezing': 3170, 'numbness': 3171, 'sincerely': 3172, 'oriented': 3173, 'lorena': 3174, 'wildly': 3175, 'swallow': 3176, 'sufficiently': 3177, 'hasan': 3178, 'retiring': 3179, 'modest': 3180, 'schadenfreude': 3181, 'elvive': 3182, 'strayed': 3183, 'sl': 3184, 'formula': 3185, 'serene': 3186, 'dominating': 3187, 'wash': 3188, 'firefly': 3189, 'dwindle': 3190, 'jillian': 3191, 'verge': 3192, 'weariness': 3193, 'tenderly': 3194, 'noone': 3195, 'clock': 3196, 'ticking': 3197, 'ingrained': 3198, 'janine': 3199, 'appears': 3200, 'eluded': 3201, 'bliss': 3202, 'earning': 3203, 'claim': 3204, 'crown': 3205, 'preparing': 3206, 'florida': 3207, 'bungalow': 3208, 'guest': 3209, 'comeback': 3210, 'daydreaming': 3211, 'shove': 3212, 'panty': 3213, 'major': 3214, 'dip': 3215, 'hen': 3216, 'brilliance': 3217, 'frozen': 3218, 'excellent': 3219, 'scored': 3220, 'appeared': 3221, 'none': 3222, 'naomi': 3223, 'klein': 3224, 'otherwise': 3225, 'veggie': 3226, 'ally': 3227, 'brightens': 3228, 'sacrifice': 3229, 'beach': 3230, 'surf': 3231, 'scattered': 3232, 'rant': 3233, 'billiards': 3234, 'taiwan': 3235, 'coffee': 3236, 'predictable': 3237, 'fandom': 3238, 'convention': 3239, 'relative': 3240, 'holli': 3241, 'reese': 3242, 'changing': 3243, 'intake': 3244, 'jt': 3245, 'sickness': 3246, 'prescence': 3247, 'sheer': 3248, 'crowded': 3249, 'appts': 3250, 'crack': 3251, 'hacking': 3252, 'hive': 3253, 'guessed': 3254, 'riva': 3255, 'harvey': 3256, 'weinstein': 3257, 'fiercely': 3258, 'hilariously': 3259, 'british': 3260, 'accent': 3261, 'lounge': 3262, 'occassionally': 3263, 'plug': 3264, 'rolling': 3265, 'independence': 3266, 'operation': 3267, 'object': 3268, 'hyper': 3269, 'winter': 3270, 'dharavi': 3271, 'mumbai': 3272, 'annual': 3273, 'turnover': 3274, 'aside': 3275, 'andy': 3276, 'chemical': 3277, 'yardage': 3278, 'gallery': 3279, 'bam': 3280, 'involved': 3281, 'zeno': 3282, 'spell': 3283, 'supply': 3284, 'cardiovascular': 3285, 'local': 3286, 'indie': 3287, 'outrageously': 3288, 'tourette': 3289, 'unpredictability': 3290, 'carnage': 3291, 'harvest': 3292, 'ruined': 3293, 'damp': 3294, 'noticer': 3295, 'solution': 3296, 'grappling': 3297, 'trash': 3298, 'bin': 3299, 'sought': 3300, 'greatness': 3301, 'blowing': 3302, 'chunk': 3303, 'taut': 3304, 'chew': 3305, 'arialblue': 3306, 'chat': 3307, 'lodged': 3308, 'oesophagus': 3309, 'lightly': 3310, 'recommending': 3311, 'marshal': 3312, 'glenn': 3313, 'sincerity': 3314, 'rebuilding': 3315, 'homemade': 3316, 'route': 3317, 'gladly': 3318, 'endure': 3319, 'blowout': 3320, 'tantrum': 3321, 'privilege': 3322, 'drop': 3323, 'confront': 3324, 'absolute': 3325, 'openness': 3326, 'bleak': 3327, 'paragraph': 3328, 'jersey': 3329, 'jrock': 3330, 'tommorrow': 3331, 'oakwood': 3332, 'campus': 3333, 'ashlotte': 3334, 'talim': 3335, 'cathartic': 3336, 'mychem': 3337, 'damaging': 3338, 'cred': 3339, 'behave': 3340, 'culturally': 3341, 'landed': 3342, 'dubai': 3343, 'cramp': 3344, 'adsense': 3345, 'affiliate': 3346, 'success': 3347, 'prowl': 3348, 'island': 3349, 'breaking': 3350, 'chapter': 3351, 'assessment': 3352, 'unit': 3353, 'philosophy': 3354, 'gusto': 3355, 'gp': 3356, 'rested': 3357, 'joking': 3358, 'count': 3359, 'batting': 3360, 'approaching': 3361, 'wouldve': 3362, 'charged': 3363, 'disoriented': 3364, 'smother': 3365, 'pressed': 3366, 'truthful': 3367, 'claus': 3368, 'loot': 3369, 'graduation': 3370, 'yk': 3371, 'aubrey': 3372, 'baptism': 3373, 'baptized': 3374, 'signal': 3375, 'caffeine': 3376, 'heaviness': 3377, 'jumped': 3378, 'blogspot': 3379, 'gossip': 3380, 'reilly': 3381, 'overnight': 3382, 'unbreakable': 3383, 'fb': 3384, 'grace': 3385, 'companionship': 3386, 'enacting': 3387, 'arrogance': 3388, 'favor': 3389, 'clarify': 3390, 'lightning': 3391, 'rod': 3392, 'sausage': 3393, 'bar': 3394, 'forcing': 3395, 'celebrating': 3396, 'buying': 3397, 'consumerism': 3398, 'chasing': 3399, 'premature': 3400, 'graying': 3401, 'resource': 3402, 'mack': 3403, 'michael': 3404, 'struggling': 3405, 'sally': 3406, 'mop': 3407, 'atop': 3408, 'flattered': 3409, 'petrified': 3410, 'bowled': 3411, 'welling': 3412, 'conflict': 3413, 'miracle': 3414, 'echo': 3415, 'insist': 3416, 'encountered': 3417, 'prove': 3418, 'ima': 3419, 'cupcake': 3420, 'regularly': 3421, 'communicate': 3422, 'disrupt': 3423, 'potential': 3424, 'scheme': 3425, 'porch': 3426, 'sunlight': 3427, 'bathed': 3428, 'radiance': 3429, 'cooled': 3430, 'msg': 3431, 'defining': 3432, 'incision': 3433, 'residual': 3434, 'resolve': 3435, 'barely': 3436, 'explaining': 3437, 'shadow': 3438, 'dancer': 3439, 'port': 3440, 'arcade': 3441, 'buddy': 3442, 'angee': 3443, 'distinctly': 3444, 'safer': 3445, 'molesting': 3446, 'amiss': 3447, 'noodle': 3448, 'bouncier': 3449, 'rubbish': 3450, 'california': 3451, 'nation': 3452, 'agency': 3453, 'demoralized': 3454, 'leading': 3455, 'alignment': 3456, 'staffed': 3457, 'relatively': 3458, 'smoothly': 3459, 'minor': 3460, 'fingernail': 3461, 'tangible': 3462, 'pragmatic': 3463, 'concise': 3464, 'guitar': 3465, 'accurately': 3466, 'singular': 3467, 'starring': 3468, 'taunted': 3469, 'swift': 3470, 'dump': 3471, 'elf': 3472, 'regain': 3473, 'vividly': 3474, 'duck': 3475, 'chick': 3476, 'improved': 3477, 'stickiness': 3478, 'lingering': 3479, 'nutty': 3480, 'occasion': 3481, 'starlight': 3482, 'caress': 3483, 'remembers': 3484, 'thousand': 3485, 'bye': 3486, 'ember': 3487, 'pained': 3488, 'wistful': 3489, 'tub': 3490, 'illegitimate': 3491, 'depending': 3492, 'notion': 3493, 'blame': 3494, 'misfortune': 3495, 'befall': 3496, 'warns': 3497, 'tribulation': 3498, 'sunshine': 3499, 'traumatised': 3500, 'pestilence': 3501, 'cook': 3502, 'convenience': 3503, 'starvation': 3504, 'rock': 3505, 'bikini': 3506, 'poem': 3507, 'remain': 3508, 'bruised': 3509, 'harshness': 3510, 'wearied': 3511, 'relentlessness': 3512, 'react': 3513, 'aspire': 3514, 'capture': 3515, 'manner': 3516, 'austere': 3517, 'introspective': 3518, 'euskc': 3519, 'lucy': 3520, 'sympathize': 3521, 'native': 3522, 'representative': 3523, 'corporate': 3524, 'washington': 3525, 'calf': 3526, 'tire': 3527, 'joined': 3528, 'elihu': 3529, 'christmastime': 3530, 'mill': 3531, 'darkly': 3532, 'large': 3533, 'stately': 3534, 'clubbing': 3535, 'goldschlager': 3536, 'howling': 3537, 'comet': 3538, 'kicking': 3539, 'john': 3540, 'weighing': 3541, 'filling': 3542, 'olympics': 3543, 'wealth': 3544, 'greek': 3545, 'soothed': 3546, 'stimulated': 3547, 'nl': 3548, 'central': 3549, 'key': 3550, 'cog': 3551, 'championship': 3552, 'duckling': 3553, 'spends': 3554, 'sara': 3555, 'fired': 3556, 'detectin': 3557, 'bother': 3558, 'hovel': 3559, 'getin': 3560, 'rel': 3561, 'nofollow': 3562, 'va': 3563, 'prandi': 3564, 'janis': 3565, 'sander': 3566, 'abusing': 3567, 'rise': 3568, 'olympian': 3569, 'behaviour': 3570, 'nicely': 3571, 'swaddled': 3572, 'wrapping': 3573, 'recommend': 3574, 'residue': 3575, 'practical': 3576, 'brownish': 3577, 'tint': 3578, 'genetices': 3579, 'midterm': 3580, 'grade': 3581, 'ted': 3582, 'simplicity': 3583, 'recovered': 3584, 'piddi': 3585, 'float': 3586, 'chamber': 3587, 'nervously': 3588, 'pee': 3589, 'poking': 3590, 'g': 3591, 'stimulation': 3592, 'believing': 3593, 'sleek': 3594, 'smoother': 3595, 'drawing': 3596, 'blaster': 3597, 'nicer': 3598, 'spiritually': 3599, 'reproduce': 3600, 'academic': 3601, 'specifically': 3602, 'prominent': 3603, 'baker': 3604, 'smallest': 3605, 'double': 3606, 'hall': 3607, 'gulam': 3608, 'ali': 3609, 'classical': 3610, 'distance': 3611, 'bunion': 3612, 'painful': 3613, 'pasta': 3614, 'apologize': 3615, 'pertaining': 3616, 'dinn': 3617, 'bioware': 3618, 'eternally': 3619, 'induced': 3620, 'nightlife': 3621, 'antique': 3622, 'underwear': 3623, 'edgy': 3624, 'debt': 3625, 'applied': 3626, 'dare': 3627, 'stiller': 3628, 'vaughn': 3629, 'hater': 3630, 'enjoyment': 3631, 'scoffing': 3632, 'pretending': 3633, 'aint': 3634, 'cheated': 3635, 'accomplish': 3636, 'lab': 3637, 'december': 3638, 'previous': 3639, 'superfluous': 3640, 'jenn': 3641, 'elaine': 3642, 'pub': 3643, 'remembrance': 3644, 'aryiku': 3645, 'defend': 3646, 'britney': 3647, 'ibs': 3648, 'bowel': 3649, 'syndrome': 3650, 'dunno': 3651, 'sooner': 3652, 'greg': 3653, 'stasia': 3654, 'utter': 3655, 'holding': 3656, 'chewing': 3657, 'pacman': 3658, 'pacquiao': 3659, 'yellow': 3660, 'reporting': 3661, 'split': 3662, 'weirdly': 3663, 'exhilirated': 3664, 'blindly': 3665, 'uncharted': 3666, 'maturity': 3667, 'aka': 3668, 'midlife': 3669, 'crisis': 3670, 'transformation': 3671, 'tracy': 3672, 'anderson': 3673, 'intensely': 3674, 'trendier': 3675, 'hotel': 3676, 'north': 3677, 'unfriendly': 3678, 'backing': 3679, 'relying': 3680, 'pavement': 3681, 'yurusei': 3682, 'yatsura': 3683, 'coheed': 3684, 'cambria': 3685, 'ripped': 3686, 'undercurrent': 3687, 'subtle': 3688, 'omangy': 3689, 'horribly': 3690, 'sounding': 3691, 'postgraduate': 3692, 'relish': 3693, 'squelching': 3694, 'mud': 3695, 'relates': 3696, 'workplace': 3697, 'status': 3698, 'vanilla': 3699, 'mashmellows': 3700, 'signed': 3701, 'petition': 3702, 'served': 3703, 'stock': 3704, 'asserting': 3705, 'tyler': 3706, 'denis': 3707, 'dave': 3708, 'mira': 3709, 'castle': 3710, 'scan': 3711, 'parody': 3712, 'stretching': 3713, 'declined': 3714, 'literature': 3715, 'cited': 3716, 'scarce': 3717, 'pedicure': 3718, 'massaging': 3719, 'tootsies': 3720, 'zipline': 3721, 'picnic': 3722, 'grove': 3723, 'advocate': 3724, 'paining': 3725, 'loyalty': 3726, 'silky': 3727, 'conventional': 3728, 'sens': 3729, 'ceiling': 3730, 'covering': 3731, 'surface': 3732, 'register': 3733, 'dismayed': 3734, 'lloyd': 3735, 'grossman': 3736, 'ditched': 3737, 'rightly': 3738, 'boat': 3739, 'aunt': 3740, 'flee': 3741, 'baltic': 3742, 'pleading': 3743, 'heat': 3744, 'devour': 3745, 'discussed': 3746, 'promise': 3747, 'bitterly': 3748, 'rapidly': 3749, 'thrown': 3750, 'towel': 3751, 'smaller': 3752, 'focused': 3753, 'interrupt': 3754, 'lurker': 3755, 'anna': 3756, 'iya': 3757, 'erik': 3758, 'math': 3759, 'tuition': 3760, 'bout': 3761, 'blocking': 3762, 'passionately': 3763, 'comforted': 3764, 'hunter': 3765, 'chiangmai': 3766, 'alton': 3767, 'tower': 3768, 'flying': 3769, 'flew': 3770, 'randomly': 3771, 'upside': 3772, 'rollercoaster': 3773, 'beak': 3774, 'nearest': 3775, 'accepting': 3776, 'superduperreally': 3777, 'overseas': 3778, 'education': 3779, 'cu': 3780, 'pouring': 3781, 'ministry': 3782, 'accompanied': 3783, 'shh': 3784, 'bah': 3785, 'heartless': 3786, 'vaster': 3787, 'throwing': 3788, 'carseat': 3789, 'toddler': 3790, 'fitting': 3791, 'humble': 3792, 'flub': 3793, 'jewellery': 3794, 'sparkle': 3795, 'cosplay': 3796, 'goon': 3797, 'incoming': 3798, 'geremiafamily': 3799, 'gripped': 3800, 'timing': 3801, 'taker': 3802, 'abou': 3803, 'divinity': 3804, 'intricate': 3805, 'disciple': 3806, 'manifestation': 3807, 'slightest': 3808, 'material': 3809, 'actor': 3810, 'immensely': 3811, 'functioning': 3812, 'autism': 3813, 'mighty': 3814, 'roar': 3815, 'idiocy': 3816, 'supremely': 3817, 'fastforwarding': 3818, 'certified': 3819, 'ace': 3820, 'volvo': 3821, 'tidy': 3822, 'unsimilar': 3823, 'beer': 3824, 'waddle': 3825, 'quilt': 3826, 'principle': 3827, 'highest': 3828, 'flutter': 3829, 'whimsical': 3830, 'sensibility': 3831, 'handing': 3832, 'mormon': 3833, 'comatose': 3834, 'northwestern': 3835, 'generic': 3836, 'twin': 3837, 'pipe': 3838, 'contemplated': 3839, 'flowed': 3840, 'outward': 3841, 'apologise': 3842, 'consideration': 3843, 'subscriber': 3844, 'blinded': 3845, 'regard': 3846, 'oftentimes': 3847, 'attended': 3848, 'extraordinarily': 3849, 'arvo': 3850, 'program': 3851, 'intoxicating': 3852, 'impractical': 3853, 'clutter': 3854, 'iming': 3855, 'poke': 3856, 'envisioned': 3857, 'mike': 3858, 'expressed': 3859, 'depict': 3860, 'george': 3861, 'celebratory': 3862, 'chanting': 3863, 'reverberate': 3864, 'twenty': 3865, 'burn': 3866, 'monster': 3867, 'plainly': 3868, 'outcast': 3869, 'proving': 3870, 'dependent': 3871, 'foreign': 3872, 'homely': 3873, 'closure': 3874, 'occurs': 3875, 'unfurling': 3876, 'morbid': 3877, 'do': 3878, 'sympathy': 3879, 'quest': 3880, 'trap': 3881, 'emily': 3882, 'dickinson': 3883, 'semi': 3884, 'enhance': 3885, 'enjambment': 3886, 'sonnet': 3887, 'wotcs': 3888, 'behalf': 3889, 'wispy': 3890, 'strand': 3891, 'volunteered': 3892, 'lola': 3893, 'demographic': 3894, 'castanets': 3895, 'ray': 3896, 'raposa': 3897, 'crested': 3898, 'dying': 3899, 'shock': 3900, 'prompted': 3901, 'brd': 3902, 'brds': 3903, 'yarn': 3904, 'stash': 3905, 'busting': 3906, 'bonus': 3907, 'hopped': 3908, 'cardio': 3909, 'emilyhursh': 3910, 'google': 3911, 'aforementioned': 3912, 'schmidt': 3913, 'beachy': 3914, 'feeding': 3915, 'processed': 3916, 'flaw': 3917, 'alcoholic': 3918, 'ploy': 3919, 'ashraf': 3920, 'pakistani': 3921, 'exhaustion': 3922, 'crossed': 3923, 'role': 3924, 'alfred': 3925, 'molina': 3926, 'dimensional': 3927, 'caricature': 3928, 'overshadowed': 3929, 'onset': 3930, 'infamous': 3931, 'bonk': 3932, 'mental': 3933, 'contribute': 3934, 'encompass': 3935, 'peculiar': 3936, 'slipper': 3937, 'dopey': 3938, 'existance': 3939, 'refrain': 3940, 'monroe': 3941, 'launch': 3942, 'incorporated': 3943, 'alot': 3944, 'peril': 3945, 'laughing': 3946, 'villian': 3947, 'christchurch': 3948, 'zealand': 3949, 'wtf': 3950, 'uber': 3951, 'replied': 3952, 'awesomness': 3953, 'cognize': 3954, 'disregarding': 3955, 'cosmos': 3956, 'years': 3957, 'examine': 3958, 'exempted': 3959, 'cherish': 3960, 'handedly': 3961, 'amazingly': 3962, 'energized': 3963, 'rainy': 3964, 'autumn': 3965, 'contribution': 3966, 'unsophisticated': 3967, 'alteration': 3968, 'ridiculous': 3969, 'accommodate': 3970, 'jehovah': 3971, 'benevolent': 3972, 'wax': 3973, 'draw': 3974, 'unibrow': 3975, 'spare': 3976, 'creeping': 3977, 'eyelid': 3978, 'cleaned': 3979, 'mopping': 3980, 'tidying': 3981, 'clog': 3982, 'pore': 3983, 'f': 3984, 'timetable': 3985, 'theatre': 3986, 'endorse': 3987, 'indulge': 3988, 'athf': 3989, 'base': 3990, 'nurturing': 3991, 'primary': 3992, 'protective': 3993, 'rebuild': 3994, 'vented': 3995, 'excuse': 3996, 'communicat': 3997, 'alarming': 3998, 'hb': 3999, 'pitcher': 4000, 'mound': 4001, 'league': 4002, 'diamond': 4003, 'animosity': 4004, 'wonderland': 4005, 'vocalist': 4006, 'embarassed': 4007, 'femininely': 4008, 'theme': 4009, 'cynical': 4010, 'naman': 4011, 'na': 4012, 'shoudlnt': 4013, 'heavily': 4014, 'enraged': 4015, 'punch': 4016, 'worst': 4017, 'test': 4018, 'assignment': 4019, 'pete': 4020, 'admire': 4021, 'lipstick': 4022, 'fell': 4023, 'uncle': 4024, 'lin': 4025, 'chubby': 4026, 'scrutiny': 4027, 'winced': 4028, 'everytime': 4029, 'ecstasy': 4030, 'triumph': 4031, 'ideal': 4032, 'preparation': 4033, 'birth': 4034, 'redden': 4035, 'manhood': 4036, 'medicated': 4037, 'fiction': 4038, 'amazement': 4039, 'sometime': 4040, 'exboyfriend': 4041, 'shout': 4042, 'midnight': 4043, 'interested': 4044, 'thief': 4045, 'exposure': 4046, 'crudely': 4047, 'ancient': 4048, 'shoeless': 4049, 'slowing': 4050, 'lyman': 4051, 'spacey': 4052, 'skinner': 4053, 'box': 4054, 'spring': 4055, 'healthier': 4056, 'sexually': 4057, 'iteration': 4058, 'junior': 4059, 'designer': 4060, 'imprinted': 4061, 'vibrates': 4062, 'clench': 4063, 'obama': 4064, 'supporter': 4065, 'twinge': 4066, 'presidency': 4067, 'hiked': 4068, 'steep': 4069, 'hillside': 4070, 'grass': 4071, 'naega': 4072, 'deo': 4073, 'apaya': 4074, 'hae': 4075, 'dasi': 4076, 'neol': 4077, 'chajeul': 4078, 'su': 4079, 'itge': 4080, 'sigani': 4081, 'heureulsurok': 4082, 'gaseumi': 4083, 'apawa': 4084, 'dan': 4085, 'hanbeon': 4086, 'manirado': 4087, 'wo': 4088, 'doedollil': 4089, 'suman': 4090, 'itdamyeon': 4091, 'gotong': 4092, 'ttawin': 4093, 'naegen': 4094, 'imdoing': 4095, 'column': 4096, 'crunch': 4097, 'looming': 4098, 'deadline': 4099, 'airport': 4100, 'thursday': 4101, 'natural': 4102, 'sweetener': 4103, 'refined': 4104, 'athletic': 4105, 'subsided': 4106, 'disrespected': 4107, 'background': 4108, 'detailed': 4109, 'vegetable': 4110, 'cleansing': 4111, 'mulled': 4112, 'offend': 4113, 'catapulted': 4114, 'al': 4115, 'nephew': 4116, 'cheered': 4117, 'seldom': 4118, 'unreasonable': 4119, 'lent': 4120, 'learnt': 4121, 'scissors': 4122, 'amid': 4123, 'robotic': 4124, 'childrens': 4125, 'praise': 4126, 'thirteen': 4127, 'shishido': 4128, 'senpai': 4129, 'popped': 4130, 'urging': 4131, 'mouth': 4132, 'obligatory': 4133, 'leadership': 4134, 'mesh': 4135, 'aimless': 4136, 'absurd': 4137, 'countertop': 4138, 'recovering': 4139, 'umlungu': 4140, 'addicted': 4141, 'roslin': 4142, 'cruz': 4143, 'meaningful': 4144, 'square': 4145, 'caf': 4146, 'stone': 4147, 'substance': 4148, 'literally': 4149, 'tychelle': 4150, 'nonexistent': 4151, 'zhuo': 4152, 'pupil': 4153, 'xiao': 4154, 'chaperone': 4155, 'focus': 4156, 'separately': 4157, 'bravely': 4158, 'zone': 4159, 'revert': 4160, 'clot': 4161, 'resolution': 4162, 'fudgy': 4163, 'mediocre': 4164, 'doodle': 4165, 'modeling': 4166, 'duet': 4167, 'minister': 4168, 'beforehand': 4169, 'yearned': 4170, 'homey': 4171, 'river': 4172, 'warming': 4173, 'puzzled': 4174, 'wiggle': 4175, 'pelvis': 4176, 'bump': 4177, 'thump': 4178, 'sleepy': 4179, 'slalom': 4180, 'coke': 4181, 'regardless': 4182, 'junk': 4183, 'suspiciously': 4184, 'moist': 4185, 'ahhh': 4186, 'simultaneously': 4187, 'memoir': 4188, 'qualify': 4189, 'frustrates': 4190, 'jogger': 4191, 'outsprinted': 4192, 'hospitalized': 4193, 'absence': 4194, 'fascinated': 4195, 'hatter': 4196, 'alice': 4197, 'blast': 4198, 'internalized': 4199, 'impotent': 4200, 'wishing': 4201, 'november': 4202, 'shade': 4203, 'uk': 4204, 'cloudy': 4205, 'sunny': 4206, 'windy': 4207, 'pinpoint': 4208, 'ass': 4209, 'divulge': 4210, 'info': 4211, 'stylings': 4212, 'argued': 4213, 'designing': 4214, 'bridesmaid': 4215, 'diaper': 4216, 'laying': 4217, 'adjective': 4218, 'wierd': 4219, 'bounce': 4220, 'electricity': 4221, 'paw': 4222, 'soundtrack': 4223, 'minority': 4224, 'elementary': 4225, 'coerce': 4226, 'grader': 4227, 'lunchroom': 4228, 'environmental': 4229, 'resort': 4230, 'litte': 4231, 'vintage': 4232, 'completing': 4233, 'academy': 4234, 'vortex': 4235, 'unhappiness': 4236, 'activity': 4237, 'helped': 4238, 'coworkers': 4239, 'hubby': 4240, 'kenny': 4241, 'crol': 4242, 'tl': 4243, 'lottery': 4244, 'direct': 4245, 'instruction': 4246, 'lee': 4247, 'wit': 4248, 'screaming': 4249, 'tightly': 4250, 'smiling': 4251, 'sticking': 4252, 'as': 4253, 'bench': 4254, 'favs': 4255, 'staring': 4256, 'horse': 4257, 'zimmerman': 4258, 'definately': 4259, 'president': 4260, 'conservative': 4261, 'randythomas': 4262, 'riled': 4263, 'action': 4264, 'offensive': 4265, 'unsheathe': 4266, 'hobble': 4267, 'random': 4268, 'clicking': 4269, 'sober': 4270, 'teeny': 4271, 'itsy': 4272, 'bitsy': 4273, 'vogue': 4274, 'nagging': 4275, 'tag': 4276, 'alonger': 4277, 'tolerating': 4278, 'gush': 4279, 'thankfully': 4280, 'violated': 4281, 'sanitiation': 4282, 'snoozel': 4283, 'hi': 4284, 'cathy': 4285, 'here': 4286, 'cooped': 4287, 'proposed': 4288, 'avenue': 4289, 'q': 4290, 'muse': 4291, 'goin': 4292, 'moshav': 4293, 'dancin': 4294, 'beatles': 4295, 'darker': 4296, 'irrational': 4297, 'reaching': 4298, 'adulthood': 4299, 'concieve': 4300, 'request': 4301, 'flushed': 4302, 'embarrassment': 4303, 'arouse': 4304, 'metformin': 4305, 'pure': 4306, 'cdn': 4307, 'pretend': 4308, 'proper': 4309, 'antm': 4310, 'aboard': 4311, 'graduated': 4312, 'walmart': 4313, 'maceys': 4314, 'sunday': 4315, 'consumer': 4316, 'deteriorated': 4317, 'sabrina': 4318, 'notting': 4319, 'abandoning': 4320, 'typically': 4321, 'developer': 4322, 'complacent': 4323, 'illness': 4324, 'ti': 4325, 'korean': 4326, 'omg': 4327, 'gesture': 4328, 'pc': 4329, 'godaddy': 4330, 'privellege': 4331, 'bill': 4332, 'vehemently': 4333, 'oppose': 4334, 'shoved': 4335, 'flashed': 4336, 'hockey': 4337, 'classic': 4338, 'stored': 4339, 'rage': 4340, 'belonging': 4341, 'submitted': 4342, 'hopeful': 4343, 'extend': 4344, 'pesters': 4345, 'limited': 4346, 'outcome': 4347, 'readjust': 4348, 'centre': 4349, 'wednesday': 4350, 'arrives': 4351, 'explained': 4352, 'buried': 4353, 'ethan': 4354, 'equation': 4355, 'waft': 4356, 'charred': 4357, 'functional': 4358, 'switch': 4359, 'java': 4360, 'python': 4361, 'tested': 4362, 'proven': 4363, 'emerging': 4364, 'haskell': 4365, 'jade': 4366, 'prone': 4367, 'spencer': 4368, 'calmer': 4369, 'avoiding': 4370, 'ron': 4371, 'sinus': 4372, 'honor': 4373, 'grieving': 4374, 'garbage': 4375, 'bridal': 4376, 'note': 4377, 'puzzling': 4378, 'tempered': 4379, 'teammate': 4380, 'peer': 4381, 'betray': 4382, 'entertain': 4383, 'relaxing': 4384, 'resting': 4385, 'stressing': 4386, 'moody': 4387, 'forum': 4388, 'unmentioned': 4389, 'narrative': 4390, 'unity': 4391, 'whiz': 4392, 'rumble': 4393, 'giant': 4394, 'appease': 4395, 'appetite': 4396, 'julie': 4397, 'traction': 4398, 'denise': 4399, 'hella': 4400, 'waste': 4401, 'suggested': 4402, 'outlandish': 4403, 'stalker': 4404, 'jayson': 4405, 'delivery': 4406, 'loosing': 4407, 'quicker': 4408, 'saddest': 4409, 'apprised': 4410, 'latest': 4411, 'security': 4412, 'apartment': 4413, 'compromised': 4414, 'isolating': 4415, 'hahaha': 4416, 'nikos': 4417, 'niko': 4418, 'idc': 4419, 'sol': 4420, 'boob': 4421, 'absolutly': 4422, 'flourishing': 4423, 'delve': 4424, 'evaluate': 4425, 'yard': 4426, 'waterside': 4427, 'lake': 4428, 'jason': 4429, 'include': 4430, 'unfortunate': 4431, 'carrry': 4432, 'tether': 4433, 'mihm': 4434, 'liberation': 4435, 'aroma': 4436, 'bhubaneswar': 4437, 'orissa': 4438, 'karma': 4439, 'contentment': 4440, 'sasuke': 4441, 'fatally': 4442, 'roundly': 4443, 'poor': 4444, 'ravaged': 4445, 'comparison': 4446, 'unappreciative': 4447, 'instinct': 4448, 'kindness': 4449, 'psychological': 4450, 'noah': 4451, 'providing': 4452, 'nipping': 4453, 'youd': 4454, 'removing': 4455, 'maryland': 4456, 'overweight': 4457, 'marilyn': 4458, 'twice': 4459, 'boston': 4460, 'session': 4461, 'distortion': 4462, 'unusual': 4463, 'gripping': 4464, 'pace': 4465, 'vunerable': 4466, 'confidence': 4467, 'stature': 4468, 'lauren': 4469, 'enclose': 4470, 'weigh': 4471, 'embedded': 4472, 'narrow': 4473, 'unattainable': 4474, 'harrass': 4475, 'oppressed': 4476, 'convicted': 4477, 'deduce': 4478, 'negate': 4479, 'lifetime': 4480, 'unwanted': 4481, 'sideline': 4482, 'wet': 4483, 'lettuce': 4484, 'remembering': 4485, 'jurer': 4486, 'construction': 4487, 'atmosphere': 4488, 'enamoured': 4489, 'porcelain': 4490, 'amazon': 4491, 'barnes': 4492, 'noble': 4493, 'ebook': 4494, 'charging': 4495, 'snippy': 4496, 'permanently': 4497, 'mend': 4498, 'flame': 4499, 'singed': 4500, 'frail': 4501, 'foul': 4502, 'smelling': 4503, 'concoction': 4504, 'burnt': 4505, 'flesh': 4506, 'upload': 4507, 'bareminerals': 4508, 'filmed': 4509, 'catching': 4510, 'tom': 4511, 'undeservedly': 4512, 'harmed': 4513, 'prick': 4514, 'dreaming': 4515, 'paused': 4516, 'dramatically': 4517, 'arrangement': 4518, 'piling': 4519, 'docile': 4520, 'observed': 4521, 'disconnected': 4522, 'disadvantaged': 4523, 'kiddy': 4524, 'retorted': 4525, 'held': 4526, 'conscientious': 4527, 'unsuccessful': 4528, 'depressing': 4529, 'unrewarding': 4530, 'forgetting': 4531, 'hands': 4532, 'aahhh': 4533, 'carbohydrate': 4534, 'expand': 4535, 'waistline': 4536, 'heck': 4537, 'farewell': 4538, 'sponsor': 4539, 'tooth': 4540, 'conversing': 4541, 'coach': 4542, 'approve': 4543, 'disapprove': 4544, 'dot': 4545, 'com': 4546, 'seoul': 4547, 'moulding': 4548, 'anansi': 4549, 'believer': 4550, 'religion': 4551, 'conspiracy': 4552, 'theory': 4553, 'unsolved': 4554, 'crime': 4555, 'hugely': 4556, 'detox': 4557, 'squeek': 4558, 'intimate': 4559, 'grossed': 4560, 'caveman': 4561, 'complimented': 4562, 'broad': 4563, 'categorie': 4564, 'ginger': 4565, 'bible': 4566, 'flashlight': 4567, 'ashers': 4568, 'bug': 4569, 'bath': 4570, 'aftermath': 4571, 'controlling': 4572, 'growth': 4573, 'client': 4574, 'uggs': 4575, 'bandwagon': 4576, 'ant': 4577, 'tragic': 4578, 'raped': 4579, 'print': 4580, 'refer': 4581, 'nutrition': 4582, 'redeem': 4583, 'georgia': 4584, 'serif': 4585, 'size': 4586, 'height': 4587, 'joke': 4588, 'declare': 4589, 'sickening': 4590, 'songy': 4591, 'britain': 4592, 'louis': 4593, 'marie': 4594, 'antoinette': 4595, 'russia': 4596, 'comparatively': 4597, 'drinking': 4598, 'tracking': 4599, 'unfocused': 4600, 'foundation': 4601, 'steady': 4602, 'warms': 4603, 'midst': 4604, 'inter': 4605, 'generational': 4606, 'reminds': 4607, 'epic': 4608, 'feat': 4609, 'insatiably': 4610, 'digital': 4611, 'marketing': 4612, 'woodland': 4613, 'lungfuls': 4614, 'valorized': 4615, 'showed': 4616, 'fragment': 4617, 'instantly': 4618, 'disappear': 4619, 'bruise': 4620, 'instant': 4621, 'boost': 4622, 'refocus': 4623, 'memorial': 4624, 'limb': 4625, 'dissected': 4626, 'donated': 4627, 'biomedical': 4628, 'university': 4629, 'anatomy': 4630, 'sprog': 4631, 'googler': 4632, 'transition': 4633, 'ordeal': 4634, 'asks': 4635, 'entertainment': 4636, 'barbie': 4637, 'doll': 4638, 'heel': 4639, 'compete': 4640, 'concentrate': 4641, 'unfolding': 4642, 'apparently': 4643, 'bore': 4644, 'testimony': 4645, 'impression': 4646, 'reckon': 4647, 'monarch': 4648, 'geographically': 4649, 'removed': 4650, 'australian': 4651, 'accomplishing': 4652, 'faced': 4653, 'dreading': 4654, 'victim': 4655, 'oneself': 4656, 'profoundly': 4657, 'lift': 4658, 'heavier': 4659, 'repeat': 4660, 'shaking': 4661, 'tougher': 4662, 'appreciative': 4663, 'scarlet': 4664, 'reply': 4665, 'considers': 4666, 'nuclear': 4667, 'weapon': 4668, 'protest': 4669, 'riot': 4670, 'police': 4671, 'questionable': 4672, 'follower': 4673, 'addiction': 4674, 'attention': 4675, 'specialness': 4676, 'besides': 4677, 'classwork': 4678, 'fool': 4679, 'stray': 4680, 'loneliness': 4681, 'onguard': 4682, 'regime': 4683, 'nip': 4684, 'bud': 4685, 'kneel': 4686, 'crotch': 4687, 'ya': 4688, 'planted': 4689, 'hip': 4690, 'vile': 4691, 'belt': 4692, 'tightened': 4693, 'effective': 4694, 'eradication': 4695, 'drip': 4696, 'village': 4697, 'alert': 4698, 'manila': 4699, 'common': 4700, 'guard': 4701, 'worn': 4702, 'discipline': 4703, 'moaning': 4704, 'cluttered': 4705, 'devote': 4706, 'dropping': 4707, 'congregated': 4708, 'rhinebeck': 4709, 'forsaken': 4710, 'interview': 4711, 'indigo': 4712, 'household': 4713, 'paid': 4714, 'fire': 4715, 'pin': 4716, 'pointing': 4717, 'familiar': 4718, 'disease': 4719, 'spilled': 4720, 'remembered': 4721, 'calmly': 4722, 'lucas': 4723, 'grows': 4724, 'rudely': 4725, 'automation': 4726, 'memset': 4727, 'paint': 4728, 'warhound': 4729, 'model': 4730, 'fieldi': 4731, 'checked': 4732, 'dorm': 4733, 'inspected': 4734, 'packing': 4735, 'blogstalkers': 4736, 'technical': 4737, 'motivated': 4738, 'heartedly': 4739, 'proclaiming': 4740, 'combined': 4741, 'ridden': 4742, 'semester': 4743, 'standard': 4744, 'aesthetic': 4745, 'pope': 4746, 'resign': 4747, 'tech': 4748, 'snow': 4749, 'compared': 4750, 'ba': 4751, 'xango': 4752, 'stiff': 4753, 'gain': 4754, 'axilla': 4755, 'ached': 4756, 'errand': 4757, 'cora': 4758, 'sleeper': 4759, 'previously': 4760, 'aggressive': 4761, 'anonymity': 4762, 'ratbagx': 4763, 'funky': 4764, 'sympathise': 4765, 'bernard': 4766, 's': 4767, 'ur': 4768, 'hotest': 4769, 'excotick': 4770, 'beaty': 4771, 'yummyy': 4772, 'deisire': 4773, 'enjoin': 4774, 'ini': 4775, 'linger': 4776, 'recover': 4777, 'inclined': 4778, 'yummy': 4779, 'soup': 4780, 'leftover': 4781, 'fifteen': 4782, 'ebony': 4783, 'youngster': 4784, 'jeered': 4785, 'dylan': 4786, 'se': 4787, 'inscrie': 4788, 'intr': 4789, 'un': 4790, 'rafinament': 4791, 'lejer': 4792, 'extrem': 4793, 'de': 4794, 'feminin': 4795, 'humanly': 4796, 'impatience': 4797, 'basic': 4798, 'produce': 4799, 'whitley': 4800, 'continues': 4801, 'compress': 4802, 'difficulty': 4803, 'neatly': 4804, 'sentence': 4805, 'zooming': 4806, 'trimester': 4807, 'trinity': 4808, 'granted': 4809, 'smooch': 4810, 'slip': 4811, 'shopper': 4812, 'sticky': 4813, 'droppings': 4814, 'falter': 4815, 'buzz': 4816, 'refreshing': 4817, 'notify': 4818, 'infidelity': 4819, 'sweety': 4820, 'savingyourmarriagebeforeitstarts': 4821, 'mccarthy': 4822, 'consistently': 4823, 'humanize': 4824, 'balancing': 4825, 'killing': 4826, 'dirt': 4827, 'birthed': 4828, 'grill': 4829, 'exhibit': 4830, 'stressful': 4831, 'backed': 4832, 'tall': 4833, 'espresso': 4834, 'impact': 4835, 'valbuena': 4836, 'diaby': 4837, 'overhaul': 4838, 'quad': 4839, 'hurting': 4840, 'aggravating': 4841, 'wild': 4842, 'whalentee': 4843, 'justify': 4844, 'laziness': 4845, 'skinny': 4846, 'feauture': 4847, 'tone': 4848, 'feautures': 4849, 'selena': 4850, 'endorsed': 4851, 'littered': 4852, 'brand': 4853, 'racist': 4854, 'capital': 4855, 'uttered': 4856, 'whispered': 4857, 'mightily': 4858, 'crashed': 4859, 'burned': 4860, 'boast': 4861, 'slapping': 4862, 'boil': 4863, 'lane': 4864, 'tropical': 4865, 'smoothie': 4866, 'shift': 4867, 'finishing': 4868, 'geology': 4869, 'map': 4870, 'uploading': 4871, 'frickin': 4872, 'loose': 4873, 'importantly': 4874, 'bqff': 4875, 'progressing': 4876, 'flirty': 4877, 'reckless': 4878, 'longevity': 4879, 'speculation': 4880, 'tomato': 4881, 'imitates': 4882, 'overworked': 4883, 'mainly': 4884, 'exclusively': 4885, 'adapt': 4886, 'technique': 4887, 'wishful': 4888, 'gaining': 4889, 'commitment': 4890, 'forgets': 4891, 'firmly': 4892, 'mass': 4893, 'observant': 4894, 'cheerleader': 4895, 'upfront': 4896, 'peep': 4897, 'snidey': 4898, 'unlike': 4899, 'soooooooooooo': 4900, 'zero': 4901, 'fluffing': 4902, 'project': 4903, 'robot': 4904, 'defination': 4905, 'charlie': 4906, 'assure': 4907, 'dominican': 4908, 'republic': 4909, 'whatsoever': 4910, 'grave': 4911, 'lowly': 4912, 'shield': 4913, 'fixable': 4914, 'connecting': 4915, 'david': 4916, 'handrail': 4917, 'basement': 4918, 'stair': 4919, 'dessert': 4920, 'chris': 4921, 'seattle': 4922, 'showcase': 4923, 'repentant': 4924, 'opposition': 4925, 'civil': 4926, 'desperation': 4927, 'sequence': 4928, 'squire': 4929, 'theyve': 4930, 'batman': 4931, 'contributing': 4932, 'stoic': 4933, 'jolly': 4934, 'icky': 4935, 'disturbed': 4936, 'flare': 4937, 'playroom': 4938, 'bombsite': 4939, 'conservatory': 4940, 'escaping': 4941, 'performed': 4942, 'wayne': 4943, 'nikki': 4944, 'minaj': 4945, 'dope': 4946, 'moonbeam': 4947, 'sent': 4948, 'shine': 4949, 'added': 4950, 'dreamily': 4951, 'admitted': 4952, 'peter': 4953, 'whoever': 4954, 'surprising': 4955, 'pulled': 4956, 'evil': 4957, 'vampire': 4958, 'pit': 4959, 'la': 4960, 'helena': 4961, 'bonham': 4962, 'carter': 4963, 'sweeney': 4964, 'todd': 4965, 'apply': 4966, 'imperfection': 4967, 'coerced': 4968, 'mocked': 4969, 'bake': 4970, 'occupying': 4971, 'chore': 4972, 'exceedingly': 4973, 'resented': 4974, 'mount': 4975, 'handsome': 4976, 'ton': 4977, 'receiving': 4978, 'halloween': 4979, 'grandchild': 4980, 'cure': 4981, 'waited': 4982, 'delayed': 4983, 'listened': 4984, 'occurring': 4985, 'uplifted': 4986, 'martinez': 4987, 'occupy': 4988, 'correctly': 4989, 'idk': 4990, 'veer': 4991, 'disorientated': 4992, 'queasy': 4993, 'forest': 4994, 'sleeve': 4995, 'liking': 4996, 'surprise': 4997, 'affirmed': 4998, 'sensuous': 4999, 'asciatic': 5000, 'patient': 5001, 'tapped': 5002, 'fluid': 5003, 'premonition': 5004, 'rare': 5005, 'dewi': 5006, 'lestari': 5007, 'thick': 5008, 'snake': 5009, 'crawling': 5010, 'climb': 5011, 'chink': 5012, 'dismiss': 5013, 'cornish': 5014, 'cornwall': 5015, 'obligated': 5016, 'galaxy': 5017, 'brassed': 5018, 'impossible': 5019, 'pie': 5020, 'painting': 5021, 'hooker': 5022, 'spiteful': 5023, 'vindictive': 5024, 'dubbed': 5025, 'harper': 5026, 'radiant': 5027, 'shimmer': 5028, 'glittery': 5029, 'shiny': 5030, 'average': 5031, 'antisocial': 5032, 'cooperation': 5033, 'scientific': 5034, 'heater': 5035, 'curled': 5036, 'muddling': 5037, 'guild': 5038, 'wot': 5039, 'richard': 5040, 'linklater': 5041, 'playwright': 5042, 'robert': 5043, 'reid': 5044, 'critical': 5045, 'ranbir': 5046, 'ayan': 5047, 'mukerji': 5048, 'filmfare': 5049, 'motivating': 5050, 'wealthy': 5051, 'largely': 5052, 'successfully': 5053, 'digging': 5054, 'childlike': 5055, 'solid': 5056, 'patent': 5057, 'clutch': 5058, 'selectively': 5059, 'scheduling': 5060, 'notch': 5061, 'dinosaur': 5062, 'soldier': 5063, 'aged': 5064, 'analyzing': 5065, 'reject': 5066, 'crossing': 5067, 'luckily': 5068, 'offline': 5069, 'stable': 5070, 'wondrous': 5071, 'creator': 5072, 'feverish': 5073, 'nodded': 5074, 'procure': 5075, 'spontaneous': 5076, 'somthing': 5077, 'motivation': 5078, 'surgery': 5079, 'clint': 5080, 'fund': 5081, 'perspective': 5082, 'cell': 5083, 'cringe': 5084, 'perfection': 5085, 'persevere': 5086, 'oomph': 5087, 'israeli': 5088, 'occupation': 5089, 'lasted': 5090, 'qa': 5091, 'agent': 5092, 'ending': 5093, 'finalized': 5094, 'sasha': 5095, 'fierce': 5096, 'beyonc': 5097, 'serina': 5098, 'cleaner': 5099, 'skirtsports': 5100, 'registration': 5101, 'uneventful': 5102, 'dish': 5103, 'belittle': 5104, 'jack': 5105, 'nausea': 5106, 'unpleasantness': 5107, 'dr': 5108, 'zofran': 5109, 'md': 5110, 'teen': 5111, 'offering': 5112, 'guidance': 5113, 'miler': 5114, 'melt': 5115, 'disbelieving': 5116, 'passport': 5117, 'washroom': 5118, 'impressive': 5119, 'bezos': 5120, 'routine': 5121, 'presumably': 5122, 'reporter': 5123, 'pediatrician': 5124, 'thoughtful': 5125, 'whinging': 5126, 'temperature': 5127, 'vey': 5128, 'oncology': 5129, 'dpt': 5130, 'paranoiud': 5131, 'sock': 5132, 'bunch': 5133, 'liable': 5134, 'hello': 5135, 'occur': 5136}\n",
      "Sequence 1: [6, 63, 124, 2, 2212, 291, 1496]\n",
      "Sequence 2: [2, 938]\n",
      "Sequence 3: [67, 788, 2213, 2214, 2215, 142, 47, 1, 470, 2216, 2217, 2218, 23, 110, 2219, 48, 125, 86]\n",
      "Sequence 4: [420, 1, 3, 102, 351, 2220, 688, 116, 103]\n",
      "Sequence 5: [31, 32, 22, 471, 227, 3, 789, 33, 2221, 1497, 73, 2222, 143, 1139, 1140, 1141, 1, 163, 352, 319, 1142, 92, 40]\n",
      "Sequence 6: [1, 472, 204]\n",
      "Sequence 7: [2223, 4, 2, 38, 790]\n",
      "Sequence 8: [20, 1, 205, 530, 2224, 421, 246]\n",
      "Sequence 9: [2225, 34, 1498, 56, 292, 49, 422, 74, 50, 182, 353, 1, 531, 1498, 247, 22, 93, 1143]\n",
      "Sequence 10: [939, 1499, 4, 2, 206, 1500]\n"
     ]
    }
   ],
   "source": [
    "# Tokenize the text data\n",
    "\n",
    "max_words = 6000\n",
    "tokenizer = Tokenizer(num_words=max_words)\n",
    "tokenizer.fit_on_texts(X_train.astype(str))\n",
    "\n",
    "X_train_seq = tokenizer.texts_to_sequences(X_train.astype(str))\n",
    "X_val_seq = tokenizer.texts_to_sequences(X_val.astype(str))\n",
    "X_test_seq = tokenizer.texts_to_sequences(X_test.astype(str))\n",
    "\n",
    "\n",
    "vocab_size = len(tokenizer.word_index) + 1\n",
    "print(vocab_size)\n",
    "print(tokenizer.word_index)\n",
    "\n",
    "for i in range (10):\n",
    "    print(f\"Sequence {i + 1}: {X_train_seq[i]}\")\n"
   ]
  },
  {
   "cell_type": "code",
   "execution_count": null,
   "metadata": {},
   "outputs": [
    {
     "name": "stdout",
     "output_type": "stream",
     "text": [
      "Sequence1: [   6   63  124    2 2212  291 1496    0    0    0    0    0    0    0\n",
      "    0    0    0    0    0    0    0    0    0    0    0    0    0    0\n",
      "    0    0    0    0    0    0    0    0    0    0    0    0    0    0\n",
      "    0    0    0    0    0    0    0    0    0    0    0    0    0    0\n",
      "    0    0    0    0    0    0    0    0    0    0    0    0    0    0\n",
      "    0    0    0    0    0    0    0    0    0    0]\n",
      "Sequence2: [  2 938   0   0   0   0   0   0   0   0   0   0   0   0   0   0   0   0\n",
      "   0   0   0   0   0   0   0   0   0   0   0   0   0   0   0   0   0   0\n",
      "   0   0   0   0   0   0   0   0   0   0   0   0   0   0   0   0   0   0\n",
      "   0   0   0   0   0   0   0   0   0   0   0   0   0   0   0   0   0   0\n",
      "   0   0   0   0   0   0   0   0]\n",
      "Sequence3: [  67  788 2213 2214 2215  142   47    1  470 2216 2217 2218   23  110\n",
      " 2219   48  125   86    0    0    0    0    0    0    0    0    0    0\n",
      "    0    0    0    0    0    0    0    0    0    0    0    0    0    0\n",
      "    0    0    0    0    0    0    0    0    0    0    0    0    0    0\n",
      "    0    0    0    0    0    0    0    0    0    0    0    0    0    0\n",
      "    0    0    0    0    0    0    0    0    0    0]\n"
     ]
    }
   ],
   "source": [
    "max_sequence_length = 80\n",
    "\n",
    "X_train = pad_sequences(X_train_seq, maxlen=max_sequence_length, padding=\"post\")\n",
    "X_val = pad_sequences(X_val_seq, maxlen=max_sequence_length, padding=\"post\")\n",
    "X_test = pad_sequences(X_test_seq, maxlen=max_sequence_length, padding=\"post\")\n",
    "\n",
    "for i in range (3):\n",
    "    print(f\"Sequence{i +1}: {X_train[i]}\")\n"
   ]
  },
  {
   "cell_type": "code",
   "execution_count": null,
   "metadata": {},
   "outputs": [
    {
     "data": {
      "text/plain": [
       "array([[   6,   63,  124, ...,    0,    0,    0],\n",
       "       [   2,  938,    0, ...,    0,    0,    0],\n",
       "       [  67,  788, 2213, ...,    0,    0,    0],\n",
       "       ...,\n",
       "       [  17,   12,  117, ...,    0,    0,    0],\n",
       "       [1442,   23,  551, ...,    0,    0,    0],\n",
       "       [ 589,  667,  419, ...,    0,    0,    0]], dtype=int32)"
      ]
     },
     "execution_count": 175,
     "metadata": {},
     "output_type": "execute_result"
    }
   ],
   "source": [
    "X_train"
   ]
  },
  {
   "cell_type": "markdown",
   "metadata": {},
   "source": [
    "# converting to Tensorflow tensors for the model\n",
    "X_train_tensor = tf.constant(X__train_padded, dtype=tf.int32)\n",
    "y_train_tensor = tf.constant(y_train, dtype=tf.int32)\n",
    "\n",
    "train_dataset = tf.data.Dataset.from_tensor_slices((X_train_tensor, y_train_tensor))\n",
    "\n",
    "X_val_tensor = tf.constant(X_val_padded, dtype=tf.int32)\n",
    "y_val_tensor = tf.constant(y_val, dtype=tf.int32)\n",
    "\n",
    "val_dataset = tf.data.Dataset.from_tensor_slices((X_val_tensor, y_val_tensor))\n",
    "\n",
    "print(train_dataset)\n",
    "print(val_dataset)"
   ]
  },
  {
   "cell_type": "markdown",
   "metadata": {},
   "source": [
    "### Designing a model"
   ]
  },
  {
   "cell_type": "markdown",
   "metadata": {},
   "source": [
    "I will now design a model. I will use the Long Short-Term Memory(LSTM) type of RNN model as it handles stochastic gradient failure better than a regular RNN. It can handle longer sequences better. I will start by creating a simple network with one LTSM layer to see how the  model performs.\n",
    "\n",
    "I will use the following formula to determine the number of nodes within the layer: \n",
    "\n",
    "$ N_i = \\frac{2}{3} * (N_i + N_o) $\n",
    "\n",
    "$N_i$ is equal to the number of input words\n",
    "$N_o$ is equal to number of output neurons\n",
    "\n",
    "This will give me a basic idea on what number of nodes to begin with then I can adjust after training the model. \n",
    "\n",
    "I will also include a Dropout layer to help reduce in overfitting. This will randomly ignore selected neurons during training and reduce the sensitivity of specific weights. I have chosen 0.2 as my starting point as it is a good compromise in retaining accuracy and overfitting.\n",
    "\n",
    "I will use the softmax activation function in my activation layer as it will interpret the outputs as probabilities for each class.\n",
    "\n",
    "The model I will build will be simple to begin then it will be built upon by testing different hyperparemters with the keras tuner"
   ]
  },
  {
   "cell_type": "code",
   "execution_count": null,
   "metadata": {},
   "outputs": [
    {
     "name": "stdout",
     "output_type": "stream",
     "text": [
      "The number of hidden nodes is: 320\n"
     ]
    }
   ],
   "source": [
    "hidden_nodes = int(2/3 * (max_sequence_length * 6))\n",
    "print(f\"The number of hidden nodes is: {hidden_nodes}\")"
   ]
  },
  {
   "cell_type": "code",
   "execution_count": null,
   "metadata": {},
   "outputs": [],
   "source": [
    "def train_and_evaluate_model(epochs, checkpoint_filepath):\n",
    "    \n",
    "    model= Sequential()\n",
    "    model.add(Embedding(6000, 128, input_length=80))\n",
    "    # add max pooling\n",
    "    # add conv 1d\n",
    "    model.add(Conv1D(filters=3, kernel_size = 100, padding=\"same\",activation=\"relu\"))\n",
    "    model.add(MaxPooling1D(pool_size=6))\n",
    "    model.add(GlobalAveragePooling1D())\n",
    "    model.add(SimpleRNN(526, activation= \"tanh\", return_sequences=False))\n",
    "    model.add(Dense(320, activation=\"relu\"))\n",
    "    model.add(Dense(128, activation=\"relu\"))\n",
    "    model.add(Dense(64, activation=\"relu\"))\n",
    "    model.add(Dropout(0.2))\n",
    "    model.add(Dense(6, activation=\"softmax\"))\n",
    "\n",
    "    model.compile(\n",
    "        optimizer=Adam(learning_rate=0.01),\n",
    "        loss='sparse_categorical_crossentropy',\n",
    "        metrics=['accuracy'])\n",
    "    \n",
    "    early_stopping = EarlyStopping(monitor=\"val_loss\", mode=\"min\", verbose=1, patience=3)\n",
    "    \n",
    "    model_checkpoint = ModelCheckpoint(\n",
    "        filepath=checkpoint_filepath, \n",
    "        monitor=\"val_accuracy\", \n",
    "        mode=\"max\", verbose=1, \n",
    "        save_best_only=True\n",
    "    )\n",
    "\n",
    "    history = model.fit(X_train, y_train, \n",
    "                        validation_data=(X_val,y_val), \n",
    "                        epochs=epochs,batch_size=128, \n",
    "                        callbacks=[early_stopping, model_checkpoint]) \n",
    "\n",
    "    test_loss, test_accuracy = model.evaluate(X_test, y_test, verbose=0) # test data results when run through the model\n",
    "    print(f\"Test Loss: {test_loss:.4f}, Test Accuracy: {test_accuracy:.4f}\")\n",
    "\n",
    "    #visualizing training and validation results\n",
    "    plt.figure(figsize=(8, 8))\n",
    "\n",
    "    plt.subplot(1, 2, 1)\n",
    "    plt.plot(history.history[\"accuracy\"], label=\"Training Accuracy\")\n",
    "    plt.plot(history.history[\"val_accuracy\"], label=\"Validation Accuracy\")\n",
    "    plt.xlabel(\"Epoch\")\n",
    "    plt.ylabel(\"Accuracy\")\n",
    "    plt.legend()\n",
    "\n",
    "    plt.subplot(1, 2, 2)\n",
    "    plt.plot(history.history[\"loss\"], label=\"Training Loss\")\n",
    "    plt.plot(history.history[\"val_loss\"], label=\"Validation Loss \")\n",
    "    plt.xlabel(\"Epoch\")\n",
    "    plt.ylabel(\"Loss\")\n",
    "    plt.legend()\n",
    "\n",
    "    print(model.summary())\n",
    "\n",
    "    best_model = load_model(checkpoint_filepath)\n",
    "    \n",
    "    return best_model\n"
   ]
  },
  {
   "cell_type": "code",
   "execution_count": null,
   "metadata": {},
   "outputs": [
    {
     "ename": "ValueError",
     "evalue": "Input 0 of layer \"simple_rnn\" is incompatible with the layer: expected ndim=3, found ndim=2. Full shape received: (None, 3)",
     "output_type": "error",
     "traceback": [
      "\u001b[0;31m---------------------------------------------------------------------------\u001b[0m",
      "\u001b[0;31mValueError\u001b[0m                                Traceback (most recent call last)",
      "Cell \u001b[0;32mIn[11], line 1\u001b[0m\n\u001b[0;32m----> 1\u001b[0m \u001b[43mtrain_and_evaluate_model\u001b[49m\u001b[43m(\u001b[49m\u001b[38;5;241;43m50\u001b[39;49m\u001b[43m,\u001b[49m\u001b[43m \u001b[49m\u001b[38;5;124;43m\"\u001b[39;49m\u001b[38;5;124;43m../Lab_RNN/model_save\u001b[39;49m\u001b[38;5;124;43m\"\u001b[39;49m\u001b[43m)\u001b[49m\n",
      "Cell \u001b[0;32mIn[10], line 10\u001b[0m, in \u001b[0;36mtrain_and_evaluate_model\u001b[0;34m(epochs, checkpoint_filepath)\u001b[0m\n\u001b[1;32m      8\u001b[0m model\u001b[38;5;241m.\u001b[39madd(MaxPooling1D(pool_size\u001b[38;5;241m=\u001b[39m\u001b[38;5;241m6\u001b[39m))\n\u001b[1;32m      9\u001b[0m model\u001b[38;5;241m.\u001b[39madd(GlobalAveragePooling1D())\n\u001b[0;32m---> 10\u001b[0m \u001b[43mmodel\u001b[49m\u001b[38;5;241;43m.\u001b[39;49m\u001b[43madd\u001b[49m\u001b[43m(\u001b[49m\u001b[43mSimpleRNN\u001b[49m\u001b[43m(\u001b[49m\u001b[38;5;241;43m526\u001b[39;49m\u001b[43m,\u001b[49m\u001b[43m \u001b[49m\u001b[43mactivation\u001b[49m\u001b[38;5;241;43m=\u001b[39;49m\u001b[43m \u001b[49m\u001b[38;5;124;43m\"\u001b[39;49m\u001b[38;5;124;43mtanh\u001b[39;49m\u001b[38;5;124;43m\"\u001b[39;49m\u001b[43m,\u001b[49m\u001b[43m \u001b[49m\u001b[43mreturn_sequences\u001b[49m\u001b[38;5;241;43m=\u001b[39;49m\u001b[38;5;28;43;01mFalse\u001b[39;49;00m\u001b[43m)\u001b[49m\u001b[43m)\u001b[49m\n\u001b[1;32m     11\u001b[0m model\u001b[38;5;241m.\u001b[39madd(Dense(\u001b[38;5;241m320\u001b[39m, activation\u001b[38;5;241m=\u001b[39m\u001b[38;5;124m\"\u001b[39m\u001b[38;5;124mrelu\u001b[39m\u001b[38;5;124m\"\u001b[39m))\n\u001b[1;32m     12\u001b[0m model\u001b[38;5;241m.\u001b[39madd(Dense(\u001b[38;5;241m128\u001b[39m, activation\u001b[38;5;241m=\u001b[39m\u001b[38;5;124m\"\u001b[39m\u001b[38;5;124mrelu\u001b[39m\u001b[38;5;124m\"\u001b[39m))\n",
      "File \u001b[0;32m~/deep_learning/venv/lib/python3.10/site-packages/tensorflow/python/trackable/base.py:204\u001b[0m, in \u001b[0;36mno_automatic_dependency_tracking.<locals>._method_wrapper\u001b[0;34m(self, *args, **kwargs)\u001b[0m\n\u001b[1;32m    202\u001b[0m \u001b[38;5;28mself\u001b[39m\u001b[38;5;241m.\u001b[39m_self_setattr_tracking \u001b[38;5;241m=\u001b[39m \u001b[38;5;28;01mFalse\u001b[39;00m  \u001b[38;5;66;03m# pylint: disable=protected-access\u001b[39;00m\n\u001b[1;32m    203\u001b[0m \u001b[38;5;28;01mtry\u001b[39;00m:\n\u001b[0;32m--> 204\u001b[0m   result \u001b[38;5;241m=\u001b[39m \u001b[43mmethod\u001b[49m\u001b[43m(\u001b[49m\u001b[38;5;28;43mself\u001b[39;49m\u001b[43m,\u001b[49m\u001b[43m \u001b[49m\u001b[38;5;241;43m*\u001b[39;49m\u001b[43margs\u001b[49m\u001b[43m,\u001b[49m\u001b[43m \u001b[49m\u001b[38;5;241;43m*\u001b[39;49m\u001b[38;5;241;43m*\u001b[39;49m\u001b[43mkwargs\u001b[49m\u001b[43m)\u001b[49m\n\u001b[1;32m    205\u001b[0m \u001b[38;5;28;01mfinally\u001b[39;00m:\n\u001b[1;32m    206\u001b[0m   \u001b[38;5;28mself\u001b[39m\u001b[38;5;241m.\u001b[39m_self_setattr_tracking \u001b[38;5;241m=\u001b[39m previous_value  \u001b[38;5;66;03m# pylint: disable=protected-access\u001b[39;00m\n",
      "File \u001b[0;32m~/deep_learning/venv/lib/python3.10/site-packages/keras/src/utils/traceback_utils.py:70\u001b[0m, in \u001b[0;36mfilter_traceback.<locals>.error_handler\u001b[0;34m(*args, **kwargs)\u001b[0m\n\u001b[1;32m     67\u001b[0m     filtered_tb \u001b[38;5;241m=\u001b[39m _process_traceback_frames(e\u001b[38;5;241m.\u001b[39m__traceback__)\n\u001b[1;32m     68\u001b[0m     \u001b[38;5;66;03m# To get the full stack trace, call:\u001b[39;00m\n\u001b[1;32m     69\u001b[0m     \u001b[38;5;66;03m# `tf.debugging.disable_traceback_filtering()`\u001b[39;00m\n\u001b[0;32m---> 70\u001b[0m     \u001b[38;5;28;01mraise\u001b[39;00m e\u001b[38;5;241m.\u001b[39mwith_traceback(filtered_tb) \u001b[38;5;28;01mfrom\u001b[39;00m \u001b[38;5;28;01mNone\u001b[39;00m\n\u001b[1;32m     71\u001b[0m \u001b[38;5;28;01mfinally\u001b[39;00m:\n\u001b[1;32m     72\u001b[0m     \u001b[38;5;28;01mdel\u001b[39;00m filtered_tb\n",
      "File \u001b[0;32m~/deep_learning/venv/lib/python3.10/site-packages/keras/src/engine/input_spec.py:235\u001b[0m, in \u001b[0;36massert_input_compatibility\u001b[0;34m(input_spec, inputs, layer_name)\u001b[0m\n\u001b[1;32m    233\u001b[0m     ndim \u001b[38;5;241m=\u001b[39m shape\u001b[38;5;241m.\u001b[39mrank\n\u001b[1;32m    234\u001b[0m     \u001b[38;5;28;01mif\u001b[39;00m ndim \u001b[38;5;241m!=\u001b[39m spec\u001b[38;5;241m.\u001b[39mndim:\n\u001b[0;32m--> 235\u001b[0m         \u001b[38;5;28;01mraise\u001b[39;00m \u001b[38;5;167;01mValueError\u001b[39;00m(\n\u001b[1;32m    236\u001b[0m             \u001b[38;5;124mf\u001b[39m\u001b[38;5;124m'\u001b[39m\u001b[38;5;124mInput \u001b[39m\u001b[38;5;132;01m{\u001b[39;00minput_index\u001b[38;5;132;01m}\u001b[39;00m\u001b[38;5;124m of layer \u001b[39m\u001b[38;5;124m\"\u001b[39m\u001b[38;5;132;01m{\u001b[39;00mlayer_name\u001b[38;5;132;01m}\u001b[39;00m\u001b[38;5;124m\"\u001b[39m\u001b[38;5;124m \u001b[39m\u001b[38;5;124m'\u001b[39m\n\u001b[1;32m    237\u001b[0m             \u001b[38;5;124m\"\u001b[39m\u001b[38;5;124mis incompatible with the layer: \u001b[39m\u001b[38;5;124m\"\u001b[39m\n\u001b[1;32m    238\u001b[0m             \u001b[38;5;124mf\u001b[39m\u001b[38;5;124m\"\u001b[39m\u001b[38;5;124mexpected ndim=\u001b[39m\u001b[38;5;132;01m{\u001b[39;00mspec\u001b[38;5;241m.\u001b[39mndim\u001b[38;5;132;01m}\u001b[39;00m\u001b[38;5;124m, found ndim=\u001b[39m\u001b[38;5;132;01m{\u001b[39;00mndim\u001b[38;5;132;01m}\u001b[39;00m\u001b[38;5;124m. \u001b[39m\u001b[38;5;124m\"\u001b[39m\n\u001b[1;32m    239\u001b[0m             \u001b[38;5;124mf\u001b[39m\u001b[38;5;124m\"\u001b[39m\u001b[38;5;124mFull shape received: \u001b[39m\u001b[38;5;132;01m{\u001b[39;00m\u001b[38;5;28mtuple\u001b[39m(shape)\u001b[38;5;132;01m}\u001b[39;00m\u001b[38;5;124m\"\u001b[39m\n\u001b[1;32m    240\u001b[0m         )\n\u001b[1;32m    241\u001b[0m \u001b[38;5;28;01mif\u001b[39;00m spec\u001b[38;5;241m.\u001b[39mmax_ndim \u001b[38;5;129;01mis\u001b[39;00m \u001b[38;5;129;01mnot\u001b[39;00m \u001b[38;5;28;01mNone\u001b[39;00m:\n\u001b[1;32m    242\u001b[0m     ndim \u001b[38;5;241m=\u001b[39m x\u001b[38;5;241m.\u001b[39mshape\u001b[38;5;241m.\u001b[39mrank\n",
      "\u001b[0;31mValueError\u001b[0m: Input 0 of layer \"simple_rnn\" is incompatible with the layer: expected ndim=3, found ndim=2. Full shape received: (None, 3)"
     ]
    }
   ],
   "source": [
    "train_and_evaluate_model(50, \"../Lab_RNN/model_save\")"
   ]
  },
  {
   "cell_type": "markdown",
   "metadata": {},
   "source": [
    "As We can see see this model was not successful at all! I think the model needs to have some more layers. I will now test out keras tuner to test more than one layer and to see which hyper parameters may be more effective. "
   ]
  },
  {
   "cell_type": "code",
   "execution_count": null,
   "metadata": {},
   "outputs": [],
   "source": [
    "def model_builder(hp):\n",
    "    model= Sequential()\n",
    "    model.add(Embedding(20000, \n",
    "                        hp.Int(\"embedding_size\", min_value=32, max_value=256, step=32), \n",
    "                        input_length=80))\n",
    "    model.add(LSTM(units= hp.Int(\"LSTM_units\", min_value= 32, max_value=256, step = 32)))\n",
    "    model.add(Dense(units=hp.Int(\"Dense_units\",min_value = 64, max_value=512, step=64),\n",
    "                    activation=\"relu\"))\n",
    "    model.add(Dropout(rate=hp.Choice(\"dropout\", values=[0.2,0.3,0.4,0.5])))\n",
    "    model.add(Dense(6, activation=\"softmax\"))\n",
    "\n",
    "    model.compile(\n",
    "    optimizer=Adam(hp.Choice(\"learning_rate\", values=[1e-2, 1e-3, 1e-4])),\n",
    "    loss='sparse_categorical_crossentropy',\n",
    "    metrics=['accuracy'])\n",
    "\n",
    "    return model\n",
    "\n",
    "    "
   ]
  },
  {
   "cell_type": "code",
   "execution_count": null,
   "metadata": {},
   "outputs": [],
   "source": [
    "tuner = kt.Hyperband(model_builder,\n",
    "                     objective='val_accuracy', # which parameter to observe\n",
    "                     max_epochs=10,\n",
    "                     factor=3, #the reduction factor, The smaller it is the more aggressive reduction in configurations\n",
    "                     directory='tuner_results_RNN', # results saved to a directory\n",
    "                     project_name='sentiment')"
   ]
  },
  {
   "cell_type": "code",
   "execution_count": null,
   "metadata": {},
   "outputs": [],
   "source": [
    "early_stopping = tf.keras.callbacks.EarlyStopping(monitor=\"val_loss\", patience=3) # early stopping used when better parameters are found to save time in tuning"
   ]
  },
  {
   "cell_type": "code",
   "execution_count": null,
   "metadata": {},
   "outputs": [
    {
     "name": "stdout",
     "output_type": "stream",
     "text": [
      "Trial 30 Complete [00h 06m 56s]\n",
      "val_accuracy: 0.3407500088214874\n",
      "\n",
      "Best val_accuracy So Far: 0.3407500088214874\n",
      "Total elapsed time: 02h 11m 07s\n"
     ]
    }
   ],
   "source": [
    "tuner.search(X_train, y_train, epochs=10, validation_data=(X_val, y_val), callbacks=[early_stopping]) # The training search"
   ]
  },
  {
   "cell_type": "markdown",
   "metadata": {},
   "source": []
  },
  {
   "cell_type": "code",
   "execution_count": null,
   "metadata": {},
   "outputs": [
    {
     "name": "stdout",
     "output_type": "stream",
     "text": [
      "Model: \"sequential\"\n",
      "_________________________________________________________________\n",
      " Layer (type)                Output Shape              Param #   \n",
      "=================================================================\n",
      " embedding (Embedding)       (None, 80, 224)           4480000   \n",
      "                                                                 \n",
      " lstm (LSTM)                 (None, 256)               492544    \n",
      "                                                                 \n",
      " dense (Dense)               (None, 320)               82240     \n",
      "                                                                 \n",
      " dropout (Dropout)           (None, 320)               0         \n",
      "                                                                 \n",
      " dense_1 (Dense)             (None, 6)                 1926      \n",
      "                                                                 \n",
      "=================================================================\n",
      "Total params: 5056710 (19.29 MB)\n",
      "Trainable params: 5056710 (19.29 MB)\n",
      "Non-trainable params: 0 (0.00 Byte)\n",
      "_________________________________________________________________\n",
      "None\n",
      "{'embedding_size': 224, 'LSTM_units': 256, 'Dense_units': 320, 'dropout': 0.5, 'learning_rate': 0.01, 'tuner/epochs': 2, 'tuner/initial_epoch': 0, 'tuner/bracket': 2, 'tuner/round': 0}\n"
     ]
    }
   ],
   "source": [
    "best_model = tuner.get_best_models(num_models=1)\n",
    "print(best_model[0].summary())\n",
    "\n",
    "# prints out best hyperparameters\n",
    "best_hyperparameters = tuner.get_best_hyperparameters(1)[0]\n",
    "print(best_hyperparameters.values)"
   ]
  },
  {
   "cell_type": "markdown",
   "metadata": {},
   "source": [
    "I had a problem with saving the parameters to file. SO i copied the results above just incase I could not retrieve them.\n",
    "\n",
    "```Model: \"sequential\"\n",
    "_________________________________________________________________\n",
    " Layer (type)                Output Shape              Param #   \n",
    "=================================================================\n",
    " embedding (Embedding)       (None, 80, 224)           4480000   \n",
    "                                                                 \n",
    " lstm (LSTM)                 (None, 256)               492544    \n",
    "                                                                 \n",
    " dense (Dense)               (None, 320)               82240     \n",
    "                                                                 \n",
    " dropout (Dropout)           (None, 320)               0         \n",
    "                                                                 \n",
    " dense_1 (Dense)             (None, 6)                 1926      \n",
    "                                                                 \n",
    "=================================================================\n",
    "Total params: 5056710 (19.29 MB)\n",
    "Trainable params: 5056710 (19.29 MB)\n",
    "Non-trainable params: 0 (0.00 Byte)\n",
    "_________________________________________________________________\n",
    "None\n",
    "{'embedding_size': 224, 'LSTM_units': 256, 'Dense_units': 320, 'dropout': 0.5, 'learning_rate': 0.01, 'tuner/epochs': 2, 'tuner/initial_epoch': 0, 'tuner/bracket': 2, 'tuner/round': 0}\n",
    "Trial 30 Complete [00h 06m 56s]\n",
    "val_accuracy: 0.3407500088214874\n",
    "\n",
    "Best val_accuracy So Far: 0.3407500088214874\n",
    "Total elapsed time: 02h 11m 07s\n",
    "```\n"
   ]
  },
  {
   "cell_type": "code",
   "execution_count": null,
   "metadata": {},
   "outputs": [],
   "source": [
    "tuner_hyper = {\n",
    "    \"embed\": 224,\n",
    "    \"LSTM1_units\" : 256,\n",
    "    \"LSTM2_units\" : 256,\n",
    "    \"Dense1_units\" : 320,\n",
    "    \"Dense2_units\" : 160,\n",
    "    \"dropout\" : 0.5,\n",
    "    \"learning_rate\" : 0.01\n",
    "\n",
    "\n",
    "}"
   ]
  },
  {
   "cell_type": "code",
   "execution_count": null,
   "metadata": {},
   "outputs": [],
   "source": [
    "def tuner_model(epochs, checkpoint_filepath,hyperparemeters=None):\n",
    "\n",
    "    if hyperparemeters is None:\n",
    "        hyperparemeters = tuner_hyper\n",
    "    \n",
    "    model= Sequential()\n",
    "    model.add(Embedding(input_dim= 20000, output_dim=hyperparemeters[\"embed\"], input_length=80))\n",
    "    model.add(LSTM(units=hyperparemeters[\"LSTM1_units\"], return_sequences=True))\n",
    "    model.add(LSTM(units=hyperparemeters[\"LSTM2_units\"],return_sequences=False))\n",
    "    model.add(Dense(units=hyperparemeters[\"Dense1_units\"], activation=\"relu\"))\n",
    "    model.add(Dense(units=hyperparemeters[\"Dense2_units\"]))\n",
    "    model.add(Dropout(rate=hyperparemeters[\"dropout\"]))\n",
    "    model.add(Dense(6, activation=\"softmax\"))\n",
    "\n",
    "    model.compile(\n",
    "        optimizer=Adam(learning_rate=hyperparemeters[\"learning_rate\"]),\n",
    "        loss='sparse_categorical_crossentropy',\n",
    "        metrics=['accuracy'])\n",
    "    \n",
    "    early_stopping = EarlyStopping(monitor=\"val_loss\", mode=\"min\", verbose=1, patience=3)\n",
    "    \n",
    "    model_checkpoint = ModelCheckpoint(\n",
    "        filepath=checkpoint_filepath, \n",
    "        monitor=\"val_accuracy\", \n",
    "        mode=\"max\", verbose=1, \n",
    "        save_best_only=True\n",
    "    )\n",
    "\n",
    "    # fitting the model to the training model to train\n",
    "    history = model.fit(X_train,y_train , epochs=epochs, validation_data=(X_val,y_val), callbacks=[early_stopping, model_checkpoint])\n",
    "\n",
    "    # evaluating the model with the test dataset\n",
    "    test_loss, test_accuracy =model.evaluate(X_test, y_test, verbose=0)\n",
    "    print(f\"Test Loss: {test_loss:.4f}, Test Accuracy: {test_accuracy:.4f}\")\n",
    "\n",
    "    # plotting the validation loss and training accuracy\n",
    "    plt.figure(figsize=(8,8))\n",
    "\n",
    "    plt.subplot(1,2,1)\n",
    "    plt.plot(history.history[\"accuracy\"], label=\"Training Accuracy\")\n",
    "    plt.plot(history.history[\"val_accuracy\"], label=\"Validation Accuracy\")\n",
    "    plt.xlabel(\"Epoch\")\n",
    "    plt.ylabel(\"Accuracy\")\n",
    "    plt.legend()\n",
    "\n",
    "    plt.subplot(1,2,2)\n",
    "    plt.plot(history.history[\"loss\"], label=\"Training Loss\")\n",
    "    plt.plot(history.history[\"val_loss\"], label=\"Validation Loss \")\n",
    "    plt.xlabel(\"Epoch\")\n",
    "    plt.ylabel(\"Loss\")\n",
    "    plt.legend()\n",
    "\n",
    "    print(model.summary())\n",
    "    \n",
    "    return best_model\n",
    "    "
   ]
  },
  {
   "cell_type": "code",
   "execution_count": null,
   "metadata": {},
   "outputs": [
    {
     "name": "stdout",
     "output_type": "stream",
     "text": [
      "Epoch 1/50\n",
      "375/375 [==============================] - ETA: 0s - loss: 1.6170 - accuracy: 0.3239\n",
      "Epoch 1: val_accuracy improved from -inf to 0.34075, saving model to ../Lab_RNN/model_save\n",
      "INFO:tensorflow:Assets written to: ../Lab_RNN/model_save/assets\n"
     ]
    },
    {
     "name": "stderr",
     "output_type": "stream",
     "text": [
      "INFO:tensorflow:Assets written to: ../Lab_RNN/model_save/assets\n"
     ]
    },
    {
     "name": "stdout",
     "output_type": "stream",
     "text": [
      "375/375 [==============================] - 246s 647ms/step - loss: 1.6170 - accuracy: 0.3239 - val_loss: 1.5886 - val_accuracy: 0.3408\n",
      "Epoch 2/50\n",
      "375/375 [==============================] - ETA: 0s - loss: 1.5854 - accuracy: 0.3280\n",
      "Epoch 2: val_accuracy did not improve from 0.34075\n",
      "375/375 [==============================] - 235s 627ms/step - loss: 1.5854 - accuracy: 0.3280 - val_loss: 1.5853 - val_accuracy: 0.3408\n",
      "Epoch 3/50\n",
      "375/375 [==============================] - ETA: 0s - loss: 1.5852 - accuracy: 0.3243\n",
      "Epoch 3: val_accuracy did not improve from 0.34075\n",
      "375/375 [==============================] - 234s 623ms/step - loss: 1.5852 - accuracy: 0.3243 - val_loss: 1.5841 - val_accuracy: 0.3408\n",
      "Epoch 4/50\n",
      "375/375 [==============================] - ETA: 0s - loss: 1.5859 - accuracy: 0.3302\n",
      "Epoch 4: val_accuracy did not improve from 0.34075\n",
      "375/375 [==============================] - 234s 625ms/step - loss: 1.5859 - accuracy: 0.3302 - val_loss: 1.5844 - val_accuracy: 0.3408\n",
      "Epoch 5/50\n",
      "375/375 [==============================] - ETA: 0s - loss: 1.5842 - accuracy: 0.3270\n",
      "Epoch 5: val_accuracy did not improve from 0.34075\n",
      "375/375 [==============================] - 238s 635ms/step - loss: 1.5842 - accuracy: 0.3270 - val_loss: 1.5881 - val_accuracy: 0.3408\n",
      "Epoch 6/50\n",
      "375/375 [==============================] - ETA: 0s - loss: 1.5841 - accuracy: 0.3296\n",
      "Epoch 6: val_accuracy did not improve from 0.34075\n",
      "375/375 [==============================] - 226s 602ms/step - loss: 1.5841 - accuracy: 0.3296 - val_loss: 1.5792 - val_accuracy: 0.3408\n",
      "Epoch 7/50\n",
      "375/375 [==============================] - ETA: 0s - loss: 1.5840 - accuracy: 0.3290\n",
      "Epoch 7: val_accuracy did not improve from 0.34075\n",
      "375/375 [==============================] - 226s 602ms/step - loss: 1.5840 - accuracy: 0.3290 - val_loss: 1.5835 - val_accuracy: 0.2858\n",
      "Epoch 8/50\n",
      "375/375 [==============================] - ETA: 0s - loss: 1.5835 - accuracy: 0.3254\n",
      "Epoch 8: val_accuracy did not improve from 0.34075\n",
      "375/375 [==============================] - 225s 600ms/step - loss: 1.5835 - accuracy: 0.3254 - val_loss: 1.5807 - val_accuracy: 0.3408\n",
      "Epoch 9/50\n",
      "375/375 [==============================] - ETA: 0s - loss: 1.5841 - accuracy: 0.3265\n",
      "Epoch 9: val_accuracy did not improve from 0.34075\n",
      "375/375 [==============================] - 214s 572ms/step - loss: 1.5841 - accuracy: 0.3265 - val_loss: 1.5811 - val_accuracy: 0.3408\n",
      "Epoch 9: early stopping\n",
      "Test Loss: 1.5635, Test Accuracy: 0.3422\n",
      "Model: \"sequential_10\"\n",
      "_________________________________________________________________\n",
      " Layer (type)                Output Shape              Param #   \n",
      "=================================================================\n",
      " embedding_5 (Embedding)     (None, 80, 224)           4480000   \n",
      "                                                                 \n",
      " lstm_7 (LSTM)               (None, 80, 256)           492544    \n",
      "                                                                 \n",
      " lstm_8 (LSTM)               (None, 256)               525312    \n",
      "                                                                 \n",
      " dense_7 (Dense)             (None, 320)               82240     \n",
      "                                                                 \n",
      " dense_8 (Dense)             (None, 160)               51360     \n",
      "                                                                 \n",
      " dropout_3 (Dropout)         (None, 160)               0         \n",
      "                                                                 \n",
      " dense_9 (Dense)             (None, 6)                 966       \n",
      "                                                                 \n",
      "=================================================================\n",
      "Total params: 5632422 (21.49 MB)\n",
      "Trainable params: 5632422 (21.49 MB)\n",
      "Non-trainable params: 0 (0.00 Byte)\n",
      "_________________________________________________________________\n",
      "None\n"
     ]
    },
    {
     "data": {
      "text/plain": [
       "[<keras.src.engine.sequential.Sequential at 0x7f5e50359570>]"
      ]
     },
     "execution_count": 78,
     "metadata": {},
     "output_type": "execute_result"
    },
    {
     "data": {
      "image/png": "[encoded data removed]",
      "text/plain": [
       "<Figure size 800x800 with 2 Axes>"
      ]
     },
     "metadata": {},
     "output_type": "display_data"
    }
   ],
   "source": [
    "tuner_model(50, \"../Lab_RNN/model_save\",None)"
   ]
  }
 ],
 "metadata": {
  "kernelspec": {
   "display_name": "venv",
   "language": "python",
   "name": "python3"
  },
  "language_info": {
   "codemirror_mode": {
    "name": "ipython",
    "version": 3
   },
   "file_extension": ".py",
   "mimetype": "text/x-python",
   "name": "python",
   "nbconvert_exporter": "python",
   "pygments_lexer": "ipython3",
   "version": "3.10.12"
  }
 },
 "nbformat": 4,
 "nbformat_minor": 2
}
