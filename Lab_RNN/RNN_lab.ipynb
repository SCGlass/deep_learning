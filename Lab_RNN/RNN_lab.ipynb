{
 "cells": [
  {
   "cell_type": "markdown",
   "metadata": {},
   "source": [
    "# RNN Lab - Sentiment Classification"
   ]
  },
  {
   "cell_type": "code",
   "execution_count": 3,
   "metadata": {},
   "outputs": [
    {
     "name": "stderr",
     "output_type": "stream",
     "text": [
      "[nltk_data] Downloading package stopwords to\n",
      "[nltk_data]     /home/sam_glass/nltk_data...\n",
      "[nltk_data]   Package stopwords is already up-to-date!\n",
      "[nltk_data] Downloading package punkt to /home/sam_glass/nltk_data...\n",
      "[nltk_data]   Package punkt is already up-to-date!\n",
      "[nltk_data] Downloading package wordnet to\n",
      "[nltk_data]     /home/sam_glass/nltk_data...\n",
      "[nltk_data]   Package wordnet is already up-to-date!\n",
      "2024-01-08 11:23:19.443196: E external/local_xla/xla/stream_executor/cuda/cuda_dnn.cc:9261] Unable to register cuDNN factory: Attempting to register factory for plugin cuDNN when one has already been registered\n",
      "2024-01-08 11:23:19.443418: E external/local_xla/xla/stream_executor/cuda/cuda_fft.cc:607] Unable to register cuFFT factory: Attempting to register factory for plugin cuFFT when one has already been registered\n",
      "2024-01-08 11:23:19.541731: E external/local_xla/xla/stream_executor/cuda/cuda_blas.cc:1515] Unable to register cuBLAS factory: Attempting to register factory for plugin cuBLAS when one has already been registered\n",
      "2024-01-08 11:23:19.751758: I tensorflow/core/platform/cpu_feature_guard.cc:182] This TensorFlow binary is optimized to use available CPU instructions in performance-critical operations.\n",
      "To enable the following instructions: AVX2 FMA, in other operations, rebuild TensorFlow with the appropriate compiler flags.\n",
      "2024-01-08 11:23:22.497922: W tensorflow/compiler/tf2tensorrt/utils/py_utils.cc:38] TF-TRT Warning: Could not find TensorRT\n",
      "/tmp/ipykernel_1046/3236120231.py:21: DeprecationWarning: `import kerastuner` is deprecated, please use `import keras_tuner`.\n",
      "  import kerastuner as kt\n",
      "/home/sam_glass/deep_learning/venv/lib/python3.10/site-packages/tqdm/auto.py:21: TqdmWarning: IProgress not found. Please update jupyter and ipywidgets. See https://ipywidgets.readthedocs.io/en/stable/user_install.html\n",
      "  from .autonotebook import tqdm as notebook_tqdm\n"
     ]
    }
   ],
   "source": [
    "# importing relevant packages\n",
    "\n",
    "import pandas as pd\n",
    "import matplotlib.pyplot as plt\n",
    "import nltk\n",
    "nltk.download([\"stopwords\", \"punkt\", \"wordnet\"])\n",
    "from nltk.stem import WordNetLemmatizer\n",
    "from nltk.corpus import stopwords\n",
    "from nltk.tokenize import word_tokenize\n",
    "from sklearn.model_selection import train_test_split\n",
    "import numpy as np\n",
    "\n",
    "import tensorflow as tf\n",
    "from tensorflow.keras.preprocessing.text import Tokenizer\n",
    "from tensorflow.keras.preprocessing.sequence import pad_sequences\n",
    "from  tensorflow.keras.models import Sequential\n",
    "from tensorflow.keras.layers import Bidirectional,LSTM,GRU,Dense,Embedding,Dropout, Conv1D,MaxPooling1D,GlobalAveragePooling1D, SimpleRNN \n",
    "from tensorflow.keras.callbacks import EarlyStopping, ModelCheckpoint\n",
    "from tensorflow.keras.optimizers import Adam\n",
    "from keras.models import load_model\n",
    "import kerastuner as kt\n",
    "from tensorflow import keras\n",
    "\n",
    "import nlpaug.augmenter.word as naw\n",
    "import torch\n"
   ]
  },
  {
   "cell_type": "markdown",
   "metadata": {},
   "source": [
    "#### Loading data"
   ]
  },
  {
   "cell_type": "code",
   "execution_count": 4,
   "metadata": {},
   "outputs": [
    {
     "data": {
      "text/html": [
       "<div>\n",
       "<style scoped>\n",
       "    .dataframe tbody tr th:only-of-type {\n",
       "        vertical-align: middle;\n",
       "    }\n",
       "\n",
       "    .dataframe tbody tr th {\n",
       "        vertical-align: top;\n",
       "    }\n",
       "\n",
       "    .dataframe thead th {\n",
       "        text-align: right;\n",
       "    }\n",
       "</style>\n",
       "<table border=\"1\" class=\"dataframe\">\n",
       "  <thead>\n",
       "    <tr style=\"text-align: right;\">\n",
       "      <th></th>\n",
       "      <th>text</th>\n",
       "      <th>label</th>\n",
       "    </tr>\n",
       "  </thead>\n",
       "  <tbody>\n",
       "    <tr>\n",
       "      <th>0</th>\n",
       "      <td>i feel so pissed off over an old friend and so...</td>\n",
       "      <td>anger</td>\n",
       "    </tr>\n",
       "    <tr>\n",
       "      <th>1</th>\n",
       "      <td>ive found it has made a huge difference especi...</td>\n",
       "      <td>anger</td>\n",
       "    </tr>\n",
       "    <tr>\n",
       "      <th>2</th>\n",
       "      <td>i also feel it is unfortunate that nearly all ...</td>\n",
       "      <td>sadness</td>\n",
       "    </tr>\n",
       "    <tr>\n",
       "      <th>3</th>\n",
       "      <td>i feel petty a href http clairee</td>\n",
       "      <td>anger</td>\n",
       "    </tr>\n",
       "    <tr>\n",
       "      <th>4</th>\n",
       "      <td>i used to believe that a feeling like fear was...</td>\n",
       "      <td>sadness</td>\n",
       "    </tr>\n",
       "  </tbody>\n",
       "</table>\n",
       "</div>"
      ],
      "text/plain": [
       "                                                text    label\n",
       "0  i feel so pissed off over an old friend and so...    anger\n",
       "1  ive found it has made a huge difference especi...    anger\n",
       "2  i also feel it is unfortunate that nearly all ...  sadness\n",
       "3                   i feel petty a href http clairee    anger\n",
       "4  i used to believe that a feeling like fear was...  sadness"
      ]
     },
     "execution_count": 4,
     "metadata": {},
     "output_type": "execute_result"
    }
   ],
   "source": [
    "data = pd.read_csv(\"../Lab_RNN/Data/emotions.csv\") # creating data frame from the csv file\n",
    "\n",
    "data.head()"
   ]
  },
  {
   "cell_type": "code",
   "execution_count": 5,
   "metadata": {},
   "outputs": [
    {
     "data": {
      "text/plain": [
       "<bound method DataFrame.value_counts of                                                     text    label\n",
       "0      i feel so pissed off over an old friend and so...    anger\n",
       "1      ive found it has made a huge difference especi...    anger\n",
       "2      i also feel it is unfortunate that nearly all ...  sadness\n",
       "3                       i feel petty a href http clairee    anger\n",
       "4      i used to believe that a feeling like fear was...  sadness\n",
       "...                                                  ...      ...\n",
       "19995  i was i might be buying stuff from there but i...      joy\n",
       "19996  i like sonam deepika and genelia who i feel ar...      joy\n",
       "19997  i feel pathetic that i can hardly go a whole d...  sadness\n",
       "19998  id have spent more time with her on reading i ...  sadness\n",
       "19999  i do however feel like one of those pathetic g...  sadness\n",
       "\n",
       "[20000 rows x 2 columns]>"
      ]
     },
     "execution_count": 5,
     "metadata": {},
     "output_type": "execute_result"
    }
   ],
   "source": [
    "data.value_counts # using value count to count how many rows in data frame"
   ]
  },
  {
   "cell_type": "code",
   "execution_count": 6,
   "metadata": {},
   "outputs": [
    {
     "data": {
      "text/plain": [
       "text     0\n",
       "label    0\n",
       "dtype: int64"
      ]
     },
     "execution_count": 6,
     "metadata": {},
     "output_type": "execute_result"
    }
   ],
   "source": [
    "# Checking for any null values\n",
    "data.isnull().sum()"
   ]
  },
  {
   "cell_type": "code",
   "execution_count": 7,
   "metadata": {},
   "outputs": [
    {
     "name": "stdout",
     "output_type": "stream",
     "text": [
      "Duplicates                                                    text label\n",
      "6154  i feel more adventurous willing to take risks ...   joy\n"
     ]
    }
   ],
   "source": [
    "duplicates =data[data.duplicated]\n",
    "print(f\"Duplicates {duplicates}\")"
   ]
  },
  {
   "cell_type": "code",
   "execution_count": 8,
   "metadata": {},
   "outputs": [],
   "source": [
    "# remove duplicates\n",
    "data = data.drop_duplicates()"
   ]
  },
  {
   "cell_type": "markdown",
   "metadata": {},
   "source": [
    "The data set contains 20,000 rows of text lines then classed with an emotion."
   ]
  },
  {
   "cell_type": "code",
   "execution_count": 9,
   "metadata": {},
   "outputs": [
    {
     "data": {
      "text/plain": [
       "<Axes: xlabel='label'>"
      ]
     },
     "execution_count": 9,
     "metadata": {},
     "output_type": "execute_result"
    },
    {
     "data": {
      "image/png": "[encoded data removed]",
      "text/plain": [
       "<Figure size 640x480 with 1 Axes>"
      ]
     },
     "metadata": {},
     "output_type": "display_data"
    }
   ],
   "source": [
    "data.label.value_counts().plot.bar() "
   ]
  },
  {
   "cell_type": "markdown",
   "metadata": {},
   "source": [
    "Here we can see that the data set is not very equal across all catagories. This may make the training more biased to certain emotions like joy and sadness. We also see that there is six different catagories for the emotions."
   ]
  },
  {
   "cell_type": "code",
   "execution_count": 10,
   "metadata": {},
   "outputs": [],
   "source": [
    "joy = data[data[\"label\"]== \"joy\"]\n",
    "sadness = data[data[\"label\"]== \"sadness\"]\n",
    "anger = data[data[\"label\"]== \"anger\"]\n",
    "fear = data[data[\"label\"] == \"fear\"]\n",
    "love = data[data[\"label\"] == \"love\"]\n",
    "surprise = data[data[\"label\"] == \"surprise\"]\n",
    "\n",
    "love = love.sample(n=len(surprise), random_state=42)\n",
    "fear = fear.sample(n=len(surprise), random_state=42)\n",
    "anger = anger.sample(n=len(surprise), random_state=42)\n",
    "sadness = sadness.sample(n=len(surprise), random_state=42)\n",
    "joy = joy.sample(n=len(surprise), random_state=42)\n",
    "\n",
    "data = pd.concat([joy,sadness,anger,fear,love,surprise], axis=0)"
   ]
  },
  {
   "cell_type": "code",
   "execution_count": 11,
   "metadata": {},
   "outputs": [
    {
     "data": {
      "text/html": [
       "<div>\n",
       "<style scoped>\n",
       "    .dataframe tbody tr th:only-of-type {\n",
       "        vertical-align: middle;\n",
       "    }\n",
       "\n",
       "    .dataframe tbody tr th {\n",
       "        vertical-align: top;\n",
       "    }\n",
       "\n",
       "    .dataframe thead th {\n",
       "        text-align: right;\n",
       "    }\n",
       "</style>\n",
       "<table border=\"1\" class=\"dataframe\">\n",
       "  <thead>\n",
       "    <tr style=\"text-align: right;\">\n",
       "      <th></th>\n",
       "      <th>text</th>\n",
       "      <th>label</th>\n",
       "    </tr>\n",
       "  </thead>\n",
       "  <tbody>\n",
       "    <tr>\n",
       "      <th>17713</th>\n",
       "      <td>i feel so glad that im able to have the time t...</td>\n",
       "      <td>joy</td>\n",
       "    </tr>\n",
       "    <tr>\n",
       "      <th>14436</th>\n",
       "      <td>i could look up the coordinates of the cave bu...</td>\n",
       "      <td>joy</td>\n",
       "    </tr>\n",
       "    <tr>\n",
       "      <th>8631</th>\n",
       "      <td>i need you i need someone i need to be protect...</td>\n",
       "      <td>joy</td>\n",
       "    </tr>\n",
       "    <tr>\n",
       "      <th>6740</th>\n",
       "      <td>i can t imagine a real life scenario where i w...</td>\n",
       "      <td>joy</td>\n",
       "    </tr>\n",
       "    <tr>\n",
       "      <th>1381</th>\n",
       "      <td>im feeling very optimistic about it and find m...</td>\n",
       "      <td>joy</td>\n",
       "    </tr>\n",
       "  </tbody>\n",
       "</table>\n",
       "</div>"
      ],
      "text/plain": [
       "                                                    text label\n",
       "17713  i feel so glad that im able to have the time t...   joy\n",
       "14436  i could look up the coordinates of the cave bu...   joy\n",
       "8631   i need you i need someone i need to be protect...   joy\n",
       "6740   i can t imagine a real life scenario where i w...   joy\n",
       "1381   im feeling very optimistic about it and find m...   joy"
      ]
     },
     "execution_count": 11,
     "metadata": {},
     "output_type": "execute_result"
    }
   ],
   "source": [
    "data.head()"
   ]
  },
  {
   "cell_type": "code",
   "execution_count": 12,
   "metadata": {},
   "outputs": [
    {
     "name": "stdout",
     "output_type": "stream",
     "text": [
      "<class 'pandas.core.frame.DataFrame'>\n",
      "Index: 4314 entries, 17713 to 19949\n",
      "Data columns (total 2 columns):\n",
      " #   Column  Non-Null Count  Dtype \n",
      "---  ------  --------------  ----- \n",
      " 0   text    4314 non-null   object\n",
      " 1   label   4314 non-null   object\n",
      "dtypes: object(2)\n",
      "memory usage: 101.1+ KB\n"
     ]
    }
   ],
   "source": [
    "data.info()"
   ]
  },
  {
   "cell_type": "code",
   "execution_count": 13,
   "metadata": {},
   "outputs": [
    {
     "data": {
      "text/plain": [
       "<Axes: xlabel='label'>"
      ]
     },
     "execution_count": 13,
     "metadata": {},
     "output_type": "execute_result"
    },
    {
     "data": {
      "image/png": "[encoded data removed]",
      "text/plain": [
       "<Figure size 640x480 with 1 Axes>"
      ]
     },
     "metadata": {},
     "output_type": "display_data"
    }
   ],
   "source": [
    "data.label.value_counts().plot.bar() "
   ]
  },
  {
   "cell_type": "code",
   "execution_count": 14,
   "metadata": {},
   "outputs": [
    {
     "data": {
      "text/html": [
       "<div>\n",
       "<style scoped>\n",
       "    .dataframe tbody tr th:only-of-type {\n",
       "        vertical-align: middle;\n",
       "    }\n",
       "\n",
       "    .dataframe tbody tr th {\n",
       "        vertical-align: top;\n",
       "    }\n",
       "\n",
       "    .dataframe thead th {\n",
       "        text-align: right;\n",
       "    }\n",
       "</style>\n",
       "<table border=\"1\" class=\"dataframe\">\n",
       "  <thead>\n",
       "    <tr style=\"text-align: right;\">\n",
       "      <th></th>\n",
       "      <th>text</th>\n",
       "      <th>label</th>\n",
       "    </tr>\n",
       "  </thead>\n",
       "  <tbody>\n",
       "    <tr>\n",
       "      <th>17713</th>\n",
       "      <td>[now i feel so glad that im is able to have th...</td>\n",
       "      <td>joy</td>\n",
       "    </tr>\n",
       "    <tr>\n",
       "      <th>14436</th>\n",
       "      <td>[hopefully i could look directly up into the c...</td>\n",
       "      <td>joy</td>\n",
       "    </tr>\n",
       "    <tr>\n",
       "      <th>8631</th>\n",
       "      <td>[i need you amy i need someone i need to would...</td>\n",
       "      <td>joy</td>\n",
       "    </tr>\n",
       "    <tr>\n",
       "      <th>6740</th>\n",
       "      <td>[i can u t imagine a real life scenario scenar...</td>\n",
       "      <td>joy</td>\n",
       "    </tr>\n",
       "    <tr>\n",
       "      <th>1381</th>\n",
       "      <td>[but im feeling very optimistic about it and s...</td>\n",
       "      <td>joy</td>\n",
       "    </tr>\n",
       "    <tr>\n",
       "      <th>...</th>\n",
       "      <td>...</td>\n",
       "      <td>...</td>\n",
       "    </tr>\n",
       "    <tr>\n",
       "      <th>19890</th>\n",
       "      <td>[now i never go easily around people and i act...</td>\n",
       "      <td>surprise</td>\n",
       "    </tr>\n",
       "    <tr>\n",
       "      <th>19901</th>\n",
       "      <td>[and i definitely feel herpes coming i would b...</td>\n",
       "      <td>surprise</td>\n",
       "    </tr>\n",
       "    <tr>\n",
       "      <th>19915</th>\n",
       "      <td>[and i like it to often do things that leave o...</td>\n",
       "      <td>surprise</td>\n",
       "    </tr>\n",
       "    <tr>\n",
       "      <th>19944</th>\n",
       "      <td>[and i feel like a monster because as together...</td>\n",
       "      <td>surprise</td>\n",
       "    </tr>\n",
       "    <tr>\n",
       "      <th>19949</th>\n",
       "      <td>[i feel pretty absolutely freaking amazing]</td>\n",
       "      <td>surprise</td>\n",
       "    </tr>\n",
       "  </tbody>\n",
       "</table>\n",
       "<p>4314 rows × 2 columns</p>\n",
       "</div>"
      ],
      "text/plain": [
       "                                                    text     label\n",
       "17713  [now i feel so glad that im is able to have th...       joy\n",
       "14436  [hopefully i could look directly up into the c...       joy\n",
       "8631   [i need you amy i need someone i need to would...       joy\n",
       "6740   [i can u t imagine a real life scenario scenar...       joy\n",
       "1381   [but im feeling very optimistic about it and s...       joy\n",
       "...                                                  ...       ...\n",
       "19890  [now i never go easily around people and i act...  surprise\n",
       "19901  [and i definitely feel herpes coming i would b...  surprise\n",
       "19915  [and i like it to often do things that leave o...  surprise\n",
       "19944  [and i feel like a monster because as together...  surprise\n",
       "19949        [i feel pretty absolutely freaking amazing]  surprise\n",
       "\n",
       "[4314 rows x 2 columns]"
      ]
     },
     "execution_count": 14,
     "metadata": {},
     "output_type": "execute_result"
    }
   ],
   "source": [
    "def augment_with_emotion(row, aug):\n",
    "    original_text = row['text']\n",
    "    original_emotion = row['label']\n",
    "    \n",
    "    augmented_text = aug.augment(original_text)\n",
    "    \n",
    "    # Create a new row with augmented text and the original emotion label\n",
    "    row[\"text\"] = augmented_text\n",
    "    row[\"label\"] = original_emotion\n",
    "    \n",
    "    return row\n",
    "\n",
    "# Augmenter configuration\n",
    "aug = naw.ContextualWordEmbsAug(model_path='bert-base-uncased', action=\"insert\")\n",
    "\n",
    "# Apply the augmentation function to each row in the DataFrame\n",
    "augmented_df = data.apply(lambda row: augment_with_emotion(row, aug), axis=1)\n",
    "\n",
    "augmented_df"
   ]
  },
  {
   "cell_type": "code",
   "execution_count": 14,
   "metadata": {},
   "outputs": [
    {
     "ename": "NameError",
     "evalue": "name 'augmented_df' is not defined",
     "output_type": "error",
     "traceback": [
      "\u001b[0;31m---------------------------------------------------------------------------\u001b[0m",
      "\u001b[0;31mNameError\u001b[0m                                 Traceback (most recent call last)",
      "Cell \u001b[0;32mIn[14], line 1\u001b[0m\n\u001b[0;32m----> 1\u001b[0m \u001b[43maugmented_df\u001b[49m\u001b[38;5;241m.\u001b[39mto_csv(\u001b[38;5;124m\"\u001b[39m\u001b[38;5;124m../Lab_RNN/Data/augmented.csv\u001b[39m\u001b[38;5;124m\"\u001b[39m)\n",
      "\u001b[0;31mNameError\u001b[0m: name 'augmented_df' is not defined"
     ]
    }
   ],
   "source": [
    "augmented_df.to_csv(\"../Lab_RNN/Data/augmented.csv\")"
   ]
  },
  {
   "cell_type": "code",
   "execution_count": 15,
   "metadata": {},
   "outputs": [
    {
     "data": {
      "text/html": [
       "<div>\n",
       "<style scoped>\n",
       "    .dataframe tbody tr th:only-of-type {\n",
       "        vertical-align: middle;\n",
       "    }\n",
       "\n",
       "    .dataframe tbody tr th {\n",
       "        vertical-align: top;\n",
       "    }\n",
       "\n",
       "    .dataframe thead th {\n",
       "        text-align: right;\n",
       "    }\n",
       "</style>\n",
       "<table border=\"1\" class=\"dataframe\">\n",
       "  <thead>\n",
       "    <tr style=\"text-align: right;\">\n",
       "      <th></th>\n",
       "      <th>Unnamed: 0</th>\n",
       "      <th>text</th>\n",
       "      <th>label</th>\n",
       "    </tr>\n",
       "  </thead>\n",
       "  <tbody>\n",
       "    <tr>\n",
       "      <th>0</th>\n",
       "      <td>0</td>\n",
       "      <td>['now i feel so glad that im is able to have t...</td>\n",
       "      <td>joy</td>\n",
       "    </tr>\n",
       "    <tr>\n",
       "      <th>1</th>\n",
       "      <td>1</td>\n",
       "      <td>['hopefully i could look directly up into the ...</td>\n",
       "      <td>joy</td>\n",
       "    </tr>\n",
       "    <tr>\n",
       "      <th>2</th>\n",
       "      <td>2</td>\n",
       "      <td>['i need you amy i need someone i need to woul...</td>\n",
       "      <td>joy</td>\n",
       "    </tr>\n",
       "    <tr>\n",
       "      <th>3</th>\n",
       "      <td>3</td>\n",
       "      <td>['i can u t imagine a real life scenario scena...</td>\n",
       "      <td>joy</td>\n",
       "    </tr>\n",
       "    <tr>\n",
       "      <th>4</th>\n",
       "      <td>4</td>\n",
       "      <td>['but im feeling very optimistic about it and ...</td>\n",
       "      <td>joy</td>\n",
       "    </tr>\n",
       "    <tr>\n",
       "      <th>...</th>\n",
       "      <td>...</td>\n",
       "      <td>...</td>\n",
       "      <td>...</td>\n",
       "    </tr>\n",
       "    <tr>\n",
       "      <th>4309</th>\n",
       "      <td>4309</td>\n",
       "      <td>['now i never go easily around people and i ac...</td>\n",
       "      <td>surprise</td>\n",
       "    </tr>\n",
       "    <tr>\n",
       "      <th>4310</th>\n",
       "      <td>4310</td>\n",
       "      <td>['and i definitely feel herpes coming i would ...</td>\n",
       "      <td>surprise</td>\n",
       "    </tr>\n",
       "    <tr>\n",
       "      <th>4311</th>\n",
       "      <td>4311</td>\n",
       "      <td>['and i like it to often do things that leave ...</td>\n",
       "      <td>surprise</td>\n",
       "    </tr>\n",
       "    <tr>\n",
       "      <th>4312</th>\n",
       "      <td>4312</td>\n",
       "      <td>['and i feel like a monster because as togethe...</td>\n",
       "      <td>surprise</td>\n",
       "    </tr>\n",
       "    <tr>\n",
       "      <th>4313</th>\n",
       "      <td>4313</td>\n",
       "      <td>['i feel pretty absolutely freaking amazing']</td>\n",
       "      <td>surprise</td>\n",
       "    </tr>\n",
       "  </tbody>\n",
       "</table>\n",
       "<p>4314 rows × 3 columns</p>\n",
       "</div>"
      ],
      "text/plain": [
       "      Unnamed: 0                                               text     label\n",
       "0              0  ['now i feel so glad that im is able to have t...       joy\n",
       "1              1  ['hopefully i could look directly up into the ...       joy\n",
       "2              2  ['i need you amy i need someone i need to woul...       joy\n",
       "3              3  ['i can u t imagine a real life scenario scena...       joy\n",
       "4              4  ['but im feeling very optimistic about it and ...       joy\n",
       "...          ...                                                ...       ...\n",
       "4309        4309  ['now i never go easily around people and i ac...  surprise\n",
       "4310        4310  ['and i definitely feel herpes coming i would ...  surprise\n",
       "4311        4311  ['and i like it to often do things that leave ...  surprise\n",
       "4312        4312  ['and i feel like a monster because as togethe...  surprise\n",
       "4313        4313      ['i feel pretty absolutely freaking amazing']  surprise\n",
       "\n",
       "[4314 rows x 3 columns]"
      ]
     },
     "execution_count": 15,
     "metadata": {},
     "output_type": "execute_result"
    }
   ],
   "source": [
    "augmented_df= pd.read_csv(\"../Lab_RNN/Data/augmented.csv\")\n",
    "augmented_df"
   ]
  },
  {
   "cell_type": "code",
   "execution_count": 16,
   "metadata": {},
   "outputs": [
    {
     "data": {
      "text/html": [
       "<div>\n",
       "<style scoped>\n",
       "    .dataframe tbody tr th:only-of-type {\n",
       "        vertical-align: middle;\n",
       "    }\n",
       "\n",
       "    .dataframe tbody tr th {\n",
       "        vertical-align: top;\n",
       "    }\n",
       "\n",
       "    .dataframe thead th {\n",
       "        text-align: right;\n",
       "    }\n",
       "</style>\n",
       "<table border=\"1\" class=\"dataframe\">\n",
       "  <thead>\n",
       "    <tr style=\"text-align: right;\">\n",
       "      <th></th>\n",
       "      <th>text</th>\n",
       "      <th>label</th>\n",
       "    </tr>\n",
       "  </thead>\n",
       "  <tbody>\n",
       "    <tr>\n",
       "      <th>0</th>\n",
       "      <td>['now i feel so glad that im is able to have t...</td>\n",
       "      <td>joy</td>\n",
       "    </tr>\n",
       "    <tr>\n",
       "      <th>1</th>\n",
       "      <td>['hopefully i could look directly up into the ...</td>\n",
       "      <td>joy</td>\n",
       "    </tr>\n",
       "    <tr>\n",
       "      <th>2</th>\n",
       "      <td>['i need you amy i need someone i need to woul...</td>\n",
       "      <td>joy</td>\n",
       "    </tr>\n",
       "    <tr>\n",
       "      <th>3</th>\n",
       "      <td>['i can u t imagine a real life scenario scena...</td>\n",
       "      <td>joy</td>\n",
       "    </tr>\n",
       "    <tr>\n",
       "      <th>4</th>\n",
       "      <td>['but im feeling very optimistic about it and ...</td>\n",
       "      <td>joy</td>\n",
       "    </tr>\n",
       "    <tr>\n",
       "      <th>...</th>\n",
       "      <td>...</td>\n",
       "      <td>...</td>\n",
       "    </tr>\n",
       "    <tr>\n",
       "      <th>4309</th>\n",
       "      <td>['now i never go easily around people and i ac...</td>\n",
       "      <td>surprise</td>\n",
       "    </tr>\n",
       "    <tr>\n",
       "      <th>4310</th>\n",
       "      <td>['and i definitely feel herpes coming i would ...</td>\n",
       "      <td>surprise</td>\n",
       "    </tr>\n",
       "    <tr>\n",
       "      <th>4311</th>\n",
       "      <td>['and i like it to often do things that leave ...</td>\n",
       "      <td>surprise</td>\n",
       "    </tr>\n",
       "    <tr>\n",
       "      <th>4312</th>\n",
       "      <td>['and i feel like a monster because as togethe...</td>\n",
       "      <td>surprise</td>\n",
       "    </tr>\n",
       "    <tr>\n",
       "      <th>4313</th>\n",
       "      <td>['i feel pretty absolutely freaking amazing']</td>\n",
       "      <td>surprise</td>\n",
       "    </tr>\n",
       "  </tbody>\n",
       "</table>\n",
       "<p>4314 rows × 2 columns</p>\n",
       "</div>"
      ],
      "text/plain": [
       "                                                   text     label\n",
       "0     ['now i feel so glad that im is able to have t...       joy\n",
       "1     ['hopefully i could look directly up into the ...       joy\n",
       "2     ['i need you amy i need someone i need to woul...       joy\n",
       "3     ['i can u t imagine a real life scenario scena...       joy\n",
       "4     ['but im feeling very optimistic about it and ...       joy\n",
       "...                                                 ...       ...\n",
       "4309  ['now i never go easily around people and i ac...  surprise\n",
       "4310  ['and i definitely feel herpes coming i would ...  surprise\n",
       "4311  ['and i like it to often do things that leave ...  surprise\n",
       "4312  ['and i feel like a monster because as togethe...  surprise\n",
       "4313      ['i feel pretty absolutely freaking amazing']  surprise\n",
       "\n",
       "[4314 rows x 2 columns]"
      ]
     },
     "execution_count": 16,
     "metadata": {},
     "output_type": "execute_result"
    }
   ],
   "source": [
    "augmented_df = augmented_df.drop(\"Unnamed: 0\", axis=1)\n",
    "augmented_df"
   ]
  },
  {
   "cell_type": "code",
   "execution_count": 17,
   "metadata": {},
   "outputs": [],
   "source": [
    "augmented_df['text'] = augmented_df['text'].apply(lambda x: str(x).replace('[', '').replace(']', '').replace(\"'\", ''))"
   ]
  },
  {
   "cell_type": "code",
   "execution_count": 18,
   "metadata": {},
   "outputs": [
    {
     "data": {
      "text/html": [
       "<div>\n",
       "<style scoped>\n",
       "    .dataframe tbody tr th:only-of-type {\n",
       "        vertical-align: middle;\n",
       "    }\n",
       "\n",
       "    .dataframe tbody tr th {\n",
       "        vertical-align: top;\n",
       "    }\n",
       "\n",
       "    .dataframe thead th {\n",
       "        text-align: right;\n",
       "    }\n",
       "</style>\n",
       "<table border=\"1\" class=\"dataframe\">\n",
       "  <thead>\n",
       "    <tr style=\"text-align: right;\">\n",
       "      <th></th>\n",
       "      <th>text</th>\n",
       "      <th>label</th>\n",
       "    </tr>\n",
       "  </thead>\n",
       "  <tbody>\n",
       "    <tr>\n",
       "      <th>0</th>\n",
       "      <td>i feel so glad that im able to have the time t...</td>\n",
       "      <td>joy</td>\n",
       "    </tr>\n",
       "    <tr>\n",
       "      <th>1</th>\n",
       "      <td>i could look up the coordinates of the cave bu...</td>\n",
       "      <td>joy</td>\n",
       "    </tr>\n",
       "    <tr>\n",
       "      <th>2</th>\n",
       "      <td>i need you i need someone i need to be protect...</td>\n",
       "      <td>joy</td>\n",
       "    </tr>\n",
       "    <tr>\n",
       "      <th>3</th>\n",
       "      <td>i can t imagine a real life scenario where i w...</td>\n",
       "      <td>joy</td>\n",
       "    </tr>\n",
       "    <tr>\n",
       "      <th>4</th>\n",
       "      <td>im feeling very optimistic about it and find m...</td>\n",
       "      <td>joy</td>\n",
       "    </tr>\n",
       "    <tr>\n",
       "      <th>...</th>\n",
       "      <td>...</td>\n",
       "      <td>...</td>\n",
       "    </tr>\n",
       "    <tr>\n",
       "      <th>8623</th>\n",
       "      <td>now i never go easily around people and i act ...</td>\n",
       "      <td>surprise</td>\n",
       "    </tr>\n",
       "    <tr>\n",
       "      <th>8624</th>\n",
       "      <td>and i definitely feel herpes coming i would be...</td>\n",
       "      <td>surprise</td>\n",
       "    </tr>\n",
       "    <tr>\n",
       "      <th>8625</th>\n",
       "      <td>and i like it to often do things that leave ot...</td>\n",
       "      <td>surprise</td>\n",
       "    </tr>\n",
       "    <tr>\n",
       "      <th>8626</th>\n",
       "      <td>and i feel like a monster because as together ...</td>\n",
       "      <td>surprise</td>\n",
       "    </tr>\n",
       "    <tr>\n",
       "      <th>8627</th>\n",
       "      <td>i feel pretty absolutely freaking amazing</td>\n",
       "      <td>surprise</td>\n",
       "    </tr>\n",
       "  </tbody>\n",
       "</table>\n",
       "<p>8628 rows × 2 columns</p>\n",
       "</div>"
      ],
      "text/plain": [
       "                                                   text     label\n",
       "0     i feel so glad that im able to have the time t...       joy\n",
       "1     i could look up the coordinates of the cave bu...       joy\n",
       "2     i need you i need someone i need to be protect...       joy\n",
       "3     i can t imagine a real life scenario where i w...       joy\n",
       "4     im feeling very optimistic about it and find m...       joy\n",
       "...                                                 ...       ...\n",
       "8623  now i never go easily around people and i act ...  surprise\n",
       "8624  and i definitely feel herpes coming i would be...  surprise\n",
       "8625  and i like it to often do things that leave ot...  surprise\n",
       "8626  and i feel like a monster because as together ...  surprise\n",
       "8627          i feel pretty absolutely freaking amazing  surprise\n",
       "\n",
       "[8628 rows x 2 columns]"
      ]
     },
     "execution_count": 18,
     "metadata": {},
     "output_type": "execute_result"
    }
   ],
   "source": [
    "data = pd.concat([data, augmented_df], ignore_index=True)\n",
    "data"
   ]
  },
  {
   "cell_type": "code",
   "execution_count": 19,
   "metadata": {},
   "outputs": [
    {
     "data": {
      "text/plain": [
       "<Axes: xlabel='label'>"
      ]
     },
     "execution_count": 19,
     "metadata": {},
     "output_type": "execute_result"
    },
    {
     "data": {
      "image/png": "[encoded data removed]",
      "text/plain": [
       "<Figure size 640x480 with 1 Axes>"
      ]
     },
     "metadata": {},
     "output_type": "display_data"
    }
   ],
   "source": [
    "data.label.value_counts().plot.bar() "
   ]
  },
  {
   "cell_type": "markdown",
   "metadata": {},
   "source": [
    "#### Preprocessing"
   ]
  },
  {
   "cell_type": "code",
   "execution_count": 20,
   "metadata": {},
   "outputs": [],
   "source": [
    "data['text'] = data['text'].astype(str)\n",
    "data['label'] = data['label'].astype(str)"
   ]
  },
  {
   "cell_type": "code",
   "execution_count": 21,
   "metadata": {},
   "outputs": [],
   "source": [
    "data.loc[:, \"text\"] = data[\"text\"].str.lower().str.replace('[\\[\\]\"\\']','') # convert text to lowercase and remove square brackets and quotation marks\n",
    "data.loc[:, \"label\"] = data[\"label\"].str.lower().str.replace('[^\\w\\s\"\\'\\[\\]]','')\n"
   ]
  },
  {
   "cell_type": "code",
   "execution_count": 22,
   "metadata": {},
   "outputs": [
    {
     "data": {
      "text/html": [
       "<div>\n",
       "<style scoped>\n",
       "    .dataframe tbody tr th:only-of-type {\n",
       "        vertical-align: middle;\n",
       "    }\n",
       "\n",
       "    .dataframe tbody tr th {\n",
       "        vertical-align: top;\n",
       "    }\n",
       "\n",
       "    .dataframe thead th {\n",
       "        text-align: right;\n",
       "    }\n",
       "</style>\n",
       "<table border=\"1\" class=\"dataframe\">\n",
       "  <thead>\n",
       "    <tr style=\"text-align: right;\">\n",
       "      <th></th>\n",
       "      <th>text</th>\n",
       "      <th>label</th>\n",
       "    </tr>\n",
       "  </thead>\n",
       "  <tbody>\n",
       "    <tr>\n",
       "      <th>0</th>\n",
       "      <td>i feel so glad that im able to have the time t...</td>\n",
       "      <td>joy</td>\n",
       "    </tr>\n",
       "    <tr>\n",
       "      <th>1</th>\n",
       "      <td>i could look up the coordinates of the cave bu...</td>\n",
       "      <td>joy</td>\n",
       "    </tr>\n",
       "    <tr>\n",
       "      <th>2</th>\n",
       "      <td>i need you i need someone i need to be protect...</td>\n",
       "      <td>joy</td>\n",
       "    </tr>\n",
       "    <tr>\n",
       "      <th>3</th>\n",
       "      <td>i can t imagine a real life scenario where i w...</td>\n",
       "      <td>joy</td>\n",
       "    </tr>\n",
       "    <tr>\n",
       "      <th>4</th>\n",
       "      <td>im feeling very optimistic about it and find m...</td>\n",
       "      <td>joy</td>\n",
       "    </tr>\n",
       "    <tr>\n",
       "      <th>...</th>\n",
       "      <td>...</td>\n",
       "      <td>...</td>\n",
       "    </tr>\n",
       "    <tr>\n",
       "      <th>8623</th>\n",
       "      <td>now i never go easily around people and i act ...</td>\n",
       "      <td>surprise</td>\n",
       "    </tr>\n",
       "    <tr>\n",
       "      <th>8624</th>\n",
       "      <td>and i definitely feel herpes coming i would be...</td>\n",
       "      <td>surprise</td>\n",
       "    </tr>\n",
       "    <tr>\n",
       "      <th>8625</th>\n",
       "      <td>and i like it to often do things that leave ot...</td>\n",
       "      <td>surprise</td>\n",
       "    </tr>\n",
       "    <tr>\n",
       "      <th>8626</th>\n",
       "      <td>and i feel like a monster because as together ...</td>\n",
       "      <td>surprise</td>\n",
       "    </tr>\n",
       "    <tr>\n",
       "      <th>8627</th>\n",
       "      <td>i feel pretty absolutely freaking amazing</td>\n",
       "      <td>surprise</td>\n",
       "    </tr>\n",
       "  </tbody>\n",
       "</table>\n",
       "<p>8628 rows × 2 columns</p>\n",
       "</div>"
      ],
      "text/plain": [
       "                                                   text     label\n",
       "0     i feel so glad that im able to have the time t...       joy\n",
       "1     i could look up the coordinates of the cave bu...       joy\n",
       "2     i need you i need someone i need to be protect...       joy\n",
       "3     i can t imagine a real life scenario where i w...       joy\n",
       "4     im feeling very optimistic about it and find m...       joy\n",
       "...                                                 ...       ...\n",
       "8623  now i never go easily around people and i act ...  surprise\n",
       "8624  and i definitely feel herpes coming i would be...  surprise\n",
       "8625  and i like it to often do things that leave ot...  surprise\n",
       "8626  and i feel like a monster because as together ...  surprise\n",
       "8627          i feel pretty absolutely freaking amazing  surprise\n",
       "\n",
       "[8628 rows x 2 columns]"
      ]
     },
     "execution_count": 22,
     "metadata": {},
     "output_type": "execute_result"
    }
   ],
   "source": [
    "data"
   ]
  },
  {
   "cell_type": "code",
   "execution_count": 159,
   "metadata": {},
   "outputs": [],
   "source": [
    "data.to_csv(\"../Lab_RNN/Data/new_data.csv\")"
   ]
  },
  {
   "cell_type": "code",
   "execution_count": 23,
   "metadata": {},
   "outputs": [],
   "source": [
    "# create a preproccessing function that will process the text column\n",
    "\n",
    "def preprocess_text(text):\n",
    "    \n",
    "    # convert text to lowercase\n",
    "    text = text.lower()\n",
    "\n",
    "    #Remove stop words\n",
    "\n",
    "    stop_words = set(stopwords.words(\"english\"))\n",
    "    tokens = text.split()\n",
    "    filtered_tokens = [token for token in tokens if token not in stop_words]\n",
    "\n",
    "    # Lemmatize the tokens\n",
    "\n",
    "    lemmatizer = WordNetLemmatizer()\n",
    "    lemmatized_tokens = [lemmatizer.lemmatize(token) for token in filtered_tokens]\n",
    "\n",
    "    processed_text = \" \".join(lemmatized_tokens)\n",
    "\n",
    "    return processed_text\n",
    "\n"
   ]
  },
  {
   "cell_type": "code",
   "execution_count": 24,
   "metadata": {},
   "outputs": [
    {
     "data": {
      "text/html": [
       "<div>\n",
       "<style scoped>\n",
       "    .dataframe tbody tr th:only-of-type {\n",
       "        vertical-align: middle;\n",
       "    }\n",
       "\n",
       "    .dataframe tbody tr th {\n",
       "        vertical-align: top;\n",
       "    }\n",
       "\n",
       "    .dataframe thead th {\n",
       "        text-align: right;\n",
       "    }\n",
       "</style>\n",
       "<table border=\"1\" class=\"dataframe\">\n",
       "  <thead>\n",
       "    <tr style=\"text-align: right;\">\n",
       "      <th></th>\n",
       "      <th>text</th>\n",
       "      <th>label</th>\n",
       "    </tr>\n",
       "  </thead>\n",
       "  <tbody>\n",
       "    <tr>\n",
       "      <th>0</th>\n",
       "      <td>feel glad im able time spend time family</td>\n",
       "      <td>joy</td>\n",
       "    </tr>\n",
       "    <tr>\n",
       "      <th>1</th>\n",
       "      <td>could look coordinate cave im feeling adventur...</td>\n",
       "      <td>joy</td>\n",
       "    </tr>\n",
       "    <tr>\n",
       "      <th>2</th>\n",
       "      <td>need need someone need protected feel safe sma...</td>\n",
       "      <td>joy</td>\n",
       "    </tr>\n",
       "    <tr>\n",
       "      <th>3</th>\n",
       "      <td>imagine real life scenario would emotionally c...</td>\n",
       "      <td>joy</td>\n",
       "    </tr>\n",
       "    <tr>\n",
       "      <th>4</th>\n",
       "      <td>im feeling optimistic find wanting ride</td>\n",
       "      <td>joy</td>\n",
       "    </tr>\n",
       "    <tr>\n",
       "      <th>...</th>\n",
       "      <td>...</td>\n",
       "      <td>...</td>\n",
       "    </tr>\n",
       "    <tr>\n",
       "      <th>8623</th>\n",
       "      <td>never go easily around people act normal someh...</td>\n",
       "      <td>surprise</td>\n",
       "    </tr>\n",
       "    <tr>\n",
       "      <th>8624</th>\n",
       "      <td>definitely feel herpes coming would slightly s...</td>\n",
       "      <td>surprise</td>\n",
       "    </tr>\n",
       "    <tr>\n",
       "      <th>8625</th>\n",
       "      <td>like often thing leave others feeling genuinel...</td>\n",
       "      <td>surprise</td>\n",
       "    </tr>\n",
       "    <tr>\n",
       "      <th>8626</th>\n",
       "      <td>feel like monster together make way silently r...</td>\n",
       "      <td>surprise</td>\n",
       "    </tr>\n",
       "    <tr>\n",
       "      <th>8627</th>\n",
       "      <td>feel pretty absolutely freaking amazing</td>\n",
       "      <td>surprise</td>\n",
       "    </tr>\n",
       "  </tbody>\n",
       "</table>\n",
       "<p>8628 rows × 2 columns</p>\n",
       "</div>"
      ],
      "text/plain": [
       "                                                   text     label\n",
       "0              feel glad im able time spend time family       joy\n",
       "1     could look coordinate cave im feeling adventur...       joy\n",
       "2     need need someone need protected feel safe sma...       joy\n",
       "3     imagine real life scenario would emotionally c...       joy\n",
       "4               im feeling optimistic find wanting ride       joy\n",
       "...                                                 ...       ...\n",
       "8623  never go easily around people act normal someh...  surprise\n",
       "8624  definitely feel herpes coming would slightly s...  surprise\n",
       "8625  like often thing leave others feeling genuinel...  surprise\n",
       "8626  feel like monster together make way silently r...  surprise\n",
       "8627            feel pretty absolutely freaking amazing  surprise\n",
       "\n",
       "[8628 rows x 2 columns]"
      ]
     },
     "execution_count": 24,
     "metadata": {},
     "output_type": "execute_result"
    }
   ],
   "source": [
    "data.loc[:, \"text\"] = data[\"text\"].apply(preprocess_text)\n",
    "data"
   ]
  },
  {
   "cell_type": "code",
   "execution_count": 25,
   "metadata": {},
   "outputs": [
    {
     "name": "stdout",
     "output_type": "stream",
     "text": [
      "74.38769123783032\n",
      "282\n"
     ]
    }
   ],
   "source": [
    "# checking the length of the strings so that i have an idea of how long i should make the max words in the sequence length for padding\n",
    "print(pd.Series(data[\"text\"]).str.len().mean())\n",
    "print(pd.Series(data[\"text\"]).str.len().max())"
   ]
  },
  {
   "cell_type": "markdown",
   "metadata": {},
   "source": [
    "This gives a rough idea that every string has an average of 74 words and that the longest sentence has 229 words. I can use a box plot to see more clearly"
   ]
  },
  {
   "cell_type": "code",
   "execution_count": 26,
   "metadata": {},
   "outputs": [
    {
     "data": {
      "image/png": "[encoded data removed]",
      "text/plain": [
       "<Figure size 640x480 with 1 Axes>"
      ]
     },
     "metadata": {},
     "output_type": "display_data"
    },
    {
     "data": {
      "text/plain": [
       "count    8628.000000\n",
       "mean       74.387691\n",
       "std        42.883268\n",
       "min         6.000000\n",
       "25%        41.000000\n",
       "50%        66.000000\n",
       "75%        98.000000\n",
       "max       282.000000\n",
       "Name: text, dtype: float64"
      ]
     },
     "execution_count": 26,
     "metadata": {},
     "output_type": "execute_result"
    }
   ],
   "source": [
    "strings_len = pd.Series(data[\"text\"]).str.len()\n",
    "\n",
    "strings_len.plot.box()\n",
    "plt.title(\"Distribution of strings length\")\n",
    "plt.ylabel(\"Number of strings\")\n",
    "plt.show()\n",
    "\n",
    "strings_len.describe()"
   ]
  },
  {
   "cell_type": "markdown",
   "metadata": {},
   "source": [
    "You can see most strings are up to 150 words. But with using the describe function on the length of the strings we can see that around 75 % of the comments are up to 98 words long. This will be taken into account when padding. Some sentences may be shorter so they will need to have padding. This is an important stage as we need to decide how many relevant words of the text should be processed within the model. If we use too many the training process will be longer. We can see on the box plot that most of the text lengths are between the 40 to 100 range. So I think it is reasonable to have the input length at 80.    "
   ]
  },
  {
   "cell_type": "markdown",
   "metadata": {},
   "source": [
    "#### Preparing text to be used with Deep learning model\n",
    "\n",
    "I will now tokenize the text and pad it. I will also one hot code the labels."
   ]
  },
  {
   "cell_type": "code",
   "execution_count": 27,
   "metadata": {},
   "outputs": [
    {
     "data": {
      "text/html": [
       "<div>\n",
       "<style scoped>\n",
       "    .dataframe tbody tr th:only-of-type {\n",
       "        vertical-align: middle;\n",
       "    }\n",
       "\n",
       "    .dataframe tbody tr th {\n",
       "        vertical-align: top;\n",
       "    }\n",
       "\n",
       "    .dataframe thead th {\n",
       "        text-align: right;\n",
       "    }\n",
       "</style>\n",
       "<table border=\"1\" class=\"dataframe\">\n",
       "  <thead>\n",
       "    <tr style=\"text-align: right;\">\n",
       "      <th></th>\n",
       "      <th>text</th>\n",
       "      <th>label</th>\n",
       "    </tr>\n",
       "  </thead>\n",
       "  <tbody>\n",
       "    <tr>\n",
       "      <th>0</th>\n",
       "      <td>feel glad im able time spend time family</td>\n",
       "      <td>2</td>\n",
       "    </tr>\n",
       "    <tr>\n",
       "      <th>1</th>\n",
       "      <td>could look coordinate cave im feeling adventur...</td>\n",
       "      <td>2</td>\n",
       "    </tr>\n",
       "    <tr>\n",
       "      <th>2</th>\n",
       "      <td>need need someone need protected feel safe sma...</td>\n",
       "      <td>2</td>\n",
       "    </tr>\n",
       "    <tr>\n",
       "      <th>3</th>\n",
       "      <td>imagine real life scenario would emotionally c...</td>\n",
       "      <td>2</td>\n",
       "    </tr>\n",
       "    <tr>\n",
       "      <th>4</th>\n",
       "      <td>im feeling optimistic find wanting ride</td>\n",
       "      <td>2</td>\n",
       "    </tr>\n",
       "  </tbody>\n",
       "</table>\n",
       "</div>"
      ],
      "text/plain": [
       "                                                text  label\n",
       "0           feel glad im able time spend time family      2\n",
       "1  could look coordinate cave im feeling adventur...      2\n",
       "2  need need someone need protected feel safe sma...      2\n",
       "3  imagine real life scenario would emotionally c...      2\n",
       "4            im feeling optimistic find wanting ride      2"
      ]
     },
     "execution_count": 27,
     "metadata": {},
     "output_type": "execute_result"
    }
   ],
   "source": [
    "# encoding emotions\n",
    "encoded_emotions = {\n",
    "    \"anger\" : 0,\n",
    "    \"fear\": 1,\n",
    "    \"joy\" : 2,\n",
    "    \"love\": 3,\n",
    "    \"sadness\": 4,\n",
    "    \"surprise\": 5\n",
    "}\n",
    "\n",
    "data.replace(encoded_emotions, inplace = True)\n",
    "data.head()"
   ]
  },
  {
   "cell_type": "code",
   "execution_count": 28,
   "metadata": {},
   "outputs": [
    {
     "name": "stdout",
     "output_type": "stream",
     "text": [
      "X_train = (5176,) and y_train = (5176,)\n",
      "X_test = (1726,) and y_test = (1726,)\n",
      "X_val = (1726,) and y_val = (1726,)\n"
     ]
    }
   ],
   "source": [
    "# Splitting the data into train, val and test before toeknization and padding\n",
    "\n",
    "X_train, X_test, y_train, y_test = train_test_split(data[\"text\"], data[\"label\"], test_size=0.2, random_state=42,stratify=data[\"label\"])\n",
    "\n",
    "X_train, X_val, y_train, y_val = train_test_split(X_train, y_train, test_size=0.25, random_state=42,stratify=y_train)\n",
    "\n",
    "print(f\"X_train = {X_train.shape} and y_train = {y_train.shape}\")\n",
    "print(f\"X_test = {X_test.shape} and y_test = {y_test.shape}\")\n",
    "print(f\"X_val = {X_val.shape} and y_val = {y_val.shape}\")\n"
   ]
  },
  {
   "cell_type": "code",
   "execution_count": 30,
   "metadata": {},
   "outputs": [
    {
     "data": {
      "image/png": "[encoded data removed]",
      "text/plain": [
       "<Figure size 1500x500 with 3 Axes>"
      ]
     },
     "metadata": {},
     "output_type": "display_data"
    }
   ],
   "source": [
    "fig, axs = plt.subplots(1, 3, figsize=(15, 5))\n",
    "\n",
    "# Plot for y_train\n",
    "axs[0].bar(y_train.value_counts().index, y_train.value_counts())\n",
    "axs[0].set_title('y_train')\n",
    "axs[0].set_ylabel('Count')\n",
    "\n",
    "# Plot for y_val\n",
    "axs[1].bar(y_val.value_counts().index, y_val.value_counts())\n",
    "axs[1].set_title('y_val')\n",
    "axs[1].set_ylabel('Count')\n",
    "\n",
    "# Plot for y_test\n",
    "axs[2].bar(y_test.value_counts().index, y_test.value_counts())\n",
    "axs[2].set_title('y_test')\n",
    "axs[2].set_ylabel('Count')\n",
    "\n",
    "# Adjust layout\n",
    "plt.tight_layout()\n",
    "\n",
    "# Show the plots\n",
    "plt.show()"
   ]
  },
  {
   "cell_type": "code",
   "execution_count": 31,
   "metadata": {},
   "outputs": [
    {
     "name": "stdout",
     "output_type": "stream",
     "text": [
      "6773\n",
      "{'feel': 1, 'feeling': 2, 'like': 3, 'im': 4, 'really': 5, 'even': 6, 'still': 7, 'little': 8, 'time': 9, 'know': 10, 'also': 11, 'one': 12, 'would': 13, 'make': 14, 'actually': 15, 'always': 16, 'people': 17, 'bit': 18, 'get': 19, 'something': 20, 'day': 21, 'thing': 22, 'much': 23, 'think': 24, 'want': 25, 'life': 26, 'love': 27, 'back': 28, 'ive': 29, 'though': 30, 'could': 31, 'need': 32, 'go': 33, 'sometimes': 34, 'way': 35, 'today': 36, 'going': 37, 'around': 38, 'dont': 39, 'pretty': 40, 'never': 41, 'right': 42, 'say': 43, 'good': 44, 'ever': 45, 'help': 46, 'strange': 47, 'work': 48, 'weird': 49, 'almost': 50, 'sure': 51, 'friend': 52, 'well': 53, 'already': 54, 'see': 55, 'often': 56, 'didnt': 57, 'le': 58, 'cant': 59, 'overwhelmed': 60, 'thought': 61, 'year': 62, 'maybe': 63, 'quite': 64, 'many': 65, 'enough': 66, 'new': 67, 'made': 68, 'impressed': 69, 'funny': 70, 'felt': 71, 'suddenly': 72, 'someone': 73, 'got': 74, 'yet': 75, 'somehow': 76, 'anything': 77, 'amazed': 78, 'completely': 79, 'probably': 80, 'first': 81, 'getting': 82, 'look': 83, 'curious': 84, 'find': 85, 'everything': 86, 'trying': 87, 'kind': 88, 'left': 89, 'without': 90, 'truly': 91, 'u': 92, 'last': 93, 'come': 94, 'rather': 95, 'week': 96, 'take': 97, 'book': 98, 'every': 99, 'amazing': 100, 'inside': 101, 'keep': 102, 'lot': 103, 'since': 104, 'started': 105, 'finally': 106, 'surprised': 107, 'away': 108, 'old': 109, 'better': 110, 'let': 111, 'world': 112, 'looking': 113, 'god': 114, 'moment': 115, 'write': 116, 'slightly': 117, 'remember': 118, 'family': 119, 'home': 120, 'may': 121, 'two': 122, 'hot': 123, 'might': 124, 'bad': 125, 'alone': 126, 'girl': 127, 'start': 128, 'read': 129, 'making': 130, 'simply': 131, 'real': 132, 'hard': 133, 'happy': 134, 'person': 135, 'loving': 136, 'sweet': 137, 'cold': 138, 'long': 139, 'shocked': 140, 'able': 141, 'big': 142, 'angry': 143, 'night': 144, 'especially': 145, 'damn': 146, 'writing': 147, 'thinking': 148, 'mean': 149, 'http': 150, 'try': 151, 'morning': 152, 'id': 153, 'nothing': 154, 'somewhat': 155, 'passionate': 156, 'place': 157, 'particularly': 158, 'next': 159, 'usually': 160, 'loved': 161, 'else': 162, 'seeing': 163, 'said': 164, 'although': 165, 'others': 166, 'instead': 167, 'definitely': 168, 'tell': 169, 'guy': 170, 'anyone': 171, 'great': 172, 'perhaps': 173, 'totally': 174, 'ill': 175, 'whole': 176, 'end': 177, 'together': 178, 'agitated': 179, 'dazed': 180, 'however': 181, 'towards': 182, 'honestly': 183, 'soon': 184, 'heart': 185, 'must': 186, 'knowing': 187, 'href': 188, 'care': 189, 'lately': 190, 'fact': 191, 'small': 192, 'fucking': 193, 'romantic': 194, 'eye': 195, 'talk': 196, 'hate': 197, 'personally': 198, 'head': 199, 'part': 200, 'anxious': 201, 'pain': 202, 'anymore': 203, 'saying': 204, 'hope': 205, 'child': 206, 'cannot': 207, 'wanted': 208, 'supporting': 209, 'school': 210, 'kid': 211, 'put': 212, 'working': 213, 'sad': 214, 'another': 215, 'liked': 216, 'coming': 217, 'past': 218, 'either': 219, 'word': 220, 'everyone': 221, 'story': 222, 'extremely': 223, 'song': 224, 'incredibly': 225, 'body': 226, 'done': 227, 'guess': 228, 'frustrated': 229, 'live': 230, 'sort': 231, 'lost': 232, 'blog': 233, 'understand': 234, 'face': 235, 'stressed': 236, 'starting': 237, 'month': 238, 'hurt': 239, 'mother': 240, 'found': 241, 'situation': 242, 'taking': 243, 'use': 244, 'believe': 245, 'wasnt': 246, 'post': 247, 'rushed': 248, 'hated': 249, 'went': 250, 'give': 251, 'accepted': 252, 'admit': 253, 'change': 254, 'reason': 255, 'best': 256, 'helpless': 257, 'tired': 258, 'blessed': 259, 'loyal': 260, 'anyway': 261, 'idea': 262, 'eat': 263, 'matter': 264, 'stop': 265, 'tender': 266, 'tortured': 267, 'woman': 268, 'stuff': 269, 'scared': 270, 'tonight': 271, 'absolutely': 272, 'show': 273, 'walk': 274, 'share': 275, 'call': 276, 'generous': 277, 'possibly': 278, 'gentle': 279, 'mostly': 280, 'caring': 281, 'bed': 282, 'confused': 283, 'sense': 284, 'running': 285, 'naughty': 286, 'hour': 287, 'afraid': 288, 'sympathetic': 289, 'stupid': 290, 'open': 291, 'uncomfortable': 292, 'watching': 293, 'living': 294, 'yesterday': 295, 'self': 296, 'wonder': 297, 'boy': 298, 'hear': 299, 'exactly': 300, 'beloved': 301, 'half': 302, 'thats': 303, 'house': 304, 'human': 305, 'lovely': 306, 'hesitant': 307, 'leave': 308, 'obviously': 309, 'personal': 310, 'seems': 311, 'job': 312, 'experience': 313, 'unsure': 314, 'far': 315, 'supportive': 316, 'bothered': 317, 'insulted': 318, 'important': 319, 'hand': 320, 'shy': 321, 'youre': 322, 'young': 323, 'spent': 324, 'run': 325, 'fucked': 326, 'sleep': 327, 'kinda': 328, 'turn': 329, 'stunned': 330, 'room': 331, 'nostalgic': 332, 'petty': 333, 'reading': 334, 'doesnt': 335, 'strong': 336, 'different': 337, 'intimidated': 338, 'close': 339, 'nearly': 340, 'seem': 341, 'perfect': 342, 'character': 343, 'point': 344, 'certainly': 345, 'entire': 346, 'free': 347, 'miss': 348, 'skin': 349, 'fully': 350, 'vulnerable': 351, 'faithful': 352, 'least': 353, 'cause': 354, 'constantly': 355, 'nervous': 356, 'nice': 357, 'hair': 358, 'enjoy': 359, 'seriously': 360, 'food': 361, 'become': 362, 'irritable': 363, 'side': 364, 'sick': 365, 'memory': 366, 'devoted': 367, 'longer': 368, 'ago': 369, 'ok': 370, 'ask': 371, 'along': 372, 'terrified': 373, 'horny': 374, 'excited': 375, 'apprehensive': 376, 'paranoid': 377, 'safe': 378, 'frightened': 379, 'relationship': 380, 'second': 381, 'comfortable': 382, 'class': 383, 'told': 384, 'pressured': 385, 'certain': 386, 'deeply': 387, 'whatever': 388, 'eventually': 389, 'mine': 390, 'entirely': 391, 'uncertain': 392, 'fond': 393, 'giving': 394, 'mad': 395, 'emotional': 396, 'full': 397, 'quickly': 398, 'used': 399, 'needed': 400, 'longing': 401, 'happened': 402, 'possible': 403, 'slowly': 404, 'wonderful': 405, 'lonely': 406, 'insecure': 407, 'looked': 408, 'game': 409, 'toward': 410, 'dream': 411, 'greedy': 412, 'short': 413, 'disappointed': 414, 'wear': 415, 'high': 416, 'currently': 417, 'late': 418, 'man': 419, 'add': 420, 'baby': 421, 'came': 422, 'amp': 423, 'offended': 424, 'fun': 425, 'movie': 426, 'plan': 427, 'upset': 428, 'fear': 429, 'using': 430, 'comment': 431, 'buy': 432, 'water': 433, 'emotion': 434, 'piece': 435, 'selfish': 436, 'wish': 437, 'whether': 438, 'money': 439, 'thankful': 440, 'upon': 441, 'violent': 442, 'low': 443, 'sitting': 444, 'shaken': 445, 'delicate': 446, 'guilty': 447, 'resentful': 448, 'fine': 449, 'dissatisfied': 450, 'punished': 451, 'havent': 452, 'reluctant': 453, 'support': 454, 'energy': 455, 'rest': 456, 'photo': 457, 'generally': 458, 'mom': 459, 'creative': 460, 'behind': 461, 'four': 462, 'couple': 463, 'true': 464, 'question': 465, 'sorry': 466, 'forward': 467, 'summer': 468, 'yes': 469, 'level': 470, 'front': 471, 'sharing': 472, 'deal': 473, 'tiny': 474, 'outside': 475, 'impatient': 476, 'problem': 477, 'watch': 478, 'ugly': 479, 'hold': 480, 'positive': 481, 'later': 482, 'realized': 483, 'three': 484, 'irritated': 485, 'wronged': 486, 'called': 487, 'shit': 488, 'terrible': 489, 'reader': 490, 'distracted': 491, 'parent': 492, 'community': 493, 'eating': 494, 'embarrassed': 495, 'waiting': 496, 'cry': 497, 'fall': 498, 'happen': 499, 'awkward': 500, 'stubborn': 501, 'beautiful': 502, 'picture': 503, 'wouldnt': 504, 'losing': 505, 'top': 506, 'immediately': 507, 'act': 508, 'took': 509, 'mind': 510, 'control': 511, 'online': 512, 'asked': 513, 'pissed': 514, 'dangerous': 515, 'normally': 516, 'stay': 517, 'bitchy': 518, 'wrong': 519, 'compassionate': 520, 'frantic': 521, 'set': 522, 'horrible': 523, 'area': 524, 'shes': 525, 'move': 526, 'cranky': 527, 'jealous': 528, 'warm': 529, 'except': 530, 'extra': 531, 'supposed': 532, 'restless': 533, 'decision': 534, 'meeting': 535, 'light': 536, 'happening': 537, 'decided': 538, 'style': 539, 'isolated': 540, 'super': 541, 'isnt': 542, 'lucky': 543, 'ready': 544, 'future': 545, 'glad': 546, 'sleeping': 547, 'tad': 548, 'fat': 549, 'wanna': 550, 'black': 551, 'deep': 552, 'physically': 553, 'minute': 554, 'weekend': 555, 'brother': 556, 'awful': 557, 'voice': 558, 'terribly': 559, 'knew': 560, 'disgusted': 561, 'crazy': 562, 'break': 563, 'music': 564, 'distressed': 565, 'confident': 566, 'blank': 567, 'sit': 568, 'honest': 569, 'woke': 570, 'realize': 571, 'telling': 572, 'gift': 573, 'putting': 574, 'threatened': 575, 'bloody': 576, 'skeptical': 577, 'despite': 578, 'grateful': 579, 'history': 580, 'shaky': 581, 'art': 582, 'cool': 583, 'beaten': 584, 'learning': 585, 'easily': 586, 'dark': 587, 'leaving': 588, 'wont': 589, 'list': 590, 'season': 591, 'utterly': 592, 'straight': 593, 'fairly': 594, 'oh': 595, 'he': 596, 'treasured': 597, 'playing': 598, 'exhausted': 599, 'near': 600, 'drained': 601, 'wife': 602, 'somewhere': 603, 'special': 604, 'tried': 605, 'finish': 606, 'choice': 607, 'red': 608, 'college': 609, 'talented': 610, 'annoyed': 611, 'taken': 612, 'mood': 613, 'touch': 614, 'issue': 615, 'couldnt': 616, 'equally': 617, 'energetic': 618, 'considering': 619, 'cute': 620, 'understanding': 621, 'rebellious': 622, 'honoured': 623, 'race': 624, 'indecisive': 625, 'trust': 626, 'film': 627, 'aching': 628, 'tomorrow': 629, 'talking': 630, 'inadequate': 631, 'pathetic': 632, 'within': 633, 'stand': 634, 'peace': 635, 'given': 636, 'rude': 637, 'company': 638, 'student': 639, 'leg': 640, 'normal': 641, 'passed': 642, 'usual': 643, 'desire': 644, 'proud': 645, 'imagine': 646, 'fan': 647, 'dad': 648, 'spirit': 649, 'wearing': 650, 'badly': 651, 'worth': 652, 'hit': 653, 'loss': 654, 'clearly': 655, 'doubt': 656, 'single': 657, 'present': 658, 'allow': 659, 'vital': 660, 'drink': 661, 'type': 662, 'there': 663, 'finding': 664, 'pleasant': 665, 'whenever': 666, 'grumpy': 667, 'etc': 668, 'effect': 669, 'lethargic': 670, 'step': 671, 'truth': 672, 'learned': 673, 'bitter': 674, 'freaking': 675, 'popular': 676, 'training': 677, 'empty': 678, 'i': 679, 'physical': 680, 'dear': 681, 'christmas': 682, 'early': 683, 'fearful': 684, 'discouraged': 685, 'mile': 686, 'okay': 687, 'hopeless': 688, 'general': 689, 'system': 690, 'older': 691, 'easy': 692, 'kiss': 693, 'useless': 694, 'course': 695, 'fight': 696, 'leaf': 697, 'learn': 698, 'therefore': 699, 'fake': 700, 'busy': 701, 'effort': 702, '′': 703, 'dumb': 704, 'medium': 705, 'recently': 706, 'wake': 707, 'rich': 708, 'meet': 709, 'sound': 710, 'seen': 711, 'useful': 712, 'state': 713, 'to': 714, 'content': 715, 'opinion': 716, 'gone': 717, 'likely': 718, 'hopefully': 719, 'healthy': 720, 'group': 721, 'party': 722, 'offer': 723, 'begin': 724, 'blue': 725, 'heard': 726, 'strongly': 727, 'weather': 728, 'finished': 729, 'enjoying': 730, 'satisfied': 731, 'distraught': 732, 'order': 733, 'weight': 734, 'ability': 735, 'humiliated': 736, 'current': 737, 'fuck': 738, 'convinced': 739, 'stood': 740, 'ignored': 741, 'father': 742, 'www': 743, 'appreciate': 744, 'five': 745, 'lord': 746, 'delicious': 747, 'determined': 748, 'troubled': 749, 'moving': 750, 'review': 751, 'helping': 752, 'inspired': 753, 'team': 754, 'superior': 755, 'tv': 756, 'keeping': 757, 'city': 758, 'beginning': 759, 'eager': 760, 'indeed': 761, 'save': 762, 'highly': 763, 'computer': 764, 'chest': 765, 'event': 766, 'harder': 767, 'acceptable': 768, 'scene': 769, 'case': 770, 'opportunity': 771, 'expected': 772, 'everywhere': 773, 'space': 774, 'death': 775, 'unimportant': 776, 'doubtful': 777, 'teacher': 778, 'concerned': 779, 'burdened': 780, 'suppose': 781, 'shake': 782, 'walking': 783, 'soft': 784, 'difficult': 785, 'strangely': 786, 'foot': 787, 'fair': 788, 'lip': 789, 'play': 790, 'everyday': 791, 'odd': 792, 'complete': 793, 'known': 794, 'unless': 795, 'brain': 796, 'dull': 797, 'walked': 798, 'husband': 799, 'privileged': 800, 'bitch': 801, 'please': 802, 'finger': 803, 'perfectly': 804, 'defeated': 805, 'silly': 806, 'dog': 807, 'spend': 808, 'vain': 809, 'actual': 810, 'speak': 811, 'sincere': 812, 'writer': 813, 'crappy': 814, 'arent': 815, 'task': 816, 'caused': 817, 'groggy': 818, 'gotten': 819, 'precious': 820, 'wait': 821, 'calling': 822, 'cut': 823, 'tend': 824, 'desperately': 825, 'numb': 826, 'car': 827, 'experienced': 828, 'final': 829, 'email': 830, 'internet': 831, 'tree': 832, 'seemed': 833, 'hell': 834, 'worry': 835, 'choose': 836, 'forever': 837, 'chance': 838, 'sister': 839, 'gonna': 840, 'boyfriend': 841, 'throw': 842, 'worse': 843, 'result': 844, 'bored': 845, 'melancholy': 846, 'regretful': 847, 'betrayed': 848, 'across': 849, 'lesson': 850, 'country': 851, 'asking': 852, 'co': 853, 'favorite': 854, 'literally': 855, 'spot': 856, 'gave': 857, 'fit': 858, 'age': 859, 'surely': 860, 'depressed': 861, 'envious': 862, 'missing': 863, 'smile': 864, 'expect': 865, 'innocent': 866, 'met': 867, 'based': 868, 'joy': 869, 'member': 870, 'paper': 871, 'damned': 872, 'peaceful': 873, 'lack': 874, 'regular': 875, 'outraged': 876, 'name': 877, 'saw': 878, 'method': 879, 'line': 880, 'dead': 881, 'lazy': 882, 'sexual': 883, 'author': 884, 'presence': 885, 'respected': 886, 'page': 887, 'missed': 888, 'blood': 889, 'term': 890, 'awake': 891, 'apparently': 892, 'chocolate': 893, 'air': 894, 'touching': 895, 'born': 896, 'artistic': 897, 'beyond': 898, 'sun': 899, 'yeah': 900, 'amount': 901, 'heartless': 902, 'total': 903, 'angered': 904, 'interesting': 905, 'lower': 906, 'project': 907, 'stomach': 908, 'pick': 909, 'beat': 910, 'joyful': 911, 'enthralled': 912, 'alarmed': 913, 'son': 914, 'business': 915, 'mistake': 916, 'wanting': 917, 'push': 918, 'attention': 919, 'ice': 920, 'protect': 921, 'honored': 922, 'journey': 923, 'professional': 924, 'studying': 925, 'worthwhile': 926, 'shitty': 927, 'poor': 928, 'sat': 929, 'increasingly': 930, 'message': 931, 'daughter': 932, 'rotten': 933, 'simple': 934, 'comfort': 935, 'beauty': 936, 'ashamed': 937, 'src': 938, 'unhappy': 939, 'unwelcome': 940, 'pray': 941, 'fix': 942, 'fault': 943, 'written': 944, 'negative': 945, 'relief': 946, 'managed': 947, 'street': 948, 'listen': 949, 'bottom': 950, 'monday': 951, 'white': 952, 'emotionally': 953, 'silently': 954, 'six': 955, 'meant': 956, 'lousy': 957, 'crap': 958, 'optimistic': 959, 'album': 960, 'pay': 961, 'hardly': 962, 'sore': 963, 'freedom': 964, 'discussion': 965, 'color': 966, 'magazine': 967, 'otherwise': 968, 'stopped': 969, 'growing': 970, 'powerful': 971, 'stage': 972, 'turning': 973, 'star': 974, 'afterwards': 975, 'avoid': 976, 'clever': 977, 'match': 978, 'facebook': 979, 'overall': 980, 'pas': 981, 'stranger': 982, 'gloomy': 983, 'power': 984, 'phone': 985, 'terrific': 986, 'admitting': 987, 'marathon': 988, 'happens': 989, 'ache': 990, 'hearing': 991, 'gorgeous': 992, 'men': 993, 'dance': 994, 'huge': 995, 'kept': 996, 'suck': 997, 'neither': 998, 'shall': 999, 'resolved': 1000, 'heartbroken': 1001, 'constant': 1002, 'hospital': 1003, 'miserable': 1004, 'wedding': 1005, 'ultimately': 1006, 'damaged': 1007, 'nature': 1008, 'injury': 1009, 'friendship': 1010, 'wall': 1011, 'video': 1012, 'sadness': 1013, 'tear': 1014, 'recent': 1015, 'blessing': 1016, 'direction': 1017, 'anxiety': 1018, 'basically': 1019, 'field': 1020, 'million': 1021, 'smell': 1022, 'partly': 1023, 'rarely': 1024, 'treated': 1025, 'particular': 1026, 'maintain': 1027, 'importance': 1028, 'continue': 1029, 'pleased': 1030, 'meat': 1031, 'female': 1032, 'drive': 1033, 'shamed': 1034, 'awesome': 1035, 'shower': 1036, 'dinner': 1037, 'happiness': 1038, 'notice': 1039, 'report': 1040, 'allowing': 1041, 'nail': 1042, 'anybody': 1043, 'pressure': 1044, 'fabulous': 1045, 'spending': 1046, 'explain': 1047, 'theyre': 1048, 'younger': 1049, 'began': 1050, 'welcome': 1051, 'wrote': 1052, 'number': 1053, 'cast': 1054, 'answer': 1055, 'cancer': 1056, 'needy': 1057, 'treat': 1058, 'degree': 1059, 'lived': 1060, 'changing': 1061, 'helped': 1062, 'explore': 1063, 'realizing': 1064, 'cleaning': 1065, 'secretly': 1066, 'friendly': 1067, 'roll': 1068, 'childhood': 1069, 'main': 1070, 'luck': 1071, 'breakfast': 1072, 'sex': 1073, 'exact': 1074, 'secret': 1075, 'reality': 1076, 'med': 1077, 'suspicious': 1078, 'american': 1079, 'properly': 1080, 'jaded': 1081, 'enjoyed': 1082, 'reach': 1083, 'turned': 1084, 'and': 1085, 'reaction': 1086, 'dirty': 1087, 'performance': 1088, 'dress': 1089, 'divine': 1090, 'letting': 1091, 'doctor': 1092, 'broke': 1093, 'health': 1094, 'website': 1095, 'escape': 1096, 'successful': 1097, 'speaking': 1098, 'individual': 1099, 'friday': 1100, 'calm': 1101, 'chair': 1102, 'similar': 1103, 'doomed': 1104, 'win': 1105, 'artist': 1106, 'img': 1107, 'news': 1108, 'soul': 1109, 'valued': 1110, 'blogging': 1111, 'lie': 1112, 'n': 1113, 'involved': 1114, 'worked': 1115, 'snack': 1116, 'quietly': 1117, 'colour': 1118, 'consider': 1119, 'homesick': 1120, 'stress': 1121, 'fashion': 1122, 'blogger': 1123, 'al': 1124, 'favourite': 1125, 'nobody': 1126, 'sarcastic': 1127, 'research': 1128, 'deserve': 1129, 'deprived': 1130, 'boring': 1131, 'waking': 1132, 'evening': 1133, 'responsibility': 1134, 'planning': 1135, 'lol': 1136, 'youth': 1137, 'relieved': 1138, 'teenager': 1139, 'leader': 1140, 'hill': 1141, 'difference': 1142, 'attitude': 1143, 'smart': 1144, 'mess': 1145, 'earlier': 1146, 'gratitude': 1147, 'sentimental': 1148, 'intention': 1149, 'window': 1150, 'de': 1151, 'passion': 1152, 'schedule': 1153, 'sadly': 1154, 'conversation': 1155, 'onto': 1156, 'outfit': 1157, 'goddamn': 1158, 'handle': 1159, 'non': 1160, 'uptight': 1161, 'respect': 1162, 'contact': 1163, 'unfortunately': 1164, 'cover': 1165, 'fantastic': 1166, 'adult': 1167, 'repeatedly': 1168, 'hide': 1169, 'football': 1170, 'solely': 1171, 'visit': 1172, 'hence': 1173, 'stuck': 1174, 'anywhere': 1175, 'green': 1176, 'throughout': 1177, 'example': 1178, 'kick': 1179, 'thrilled': 1180, 'development': 1181, 'local': 1182, 'mention': 1183, 'follow': 1184, 'valuable': 1185, 'value': 1186, 'knowledge': 1187, 'reminder': 1188, 'fellow': 1189, 'posting': 1190, 'guilt': 1191, 'position': 1192, 'f': 1193, 'silence': 1194, 'band': 1195, 'hostile': 1196, 'culture': 1197, 'challenge': 1198, 'frankly': 1199, 'reassured': 1200, 'tragic': 1201, 'neurotic': 1202, 'ended': 1203, 'quiet': 1204, 'famous': 1205, 'store': 1206, 'view': 1207, 'worker': 1208, 'middle': 1209, 'relaxed': 1210, 'mountain': 1211, 'confidence': 1212, 'falling': 1213, 'workout': 1214, 'concern': 1215, 'private': 1216, 'trusting': 1217, 'arm': 1218, 'sudden': 1219, 'caught': 1220, 'appearance': 1221, 'afternoon': 1222, 'master': 1223, 'intense': 1224, 'earth': 1225, 'release': 1226, 'fast': 1227, 'habit': 1228, 'timid': 1229, 'trip': 1230, 'newborn': 1231, 'travel': 1232, 'mildly': 1233, 'force': 1234, 'clothes': 1235, 'shared': 1236, 'church': 1237, 'serious': 1238, 'capable': 1239, 'bright': 1240, 'accept': 1241, 'laugh': 1242, 'idiotic': 1243, 'everybody': 1244, 'catch': 1245, 'plain': 1246, 'mission': 1247, 'mentally': 1248, 'classroom': 1249, 'so': 1250, 'lose': 1251, 'comedy': 1252, 'drawn': 1253, 'decide': 1254, 'surgery': 1255, 'casual': 1256, 'productive': 1257, 'mix': 1258, 'devastated': 1259, 'acting': 1260, 'muscle': 1261, 'exercise': 1262, 'playful': 1263, 'political': 1264, 'goal': 1265, 'pregnant': 1266, 'teenage': 1267, 'sugar': 1268, 'oil': 1269, 'forgotten': 1270, 'clean': 1271, 'original': 1272, 'lying': 1273, 'hello': 1274, 'pull': 1275, 'study': 1276, 'audience': 1277, 'camera': 1278, 'process': 1279, 'slow': 1280, 'display': 1281, 'passing': 1282, 'assaulted': 1283, 'smug': 1284, 'till': 1285, 'alive': 1286, 'lame': 1287, 'drama': 1288, 'bare': 1289, 'plot': 1290, 'item': 1291, 'moved': 1292, 'triumphant': 1293, 'joke': 1294, 'grow': 1295, 'large': 1296, 'possibility': 1297, 'unable': 1298, 'closed': 1299, 'law': 1300, 'talked': 1301, 'hoping': 1302, 'loud': 1303, 'wet': 1304, 'universe': 1305, 'pool': 1306, 'overly': 1307, 'girlfriend': 1308, 'strength': 1309, 'belly': 1310, 'folk': 1311, 'setting': 1312, 'becoming': 1313, 'ungrateful': 1314, 'adventure': 1315, 'duty': 1316, 'biggest': 1317, 'hungry': 1318, 'stronger': 1319, 'generation': 1320, 'ad': 1321, 'theory': 1322, 'shut': 1323, 'check': 1324, 'recall': 1325, 'information': 1326, 'desperate': 1327, 'chemo': 1328, 'sensitive': 1329, 'series': 1330, 'risk': 1331, 'fresh': 1332, 'beside': 1333, 'instantly': 1334, 'thanks': 1335, 'various': 1336, 'english': 1337, 'overwhelming': 1338, 'interest': 1339, 'reminded': 1340, 'touched': 1341, 'directly': 1342, 'bus': 1343, 'response': 1344, 'whats': 1345, 'forgive': 1346, 'sin': 1347, 'showing': 1348, 'fighting': 1349, 'heat': 1350, 'frequently': 1351, 'quick': 1352, 'carefully': 1353, 'obvious': 1354, 'remind': 1355, 'raw': 1356, 'behavior': 1357, 'genuinely': 1358, 'accidentally': 1359, 'rejected': 1360, 'killing': 1361, 'topic': 1362, 'ahead': 1363, 'breeze': 1364, 'considerate': 1365, 'ex': 1366, 'changed': 1367, 'jump': 1368, 'sorrow': 1369, 'swim': 1370, 'frustration': 1371, 'fill': 1372, 'depression': 1373, 'wondering': 1374, 'die': 1375, 'anger': 1376, 'social': 1377, 'smiling': 1378, 'due': 1379, 'daily': 1380, 'carrying': 1381, 'listening': 1382, 'expensive': 1383, 'christ': 1384, 'path': 1385, 'calorie': 1386, 'simultaneously': 1387, 'suffering': 1388, 'dancing': 1389, 'floating': 1390, 'grab': 1391, 'forced': 1392, 'snap': 1393, 'fruit': 1394, 'weakness': 1395, 'date': 1396, 'aggravated': 1397, 'thank': 1398, 'suffer': 1399, 'plus': 1400, 'steady': 1401, 'society': 1402, 'radio': 1403, 'prayer': 1404, 'joining': 1405, 'mass': 1406, 'furious': 1407, 'occasionally': 1408, 'practice': 1409, 'taste': 1410, 'count': 1411, 'shouldnt': 1412, 'drunk': 1413, 'gym': 1414, 'created': 1415, 'ate': 1416, 'delighted': 1417, 'public': 1418, 'si': 1419, 'ignore': 1420, 'happily': 1421, 'th': 1422, 'dessert': 1423, 'wash': 1424, 'create': 1425, 'connection': 1426, 'journal': 1427, 'beer': 1428, 'worthless': 1429, 'dry': 1430, 'eight': 1431, 'clear': 1432, 'vaguely': 1433, 'juice': 1434, 'manner': 1435, 'wimpy': 1436, 'forget': 1437, 'screwed': 1438, 'obnoxious': 1439, 'shoulder': 1440, 'detail': 1441, 'staying': 1442, 'yoga': 1443, 'tug': 1444, 'landscape': 1445, 'specific': 1446, 'road': 1447, 'worried': 1448, 'sentence': 1449, 'breath': 1450, 'critical': 1451, 'customer': 1452, 'discontent': 1453, 'amused': 1454, 'image': 1455, 'actively': 1456, 'anticipation': 1457, 'played': 1458, 'experiment': 1459, 'describe': 1460, 'besides': 1461, 'listless': 1462, 'catching': 1463, 'lacking': 1464, 'wishing': 1465, 'source': 1466, 'ecstatic': 1467, 'remain': 1468, 'excitement': 1469, 'driving': 1470, 'standing': 1471, 'status': 1472, 'unprotected': 1473, 'being': 1474, 'watched': 1475, 'handed': 1476, 'wholly': 1477, 'thanksgiving': 1478, 'fitness': 1479, 'posted': 1480, 'toe': 1481, 'apart': 1482, 'previous': 1483, 'became': 1484, 'cost': 1485, 'judge': 1486, 'text': 1487, 'benefit': 1488, 'socially': 1489, 'breathe': 1490, 'vicious': 1491, 'door': 1492, 'activity': 1493, 'that': 1494, 'easier': 1495, 'broken': 1496, 'exceptionally': 1497, 'glass': 1498, 'caterpillar': 1499, 'inhibited': 1500, 'gut': 1501, 'key': 1502, 'remorseful': 1503, 'scent': 1504, 'brought': 1505, 'crowd': 1506, 'skill': 1507, 'lady': 1508, 'via': 1509, 'slight': 1510, 'kill': 1511, 'mild': 1512, 'club': 1513, 'appalled': 1514, 'focus': 1515, 'begging': 1516, 'emo': 1517, 'gotta': 1518, 'feature': 1519, 'pic': 1520, 'la': 1521, 'gay': 1522, 'offering': 1523, 'lunch': 1524, 'fever': 1525, 'cuz': 1526, 'carried': 1527, 'record': 1528, 'willing': 1529, 'technology': 1530, 'teach': 1531, 'option': 1532, 'environment': 1533, 'discover': 1534, 'desk': 1535, 'carefree': 1536, 'twice': 1537, 'rid': 1538, 'compliment': 1539, 'card': 1540, 'town': 1541, 'holiday': 1542, 'test': 1543, 'defending': 1544, 'shinobi': 1545, 'contraction': 1546, 'interested': 1547, 'laying': 1548, 'ball': 1549, 'convince': 1550, 'contented': 1551, 'specifically': 1552, 'held': 1553, 'motion': 1554, 'faster': 1555, 'following': 1556, 'hiding': 1557, 'birthday': 1558, 'realise': 1559, 'height': 1560, 'sky': 1561, 'pride': 1562, 'compared': 1563, 'hang': 1564, 'ride': 1565, 'fate': 1566, 'respond': 1567, 'just': 1568, 'elder': 1569, 'explaining': 1570, 'breaking': 1571, 'insult': 1572, 'painful': 1573, 'importantly': 1574, 'agree': 1575, 'decent': 1576, 'hating': 1577, 'aid': 1578, 'action': 1579, 'print': 1580, 'healing': 1581, 'violence': 1582, 'potential': 1583, 'per': 1584, 'checking': 1585, 'random': 1586, 'cried': 1587, 'expression': 1588, 'originally': 1589, 'extent': 1590, 'war': 1591, 'lead': 1592, 'nose': 1593, 'express': 1594, 'gesture': 1595, 'ludicrous': 1596, 'hey': 1597, 'egg': 1598, 'overload': 1599, 'brown': 1600, 'george': 1601, 'youve': 1602, 'pop': 1603, 'restaurant': 1604, 'ten': 1605, 'continually': 1606, 'dying': 1607, 'mixture': 1608, 'rep': 1609, 'aside': 1610, 'flower': 1611, 'precisely': 1612, 'remembering': 1613, 'religious': 1614, 'link': 1615, 'bigger': 1616, 'log': 1617, 'grey': 1618, 'david': 1619, 'intensely': 1620, 'jolly': 1621, 'creating': 1622, 'capture': 1623, 'education': 1624, 'mellow': 1625, 'lively': 1626, 'holding': 1627, 'latter': 1628, 'ending': 1629, 'oddly': 1630, 'worst': 1631, 'prize': 1632, 'momentarily': 1633, 'assured': 1634, 'brave': 1635, 'garden': 1636, 'purchase': 1637, 'added': 1638, 'mike': 1639, 'pleasantly': 1640, 'section': 1641, 'blanket': 1642, 'died': 1643, 'third': 1644, 'price': 1645, 'consuming': 1646, 'stare': 1647, 'unnecessary': 1648, 'received': 1649, 'breathing': 1650, 'drug': 1651, 'article': 1652, 'period': 1653, 'regret': 1654, 'player': 1655, 'major': 1656, 'internal': 1657, 'cope': 1658, 'title': 1659, 'naturally': 1660, 'affectionate': 1661, 'realistic': 1662, 'edge': 1663, 'tightly': 1664, 'opened': 1665, 'necessary': 1666, 'sandwich': 1667, 'endure': 1668, 'join': 1669, 'hateful': 1670, 'oily': 1671, 'bracelet': 1672, 'quality': 1673, 'presentation': 1674, 'lens': 1675, 'assignment': 1676, 'receive': 1677, 'sucked': 1678, 'drinking': 1679, 'rolled': 1680, 'messy': 1681, 'plant': 1682, 'winter': 1683, 'bread': 1684, 'brief': 1685, 'musical': 1686, 'complacent': 1687, 'as': 1688, 'fiercely': 1689, 'appreciative': 1690, 'service': 1691, 'mr': 1692, 'submissive': 1693, 'finishing': 1694, 'atmosphere': 1695, 'rule': 1696, 'crime': 1697, 'ish': 1698, 'unloved': 1699, 'eaten': 1700, 'whilst': 1701, 'annoying': 1702, 'humor': 1703, 'spray': 1704, 'majority': 1705, 'award': 1706, 'impression': 1707, 'distinct': 1708, 'rate': 1709, 'trouble': 1710, 'regarding': 1711, 'bookmark': 1712, 'improve': 1713, 'sincerely': 1714, 'bought': 1715, 'accident': 1716, 'reasonably': 1717, 'compare': 1718, 'serenity': 1719, 'sociable': 1720, 'thigh': 1721, 'remaining': 1722, 'twenty': 1723, 'tongue': 1724, 'cutting': 1725, 'pin': 1726, 'x': 1727, 'tackle': 1728, 'celebrate': 1729, 'feed': 1730, 'jesus': 1731, 'slutty': 1732, 'wind': 1733, 'saddened': 1734, 'guest': 1735, 'disillusioned': 1736, 'sensation': 1737, 'wing': 1738, 'handful': 1739, 'discussing': 1740, 'r': 1741, 'asian': 1742, 'government': 1743, 'urge': 1744, 'brew': 1745, 'french': 1746, 'nap': 1747, 'table': 1748, 'rel': 1749, 'storm': 1750, 'supported': 1751, 'c': 1752, 'male': 1753, 'ip': 1754, 'itd': 1755, 'wave': 1756, 'flying': 1757, 'subject': 1758, 'outgoing': 1759, 'figure': 1760, 'web': 1761, 'mentioned': 1762, 'movement': 1763, 'flat': 1764, 'bag': 1765, 'vacation': 1766, 'suspect': 1767, 'virtuous': 1768, 'needing': 1769, 'barely': 1770, 'natural': 1771, 'sexy': 1772, 'similarly': 1773, 'kitchen': 1774, 'horribly': 1775, 'wondered': 1776, 'packed': 1777, 'fails': 1778, 'product': 1779, 'wee': 1780, 'advice': 1781, 'ran': 1782, 'cheek': 1783, 'letter': 1784, 'cream': 1785, 'apple': 1786, 'site': 1787, 'ya': 1788, 'thousand': 1789, 'sequel': 1790, 'defend': 1791, 'tough': 1792, 'equal': 1793, 'including': 1794, 'career': 1795, 'forest': 1796, 'acted': 1797, 'complaining': 1798, 'disappeared': 1799, 'slip': 1800, 'dwell': 1801, 'infuriated': 1802, 'safety': 1803, 'experiencing': 1804, 'alright': 1805, 'plenty': 1806, 'document': 1807, 'freely': 1808, 'haha': 1809, 'depth': 1810, 'gown': 1811, 'initially': 1812, 'hoped': 1813, 'throwing': 1814, 'dealing': 1815, 'excitedly': 1816, 'bring': 1817, 'unusual': 1818, 'christian': 1819, 'factor': 1820, 'daddy': 1821, 'font': 1822, 'treasure': 1823, 'successfully': 1824, 'feelin': 1825, 'k': 1826, 'practically': 1827, 'neck': 1828, 'bother': 1829, 'baptized': 1830, 'motivated': 1831, 'semester': 1832, 'related': 1833, 'grade': 1834, 'disoriented': 1835, 'credit': 1836, 'return': 1837, 'lyric': 1838, 'tool': 1839, 'progress': 1840, 'resolution': 1841, 'shoe': 1842, 'noon': 1843, 'tap': 1844, 'combine': 1845, 'necessity': 1846, 'ground': 1847, 'magic': 1848, 'toxin': 1849, 'shopping': 1850, 'achieve': 1851, 'charming': 1852, 'appreciated': 1853, 'questioning': 1854, 'pearly': 1855, 'puppy': 1856, 'yearn': 1857, 'glycerin': 1858, 'pretend': 1859, 'reflect': 1860, 'lift': 1861, 'material': 1862, 'corner': 1863, 'warmth': 1864, 'gaze': 1865, 'pass': 1866, 'attempt': 1867, 'grandparent': 1868, 'ancestral': 1869, 'saving': 1870, 'civil': 1871, 'proper': 1872, 'severely': 1873, 'benevolent': 1874, 'colleague': 1875, 'victim': 1876, 'smooth': 1877, 'pink': 1878, 'dr': 1879, 'twelve': 1880, 'sing': 1881, 'hero': 1882, 'vintage': 1883, 'observation': 1884, 'bite': 1885, 'remembered': 1886, 'designer': 1887, 'sparkle': 1888, 'alongside': 1889, 'keen': 1890, 'african': 1891, 'century': 1892, 'explained': 1893, 'vision': 1894, 'craft': 1895, 'deserves': 1896, 'shot': 1897, 'manage': 1898, 'sam': 1899, 'remembrance': 1900, 'justin': 1901, 'category': 1902, 'sign': 1903, 'covered': 1904, 'wild': 1905, 'tiredness': 1906, 'concentrated': 1907, 'timetable': 1908, 'basic': 1909, 'spring': 1910, 'inevitably': 1911, 'shade': 1912, 'immensely': 1913, 'hurting': 1914, 'struggling': 1915, 'building': 1916, 'pace': 1917, 'abused': 1918, 'til': 1919, 'hop': 1920, 'becomes': 1921, 'sunday': 1922, 'lil': 1923, 'coffee': 1924, 'caffeine': 1925, 'craving': 1926, 'singer': 1927, 'tin': 1928, 'south': 1929, 'hadnt': 1930, 'closing': 1931, 'chapter': 1932, 'mirror': 1933, 'foreign': 1934, 'mainly': 1935, 'greatly': 1936, 'production': 1937, 'followed': 1938, 'bonding': 1939, 'miracle': 1940, 'filled': 1941, 'haze': 1942, 'program': 1943, 'resident': 1944, 'grasp': 1945, 'mask': 1946, 'novel': 1947, 'blake': 1948, 'mum': 1949, 'dropped': 1950, 'pouring': 1951, 'ward': 1952, 'temple': 1953, 'quote': 1954, 'spoiled': 1955, 'darling': 1956, 'dancer': 1957, 'remembers': 1958, 'column': 1959, 'double': 1960, 'sooner': 1961, 'entered': 1962, 'vast': 1963, 'weepy': 1964, 'refreshed': 1965, 'bringing': 1966, 'mothering': 1967, 'yard': 1968, 'combination': 1969, 'canadian': 1970, 'literary': 1971, 'submit': 1972, 'enter': 1973, 'aspect': 1974, 'kidnapped': 1975, 'stolen': 1976, 'tour': 1977, 'naked': 1978, 'pm': 1979, 'enamoured': 1980, 'pleasure': 1981, 'wound': 1982, 'wise': 1983, 'jealousy': 1984, 'relate': 1985, 'complaint': 1986, 'marie': 1987, 'draw': 1988, 'relatively': 1989, 'search': 1990, 'silent': 1991, 'neglectful': 1992, 'shirt': 1993, 'amazingly': 1994, 'organization': 1995, 'common': 1996, 'include': 1997, 'brilliant': 1998, 'recognizing': 1999, 'cigarette': 2000, 'kuya': 2001, 'buddy': 2002, 'elegant': 2003, 'briefly': 2004, 'aloud': 2005, 'developed': 2006, 'weak': 2007, 'scattered': 2008, 'ridiculous': 2009, 'unworthy': 2010, 'wide': 2011, 'dating': 2012, 'sake': 2013, 'pair': 2014, 'wipe': 2015, 'background': 2016, 'attack': 2017, 'despised': 2018, 'serve': 2019, 'manager': 2020, 'yomis': 2021, 'washing': 2022, 'gel': 2023, 'practical': 2024, 'unwanted': 2025, 'downstairs': 2026, 'resentment': 2027, 'courage': 2028, 'round': 2029, 'creativity': 2030, 'fabric': 2031, 'giant': 2032, 'facing': 2033, 'heal': 2034, 'raising': 2035, 'blur': 2036, 'allowfullscreen': 2037, 'resigned': 2038, 'luckily': 2039, 'heck': 2040, 'jumped': 2041, 'contain': 2042, 'casually': 2043, 'tech': 2044, 'picked': 2045, 'painfully': 2046, 'cash': 2047, 'pip': 2048, 'awe': 2049, 'addition': 2050, 'london': 2051, 'welcomed': 2052, 'incredible': 2053, 'dressing': 2054, 'scott': 2055, 'scary': 2056, 'shed': 2057, 'several': 2058, 'fiction': 2059, 'versus': 2060, 'distance': 2061, 'faith': 2062, 'circle': 2063, 'gradually': 2064, 'mental': 2065, 'remove': 2066, 'pursue': 2067, 'grouchy': 2068, 'zombie': 2069, 'hockey': 2070, 'headed': 2071, 'countless': 2072, 'chase': 2073, 'dragon': 2074, 'mercy': 2075, 'describing': 2076, 'freak': 2077, 'sloth': 2078, 'disheartened': 2079, 'reaching': 2080, 'syndrome': 2081, 'attracted': 2082, 'population': 2083, 'condition': 2084, 'perverse': 2085, 'sticky': 2086, 'rush': 2087, 'illness': 2088, 'aunt': 2089, 'discus': 2090, 'upload': 2091, 'quit': 2092, 'jack': 2093, 'kenny': 2094, 'snob': 2095, 'intellectually': 2096, 'flipping': 2097, 'invigorated': 2098, 'starved': 2099, 'vampire': 2100, 'presented': 2101, 'foolish': 2102, 'e': 2103, 'sinai': 2104, 'demand': 2105, 'compassion': 2106, 'dismayed': 2107, 'terror': 2108, 'elderly': 2109, 'communicate': 2110, 'satisfaction': 2111, 'sending': 2112, 'handled': 2113, 'ballroom': 2114, 'cd': 2115, 'target': 2116, 'creature': 2117, 'absolute': 2118, 'happier': 2119, 'retrospect': 2120, 'dash': 2121, 'emily': 2122, 'colon': 2123, 'overseas': 2124, 'schs': 2125, 'identity': 2126, 'costume': 2127, 'washed': 2128, 'handling': 2129, 'altogether': 2130, 'connect': 2131, 'reputation': 2132, 'youll': 2133, 'obligation': 2134, 'wandering': 2135, 'heavy': 2136, 'glimpse': 2137, 'failing': 2138, '2': 2139, 'toilet': 2140, 'japanese': 2141, 'meaning': 2142, 'moral': 2143, 'unfortunate': 2144, 'cat': 2145, 'victimized': 2146, 'higher': 2147, 'encouraging': 2148, 'twitter': 2149, 'spider': 2150, 'situated': 2151, 'barrier': 2152, 'struggle': 2153, 'sacrifice': 2154, 'typically': 2155, 'couch': 2156, 'blond': 2157, 'depend': 2158, 'fish': 2159, 'beating': 2160, 'claret': 2161, 'jug': 2162, 'freshness': 2163, 'headache': 2164, 'poetry': 2165, 'nd': 2166, 'zone': 2167, 'windy': 2168, 'pregnancy': 2169, 'range': 2170, 'exposed': 2171, 'episode': 2172, 'inner': 2173, 'greatest': 2174, 'academic': 2175, 'drove': 2176, 'focusing': 2177, 'promised': 2178, 'marriage': 2179, 'sensible': 2180, 'whatsoever': 2181, 'dragging': 2182, 'hopeful': 2183, 'queen': 2184, 'sized': 2185, 'sounding': 2186, 'harrassment': 2187, 'coerced': 2188, 'lover': 2189, 'empathetic': 2190, 'smoothie': 2191, 'land': 2192, 'partner': 2193, 'alcoholic': 2194, 'shadow': 2195, 'console': 2196, 'impact': 2197, 'plane': 2198, 'hyper': 2199, 'pavement': 2200, 'dumped': 2201, 'forgiving': 2202, 'deodorant': 2203, 'lore': 2204, 'required': 2205, 'empathy': 2206, 'idiot': 2207, 'adjective': 2208, 'sara': 2209, 'padding': 2210, 'appealing': 2211, 'triumph': 2212, 'diversity': 2213, 'suffered': 2214, 'disorder': 2215, 'mere': 2216, 'fulfilled': 2217, 'stroke': 2218, 'officer': 2219, 'sharp': 2220, 'poke': 2221, 'block': 2222, 'copy': 2223, 'stone': 2224, 'saved': 2225, 'flattered': 2226, 'asks': 2227, 'achieved': 2228, 'plastic': 2229, 'largely': 2230, 'receiving': 2231, 'wildly': 2232, 'exciting': 2233, 'actor': 2234, 'cleaner': 2235, 'learnt': 2236, 'margaret': 2237, 'exam': 2238, 'viewing': 2239, 'universal': 2240, 'wow': 2241, 'homework': 2242, 'size': 2243, 'graduation': 2244, 'fearless': 2245, 'hidden': 2246, 'rely': 2247, 'digital': 2248, 'craves': 2249, 'fortunate': 2250, 'pepper': 2251, 'rice': 2252, 'steep': 2253, 'bike': 2254, 'anthony': 2255, 'protected': 2256, 'sympathy': 2257, 'allergy': 2258, 'rite': 2259, 'minimize': 2260, 'scientific': 2261, 'combined': 2262, 'patch': 2263, 'cap': 2264, 'note': 2265, 'drop': 2266, 'trophy': 2267, 'mixed': 2268, 'jim': 2269, 'golden': 2270, 'file': 2271, 'angel': 2272, 'effective': 2273, 'armor': 2274, 'upstairs': 2275, 'embrace': 2276, 'appointment': 2277, 'breast': 2278, 'unpleasant': 2279, 'vanilla': 2280, 'powder': 2281, 'essential': 2282, 'context': 2283, 'admire': 2284, 'dare': 2285, 'murder': 2286, 'quirky': 2287, 'false': 2288, 'informed': 2289, 'married': 2290, 'follows': 2291, 'nowhere': 2292, 'slice': 2293, 'begged': 2294, 'imagining': 2295, 'gracious': 2296, 'bear': 2297, 'decoration': 2298, 'appeal': 2299, 'se': 2300, 'avoiding': 2301, 'abandoned': 2302, 'shock': 2303, 'vegetable': 2304, 'bird': 2305, 'tiger': 2306, 'relating': 2307, 'opposition': 2308, 'missionary': 2309, 'personality': 2310, 'antsy': 2311, 'burning': 2312, 'grace': 2313, 'introduce': 2314, 'celebrated': 2315, 'captivated': 2316, 'clothing': 2317, 'bunch': 2318, 'accessory': 2319, 'jewellery': 2320, 'diamond': 2321, 'tension': 2322, 'siren': 2323, 'native': 2324, 'supposedly': 2325, 'psychologist': 2326, 'gallery': 2327, 'fulfill': 2328, 'admitted': 2329, 'cup': 2330, 'flash': 2331, 'potentially': 2332, 'disturb': 2333, 'pattern': 2334, 'aryiku': 2335, 'unusually': 2336, 'ear': 2337, 'tag': 2338, 'indicated': 2339, 'tropical': 2340, 'scenario': 2341, 'connected': 2342, 'morally': 2343, 'clicked': 2344, 'exist': 2345, 'thanked': 2346, 'sent': 2347, 'alien': 2348, 'adding': 2349, 'relax': 2350, 'spiritual': 2351, 'awareness': 2352, 'sl': 2353, 'mama': 2354, 'james': 2355, 'lit': 2356, 'noted': 2357, 'cooped': 2358, 'itll': 2359, 'earring': 2360, 'loneliness': 2361, 'raise': 2362, 'raised': 2363, 'aware': 2364, 'safely': 2365, 'beatles': 2366, 'equation': 2367, 'dig': 2368, 'form': 2369, 'wasted': 2370, 'swing': 2371, 'tub': 2372, 'nut': 2373, 'entering': 2374, 'bathroom': 2375, 'devotion': 2376, 'rejection': 2377, 'awfully': 2378, 'gossip': 2379, 'logging': 2380, 'lay': 2381, 'coat': 2382, 'endless': 2383, 'lettuce': 2384, 'nine': 2385, 'resource': 2386, 'notebook': 2387, 'holy': 2388, 'ole': 2389, 'surface': 2390, 'mark': 2391, 'quo': 2392, 'nudge': 2393, 'clue': 2394, 'sunshine': 2395, 'drake': 2396, 'pang': 2397, 'instance': 2398, 'role': 2399, 'comic': 2400, 'controlling': 2401, 'surround': 2402, 'pulling': 2403, 'blinded': 2404, 'cure': 2405, 'russia': 2406, 'citizen': 2407, 'river': 2408, 'jean': 2409, 'adventurous': 2410, 'dialog': 2411, 'despair': 2412, 'teaching': 2413, 'longed': 2414, 'comparison': 2415, 'g': 2416, 'sweat': 2417, 'xvi': 2418, 'whose': 2419, 'animal': 2420, 'core': 2421, 'ryan': 2422, 'root': 2423, 'giver': 2424, 'bruised': 2425, 'them': 2426, 'rain': 2427, 'indulgent': 2428, 'butterfly': 2429, 'attending': 2430, 'laundry': 2431, 'whiney': 2432, 'app': 2433, 'maker': 2434, 'bitterly': 2435, 'limit': 2436, 'fridge': 2437, 'wine': 2438, 'orange': 2439, 'precise': 2440, 'wouldve': 2441, 'stating': 2442, 'intelligent': 2443, 'temperature': 2444, 'scarlet': 2445, 'reply': 2446, 'myspace': 2447, 'broad': 2448, 'hanging': 2449, 'ignoring': 2450, 'rabbit': 2451, 'california': 2452, 'hint': 2453, 'of': 2454, 'incident': 2455, 'description': 2456, 'sufficiently': 2457, 'oncologist': 2458, 'b': 2459, 'discovering': 2460, 'float': 2461, 'educated': 2462, 'larger': 2463, 'highlight': 2464, 'deeper': 2465, 'wig': 2466, 'consumed': 2467, 'closure': 2468, 'develop': 2469, 'forgot': 2470, 'deliberately': 2471, 'climbed': 2472, 'cherry': 2473, 'thick': 2474, 'lest': 2475, 'stealing': 2476, 'very': 2477, 'impressive': 2478, 'clinic': 2479, 'butt': 2480, 'pile': 2481, 'wrapped': 2482, 'narrative': 2483, 'loaded': 2484, 'shape': 2485, 'twin': 2486, 'alternative': 2487, 'participate': 2488, 'domain': 2489, 'bill': 2490, 'fragrance': 2491, 'suggested': 2492, 'direct': 2493, 'solution': 2494, '1': 2495, 'exhibit': 2496, 'dam': 2497, 'cheer': 2498, 'unique': 2499, 'birth': 2500, 'score': 2501, 'cross': 2502, 'messed': 2503, 'president': 2504, 'conservative': 2505, 'heartache': 2506, 'shell': 2507, 'harmonious': 2508, 'scale': 2509, 'patient': 2510, 'tapped': 2511, 'unknown': 2512, 'thoughtful': 2513, 'continues': 2514, 'spin': 2515, 'scan': 2516, 'cook': 2517, 'meal': 2518, 'preschool': 2519, 'constructive': 2520, 'frequency': 2521, 'whiny': 2522, 'vile': 2523, 'crave': 2524, 'lighter': 2525, 'rhythm': 2526, 'guessed': 2527, 'oscar': 2528, 'pub': 2529, 'sensory': 2530, 'extended': 2531, 'here': 2532, 'select': 2533, 'wednesday': 2534, 'nerve': 2535, 'rock': 2536, 'handsome': 2537, 'advance': 2538, 'depending': 2539, 'growth': 2540, 'dat': 2541, 'spiteful': 2542, 'tempted': 2543, 'giggly': 2544, 'linger': 2545, 'youthful': 2546, 'expecting': 2547, 'dollar': 2548, 'spoken': 2549, 'righteousness': 2550, 'bone': 2551, 'battle': 2552, 'opening': 2553, 'instant': 2554, 'todd': 2555, 'stir': 2556, 'cruel': 2557, 'adopt': 2558, 'someday': 2559, 'studio': 2560, 'pen': 2561, 'rachel': 2562, 'petrified': 2563, 'pictured': 2564, 'doll': 2565, 'decorate': 2566, 'collection': 2567, 'destroying': 2568, 'autumn': 2569, 'refreshing': 2570, 'sting': 2571, 'unlike': 2572, 'closer': 2573, 'pure': 2574, 'bridge': 2575, 'lifestyle': 2576, 'positively': 2577, 'bond': 2578, 'bos': 2579, 'cocky': 2580, 'jersey': 2581, 'debate': 2582, 'rapidly': 2583, 'disgusting': 2584, 'weapon': 2585, 'medicine': 2586, 'uncle': 2587, 'neutral': 2588, 'nofollow': 2589, 'eve': 2590, 'sexually': 2591, 'reacting': 2592, 'assume': 2593, 'influenced': 2594, 'polish': 2595, 'humbling': 2596, 'influence': 2597, 'neuropathy': 2598, 'allows': 2599, 'confess': 2600, 'hehe': 2601, 'spontaneously': 2602, 'stephanie': 2603, 'verdict': 2604, 'ridiculously': 2605, 'dump': 2606, 'peter': 2607, 'described': 2608, 'deserved': 2609, 'medication': 2610, 'trauma': 2611, 'shift': 2612, 'screaming': 2613, 'lab': 2614, 'sight': 2615, 'virginia': 2616, 'copper': 2617, 'noticing': 2618, 'google': 2619, 'west': 2620, 'china': 2621, 'budget': 2622, 'rise': 2623, 'balance': 2624, 'occasion': 2625, 'savage': 2626, 'tom': 2627, 'brand': 2628, 'affected': 2629, 'stole': 2630, 'foster': 2631, 'guiding': 2632, 'teen': 2633, 'bout': 2634, 'mighty': 2635, 'cousin': 2636, 'underneath': 2637, 'atop': 2638, 'none': 2639, 'enemy': 2640, 'proposed': 2641, 'chasing': 2642, 'staring': 2643, 'theme': 2644, 'throne': 2645, 'coach': 2646, 'standard': 2647, 'steve': 2648, 'attached': 2649, 'whispered': 2650, 'unhealthy': 2651, 'talent': 2652, 'refuse': 2653, 'emphasize': 2654, 'godly': 2655, 'legend': 2656, 'disturbed': 2657, 'ordinary': 2658, 'sorta': 2659, 'blindly': 2660, 'transformation': 2661, 'disaster': 2662, 'cringe': 2663, 'typing': 2664, 'charged': 2665, 'ideal': 2666, 'sum': 2667, 'adore': 2668, 'mouth': 2669, 'pushing': 2670, 'rare': 2671, 'neglected': 2672, 'sword': 2673, 'france': 2674, 'dawn': 2675, 'cupcake': 2676, 'tho': 2677, 'permanent': 2678, 'chain': 2679, 'grocery': 2680, 'tube': 2681, 'surprising': 2682, 'bug': 2683, 'prominent': 2684, 'foundation': 2685, 'distinctly': 2686, 'york': 2687, 'religion': 2688, 'hurry': 2689, 'fell': 2690, 'agent': 2691, 'resting': 2692, 'prepared': 2693, 'promise': 2694, 'hip': 2695, 'priority': 2696, 'panic': 2697, 'mode': 2698, 'seemingly': 2699, 'classic': 2700, 'spell': 2701, 'inspiration': 2702, 'mush': 2703, 'vocal': 2704, 'theyll': 2705, 'wonderfully': 2706, 'shoot': 2707, 'british': 2708, 'focused': 2709, 'impacted': 2710, 'geographically': 2711, 'australian': 2712, 'denied': 2713, 'unity': 2714, 'weve': 2715, 'circumstance': 2716, 'previously': 2717, 'vividly': 2718, 'design': 2719, 'stick': 2720, 'smack': 2721, 'paid': 2722, 'me': 2723, 'flustered': 2724, 'fame': 2725, 'los': 2726, 'angeles': 2727, 'starter': 2728, 'needle': 2729, 'fellowship': 2730, 'inherent': 2731, 'shame': 2732, 'downtown': 2733, 'stayed': 2734, 'ultimate': 2735, 'appropriate': 2736, 'base': 2737, 'annual': 2738, 'patiently': 2739, 'earthquake': 2740, 'gather': 2741, 'blowout': 2742, 'viewed': 2743, 'arcade': 2744, 'revenge': 2745, 'soo': 2746, 'language': 2747, 'brings': 2748, 'nauseous': 2749, 'when': 2750, 'consequence': 2751, 'former': 2752, 'settle': 2753, 'excluded': 2754, 'curl': 2755, 'chose': 2756, 'offensive': 2757, 'tale': 2758, 'lake': 2759, 'defensive': 2760, 'fandom': 2761, 'insecurity': 2762, 'saturday': 2763, 'closest': 2764, 'theyd': 2765, 'abuse': 2766, 'therapy': 2767, 'extraordinarily': 2768, 'chosen': 2769, 'insane': 2770, 'gazing': 2771, 'smaller': 2772, 'november': 2773, 'pre': 2774, 'maintaining': 2775, 'goodbye': 2776, 'sometime': 2777, 'intentionally': 2778, 'iron': 2779, 'north': 2780, 'bashful': 2781, 'essentially': 2782, 'routine': 2783, 'variety': 2784, 'withdrawn': 2785, 'noone': 2786, 'impostor': 2787, 'visitor': 2788, 'el': 2789, 'splurge': 2790, 'spur': 2791, 'blah': 2792, 'timing': 2793, 'politician': 2794, 'collar': 2795, 'bounce': 2796, 'singapore': 2797, 'div': 2798, 'clearboth': 2799, 'coincidence': 2800, 'ecstasy': 2801, 'disability': 2802, 'targeted': 2803, 'sensationalist': 2804, 'newtown': 2805, 'connecticut': 2806, 'confusion': 2807, 'recovered': 2808, 'mira': 2809, 'castle': 2810, 'lowly': 2811, 'reserved': 2812, 'lock': 2813, 'plate': 2814, 'choir': 2815, 'paste': 2816, 'manuscript': 2817, 'goldschlager': 2818, 'immediate': 2819, 'purchasing': 2820, 'vancouver': 2821, 'constructivism': 2822, 'unit': 2823, 'slipper': 2824, 'dopey': 2825, '17': 2826, 'posh': 2827, 'cushy': 2828, 'carseat': 2829, 'toddler': 2830, 'assessment': 2831, 'reluctantly': 2832, 'curiously': 2833, 'nemo': 2834, 'hi': 2835, 'cathy': 2836, 'session': 2837, 'distortion': 2838, 'serina': 2839, 'snug': 2840, 'comatose': 2841, 'whiff': 2842, 'highschool': 2843, 'concept': 2844, 'throat': 2845, 'onguard': 2846, 'regime': 2847, 'nip': 2848, 'bud': 2849, 'weighing': 2850, 'filling': 2851, 'georgia': 2852, 'serif': 2853, 'px': 2854, 'yk': 2855, 'idling': 2856, 'funky': 2857, 'promotion': 2858, 'possession': 2859, 'harm': 2860, 'dreamy': 2861, 'slut': 2862, 'creep': 2863, 'tummy': 2864, 'comparing': 2865, 'sneha': 2866, 'endured': 2867, 'wth': 2868, 'wishful': 2869, 'gaining': 2870, 'financial': 2871, 'commitment': 2872, 'cashier': 2873, 'fumble': 2874, 'coin': 2875, 'purse': 2876, 'relative': 2877, 'seek': 2878, 'conscience': 2879, 'optimism': 2880, 'refusal': 2881, 'trap': 2882, 'weewee': 2883, 'eluded': 2884, 'adoption': 2885, 'district': 2886, 'beachbody': 2887, 'metal': 2888, 'kim': 2889, 'profile': 2890, 'okc': 2891, 'eharmony': 2892, 'dirt': 2893, 'birthed': 2894, 'genetices': 2895, 'midterm': 2896, 'judged': 2897, 'jeered': 2898, 'infection': 2899, 'shooting': 2900, 'unprofessional': 2901, 'academy': 2902, 'allowed': 2903, 'stimulating': 2904, 'eternal': 2905, 'tone': 2906, 'wilder': 2907, 'apartment': 2908, 'gp': 2909, 'rested': 2910, 'vented': 2911, 'excuse': 2912, 'communicat': 2913, 'grayish': 2914, 'nowadays': 2915, 'hilariously': 2916, 'metaphor': 2917, 'backed': 2918, 'chink': 2919, 'dismiss': 2920, 'rebellion': 2921, 'mentality': 2922, 'ha': 2923, 'goth': 2924, 'radiologist': 2925, 'protocol': 2926, 'hobble': 2927, 'clicking': 2928, 'protein': 2929, 'mashmellows': 2930, 'accurately': 2931, 'outpouring': 2932, 'harmful': 2933, 'floor': 2934, 'stretch': 2935, 'discovered': 2936, 'nipping': 2937, 'accomplished': 2938, 'assumption': 2939, 'utter': 2940, 'festive': 2941, 'condone': 2942, 'coworker': 2943, 'gracias': 2944, 'por': 2945, 'todo': 2946, 'thus': 2947, 'cheese': 2948, 'chip': 2949, 'trail': 2950, 'zico': 2951, 'coconut': 2952, 'lends': 2953, 'explanation': 2954, 'projected': 2955, 'potato': 2956, 'legally': 2957, 'hollyoaks': 2958, 'suppport': 2959, 'quilting': 2960, 'stared': 2961, 'whimsical': 2962, 'sensibility': 2963, 'cheap': 2964, 'inscrie': 2965, 'intr': 2966, 'un': 2967, 'rafinament': 2968, 'lejer': 2969, 'extrem': 2970, 'feminin': 2971, 'carryout': 2972, 'taco': 2973, 'teamed': 2974, 'aj': 2975, 'frowned': 2976, 'intake': 2977, 'reilly': 2978, 'cleansing': 2979, 'robbed': 2980, 'serence': 2981, 'heavier': 2982, 'normalized': 2983, 'oblivion': 2984, 'hovel': 2985, 'enormous': 2986, 'mourn': 2987, 'believed': 2988, 'derby': 2989, 'familiarity': 2990, 'janis': 2991, 'sander': 2992, 'abusing': 2993, 'farther': 2994, 'metformin': 2995, 'overslept': 2996, 'hangover': 2997, 'kicked': 2998, 'mid': 2999, 'replied': 3000, 'repentant': 3001, 'considered': 3002, 'woefully': 3003, 'adorable': 3004, 'concentrate': 3005, 'compagnon': 3006, 'whooped': 3007, 'bat': 3008, 'unsteady': 3009, 'duration': 3010, 'polyamorous': 3011, 'unemployed': 3012, 'hung': 3013, 'recovering': 3014, 'unappreciated': 3015, 'blonde': 3016, 'observed': 3017, 'disconnected': 3018, 'babysitter': 3019, 'guitar': 3020, 'apologize': 3021, 'diaper': 3022, 'shop': 3023, 'qualified': 3024, 'venue': 3025, 'questioned': 3026, 'spilled': 3027, 'calmly': 3028, 'aspire': 3029, 'austere': 3030, 'introspective': 3031, 'euskc': 3032, 'ignorant': 3033, 'healer': 3034, 'quarter': 3035, 'operation': 3036, 'participating': 3037, 'jesse': 3038, 'hike': 3039, 'mihm': 3040, 'yardage': 3041, 'firmly': 3042, 'measurement': 3043, 'medical': 3044, 'puzzled': 3045, 'wiggle': 3046, 'pelvis': 3047, 'bump': 3048, 'thump': 3049, 'singing': 3050, 'lightmeter': 3051, 'characteristic': 3052, 'photography': 3053, 'tyler': 3054, 'quilt': 3055, 'invitation': 3056, 'instinct': 3057, 'chill': 3058, 'freaky': 3059, 'bbm': 3060, 'frickin': 3061, 'loose': 3062, 'sitter': 3063, 'knitting': 3064, 'pump': 3065, 'tolerating': 3066, 'model': 3067, 'watcher': 3068, 'consisting': 3069, 'museli': 3070, 'yoghurt': 3071, 'prolonged': 3072, 'subsequently': 3073, 'dilute': 3074, 'wander': 3075, 'market': 3076, 'solved': 3077, 'visual': 3078, 'liverpool': 3079, 'puzzle': 3080, 'zumba': 3081, 'housewife': 3082, 'esque': 3083, 'korean': 3084, 'omg': 3085, 'moonbeam': 3086, 'shine': 3087, 'dreamily': 3088, 'humbled': 3089, 'swarming': 3090, 'carnivore': 3091, 'comforted': 3092, 'hunter': 3093, 'outcome': 3094, 'spite': 3095, 'screen': 3096, 'pot': 3097, 'chick': 3098, 'primarily': 3099, 'jubilant': 3100, 'elation': 3101, 'drip': 3102, 'rlsh': 3103, 'gimmick': 3104, 'gulam': 3105, 'ali': 3106, 'classical': 3107, 'joined': 3108, 'elihu': 3109, 'christmastime': 3110, 'mill': 3111, 'darkly': 3112, 'stately': 3113, 'dignified': 3114, 'urgent': 3115, 'drew': 3116, 'ugliness': 3117, 'ceo': 3118, 'bob': 3119, 'relented': 3120, 'corrected': 3121, 'annoyingly': 3122, 'fuel': 3123, 'designing': 3124, 'bridesmaid': 3125, 'stray': 3126, 'mansoor': 3127, 'structural': 3128, 'linguistics': 3129, 'deconstructionist': 3130, 'clamour': 3131, 'director': 3132, 'wardrode': 3133, 'decade': 3134, 'feverish': 3135, 'expose': 3136, 'confronted': 3137, 'respecting': 3138, 'lied': 3139, 'nearest': 3140, 'nyquil': 3141, 'arranged': 3142, 'outing': 3143, 'catholic': 3144, 'vortex': 3145, 'rating': 3146, 'frustrates': 3147, 'cherished': 3148, 'tranny': 3149, 'hiatus': 3150, 'sprog': 3151, 'peculiar': 3152, 'encounter': 3153, 'palpably': 3154, 'rat': 3155, 'speechless': 3156, 'meaningless': 3157, 'diagram': 3158, 'leadership': 3159, 'freezing': 3160, 'immense': 3161, 'invited': 3162, 'stoop': 3163, 'sink': 3164, 'milk': 3165, 'glow': 3166, 'relation': 3167, 'thereof': 3168, 'investigator': 3169, 'ponder': 3170, 'esteem': 3171, 'purposeless': 3172, 'equilibrium': 3173, 'sims': 3174, 'recede': 3175, 'reached': 3176, 'faced': 3177, 'owning': 3178, 'clog': 3179, 'pore': 3180, 'baker': 3181, 'smallest': 3182, 'hall': 3183, 'sideline': 3184, 'ye': 3185, 'tends': 3186, 'necklace': 3187, 'fleet': 3188, 'adjust': 3189, 'survive': 3190, 'toddlerhood': 3191, 'mack': 3192, 'michael': 3193, 'quest': 3194, 'axilla': 3195, 'ached': 3196, 'upstream': 3197, 'strip': 3198, 'corpse': 3199, 'tied': 3200, 'stock': 3201, 'happenstance': 3202, 'lingering': 3203, 'performed': 3204, 'wayne': 3205, 'nikki': 3206, 'minaj': 3207, 'dope': 3208, 'dread': 3209, 'senior': 3210, 'legitimate': 3211, 'authentic': 3212, 'piano': 3213, 'hercules': 3214, 'grew': 3215, 'stopping': 3216, 'attacked': 3217, 'wallet': 3218, 'portray': 3219, 'intermarrying': 3220, 'lane': 3221, 'gardening': 3222, 'border': 3223, 'slobby': 3224, 'trimester': 3225, 'trusted': 3226, 'storage': 3227, 'closet': 3228, 'smiled': 3229, 'irrational': 3230, 'jaw': 3231, 'bold': 3232, 'leopard': 3233, 'munch': 3234, 'savory': 3235, 'yearned': 3236, 'homey': 3237, 'warming': 3238, 'belittled': 3239, 'keyed': 3240, 'trigger': 3241, 'inarticulate': 3242, 'laughable': 3243, 'flattened': 3244, 'knowledgeable': 3245, 'flowy': 3246, 'springy': 3247, 'drank': 3248, 'chendol': 3249, 'kacang': 3250, 'hyena': 3251, 'idiocy': 3252, 'supremely': 3253, 'fastforwarding': 3254, 'animosity': 3255, 'alot': 3256, 'actuality': 3257, 'miller': 3258, 'devour': 3259, 'bitten': 3260, 'sausage': 3261, 'bar': 3262, 'traveling': 3263, 'unfairness': 3264, 'companion': 3265, 'pee': 3266, 'poking': 3267, 'stimulation': 3268, 'feelings': 3269, 'britain': 3270, 'louis': 3271, 'antoinette': 3272, 'comparatively': 3273, 'psycho': 3274, 'capitol': 3275, 'chemistry': 3276, 'engaging': 3277, 'watchable': 3278, 'tomato': 3279, 'sophist': 3280, 'classwork': 3281, 'examine': 3282, 'exempted': 3283, 'veer': 3284, 'disorientated': 3285, 'queasy': 3286, 'ben': 3287, 'modern': 3288, 'yelp': 3289, 'hunting': 3290, 'released': 3291, 'village': 3292, 'jurer': 3293, 'construction': 3294, 'nurturing': 3295, 'primary': 3296, 'obbie': 3297, 'abit': 3298, 'east': 3299, 'from': 3300, 'conspiracy': 3301, 'unsolved': 3302, 'hugely': 3303, 'awhile': 3304, 'guide': 3305, 'affection': 3306, 'frog': 3307, 'recover': 3308, 'inclined': 3309, 'alexander': 3310, 'persistence': 3311, 'relish': 3312, 'squelching': 3313, 'mud': 3314, 'reckless': 3315, 'junk': 3316, 'angee': 3317, 'unfolds': 3318, 'launch': 3319, 'opener': 3320, 'cheaper': 3321, 'eatery': 3322, 'spice': 3323, 'flavor': 3324, 'ebony': 3325, 'pinpoint': 3326, 'ass': 3327, 'coolum': 3328, 'tendency': 3329, 'repeating': 3330, 'romantically': 3331, 'immerse': 3332, 'leech': 3333, 'conference': 3334, 'persistent': 3335, 'nonsense': 3336, 'advertising': 3337, 'knee': 3338, 'biggie': 3339, 'winner': 3340, 'bore': 3341, 'testimony': 3342, 'remotely': 3343, 'oneself': 3344, 'merely': 3345, 'biological': 3346, 'garbage': 3347, 'somebody': 3348, 'insatiably': 3349, 'marketing': 3350, 'sasuke': 3351, 'fatally': 3352, 'bath': 3353, 'lb': 3354, 'creeping': 3355, 'hyde': 3356, 'row': 3357, 'dip': 3358, 'oriented': 3359, 'lh': 3360, 'junior': 3361, 'drugged': 3362, 'communion': 3363, 'tremendous': 3364, 'theologically': 3365, 'patience': 3366, 'economically': 3367, 'pinning': 3368, 'nanashi': 3369, 'cycle': 3370, 'articulating': 3371, 'verbally': 3372, 'buying': 3373, 'blush': 3374, 'willingly': 3375, 'chiangmai': 3376, 'bishan': 3377, 'fetch': 3378, 'nick': 3379, 'distant': 3380, 'mindset': 3381, 'radiation': 3382, 'initally': 3383, 'internist': 3384, 'nasal': 3385, 'sarcoma': 3386, 'destiny': 3387, 'hospitalized': 3388, 'opposite': 3389, 'benedict': 3390, 'dislike': 3391, 'susceptible': 3392, 'corporate': 3393, 'traded': 3394, 'management': 3395, 'rotation': 3396, 'recommend': 3397, 'residue': 3398, 'brownish': 3399, 'tint': 3400, 'brow': 3401, 'grandfather': 3402, 'lifetime': 3403, 'damage': 3404, 'frame': 3405, 'bruise': 3406, 'fragile': 3407, 'certifiably': 3408, 'contrast': 3409, 'snake': 3410, 'crawling': 3411, 'climb': 3412, 'curveballs': 3413, 'procedure': 3414, 'volvo': 3415, 'tidy': 3416, 'unsimilar': 3417, 'waddle': 3418, 'recipe': 3419, 'united': 3420, 'southern': 3421, 'categorie': 3422, 'nacho': 3423, 'lipstick': 3424, 'nl': 3425, 'central': 3426, 'cog': 3427, 'championship': 3428, 'pedestrian': 3429, 'critically': 3430, 'flawed': 3431, 'attribute': 3432, 'bqff': 3433, 'stack': 3434, 'expressing': 3435, 'rave': 3436, 'commented': 3437, 'ecker': 3438, 'easter': 3439, 'creme': 3440, 'correctly': 3441, 'idk': 3442, 'candy': 3443, 'corys': 3444, 'iframe': 3445, 'frameborder': 3446, 'godaddy': 3447, 'privellege': 3448, 'vehemently': 3449, 'oppose': 3450, 'shoved': 3451, 'stable': 3452, 'outlandish': 3453, 'subtle': 3454, 'halfway': 3455, 'eligible': 3456, 'competition': 3457, 'squad': 3458, 'instruction': 3459, 'lee': 3460, 'breastfeeding': 3461, 'hobby': 3462, 'te': 3463, 'belonging': 3464, 'laundering': 3465, 'suggest': 3466, 'disruptive': 3467, 'reacted': 3468, 'dramatic': 3469, 'technically': 3470, 'structure': 3471, 'hihi': 3472, 'acquaint': 3473, 'jewelry': 3474, 'whack': 3475, 'sucking': 3476, 'spitting': 3477, 'certified': 3478, 'ace': 3479, 'button': 3480, 'layout': 3481, 'horizontal': 3482, 'buzzy': 3483, 'panicky': 3484, 'tradition': 3485, 'storytelling': 3486, 'aroma': 3487, 'entry': 3488, 'occur': 3489, 'representative': 3490, 'dick': 3491, 'steely': 3492, 'secondly': 3493, 'jeremy': 3494, 'murua': 3495, 'only': 3496, 'xx': 3497, 'notify': 3498, 'infidelity': 3499, 'sweety': 3500, 'savingyourmarriagebeforeitstarts': 3501, 'kindly': 3502, 'sandblog': 3503, 'anniversary': 3504, 'nickey': 3505, 'asciatic': 3506, 'fluid': 3507, 'burn': 3508, 'bunion': 3509, 'slipping': 3510, 'counted': 3511, 'sh': 3512, 'adapt': 3513, 'technique': 3514, 'soften': 3515, 'karate': 3516, 'chop': 3517, 'abdomen': 3518, 'basis': 3519, 'dental': 3520, 'deliberation': 3521, 'suicide': 3522, 'repaired': 3523, 'perform': 3524, 'thorough': 3525, 'spotless': 3526, 'mollusk': 3527, 'cloth': 3528, 'stabbed': 3529, 'wisconsin': 3530, 'compensated': 3531, 'earn': 3532, 'cave': 3533, 'demanding': 3534, 'apt': 3535, 'brooding': 3536, 'gnawing': 3537, 'fed': 3538, 'gig': 3539, 'prepare': 3540, 'riva': 3541, 'harvey': 3542, 'weinstein': 3543, 'homemaker': 3544, 'investing': 3545, 'dummy': 3546, 'science': 3547, 'pariah': 3548, 'acctually': 3549, 'wonderfull': 3550, 'israel': 3551, 'pig': 3552, 'duke': 3553, 'parmesan': 3554, 'truffle': 3555, 'prawn': 3556, 'lollipop': 3557, 'separate': 3558, 'pulse': 3559, 'translate': 3560, 'unfold': 3561, 'ol': 3562, 'feefyefo': 3563, 'blabber': 3564, 'transparent': 3565, 'naega': 3566, 'deo': 3567, 'apaya': 3568, 'hae': 3569, 'dasi': 3570, 'neol': 3571, 'chajeul': 3572, 'su': 3573, 'itge': 3574, 'sigani': 3575, 'heureulsurok': 3576, 'gaseumi': 3577, 'apawa': 3578, 'dan': 3579, 'hanbeon': 3580, 'manirado': 3581, 'wo': 3582, 'doedollil': 3583, 'suman': 3584, 'itdamyeon': 3585, 'gotong': 3586, 'ttawin': 3587, 'naegen': 3588, 'regularly': 3589, 'runnin': 3590, 'bein': 3591, 'confined': 3592, 'stic': 3593, 'mg': 3594, 'seroquel': 3595, 'bikini': 3596, 'mount': 3597, 'ton': 3598, 'economic': 3599, 'global': 3600, 'cudnt': 3601, 'frens': 3602, 'da': 3603, 'philippine': 3604, 'rapid': 3605, 'whereby': 3606, 'publicly': 3607, 'purple': 3608, 'tangled': 3609, 'forearm': 3610, 'applying': 3611, 'untrieds': 3612, 'generator': 3613, 'employment': 3614, 'confession': 3615, 'planner': 3616, 'bridezillas': 3617, 'groom': 3618, 'canvas': 3619, 'sinking': 3620, 'stalker': 3621, 'convicted': 3622, 'redundant': 3623, 'credential': 3624, 'handsomefamily': 3625, 'frequent': 3626, 'achy': 3627, 'tumor': 3628, 'metastasis': 3629, 'childlike': 3630, 'di': 3631, 'hundred': 3632, 'resorted': 3633, 'peak': 3634, 'housebound': 3635, 'peckish': 3636, 'send': 3637, 'shire': 3638, 'reunited': 3639, 'nephew': 3640, 'cheered': 3641, 'feast': 3642, 'elvive': 3643, 'strayed': 3644, 'formula': 3645, 'poet': 3646, 'belongs': 3647, 'developer': 3648, 'deranged': 3649, 'helena': 3650, 'bonham': 3651, 'carter': 3652, 'sweeney': 3653, 'harshness': 3654, 'wearied': 3655, 'relentlessness': 3656, 'whir': 3657, 'motor': 3658, 'angst': 3659, 'rosa': 3660, 'grandpa': 3661, 'chasm': 3662, 'ginger': 3663, 'bareminerals': 3664, 'filmed': 3665, 'scar': 3666, 'evolution': 3667, 'kerouac': 3668, 'tossing': 3669, 'marble': 3670, 'maelstrom': 3671, 'surf': 3672, 'sur': 3673, 'loosen': 3674, 'restricted': 3675, 'misbehavior': 3676, 'werner': 3677, 'thomas': 3678, 'musician': 3679, 'insulting': 3680, 'proclaiming': 3681, 'fortunately': 3682, 'stinging': 3683, 'fondness': 3684, 'coeur': 3685, 'alene': 3686, 'surrounded': 3687, 'unmotivated': 3688, 'drape': 3689, 'tie': 3690, 'xia': 3691, 'pedicure': 3692, 'massaging': 3693, 'tootsies': 3694, 'barbie': 3695, 'heel': 3696, 'gyp': 3697, 'sewing': 3698, 'prompted': 3699, 'portrayed': 3700, 'preparing': 3701, 'florida': 3702, 'bungalow': 3703, 'splash': 3704, 'cologne': 3705, 'energizing': 3706, 'continuity': 3707, 'feeding': 3708, 'amish': 3709, 'stereotype': 3710, 'maternal': 3711, 'blamed': 3712, 'functioning': 3713, 'autism': 3714, 'justify': 3715, 'laziness': 3716, 'skinny': 3717, 'pitcher': 3718, 'mound': 3719, 'league': 3720, 'shifty': 3721, 'residual': 3722, 'nyc': 3723, 'technical': 3724, 'intimidating': 3725, 'asleep': 3726, 'such': 3727, 'israeli': 3728, 'occupation': 3729, 'lasted': 3730, 'guessing': 3731, 'shield': 3732, 'tissue': 3733, 'contaminated': 3734, 'monster': 3735, 'considers': 3736, 'nuclear': 3737, 'protest': 3738, 'riot': 3739, 'police': 3740, 'canada': 3741, 'soooo': 3742, 'rage': 3743, 'hatred': 3744, 'gentleman': 3745, 'politely': 3746, 'greed': 3747, 'devote': 3748, 'andover': 3749, 'supermarket': 3750, 'stride': 3751, 'nonstop': 3752, 'ministry': 3753, 'accompanied': 3754, 'liking': 3755, 'surprise': 3756, 'va': 3757, 'prandi': 3758, 'antisocial': 3759, 'cooperation': 3760, 'nathan': 3761, 'travis': 3762, 'spark': 3763, 'underage': 3764, 'spiritually': 3765, 'meditating': 3766, 'greatness': 3767, 'psalm': 3768, 'observing': 3769, 'closely': 3770, 'mature': 3771, 'buried': 3772, 'ethan': 3773, 'knocking': 3774, 'smackdown': 3775, 'daniel': 3776, 'bryan': 3777, 'appear': 3778, 'jade': 3779, 'prone': 3780, 'spencer': 3781, 'dickinson': 3782, 'semi': 3783, 'enhance': 3784, 'enjambment': 3785, 'sonnet': 3786, 'bible': 3787, 'blast': 3788, 'internalized': 3789, 'flow': 3790, 'minor': 3791, 'fingernail': 3792, 'cu': 3793, 'toy': 3794, 'ashlotte': 3795, 'talim': 3796, 'castanets': 3797, 'ray': 3798, 'raposa': 3799, 'crested': 3800, 'bubble': 3801, 'sea': 3802, 'plainly': 3803, 'symptom': 3804, 'exhaustion': 3805, 's': 3806, 'setback': 3807, 'honesty': 3808, 'jury': 3809, 'immune': 3810, 'irrationally': 3811, 'julie': 3812, 'warning': 3813, 'aimless': 3814, 'jayson': 3815, 'delivery': 3816, 'ollie': 3817, 'belong': 3818, 'quad': 3819, 'aggravating': 3820, 'pant': 3821, 'battered': 3822, 'feminist': 3823, 'migrate': 3824, 'hat': 3825, 'disbelieving': 3826, 'obsession': 3827, 'commodore': 3828, 'profoundly': 3829, 'sids': 3830, 'grief': 3831, 'exclusively': 3832, 'admin': 3833, 'hopped': 3834, 'thankfully': 3835, 'cardio': 3836, 'emilyhursh': 3837, 'fraud': 3838, 'hypocrite': 3839, 'object': 3840, 'sience': 3841, 'rocketed': 3842, 'daunting': 3843, 'modeling': 3844, 'robin': 3845, 'duet': 3846, 'blame': 3847, 'backward': 3848, 'unreasonable': 3849, 'lent': 3850, 'scissors': 3851, 'consequently': 3852, 'exceedingly': 3853, 'resented': 3854, 'track': 3855, 'ballet': 3856, 'shiny': 3857, 'santa': 3858, 'spontaneous': 3859, 'jrock': 3860, 'tommorrow': 3861, 'lightly': 3862, 'overlapping': 3863, 'phase': 3864, 'falsely': 3865, 'refer': 3866, 'sally': 3867, 'mop': 3868, 'hahaha': 3869, 'nikos': 3870, 'niko': 3871, 'nerd': 3872, 'impromptu': 3873, 'refrain': 3874, 'fail': 3875, 'cleaned': 3876, 'mopping': 3877, 'tidying': 3878, 'clint': 3879, 'fund': 3880, 'perspective': 3881, 'karma': 3882, 'contentment': 3883, 'jacked': 3884, 'supply': 3885, '19': 3886, 'penetrating': 3887, 'boob': 3888, 'forgetting': 3889, 'flirty': 3890, 'contributing': 3891, 'stoic': 3892, 'icky': 3893, 'vocalist': 3894, 'embarassed': 3895, 'femininely': 3896, 'complain': 3897, 'offline': 3898, 'beneath': 3899, 'alley': 3900, 'gentrified': 3901, 'ghetto': 3902, 'muffin': 3903, 'nude': 3904, 'spilling': 3905, 'nation': 3906, 'borne': 3907, 'detatched': 3908, 'sol': 3909, 'expressive': 3910, 'yuuki': 3911, 'believing': 3912, 'bi': 3913, 'manufacturing': 3914, 'finance': 3915, 'judging': 3916, 'compelled': 3917, 'meek': 3918, 'curiosity': 3919, 'amy': 3920, 'd': 3921, 'officially': 3922, 'improving': 3923, 'led': 3924, 'rent': 3925, 'detox': 3926, 'neighborhood': 3927, 'expert': 3928, 'anti': 3929, 'unbreakable': 3930, 'established': 3931, 'childrens': 3932, 'praise': 3933, 'gunong': 3934, 'ledang': 3935, 'fairy': 3936, 'houston': 3937, 'amorous': 3938, 'feng': 3939, 'us': 3940, 'nicely': 3941, 'conditioned': 3942, 'aa': 3943, 'handrail': 3944, 'basement': 3945, 'stair': 3946, 'vegetarian': 3947, 'vegan': 3948, 'eater': 3949, 'speech': 3950, 'uncharted': 3951, 'maturity': 3952, 'aka': 3953, 'midlife': 3954, 'crisis': 3955, 'tracy': 3956, 'anderson': 3957, 'immature': 3958, 'gloss': 3959, 'improvement': 3960, 'america': 3961, 'swath': 3962, 'legacy': 3963, 'v': 3964, 'bam': 3965, 'policy': 3966, 'analysis': 3967, 'build': 3968, 'shoudlnt': 3969, 'heavily': 3970, 'cathartic': 3971, 'mychem': 3972, 'damaging': 3973, 'cred': 3974, 'widow': 3975, 'psychology': 3976, 'stuffed': 3977, '3': 3978, 'oakwood': 3979, 'campus': 3980, 'vanity': 3981, 'meme': 3982, 'autocorrect': 3983, 'moody': 3984, 'grandmother': 3985, 'influencing': 3986, 'prejudice': 3987, 'crew': 3988, 'fulfil': 3989, 'ambition': 3990, 'chuffed': 3991, 'bcoz': 3992, 'publicity': 3993, 'settling': 3994, 'hollywood': 3995, 'trial': 3996, 'crazily': 3997, 'frantically': 3998, 'address': 3999, 'scheme': 4000, 'dumbfounded': 4001, 'deceived': 4002, 'sidewalk': 4003, 'pothole': 4004, 'smelling': 4005, 'wood': 4006, 'somthing': 4007, 'vague': 4008, 'homemade': 4009, 'route': 4010, 'enclose': 4011, 'verse': 4012, 'weigh': 4013, 'researching': 4014, 'a': 4015, 'misty': 4016, 'foggy': 4017, 'coldness': 4018, 'herald': 4019, 'sifting': 4020, 'predictably': 4021, 'liquor': 4022, 'split': 4023, 'weirdly': 4024, 'crossing': 4025, '4': 4026, 'reasoning': 4027, 'lull': 4028, 'porch': 4029, 'sunlight': 4030, 'bathed': 4031, 'radiance': 4032, 'surprisingly': 4033, 'cooled': 4034, 'aggressive': 4035, 'unfair': 4036, 'sd': 4037, 'aggression': 4038, 'sheep': 4039, 'grand': 4040, 'publication': 4041, 'pour': 4042, 'brandy': 4043, 'pronounced': 4044, 'accordance': 4045, 'faithfulness': 4046, 'gifted': 4047, 'intricate': 4048, 'essence': 4049, 'jene': 4050, 'braved': 4051, 'trait': 4052, 'uk': 4053, 'cloudy': 4054, 'sunny': 4055, 'less': 4056, 'piss': 4057, 'threw': 4058, 'chinese': 4059, 'declare': 4060, 'protecting': 4061, 'substance': 4062, 'mushy': 4063, 'feverishly': 4064, 'preparation': 4065, 'caregiver': 4066, 'generated': 4067, 'transformer': 4068, 'fluidly': 4069, 'integrated': 4070, 'grieving': 4071, 'complimented': 4072, 'uneasy': 4073, 'virtually': 4074, 'kindness': 4075, 'incoming': 4076, 'hella': 4077, 'waste': 4078, 'honor': 4079, 'traditional': 4080, 'princess': 4081, 'robot': 4082, 'impressing': 4083, 'noticer': 4084, 'grappling': 4085, 'estate': 4086, 'proceed': 4087, 'contagious': 4088, 'entertain': 4089, 'mulatto': 4090, 'albino': 4091, 'mosquito': 4092, 'libido': 4093, 'yay': 4094, 'fought': 4095, 'instinctively': 4096, 'passer': 4097, 'secretary': 4098, 'eh': 4099, 'kneel': 4100, 'crotch': 4101, 'ni': 4102, 'planted': 4103, 'laid': 4104, 'stoner': 4105, 'escaped': 4106, 'brassed': 4107, 'wearily': 4108, 'drawing': 4109, 'gain': 4110, 'sleeve': 4111, 'onset': 4112, 'infamous': 4113, 'bonk': 4114, 'upfront': 4115, 'scanning': 4116, 'thi': 4117, 'hasnt': 4118, 'excellent': 4119, 'rough': 4120, 'shortage': 4121, 'approve': 4122, 'disapprove': 4123, 'dot': 4124, 'com': 4125, 'installment': 4126, 'starlight': 4127, 'caress': 4128, 'bye': 4129, 'ember': 4130, 'tidbit': 4131, 'innate': 4132, 'inability': 4133, 'flashed': 4134, 'painting': 4135, 'hooker': 4136, 'ons': 4137, 'available': 4138, 'midori': 4139, 'teeny': 4140, 'itsy': 4141, 'bitsy': 4142, 'vogue': 4143, 'muttered': 4144, 'undertaking': 4145, 'programme': 4146, 'submitted': 4147, 'fifteen': 4148, 'pea': 4149, 'carrot': 4150, 'travelling': 4151, 'galaxy': 4152, 'jude': 4153, 'bask': 4154, 'straightforward': 4155, 'logical': 4156, 'library': 4157, 'owner': 4158, 'subkect': 4159, 'boast': 4160, 'active': 4161, 'macendarfer': 4162, 'doused': 4163, 'freind': 4164, 'asasoulawakens': 4165, 'feeli': 4166, 'openly': 4167, 'roslin': 4168, 'poignantly': 4169, 'oliver': 4170, 'figured': 4171, 'unresolved': 4172, 'severe': 4173, 'showed': 4174, 'wtf': 4175, 'bravely': 4176, 'revert': 4177, 'skirtsports': 4178, 'parody': 4179, 'challenging': 4180, 'decompress': 4181, 'entertaining': 4182, 'intelligence': 4183, 'newsprint': 4184, 'readership': 4185, 'intended': 4186, 'ur': 4187, 'chunk': 4188, 'taut': 4189, 'chew': 4190, 'reckon': 4191, 'monarch': 4192, 'removed': 4193, 'claimed': 4194, 'nutrition': 4195, 'adf': 4196, 'consecrated': 4197, 'frequented': 4198, 'feedback': 4199, 'allah': 4200, 'puff': 4201, 'peer': 4202, 'ness': 4203, 'landed': 4204, 'behalf': 4205, 'succumb': 4206, 'doc': 4207, 'selected': 4208, 'reference': 4209, 'avenue': 4210, 'q': 4211, 'muse': 4212, 'goin': 4213, 'moshav': 4214, 'dancin': 4215, 'errand': 4216, 'cora': 4217, 'sleeper': 4218, 'incense': 4219, 'hymn': 4220, 'interpretation': 4221, 'helterskelter': 4222, 'transformed': 4223, 'yelled': 4224, 'carrry': 4225, 'implication': 4226, 'uploading': 4227, 'imperfection': 4228, 'mocked': 4229, 'continuing': 4230, 'britney': 4231, 'divinity': 4232, 'dizzy': 4233, 'nineteen': 4234, 'sober': 4235, 'resolve': 4236, 'average': 4237, 'tooth': 4238, 'confront': 4239, 'openness': 4240, 'answering': 4241, 'moaning': 4242, 'cluttered': 4243, 'dozen': 4244, 'funes': 4245, 'ruach': 4246, 'hakodesh': 4247, 'sipping': 4248, 'pear': 4249, 'blueberry': 4250, 'rank': 4251, '«': 4252, 'generic': 4253, 'obligated': 4254, 'thursday': 4255, 'lightness': 4256, 'desirable': 4257, 'validation': 4258, 'solid': 4259, 'supplicate': 4260, 'it': 4261, 'realness': 4262, 'portrayal': 4263, 'truck': 4264, 'cough': 4265, 'remarkably': 4266, 'bal': 4267, 'visiting': 4268, 'athf': 4269, 'tuesday': 4270, 'fishing': 4271, '10': 4272, 'era': 4273, 'captured': 4274, 'atmospheric': 4275, 'clench': 4276, 'automation': 4277, 'memset': 4278, 'devastating': 4279, 'impolite': 4280, 'fool': 4281, 'thief': 4282, 'exposure': 4283, 'crudely': 4284, 'ancient': 4285, 'jenny': 4286, 'spayed': 4287, 'spoon': 4288, 'belief': 4289, 'deciding': 4290, 'dribbling': 4291, 'counter': 4292, 'repetition': 4293, 'revealed': 4294, 'morose': 4295, 'legitimately': 4296, 'adrasteius': 4297, 'eulalias': 4298, 'tastic': 4299, 'port': 4300, 'gear': 4301, 'awaken': 4302, 'joie': 4303, 'vivre': 4304, 'connecting': 4305, 'darkness': 4306, 'ally': 4307, 'nurse': 4308, 'uniquely': 4309, 'reduce': 4310, 'babsbrisbane': 4311, 'blogged': 4312, 'him': 4313, 'shiver': 4314, 'combo': 4315, 'dish': 4316, 'belittle': 4317, 'client': 4318, 'elated': 4319, 'crawl': 4320, 'request': 4321, 'flushed': 4322, 'embarrassment': 4323, 'arouse': 4324, 'maltese': 4325, 'malacca': 4326, 'dharavi': 4327, 'mumbai': 4328, 'turnover': 4329, 'environmental': 4330, 'resort': 4331, 'biannual': 4332, 'mammogram': 4333, 'hows': 4334, 'thirty': 4335, 'grant': 4336, 'unappreciative': 4337, 'ease': 4338, 'duo': 4339, 'destroy': 4340, 'revulsion': 4341, 'elicits': 4342, 'fascination': 4343, 'stash': 4344, 'calmer': 4345, 'horror': 4346, 'isolation': 4347, 'creeped': 4348, 'cosplay': 4349, 'goon': 4350, 'smoothly': 4351, 'obstacle': 4352, 'pertaining': 4353, 'porcelain': 4354, 'waterside': 4355, 'startled': 4356, 'uber': 4357, 'seed': 4358, 'cared': 4359, 'why': 4360, 'bewildered': 4361, 'rearranged': 4362, 'furniture': 4363, 'cherish': 4364, 'teeth': 4365, 'nana': 4366, 'blowing': 4367, 'pained': 4368, 'ageing': 4369, 'soundtrack': 4370, 'charlie': 4371, 'daydreaming': 4372, 'shove': 4373, 'panty': 4374, 'giddy': 4375, 'amazement': 4376, 'nicole': 4377, 'sip': 4378, 'contemplation': 4379, 'consolidation': 4380, 'aout': 4381, 'bullet': 4382, 'loki': 4383, 'bgr': 4384, 'montagues': 4385, 'gladly': 4386, 'tantrum': 4387, 'privilege': 4388, 'barcial': 4389, 'derided': 4390, 'respectful': 4391, 'referee': 4392, 'shouting': 4393, 'swearing': 4394, 'separately': 4395, 'blocking': 4396, 'passionately': 4397, 'knitter': 4398, 'upside': 4399, 'comfy': 4400, 'zealand': 4401, 'precipice': 4402, 'urgency': 4403, 'resistant': 4404, 'flashback': 4405, 'yurusei': 4406, 'yatsura': 4407, 'coheed': 4408, 'cambria': 4409, 'ripped': 4410, 'lucas': 4411, 'grows': 4412, 'divert': 4413, 'purpose': 4414, 'assistant': 4415, 'arialblue': 4416, 'chat': 4417, 'tight': 4418, 'flipped': 4419, 'digress': 4420, 'litte': 4421, 'logic': 4422, 'randomly': 4423, 'psychological': 4424, 'noah': 4425, 'providing': 4426, 'slalom': 4427, 'clover': 4428, 'assistance': 4429, 'accepting': 4430, 'psychotic': 4431, 'obtain': 4432, 'wushu': 4433, 'heartedly': 4434, 'nearing': 4435, 'september': 4436, 'divulge': 4437, 'info': 4438, 'stylings': 4439, 'pastor': 4440, 'gerry': 4441, 'pasta': 4442, 'bothering': 4443, 'settled': 4444, 'fearing': 4445, 'vibe': 4446, 'more': 4447, 'worthy': 4448, 'fa': 4449, 'lurking': 4450, 'lend': 4451, 'varnish': 4452, 'olivia': 4453, 'stuffing': 4454, 'adrift': 4455, 'candle': 4456, 'sleepy': 4457, 'wll': 4458, 'theater': 4459, 'grounded': 4460, 'stressful': 4461, 'alcohol': 4462, 'rubbish': 4463, 'packing': 4464, 'melodious': 4465, 'deteriorated': 4466, 'sabrina': 4467, 'notting': 4468, 'dated': 4469, 'injustice': 4470, 'blogspot': 4471, 'fired': 4472, 'detectin': 4473, 'persevere': 4474, 'miraculous': 4475, 'bullying': 4476, 'moreso': 4477, 'unexpected': 4478, 'overconfident': 4479, 'miyavi': 4480, 'judgement': 4481, 'abandon': 4482, 'en': 4483, 'empowered': 4484, 'maschke': 4485, 'unsavory': 4486, 'referred': 4487, 'cornish': 4488, 'cornwall': 4489, 'vunerable': 4490, 'pent': 4491, 'backing': 4492, 'relying': 4493, 'compete': 4494, 'locate': 4495, 'jeff': 4496, 'misery': 4497, 'northwestern': 4498, 'bury': 4499, 'hatchet': 4500, 'apologizing': 4501, 'punk': 4502, 'accomplishing': 4503, 'eagleandhammer': 4504, 'mccarthy': 4505, 'consistently': 4506, 'humanize': 4507, 'balancing': 4508, 'sweaty': 4509, 'rant': 4510, 'gosh': 4511, 'curb': 4512, 'grown': 4513, 'woodman': 4514, 'cowardly': 4515, 'lion': 4516, 'completing': 4517, 'channel': 4518, 'brag': 4519, 'fattie': 4520, 'screenwriter': 4521, 'roberto': 4522, 'orcis': 4523, 'bizarre': 4524, 'adoration': 4525, 'dubya': 4526, 'pampered': 4527, 'bush': 4528, 'responsible': 4529, 'orci': 4530, 'cuddling': 4531, 'kissing': 4532, 'horse': 4533, 'bloated': 4534, 'perceives': 4535, 'bash': 4536, 'layer': 4537, 'flexible': 4538, 'nervously': 4539, 'interview': 4540, 'idc': 4541, 'whoever': 4542, 'clot': 4543, 'programming': 4544, 'redden': 4545, 'manhood': 4546, 'subconsciously': 4547, 'nakedness': 4548, 'maid': 4549, 'curtain': 4550, 'ambulance': 4551, 'latex': 4552, 'hungover': 4553, 'marketplace': 4554, 'lightening': 4555, 'umbrella': 4556, 'limb': 4557, 'indifferent': 4558, 'bloom': 4559, 'woodland': 4560, 'lungfuls': 4561, 'bt': 4562, 'thn': 4563, 'bf': 4564, 'tabby': 4565, 'multiple': 4566, 'precision': 4567, 'completeness': 4568, 'coupled': 4569, 'sobered': 4570, 'because': 4571, 'reminding': 4572, 'mustered': 4573, 'christmassy': 4574, 'complex': 4575, 'wicked': 4576, 'wierd': 4577, 'electricity': 4578, 'paw': 4579, 'lyman': 4580, 'victory': 4581, 'snippy': 4582, 'ought': 4583, 'percolated': 4584, 'synonym': 4585, 'inform': 4586, 'presently': 4587, 'philosophy': 4588, 'fuzzy': 4589, 'laden': 4590, 'cum': 4591, 'amid': 4592, 'robotic': 4593, 'failed': 4594, 'disciple': 4595, 'manifestation': 4596, 'slightest': 4597, 'liv': 4598, 'howling': 4599, 'comet': 4600, 'kicking': 4601, 'john': 4602, 'nutritional': 4603, 'solve': 4604, 'olympics': 4605, 'scraper': 4606, 'montana': 4607, 'goat': 4608, 'relaxing': 4609, 'immersed': 4610, 'assure': 4611, 'dominican': 4612, 'republican': 4613, 'republic': 4614, 'entirelly': 4615, 'resisting': 4616, 'peregrinos': 4617, 'absolutly': 4618, 'flourishing': 4619, 'cyber': 4620, 'fighter': 4621, 'gusto': 4622, 'performing': 4623, 'she': 4624, 'cliff': 4625, 'escorting': 4626, 'riding': 4627, 'brutally': 4628, 'equivalent': 4629, 'shortly': 4630, 'intrusive': 4631, 'whereas': 4632, 'confuse': 4633, 'swear': 4634, 'stanley': 4635, 'ridden': 4636, 'marked': 4637, 'skate': 4638, 'atlanta': 4639, 'enabling': 4640, 'headachie': 4641, 'bridal': 4642, 'quitter': 4643, 'recollection': 4644, 'woody': 4645, 'allen': 4646, 'brook': 4647, 'earl': 4648, 'billy': 4649, 'security': 4650, 'concealed': 4651, 'hesitation': 4652, 'representing': 4653, 'energized': 4654, 'recite': 4655, 'mantra': 4656, 'shiftless': 4657, 'intent': 4658, 'leo': 4659, 'clara': 4660, 'abandonment': 4661, 'cliche': 4662, 'oncologists': 4663, 'coated': 4664, 'returned': 4665, 'threatening': 4666, 'pete': 4667, 'soliciting': 4668, 'exploiting': 4669, 'tank': 4670, 'lovedi': 4671, 'unhappiness': 4672, 'warms': 4673, 'midst': 4674, 'inter': 4675, 'generational': 4676, 'reminds': 4677, 'epic': 4678, 'feat': 4679, 'thankfulness': 4680, 'creepy': 4681, 'macabre': 4682, 'fountain': 4683, 'jerry': 4684, 'springer': 4685, 'porn': 4686, 'hun': 4687, 'hype': 4688, 'cop': 4689, 'ocean': 4690, 'goddess': 4691, 'rising': 4692, 'argument': 4693, 'patron': 4694, 'metropolitan': 4695, 'brazilian': 4696, 'workload': 4697, 'anansi': 4698, 'hunger': 4699, 'arrangement': 4700, 'leaping': 4701, 'sustainable': 4702, 'neo': 4703, 'terminology': 4704, 'custom': 4705, 'modification': 4706, 'commandment': 4707, 'bona': 4708, 'fide': 4709, 'sacred': 4710, 'preserving': 4711, 'liberty': 4712, 'veteran': 4713, 'memorial': 4714, 'retired': 4715, 'but': 4716, 'corbin': 4717, 'slung': 4718, 'october': 4719, 'deserted': 4720, 'blow': 4721, 'reward': 4722, 'goliath': 4723, 'undone': 4724, 'humblest': 4725, 'lightheaded': 4726, 'killer': 4727, 'resenting': 4728, 'brd': 4729, 'brds': 4730, 'minimal': 4731, 'iced': 4732, 'sock': 4733, 'liable': 4734, 'drown': 4735, 'pogues': 4736, 'reggae': 4737, 'independence': 4738, 'sponsored': 4739, 'poverty': 4740, 'sale': 4741, 'unanimously': 4742, 'spacey': 4743, 'cake': 4744, 'dye': 4745, 'nausea': 4746, 'unpleasantness': 4747, 'eldest': 4748, 'zofran': 4749, 'angsty': 4750, 'headspace': 4751, 'jensen': 4752, 'bon': 4753, 'jovi': 4754, 'stark': 4755, 'declined': 4756, 'begun': 4757, 'addictive': 4758, 'gently': 4759, 'mri': 4760, 'nodded': 4761, 'procure': 4762, 'nagging': 4763, 'alonger': 4764, 'encouragement': 4765, 'putter': 4766, 'board': 4767, 'tense': 4768, 'replacing': 4769, 'produce': 4770, 'ruling': 4771, 'habanero': 4772, 'onion': 4773, 'richness': 4774, 'cgi': 4775, 'italy': 4776, 'indian': 4777, 'smith': 4778, 'slugging': 4779, 'melt': 4780, 'gripping': 4781, 'limited': 4782, 'readjust': 4783, 'centre': 4784, 'powerless': 4785, 'sanity': 4786, 'pistol': 4787, 'demonstrate': 4788, 'understood': 4789, 'scratch': 4790, 'consists': 4791, 'poop': 4792, 'donald': 4793, 'duck': 4794, 'coping': 4795, 'shallow': 4796, 'picturesque': 4797, 'oak': 4798, 'lifelong': 4799, 'defiant': 4800, 'dennis': 4801, 'covingtons': 4802, 'merit': 4803, 'reflection': 4804, 'annulled': 4805, 'quaker': 4806, 'announced': 4807, 'fortnight': 4808, 'proving': 4809, 'typical': 4810, 'dependent': 4811, 'wryly': 4812, 'banal': 4813, 'error': 4814, 'ranbir': 4815, 'ayan': 4816, 'mukerji': 4817, 'filmfare': 4818, 'disappoint': 4819, 'bleeding': 4820, 'architectural': 4821, 'wowed': 4822, 'built': 4823, 'omission': 4824, 'avoidance': 4825, 'spinal': 4826, 'shatter': 4827, 'crystal': 4828, 'slipped': 4829, 'missgivings': 4830, 'skinner': 4831, 'box': 4832, 'fahad': 4833, 'leaning': 4834, 'skeleton': 4835, 'impulse': 4836, 'wed': 4837, 'numbness': 4838, 'international': 4839, 'yummy': 4840, 'soup': 4841, 'leftover': 4842, 'odkh': 4843, 'brightens': 4844, 'nourished': 4845, 'proposal': 4846, 'center': 4847, 'cellphone': 4848, 'ring': 4849, 'convenient': 4850, 'fielding': 4851, 'incredulous': 4852, 'outer': 4853, 'cautiously': 4854, 'greg': 4855, 'seldom': 4856, 'utmost': 4857, 'delivering': 4858, 'comfortably': 4859, 'carol': 4860, 'hobica': 4861, 'usa': 4862, '16': 4863, 'prevent': 4864, 'improved': 4865, 'stickiness': 4866, 'lisas': 4867, 'recognised': 4868, 'comedic': 4869, 'alfred': 4870, 'molina': 4871, 'dimensional': 4872, 'caricature': 4873, 'overshadowed': 4874, 'gillard': 4875, 'emergency': 4876, 'detrimental': 4877, 'gameplay': 4878, 'mommy': 4879, 'encountered': 4880, 'rounded': 4881, 'holli': 4882, 'reese': 4883, 'saint': 4884, 'spouting': 4885, 'muck': 4886, 'apparent': 4887, 'retiring': 4888, 'fancy': 4889, 'occurred': 4890, 'darker': 4891, 'comeback': 4892, 'snobbish': 4893, 'naming': 4894, 'zipline': 4895, 'picnic': 4896, 'grove': 4897, 'stormy': 4898, 'bowled': 4899, 'welling': 4900, 'sarcastically': 4901, 'stiller': 4902, 'vaughn': 4903, 'hater': 4904, 'enjoyment': 4905, 'bacon': 4906, 'burst': 4907, 'mixer': 4908, 'extension': 4909, 'murt': 4910, 'jerk': 4911, 'unsatisfying': 4912, 'internetsphere': 4913, 'marginalized': 4914, 'disregarded': 4915, 'vellas': 4916, 'tougher': 4917, 'separated': 4918, 'pinterest': 4919, 'fetish': 4920, 'passengered': 4921, 'behave': 4922, 'culturally': 4923, 'canning': 4924, 'comforting': 4925, 'trusty': 4926, 'louche': 4927, 'progressing': 4928, 'suburb': 4929, 'midwest': 4930, 'matthew': 4931, 'heimbuch': 4932, 'documented': 4933, 'midwestern': 4934, 'manly': 4935, 'mouthed': 4936, 'rattled': 4937, 'confirmed': 4938, 'torso': 4939, 'unnoticed': 4940, 'invest': 4941, 'charitable': 4942, 'alert': 4943, 'mega': 4944, 'manila': 4945, 'prevention': 4946, 'guard': 4947, 'deception': 4948, 'catapulted': 4949, 'observant': 4950, 'cheerleader': 4951, 'bunny': 4952, 'consumption': 4953, 'ingredient': 4954, 'unfit': 4955, 'memorable': 4956, 'rob': 4957, 'spill': 4958, 'stingy': 4959, 'newly': 4960, 'realization': 4961, 'independent': 4962, 'pesters': 4963, 'impossible': 4964, 'pie': 4965, 'whining': 4966, 'ing': 4967, 'abandoning': 4968, 'clay': 4969, 'mastery': 4970, 'scoffing': 4971, 'unconscious': 4972, 'failure': 4973, 'succeed': 4974, 'falter': 4975, 'crumbles': 4976, 'increase': 4977, 'recovery': 4978, 'digging': 4979, 'continuous': 4980, 'wailing': 4981, 'hears': 4982, 'conventional': 4983, 'sens': 4984, 'ceiling': 4985, 'covering': 4986, 'indefinite': 4987, 'sensing': 4988, 'meantime': 4989, 'teddy': 4990, 'forcing': 4991, 'celebrating': 4992, 'consumerism': 4993, 'granted': 4994, 'gray': 4995, 'sandal': 4996, 'meanwhile': 4997, 'recreational': 4998, 'unwillingly': 4999, 'predicting': 5000, 'joint': 5001, 'oeuvre': 5002, 'dewitt': 5003, 'battery': 5004, 'skilled': 5005, 'presentational': 5006, 'casting': 5007, 'necessarily': 5008, 'stoup': 5009, 'communication': 5010, 'fire': 5011, 'suuuper': 5012, 'managing': 5013, 'pretending': 5014, 'aint': 5015, 'distinctive': 5016, 'deduce': 5017, 'marrying': 5018, 'negate': 5019, 'diet': 5020, 'coke': 5021, 'regardless': 5022, 'oversized': 5023, 'nevertheless': 5024, 'occurs': 5025, 'betrayal': 5026, 'vase': 5027, 'affirmed': 5028, 'sensuous': 5029, 'makeup': 5030, 'intend': 5031, 'albeit': 5032, 'riku': 5033, 'opposed': 5034, 'passport': 5035, 'washroom': 5036, 'contained': 5037, 'differ': 5038, 'homeowner': 5039, 'parked': 5040, 'gape': 5041, 'landscaping': 5042, 'taunted': 5043, 'unto': 5044, 'bless': 5045, 'em': 5046, 'sliding': 5047, 'beneficial': 5048, 'sophisticated': 5049, 'infinite': 5050, 'chillax': 5051, 'lonley': 5052, 'thoroughly': 5053, 'ipod': 5054, 'synthwave': 5055, 'neds': 5056, 'atomic': 5057, 'dustbin': 5058, 'posy': 5059, 'pixy': 5060, 'springhouse': 5061, 'morrissey': 5062, 'fragment': 5063, 'disappear': 5064, 'baggage': 5065, 'offspring': 5066, 'docile': 5067, 'pursuits': 5068, 'brach': 5069, 'chipmunk': 5070, 'crossed': 5071, 'horseback': 5072, 'undercurrent': 5073, 'unk': 5074, 'ou': 5075, 'strongest': 5076, 'longevity': 5077, 'speculation': 5078, 'yo': 5079, 'bald': 5080, 'familiar': 5081, 'chemical': 5082, 'disease': 5083, 'prince': 5084, 'contemporary': 5085, 'stretching': 5086, 'vent': 5087, 'outrageously': 5088, 'tourette': 5089, 'unpredictability': 5090, 'carnage': 5091, 'represent': 5092, 'inspiring': 5093, 'athletic': 5094, 'forty': 5095, 'dinosaur': 5096, 'soldier': 5097, 'aged': 5098, 'analyzing': 5099, 'memoir': 5100, 'qualify': 5101, 'privately': 5102, 'decidedly': 5103, 'bitterness': 5104, 'seam': 5105, 'detracted': 5106, 'mouthfeel': 5107, 'randythomas': 5108, 'guinness': 5109, 'mojo': 5110, 'snapping': 5111, 'cynical': 5112, 'realizes': 5113, 'xelliealicex': 5114, 'existing': 5115, 'disrupt': 5116, 'grieve': 5117, 'component': 5118, 'reassurance': 5119, 'scrambled': 5120, 'complicated': 5121, 'mathematics': 5122, 'clutter': 5123, 'trans': 5124, 'hurtled': 5125, 'blocked': 5126, 'require': 5127, 'monogamous': 5128, 'payment': 5129, 'blair': 5130, 'coordinate': 5131, 'tibris': 5132, 'winced': 5133, 'indigo': 5134, 'preschooler': 5135, 'endeavor': 5136, 'fly': 5137, 'seat': 5138, 'firefly': 5139, 'dwindle': 5140, 'woken': 5141, 'customary': 5142, 'siesta': 5143, 'lola': 5144, 'demographic': 5145, 'asserting': 5146, 'roundly': 5147, 'ravaged': 5148, 'sheer': 5149, 'induced': 5150, 'crowded': 5151, 'hyphen': 5152, 'fluffing': 5153, 'detailed': 5154, 'dale': 5155, 'frusterated': 5156, 'chaperone': 5157, 'mason': 5158, 'hole': 5159, 'adulthood': 5160, 'concieve': 5161, 'crab': 5162, 'sinus': 5163, 'delve': 5164, 'evaluate': 5165, 'harsh': 5166, 'abroad': 5167, 'embedded': 5168, 'screw': 5169, 'geology': 5170, 'map': 5171, 'spiral': 5172, 'totaled': 5173, 'bernd': 5174, 'odds': 5175, 'sportsbook': 5176, 'addison': 5177, 'reed': 5178, 'collector': 5179, 'filthy': 5180, 'beckon': 5181, 'obtained': 5182, 'perusal': 5183, 'spazzola': 5184, 'prima': 5185, 'andare': 5186, 'dormire': 5187, 'brush': 5188, 'gardener': 5189, 'boot': 5190, 'curse': 5191, 'antique': 5192, 'underwear': 5193, 'edgy': 5194, 'wrongly': 5195, 'unavoidable': 5196, 'vigorously': 5197, 'argue': 5198, 'protective': 5199, 'mona': 5200, 'hurriedly': 5201, 'stoned': 5202, 'endorphin': 5203, 'seizing': 5204, 'cal': 5205, 'internalize': 5206, 'silver': 5207, 'traitor': 5208, 'shack': 5209, 'weighins': 5210, 'caramel': 5211, 'syrup': 5212, 'shhh': 5213, 'cabin': 5214, 'miniscule': 5215, 'integral': 5216, 'atletico': 5217, 'sleepless': 5218, 'mold': 5219, 'sibling': 5220, 'rivalry': 5221, 'provokingbeauty': 5222, 'cesspool': 5223, 'homely': 5224, 'romance': 5225, 'irish': 5226, 'shifted': 5227, 'forth': 5228, 'excess': 5229, 'thrive': 5230, 'will': 5231, 'ordained': 5232, 'priest': 5233, 'subsequent': 5234, 'occassionally': 5235, 'plug': 5236, 'rolling': 5237, 'printing': 5238, 'plump': 5239, 'ah': 5240, 'pope': 5241, 'resign': 5242, 'gripped': 5243, 'hubby': 5244, 'inappropriate': 5245, 'ingorant': 5246, 'rubble': 5247, 'utopia': 5248, 'alternate': 5249, 'redeem': 5250, 'military': 5251, 'fron': 5252, 'eco': 5253, 'imitates': 5254, 'myself': 5255, 'understands': 5256, 'revealing': 5257, 'forgets': 5258, 'arrives': 5259, 'nate': 5260, 'brewing': 5261, 'moronic': 5262, 'serioulsy': 5263, 'xango': 5264, 'stiff': 5265, 'beta': 5266, 'edmonton': 5267, 'wainwright': 5268, 'module': 5269, 'peep': 5270, 'snidey': 5271, 'soooooooooooo': 5272, 'zero': 5273, 'biostatistics': 5274, 'physiology': 5275, 'touchy': 5276, 'access': 5277, 'anonymity': 5278, 'uglier': 5279, 'deformed': 5280, 'tea': 5281, 'keyboard': 5282, 'booth': 5283, 'reciting': 5284, 'memorized': 5285, 'spiel': 5286, 'mentioning': 5287, 'steadily': 5288, 'crampy': 5289, 'flavour': 5290, 'glossy': 5291, 'elf': 5292, 'regain': 5293, 'contribution': 5294, 'unsophisticated': 5295, 'alteration': 5296, 'signal': 5297, 'standby': 5298, 'tenure': 5299, 'protects': 5300, 'unsafe': 5301, 'knight': 5302, 'instrumental': 5303, 'ala': 5304, 'hizaki': 5305, 'contempt': 5306, 'acquaintance': 5307, 'continuously': 5308, 'comer': 5309, 'palm': 5310, 'sydney': 5311, 'coworkers': 5312, 'predict': 5313, 'startling': 5314, 'faking': 5315, 'outcasted': 5316, 'stitch': 5317, 'jerusalem': 5318, 'pipe': 5319, 'contemplated': 5320, 'flowed': 5321, 'outward': 5322, 'teasing': 5323, 'heathen': 5324, 'enjoys': 5325, 'arousing': 5326, 'delight': 5327, 'silky': 5328, 'faiting': 5329, 'puzzling': 5330, 'cyprus': 5331, 'timeline': 5332, 'visibly': 5333, 'overworked': 5334, 'harrass': 5335, 'oppressed': 5336, 'aforementioned': 5337, 'schmidt': 5338, 'whalentee': 5339, 'stability': 5340, 'contribute': 5341, 'encompass': 5342, 'rumor': 5343, 'architecture': 5344, 'extreme': 5345, 'rebuild': 5346, 'youngster': 5347, 'dominated': 5348, 'microcosm': 5349, 'fertile': 5350, 'endorsed': 5351, 'littered': 5352, 'racist': 5353, 'capital': 5354, 'uttered': 5355, 'removing': 5356, 'selling': 5357, 'maryland': 5358, 'cuff': 5359, 'anklet': 5360, 'pocket': 5361, 'cruz': 5362, 'meaningful': 5363, 'square': 5364, 'caf': 5365, 'western': 5366, 'depict': 5367, 'w': 5368, 'claire': 5369, 'md': 5370, 'guidance': 5371, 'ritalin': 5372, 'flias': 5373, 'padlock': 5374, 'relevant': 5375, 'roar': 5376, 'inflated': 5377, 'articulate': 5378, 'vindictive': 5379, 'battalion': 5380, 'heater': 5381, 'curled': 5382, 'muddling': 5383, 'guild': 5384, 'wot': 5385, 'suitable': 5386, 'convention': 5387, 'rmb': 5388, 'ugh': 5389, 'rearview': 5390, 'darren': 5391, 'lorena': 5392, 'sickness': 5393, 'fatigue': 5394, 'safer': 5395, 'idle': 5396, 'relived': 5397, 'truely': 5398, 'intellect': 5399, 'hands': 5400, 'aahhh': 5401, 'milestone': 5402, 'hatter': 5403, 'alice': 5404, 'narrowed': 5405, 'solo': 5406, 'choral': 5407, 'bruce': 5408, 'cramp': 5409, 'whiz': 5410, 'rumble': 5411, 'ty': 5412, 'callous': 5413, 'unfaithful': 5414, 'boiling': 5415, 'weasel': 5416, 'donut': 5417, 'floundering': 5418, 'pirate': 5419, 'aesthetic': 5420, 'depends': 5421, 'echoes': 5422, 'seven': 5423, 'reaffirmed': 5424, 'inclusive': 5425, 'muslim': 5426, 'comprehend': 5427, 'lasting': 5428, 'discipline': 5429, 'trillion': 5430, 'discovery': 5431, 'digust': 5432, 'jason': 5433, 'with': 5434, 'hitting': 5435, 'rd': 5436, 'st': 5437, 'dd': 5438, 'scabbed': 5439, 'unhealed': 5440, 'selectively': 5441, 'tingling': 5442, 'someplace': 5443, 'womb': 5444, 'desired': 5445, 'puteri': 5446, 'evoking': 5447, 'jungle': 5448, 'thriller': 5449, 'pack': 5450, 'bedroom': 5451, 'admired': 5452, 'zhuo': 5453, 'pupil': 5454, 'xiao': 5455, 'grain': 5456, 'orleans': 5457, 'whim': 5458, 'washington': 5459, 'responded': 5460, 'listed': 5461, 'ideological': 5462, 'tossed': 5463, 'rag': 5464, 'overeat': 5465, 'employer': 5466, 'survey': 5467, 'moderately': 5468, 'ghost': 5469, 'themselves': 5470, 'stirred': 5471, 'am': 5472, 'stillness': 5473, 'hum': 5474, 'oomph': 5475, 'everyfuckingthing': 5476, 'passive': 5477, 'minded': 5478, 'tolerate': 5479, 'involvement': 5480, 'bioware': 5481, 'sasha': 5482, 'fierce': 5483, 'beyonc': 5484, 'celebration': 5485, 'paternal': 5486, 'sigh': 5487, 'farmer': 5488, 'richard': 5489, 'linklater': 5490, 'playfully': 5491, 'jogger': 5492, 'outsprinted': 5493, 'spain': 5494, 'varied': 5495, 'whitley': 5496, 'premonition': 5497, 'dewi': 5498, 'lestari': 5499, 'script': 5500, 'implement': 5501, 'organizational': 5502, 'tip': 5503, 'intensity': 5504, 'masochist': 5505, 'janine': 5506, 'appears': 5507, 'ringing': 5508, 'runner': 5509, 'flame': 5510, 'singed': 5511, 'frail': 5512, 'foul': 5513, 'concoction': 5514, 'burnt': 5515, 'flesh': 5516, 'paying': 5517, 'criticized': 5518, 'undeservedly': 5519, 'harmed': 5520, 'boredom': 5521, 'buzz': 5522, 'forming': 5523, 'raped': 5524, 'significant': 5525, 'stasia': 5526, 'dutch': 5527, 'inevitable': 5528, 'german': 5529, 'treachery': 5530, 'jerome': 5531, 'darn': 5532, 'undergoing': 5533, 'ima': 5534, 'colored': 5535, 'bee': 5536, 'pollen': 5537, 'increased': 5538, 'barometric': 5539, 'kilter': 5540, 'do': 5541, 'ingrained': 5542, 'flaw': 5543, 'lloyd': 5544, 'grossman': 5545, 'ditched': 5546, 'henderson': 5547, 'seoul': 5548, 'geremiafamily': 5549, 'trembling': 5550, 'unlikely': 5551, 'indication': 5552, 'l': 5553, 'fifth': 5554, 'belt': 5555, 'tightened': 5556, 'federal': 5557, 'eradication': 5558, 'volunteered': 5559, 'companionship': 5560, 'sweetener': 5561, 'refined': 5562, 'measuring': 5563, 'tracking': 5564, 'unfocused': 5565, 'establishing': 5566, 'preference': 5567, 'gender': 5568, 'mia': 5569, 'fewer': 5570, 'shocking': 5571, 'ups': 5572, 'advantage': 5573, 'variant': 5574, 'longest': 5575, 'kai': 5576, 'principle': 5577, 'highest': 5578, 'fb': 5579, 'execute': 5580, 'trick': 5581, 'dishwasher': 5582, 'akin': 5583, 'carlas': 5584, 'strengthen': 5585, 'hearted': 5586, 'desert': 5587, 'heated': 5588, 'spouse': 5589, 'concerning': 5590, 'royal': 5591, 'influential': 5592, 'googler': 5593, '2016': 5594, 'uh': 5595, 'pulled': 5596, 'laughing': 5597, 'stump': 5598, 'droppings': 5599, 'healthier': 5600, 'flooding': 5601, '2009': 5602, 'imaginary': 5603, 'deny': 5604, 'smoker': 5605, 'tall': 5606, 'espresso': 5607, 'engage': 5608, 'persist': 5609, 'sa': 5610, 'wa': 5611, 'earthly': 5612, 'processed': 5613, 'formerly': 5614, 'ting': 5615, 'tranquil': 5616, 'lease': 5617, 'lawful': 5618, 'coz': 5619, 'backstabber': 5620, 'testing': 5621, 'accusation': 5622, 'alarming': 5623, 'affair': 5624, 'algebra': 5625, 'overhearing': 5626, 'trigonometry': 5627, 'tutor': 5628, 'tutee': 5629, 'calmed': 5630, 'detention': 5631, 'rudely': 5632, 'tempered': 5633, 'beam': 5634, 'metre': 5635, 'relates': 5636, 'workplace': 5637, 'masala': 5638, 'entertainer': 5639, 'aubrey': 5640, 'baptism': 5641, 'antagonism': 5642, 'misunderstanding': 5643, 'wholeheartedly': 5644, 'armistice': 5645, 'centenary': 5646, 'lounge': 5647, 'salvaging': 5648, 'sebastian': 5649, 'owe': 5650, 'sooooo': 5651, 'survival': 5652, 'chanting': 5653, 'reverberate': 5654, 'shown': 5655, 'demonstrated': 5656, 'indulge': 5657, 'triggering': 5658, 'scream': 5659, 'worldwide': 5660, 'shyness': 5661, 'aloof': 5662, 'ample': 5663, 'getin': 5664, 'contributed': 5665, 'bank': 5666, 'account': 5667, 'tryin': 5668, 'gud': 5669, 'pal': 5670, 'understad': 5671, 'abt': 5672, 'problemn': 5673, 'carin': 5674, 'rte': 5675, 'emoticon': 5676, 'theoretically': 5677, 'nonetheless': 5678, 'casper': 5679, 'claus': 5680, 'loot': 5681, 'growled': 5682, '1997': 5683, 'stature': 5684, 'lauren': 5685, 'teammate': 5686, 'shiva': 5687, 'scientist': 5688, 'admiring': 5689, 'on': 5690, 'winning': 5691, 'suspected': 5692, 'stagnate': 5693, 'criminal': 5694, 'enacting': 5695, 'arrogance': 5696, 'favor': 5697, 'clarify': 5698, 'popped': 5699, 'urging': 5700, 'obligatory': 5701, 'impulsive': 5702, 'bhubaneswar': 5703, 'orissa': 5704, 'reproduce': 5705, 'treatment': 5706, 'fog': 5707, 'focalors': 5708, 'sigil': 5709, 'opium': 5710, 'grabbing': 5711, 'wooden': 5712, 'meditated': 5713, '25': 5714, 'ongoing': 5715, 'oxford': 5716, 'segregated': 5717, 'jake': 5718, 'breeding': 5719, 'piddi': 5720, 'chamber': 5721, 'antm': 5722, 'proudest': 5723, 'accommodate': 5724, 'jehovah': 5725, 'dryer': 5726, 'logistics': 5727, 'magical': 5728, 'smirk': 5729, 'ink': 5730, 'scim': 5731, 'vey': 5732, 'oncology': 5733, 'dpt': 5734, 'paranoiud': 5735, 'genetic': 5736, 'incision': 5737, 'woe': 5738, 'enraged': 5739, 'punch': 5740, 'gervase': 5741, 'piped': 5742, 'shaking': 5743, 'pajama': 5744, 'ti': 5745, 'grill': 5746, 'definition': 5747, 'widely': 5748, 'rented': 5749, 'unexpectedly': 5750, 'disrespected': 5751, 'priestess': 5752, 'ven': 5753, 'talia': 5754, 'loses': 5755, 'dreamed': 5756, 'council': 5757, 'genuine': 5758, 'forum': 5759, 'unmentioned': 5760, 'vaster': 5761, 'achievement': 5762, 'scraped': 5763, 'nook': 5764, 'cranny': 5765, 'oyster': 5766, 'juicy': 5767, 'morsel': 5768, 'spends': 5769, 'approach': 5770, 'empathize': 5771, 'capacity': 5772, 'impatience': 5773, 'determining': 5774, 'clock': 5775, 'paralysed': 5776, 'shuts': 5777, 'snoring': 5778, 'dreamland': 5779, 'prey': 5780, 'tattered': 5781, 'drowning': 5782, 'rattle': 5783, 'gust': 5784, 'knock': 5785, 'taker': 5786, 'confirm': 5787, 'contract': 5788, 'tsunami': 5789, 'cordial': 5790, 'nostalgia': 5791, 'exemplified': 5792, 'unforgettable': 5793, 'narrowly': 5794, 'king': 5795, 'temporarily': 5796, 'oxygen': 5797, 'machine': 5798, 'intoxicating': 5799, 'impractical': 5800, 'swallow': 5801, 'finalized': 5802, 'whined': 5803, 'depressing': 5804, 'unrewarding': 5805, 'enthusiastically': 5806, 'joking': 5807, 'sublime': 5808, 'thou': 5809, 'expressed': 5810, 'shore': 5811, 'liberation': 5812, 'paint': 5813, 'warhound': 5814, 'fieldi': 5815, 'wax': 5816, 'unibrow': 5817, 'spare': 5818, 'softly': 5819, 'eyelid': 5820, 'flawless': 5821, 'stream': 5822, 'cholesterol': 5823, 'turnout': 5824, 'traction': 5825, 'named': 5826, 'denise': 5827, 'eepctqlhiafjwnrrmas': 5828, 'quota': 5829, 'brimming': 5830, 'eviction': 5831, 'overdue': 5832, 'practicing': 5833, 'department': 5834, 'spine': 5835, 'bet': 5836, 'shameless': 5837, 'lad': 5838, 'hottest': 5839, 'fist': 5840, 'obrian': 5841, 'characterisation': 5842, 'evidenced': 5843, 'characters': 5844, 'extend': 5845, 'explored': 5846, 'remained': 5847, 'bundle': 5848, 'function': 5849, 'reporting': 5850, 'plummeting': 5851, 'tot': 5852, 'stats': 5853, 'staunch': 5854, 'proponent': 5855, 'england': 5856, 'authority': 5857, 'marlin': 5858, 'halloween': 5859, 'december': 5860, 'grandchild': 5861, 'definately': 5862, 'wotcs': 5863, 'swag': 5864, 'possessive': 5865, 'ptsd': 5866, 'territory': 5867, 'weirdo': 5868, 'backwards': 5869, 'application': 5870, 'desktop': 5871, 'netflix': 5872, 'deprivation': 5873, 'emma': 5874, 'benjamin': 5875, 'executed': 5876, 'topping': 5877, 'actauly': 5878, 'fitting': 5879, 'wardrobe': 5880, 'nervousness': 5881, 'lurk': 5882, 'theo': 5883, 'eli': 5884, 'embedding': 5885, '1972': 5886, 'killed': 5887, '1987': 5888, 'bouncier': 5889, 'treating': 5890, 'bastard': 5891, 'rapist': 5892, 'rigorously': 5893, 'hanged': 5894, 'blatant': 5895, 'defiance': 5896, 'olivias': 5897, 'riled': 5898, 'unsheathe': 5899, 'photograph': 5900, 'scramble': 5901, 'meticulously': 5902, 'evil': 5903, 'ibs': 5904, 'bowel': 5905, 'reducing': 5906, 'circus': 5907, 'underpants': 5908, 'tighter': 5909, 'remains': 5910, 'lottery': 5911, 'planned': 5912, 'legal': 5913, 'corrupting': 5914, 'recalling': 5915, 'attic': 5916, 'distanced': 5917, 'subtly': 5918, 'shh': 5919, 'bah': 5920, 'wasting': 5921, 'trite': 5922, 'dunno': 5923, 'pursuit': 5924, 'warmly': 5925, 'opera': 5926, 'commonly': 5927, 'cohesive': 5928, 'arist': 5929, 'michelle': 5930, 'italian': 5931, 'chicago': 5932, 'searched': 5933, 'swore': 5934, 'blubbering': 5935, 'trapped': 5936, 'rocking': 5937, 'fascinated': 5938, 'bake': 5939, 'clenching': 5940, 'hachi': 5941, 'nobu': 5942, 'ash': 5943, 'illusion': 5944, 'reverse': 5945, 'motivation': 5946, 'annotation': 5947, 'thequeenbuzz': 5948, 'batting': 5949, 'approaching': 5950, 'caveman': 5951, 'forsaken': 5952, 'includes': 5953, 'increasing': 5954, 'lecture': 5955, 'anticipated': 5956, 'erratic': 5957, 'swoon': 5958, 'jot': 5959, 'hussein': 5960, 'thug': 5961, 'administration': 5962, 'browsing': 5963, 'net': 5964, 'ant': 5965, 'interrupt': 5966, 'waft': 5967, 'charred': 5968, 'lathi': 5969, 'camp': 5970, 'virtual': 5971, 'sterile': 5972, 'remarkable': 5973, 'ironic': 5974, 'tenderness': 5975, 'taiwan': 5976, 'communist': 5977, 'umlungu': 5978, 'addicted': 5979, 'predictable': 5980, 'athlete': 5981, 'adrenaline': 5982, 'releasing': 5983, 'appeared': 5984, 'noticed': 5985, 'awoke': 5986, 'shrugged': 5987, 'educational': 5988, 'prefer': 5989, 'situations': 5990, 'philosophical': 5991, 'strike': 5992, 'transition': 5993, 'ordeal': 5994, 'effortlessly': 5995, 'graceful': 5996, 'ffayths': 5997, 'applied': 5998, 'profound': 5999, 'ser': 6000, 'cynicism': 6001, 'clubbed': 6002, 'dose': 6003, 'frivolous': 6004, '2002': 6005, 'christchurch': 6006, 'milligram': 6007, 'recommended': 6008, 'fallen': 6009, 'poem': 6010, 'occupied': 6011, 'freshman': 6012, 'absurd': 6013, 'countertop': 6014, 'emerges': 6015, 'purely': 6016, 'marks': 6017, 'formed': 6018, 'audio': 6019, 'martin': 6020, 'irving': 6021, 'crow': 6022, 'brazil': 6023, 'upper': 6024, 'herpes': 6025, 'checkup': 6026, 'heaviness': 6027, 'intervene': 6028, 'taylor': 6029, 'fixable': 6030, 'guilted': 6031, 'massive': 6032, 'pointing': 6033, 'waving': 6034, 'cheated': 6035, 'outcast': 6036, 'delivered': 6037, 'knot': 6038, 'drain': 6039, 'carbohydrate': 6040, 'expand': 6041, 'waistline': 6042, 'sixth': 6043, 'motif': 6044, 'underlying': 6045, 'inbalance': 6046, 'committment': 6047, 'counselling': 6048, 'reconciliation': 6049, 'twist': 6050, 'moffat': 6051, 'foreshadowing': 6052, 'suspense': 6053, 'alton': 6054, 'tower': 6055, 'flew': 6056, 'downward': 6057, 'rollercoaster': 6058, 'beak': 6059, 'spoke': 6060, 'reported': 6061, 'dissassociated': 6062, 'jane': 6063, 'eyre': 6064, 'bigged': 6065, 'dubbed': 6066, 'heap': 6067, 'msg': 6068, 'prologue': 6069, 'completed': 6070, 'cx': 6071, 'adam': 6072, 'coped': 6073, 'wrung': 6074, 'possessing': 6075, 'superfluous': 6076, 'jenn': 6077, 'elaine': 6078, 'denis': 6079, 'dave': 6080, 'proliferation': 6081, 'agency': 6082, 'illegitimate': 6083, 'dichotomy': 6084, 'crucial': 6085, 'overjoyed': 6086, 'thrill': 6087, 'kissed': 6088, 'proffer': 6089, 'dang': 6090, 'hen': 6091, 'brilliance': 6092, 'frozen': 6093, 'crol': 6094, 'tl': 6095, 'secondary': 6096, 'billion': 6097, 'denounced': 6098, 'grotesque': 6099, 'unrealistic': 6100, 'brutality': 6101, 'nightmare': 6102, 'speed': 6103, 'ia': 6104, 'in': 6105, 'stubbornly': 6106, 'aftermath': 6107, 'genre': 6108, 'pt': 6109, 'lp': 6110, 'fm': 6111, 'hurried': 6112, 'frayed': 6113, 'mindful': 6114, 'absence': 6115, 'patio': 6116, 'storming': 6117, 'flush': 6118, 'household': 6119, 'slumber': 6120, 'convoluted': 6121, 'exhausting': 6122, 'skdd': 6123, 'trash': 6124, 'bin': 6125, 'sought': 6126, 'stepchild': 6127, 'featuring': 6128, 'prominently': 6129, 'valente': 6130, 'verging': 6131, 'menstrual': 6132, 'buddhist': 6133, 'ajahn': 6134, 'brahmavamso': 6135, 'mani': 6136, 'guru': 6137, 'acquired': 6138, 'vibrant': 6139, 'fourth': 6140, 'ruin': 6141, 'ade': 6142, 'informing': 6143, 'wire': 6144, 'hostel': 6145, 'measure': 6146, 'defining': 6147, 'newest': 6148, 'valorized': 6149, 'argued': 6150, 'phoenix': 6151, 'slapping': 6152, 'boil': 6153, 'flare': 6154, 'papamoka': 6155, 'update': 6156, 'region': 6157, 'ardent': 6158, 'justice': 6159, 'served': 6160, 'persevered': 6161, 'yell': 6162, 'scored': 6163, 'conflicting': 6164, 'gush': 6165, 'version': 6166, 'velocity': 6167, 'gained': 6168, 'flashlight': 6169, 'ashers': 6170, 'contemplating': 6171, 'existance': 6172, 'sport': 6173, 'debt': 6174, 'biscuit': 6175, 'squeek': 6176, 'intimate': 6177, 'grossed': 6178, 'steal': 6179, 'acknowledge': 6180, 'conflict': 6181, 'kay': 6182, 'sunrise': 6183, 'retarted': 6184, 'interrupting': 6185, 'hotest': 6186, 'excotick': 6187, 'beaty': 6188, 'waist': 6189, 'yummyy': 6190, 'deisire': 6191, 'enjoin': 6192, 'slanted': 6193, 'adequately': 6194, 'medicated': 6195, 'sympathise': 6196, 'bernard': 6197, 'centered': 6198, 'locked': 6199, 'soooooooo': 6200, 'grave': 6201, 'philippe': 6202, 'playroom': 6203, 'bombsite': 6204, 'conservatory': 6205, 'escaping': 6206, 'been': 6207, 'wealth': 6208, 'greek': 6209, 'soothed': 6210, 'stimulated': 6211, 'glorious': 6212, 'alhamdulillah': 6213, 'turkey': 6214, 'exboyfriend': 6215, 'shout': 6216, 'fifty': 6217, 'midnight': 6218, 'visited': 6219, 'dedicated': 6220, 'luminary': 6221, 'humility': 6222, 'nosy': 6223, 'peice': 6224, 'provide': 6225, 'checked': 6226, 'dorm': 6227, 'inspected': 6228, 'slate': 6229, 'unilaterally': 6230, 'carelessness': 6231, 'thereby': 6232, 'perceived': 6233, 'scad': 6234, 'lovey': 6235, 'dovey': 6236, 'fitch': 6237, 'magnitude': 6238, 'demo': 6239, 'rammstein': 6240, 'unbearably': 6241, 'crushingly': 6242, 'creativeliar': 6243, 'franchise': 6244, 'valley': 6245, 'yknow': 6246, 'walmart': 6247, 'maceys': 6248, 'consumer': 6249, 'frank': 6250, '20': 6251, 'adsense': 6252, 'affiliate': 6253, 'success': 6254, 'prick': 6255, 'dreaming': 6256, 'paused': 6257, 'dramatically': 6258, 'que': 6259, 'similarity': 6260, '‚': 6261, 'commuter': 6262, 'reliable': 6263, 'gifting': 6264, 'subscription': 6265, 'zeno': 6266, 'attempting': 6267, 'kleinkinders': 6268, 'violated': 6269, 'acute': 6270, 'angrily': 6271, 'saloon': 6272, 'haircut': 6273, 'h': 6274, '1967': 6275, 'damp': 6276, 'harper': 6277, 'pregant': 6278, 'affirmation': 6279, 'ian': 6280, 'bully': 6281, 'youd': 6282, 'lj': 6283, 'suspicion': 6284, 'iming': 6285, 'pleading': 6286, 'island': 6287, 'quantity': 6288, 'cucumber': 6289, 'unfurling': 6290, 'sarcoidosis': 6291, 'terrifying': 6292, 'proved': 6293, 'prescribed': 6294, 'tablet': 6295, 'indie': 6296, 'organisation': 6297, 'disagree': 6298, 'definite': 6299, 'demostrators': 6300, 'transform': 6301, 'ticket': 6302, 'submission': 6303, 'zem': 6304, 'slink': 6305, 'forbidden': 6306, 'unsuccessfully': 6307, 'percieve': 6308, 'booked': 6309, 'flight': 6310, 'burbank': 6311, 'invested': 6312, 'dresden': 6313, 'marred': 6314, 'considerably': 6315, 'prose': 6316, 'zooming': 6317, 'trinity': 6318, 'whinging': 6319, 'behavioral': 6320, 'underrated': 6321, 'discussed': 6322, 'diabetes': 6323, 'clinical': 6324, 'prescription': 6325, 'rigid': 6326, 'abstinence': 6327, 'eighty': 6328, 'listened': 6329, 'specialist': 6330, 'anna': 6331, 'iya': 6332, 'erik': 6333, 'giggle': 6334, 'tilted': 6335, 'emptiness': 6336, 'pairing': 6337, 'dangerously': 6338, 'ie': 6339, 'pipsqueak': 6340, 'pillow': 6341, 'yelling': 6342, 'posse': 6343, 'practise': 6344, 'nursery': 6345, 'slope': 6346, 'radiant': 6347, 'shimmer': 6348, 'glittery': 6349, 'sickening': 6350, 'songy': 6351, 'chris': 6352, 'seattle': 6353, 'showcase': 6354, 'hammered': 6355, 'warned': 6356, 'examining': 6357, 'barker': 6358, 'sympathizing': 6359, 'ed': 6360, 'demon': 6361, 'dropping': 6362, 'congregated': 6363, 'rhinebeck': 6364, 'julia': 6365, 'incorporated': 6366, 'smothered': 6367, 'resent': 6368, 'rebel': 6369, 'sympathize': 6370, 'rescuing': 6371, 'prematurely': 6372, 'roughly': 6373, 'length': 6374, 'stinking': 6375, 'appts': 6376, 'drill': 6377, 'partially': 6378, 'crunch': 6379, 'looming': 6380, 'deadline': 6381, 'airport': 6382, 'locker': 6383, 'dignity': 6384, 'glance': 6385, 'oldest': 6386, 'outdoor': 6387, 'assortment': 6388, 'uncertainty': 6389, 'concise': 6390, 'singular': 6391, 'starring': 6392, 'haunting': 6393, 'frugal': 6394, 'antic': 6395, 'improv': 6396, 'quiz': 6397, 'offered': 6398, 'staffed': 6399, 'office': 6400, 'wistful': 6401, 'soaking': 6402, 'remorse': 6403, 'maniacal': 6404, 'omangy': 6405, 'crumbling': 6406, 'taryn': 6407, 'jumping': 6408, 'tether': 6409, 'collaborator': 6410, 'beverage': 6411, 'bulk': 6412, 'flub': 6413, 'verge': 6414, 'weariness': 6415, 'tenderly': 6416, 'clubbing': 6417, 'titled': 6418, '101': 6419, 'injured': 6420, 'soap': 6421, 'ew': 6422, 'implies': 6423, 'cell': 6424, '1996': 6425, 'divisional': 6426, 'heading': 6427, 'mlb': 6428, 'bandaid': 6429, 'cub': 6430, 'youngest': 6431, 'butter': 6432, 'zach': 6433, 'maria': 6434, 'alex': 6435, 'bobby': 6436, 'guardian': 6437, 'contest': 6438, 'grabbed': 6439, 'indiscriminately': 6440, 'permanently': 6441, 'mend': 6442, 'adjoining': 6443, 'cubicle': 6444, 'outsize': 6445, 'mac': 6446, 'sou': 6447, 'wester': 6448, 'dangled': 6449, 'wellies': 6450, 'gulity': 6451, 'cheating': 6452, 'entertained': 6453, 'publishing': 6454, 'josh': 6455, 'dreamworld': 6456, 'hiring': 6457, 'transcends': 6458, 'gorgeously': 6459, 'cinematic': 6460, 'apologise': 6461, 'consideration': 6462, 'subscriber': 6463, 'lighting': 6464, 'math': 6465, 'tuition': 6466, 'sanitiation': 6467, 'snoozel': 6468, 'uggs': 6469, 'bandwagon': 6470, 'glamorous': 6471, 'rider': 6472, 'unaware': 6473, 'infected': 6474, 'spit': 6475, 'lebanese': 6476, 'prosecution': 6477, 'mongering': 6478, 'elashis': 6479, 'noor': 6480, 'courthouse': 6481, 'overdo': 6482, 'panorma': 6483, 'northern': 6484, 'indonesia': 6485, 'about': 6486, 'committed': 6487, 'unintentionally': 6488, 'wealthy': 6489, 'charity': 6490, 'overwhelmingly': 6491, 'advocate': 6492, 'adoring': 6493, 'sucker': 6494, 'overhead': 6495, 'strictly': 6496, 'isolating': 6497, 'typed': 6498, 'committee': 6499, 'reground': 6500, 'hug': 6501, 'sleek': 6502, 'smoother': 6503, 'blaster': 6504, 'nicer': 6505, 'developing': 6506, 'san': 6507, 'vicente': 6508, 'confusing': 6509, 'iteration': 6510, 'alway': 6511, 'elusively': 6512, 'dubai': 6513, 'jared': 6514, 'pitocin': 6515, 'piling': 6516, 'swaddled': 6517, 'wrapping': 6518, 'bonka': 6519, 'neva': 6520, 'press': 6521, 'quarrel': 6522, 'expectation': 6523, 'faintly': 6524, 'twisted': 6525, 'tutorial': 6526, 'milling': 6527, 'dried': 6528, 'rose': 6529, 'petal': 6530, 'researched': 6531, 'youtube': 6532, 'clown': 6533, 'cognize': 6534, 'disregarding': 6535, 'cosmos': 6536, 'years': 6537, 'consciously': 6538, 'playwright': 6539, 'robert': 6540, 'reid': 6541, 'among': 6542, 'loosing': 6543, 'quicker': 6544, 'organizing': 6545, 'gathering': 6546, 'retain': 6547, 'boost': 6548, 'refocus': 6549, 'smooch': 6550, 'endurance': 6551, 'psych': 6552, 'defined': 6553, 'placed': 6554, 'premature': 6555, 'graying': 6556, 'register': 6557, 'continued': 6558, 'jillian': 6559, 'hosting': 6560, 'dominate': 6561, 'believer': 6562, 'duckling': 6563, 'obama': 6564, 'supporter': 6565, 'twinge': 6566, 'humble': 6567, 'presidency': 6568, 'rut': 6569, 'sodium': 6570, 'morbid': 6571, 'negotiating': 6572, 'temporary': 6573, 'asset': 6574, 'bogged': 6575, 'calf': 6576, 'tire': 6577, 'ripe': 6578, '″': 6579, 'aggressively': 6580, 'follower': 6581, 'ominous': 6582, 'who': 6583, 'renaissance': 6584, 'baroque': 6585, 'jamie': 6586, 'inanimate': 6587, 'options': 6588, 'flutter': 6589, 'functional': 6590, 'switch': 6591, 'java': 6592, 'python': 6593, 'tested': 6594, 'proven': 6595, 'emerging': 6596, 'haskell': 6597, 'months': 6598, 'heartbeat': 6599, 'crack': 6600, 'hacking': 6601, 'tae': 6602, 'gradual': 6603, 'arvo': 6604, 'worldly': 6605, 'irc': 6606, 'mi': 6607, 'uplifted': 6608, 'martinez': 6609, 'association': 6610, 'occupy': 6611, 'firstly': 6612, 'haired': 6613, '2d': 6614, 'pokemon': 6615, 'requesting': 6616, 'liza': 6617, 'marilyn': 6618, 'veggie': 6619, 'conversing': 6620, 'gigantic': 6621, 'vessel': 6622, 'marvel': 6623, 'underground': 6624, 'hometown': 6625, 'sweater': 6626, 'europe': 6627, 'bowl': 6628, 'apathy': 6629, 'exploring': 6630, 'thoughts': 6631, 'drafting': 6632, 'enlist': 6633, 'erotic': 6634, 'neighbor': 6635, 'resonate': 6636, 'complication': 6637, 'electronic': 6638, 'literature': 6639, 'cited': 6640, 'scarce': 6641, 'trendier': 6642, 'hotel': 6643, 'unfriendly': 6644, 'smoke': 6645, 'cent': 6646, 'mystery': 6647, 'ratbagx': 6648, 'hb': 6649, 'traumatised': 6650, 'pestilence': 6651, 'convenience': 6652, 'starvation': 6653, 'directed': 6654, 'decluttering': 6655, 'yarn': 6656, 'busting': 6657, 'bonus': 6658, 'members': 6659, 'pi': 6660, 'ata': 6661, 'spewing': 6662, 'defeat': 6663, 'elect': 6664, 'worn': 6665, 'rugby': 6666, 'prep': 6667, 'peacefulness': 6668, 'speaks': 6669, 'outsourcing': 6670, 'picky': 6671, 'sod': 6672, 'outsource': 6673, 'howard': 6674, 'weekday': 6675, 'proclaimed': 6676, 'swollen': 6677, 'imagebox': 6678, 'dinn': 6679, 'skip': 6680, 'lured': 6681, 'champagne': 6682, 'bestselling': 6683, 'kathy': 6684, 'lette': 6685, 'limbo': 6686, 'feauture': 6687, 'feautures': 6688, 'selena': 6689, 'asa': 6690, 'obssessed': 6691, 'embarrassing': 6692, 'vest': 6693, 'cellulite': 6694, 'exiting': 6695, 'helplessness': 6696, 'lawn': 6697, 'bouncy': 6698, 'fluttering': 6699, 'everythings': 6700, 'arriving': 6701, 'exhilarating': 6702, 'scenery': 6703, 'ini': 6704, 'occult': 6705, 'bezos': 6706, 'presumably': 6707, 'reporter': 6708, 'cardiovascular': 6709, 'awkwardness': 6710, 'pollution': 6711, 'dew': 6712, 'moisturising': 6713, 'luxurious': 6714, 'delicately': 6715, 'saddest': 6716, 'surviving': 6717, 'planet': 6718, 'columbia': 6719, 'registration': 6720, 'uneventful': 6721, 'handedly': 6722, 'industry': 6723, 'banjo': 6724, 'molly': 6725, 'prefers': 6726, 'katy': 6727, 'perry': 6728, 'purrrr': 6729, 'thin': 6730, 'shaving': 6731, 'marvellous': 6732, 'progressively': 6733, 'voiced': 6734, 'motivating': 6735, 'supernatural': 6736, 'thrown': 6737, 'towel': 6738, 'sinfully': 6739, 'communing': 6740, 'valbuena': 6741, 'diaby': 6742, 'overhaul': 6743, 'motionless': 6744, 'absently': 6745, 'superduperreally': 6746, 'predicted': 6747, 'angle': 6748, 'gallows': 6749, 'excelent': 6750, 'anime': 6751, 'nouveau': 6752, 'gamer': 6753, 'delilahlwl': 6754, 'raping': 6755, 'pet': 6756, 'reversed': 6757, 'granny': 6758, 'stated': 6759, 'pediatrician': 6760, 'soak': 6761, 'robust': 6762, 'professionalism': 6763, 'specification': 6764, 'maintenance': 6765, 'wonderland': 6766, 'classy': 6767, 'redesign': 6768, 'spritzer': 6769, 'nagalene': 6770, 'wifi': 6771, 'stellarium': 6772}\n",
      "Sequence 1: [1, 761, 107, 472, 256, 411, 81, 41, 241, 472]\n",
      "Sequence 2: [59, 46, 15, 2, 47, 2784, 946, 762]\n",
      "Sequence 3: [1797, 2785, 138, 182, 166, 242, 2205, 2206, 39, 189, 39, 16, 1, 2, 700]\n",
      "Sequence 4: [151, 1, 248, 372, 166, 701]\n",
      "Sequence 5: [57, 1, 3, 171, 5, 249, 2786, 67, 261, 947, 24]\n",
      "Sequence 6: [355, 1798, 2, 123]\n",
      "Sequence 7: [324, 23, 167, 302, 152, 2, 3, 2787, 76, 6, 2788, 73, 2789, 26, 79, 392, 77, 159, 159]\n",
      "Sequence 8: [4, 88, 2, 356, 201, 488, 36]\n",
      "Sequence 9: [10, 2, 35, 13, 11, 341, 412, 168, 357, 865, 73, 2790, 2791, 177, 658, 115, 4571, 355, 513]\n",
      "Sequence 10: [3, 595, 303, 1035, 2792, 3, 4572, 596, 1547, 127, 3, 10, 1215, 14, 1, 49, 3]\n"
     ]
    }
   ],
   "source": [
    "# Tokenize the text data\n",
    "\n",
    "max_words = 10000\n",
    "tokenizer = Tokenizer(num_words=max_words)\n",
    "tokenizer.fit_on_texts(X_train.astype(str))\n",
    "\n",
    "X_train_seq = tokenizer.texts_to_sequences(X_train.astype(str))\n",
    "X_val_seq = tokenizer.texts_to_sequences(X_val.astype(str))\n",
    "X_test_seq = tokenizer.texts_to_sequences(X_test.astype(str))\n",
    "\n",
    "\n",
    "vocab_size = len(tokenizer.word_index) + 1\n",
    "print(vocab_size)\n",
    "print(tokenizer.word_index)\n",
    "\n",
    "for i in range (10):\n",
    "    print(f\"Sequence {i + 1}: {X_train_seq[i]}\")\n"
   ]
  },
  {
   "cell_type": "code",
   "execution_count": 32,
   "metadata": {},
   "outputs": [
    {
     "name": "stdout",
     "output_type": "stream",
     "text": [
      "Sequence1: [  1 761 107 472 256 411  81  41 241 472   0   0   0   0   0   0   0   0\n",
      "   0   0   0   0   0   0   0   0   0   0   0   0   0   0   0   0   0   0\n",
      "   0   0   0   0   0   0   0   0   0   0   0   0   0   0   0   0   0   0\n",
      "   0   0   0   0   0   0   0   0   0   0   0   0   0   0   0   0   0   0\n",
      "   0   0   0   0   0   0   0   0   0   0   0   0   0   0   0   0   0   0\n",
      "   0   0   0   0   0   0   0   0   0   0]\n",
      "Sequence2: [  59   46   15    2   47 2784  946  762    0    0    0    0    0    0\n",
      "    0    0    0    0    0    0    0    0    0    0    0    0    0    0\n",
      "    0    0    0    0    0    0    0    0    0    0    0    0    0    0\n",
      "    0    0    0    0    0    0    0    0    0    0    0    0    0    0\n",
      "    0    0    0    0    0    0    0    0    0    0    0    0    0    0\n",
      "    0    0    0    0    0    0    0    0    0    0    0    0    0    0\n",
      "    0    0    0    0    0    0    0    0    0    0    0    0    0    0\n",
      "    0    0]\n",
      "Sequence3: [1797 2785  138  182  166  242 2205 2206   39  189   39   16    1    2\n",
      "  700    0    0    0    0    0    0    0    0    0    0    0    0    0\n",
      "    0    0    0    0    0    0    0    0    0    0    0    0    0    0\n",
      "    0    0    0    0    0    0    0    0    0    0    0    0    0    0\n",
      "    0    0    0    0    0    0    0    0    0    0    0    0    0    0\n",
      "    0    0    0    0    0    0    0    0    0    0    0    0    0    0\n",
      "    0    0    0    0    0    0    0    0    0    0    0    0    0    0\n",
      "    0    0]\n"
     ]
    }
   ],
   "source": [
    "max_sequence_length = 100\n",
    "\n",
    "X_train = pad_sequences(X_train_seq, maxlen=max_sequence_length, padding=\"post\")\n",
    "X_val = pad_sequences(X_val_seq, maxlen=max_sequence_length, padding=\"post\")\n",
    "X_test = pad_sequences(X_test_seq, maxlen=max_sequence_length, padding=\"post\")\n",
    "\n",
    "for i in range (3):\n",
    "    print(f\"Sequence{i +1}: {X_train[i]}\")\n"
   ]
  },
  {
   "cell_type": "code",
   "execution_count": 33,
   "metadata": {},
   "outputs": [
    {
     "data": {
      "text/plain": [
       "array([[   1,  761,  107, ...,    0,    0,    0],\n",
       "       [  59,   46,   15, ...,    0,    0,    0],\n",
       "       [1797, 2785,  138, ...,    0,    0,    0],\n",
       "       ...,\n",
       "       [   1,  392,   86, ...,    0,    0,    0],\n",
       "       [   4,    2,   78, ...,    0,    0,    0],\n",
       "       [   1,    3,  173, ...,    0,    0,    0]], dtype=int32)"
      ]
     },
     "execution_count": 33,
     "metadata": {},
     "output_type": "execute_result"
    }
   ],
   "source": [
    "X_train"
   ]
  },
  {
   "cell_type": "markdown",
   "metadata": {},
   "source": [
    "# converting to Tensorflow tensors for the model\n",
    "X_train_tensor = tf.constant(X__train_padded, dtype=tf.int32)\n",
    "y_train_tensor = tf.constant(y_train, dtype=tf.int32)\n",
    "\n",
    "train_dataset = tf.data.Dataset.from_tensor_slices((X_train_tensor, y_train_tensor))\n",
    "\n",
    "X_val_tensor = tf.constant(X_val_padded, dtype=tf.int32)\n",
    "y_val_tensor = tf.constant(y_val, dtype=tf.int32)\n",
    "\n",
    "val_dataset = tf.data.Dataset.from_tensor_slices((X_val_tensor, y_val_tensor))\n",
    "\n",
    "print(train_dataset)\n",
    "print(val_dataset)"
   ]
  },
  {
   "cell_type": "markdown",
   "metadata": {},
   "source": [
    "### Designing a model"
   ]
  },
  {
   "cell_type": "markdown",
   "metadata": {},
   "source": [
    "I will now design a model. I will use the Long Short-Term Memory(LSTM) type of RNN model as it handles stochastic gradient failure better than a regular RNN. It can handle longer sequences better. I will start by creating a simple network with one LTSM layer to see how the  model performs.\n",
    "\n",
    "I will use the following formula to determine the number of nodes within the layer: \n",
    "\n",
    "$ N_i = \\frac{2}{3} * (N_i + N_o) $\n",
    "\n",
    "$N_i$ is equal to the number of input words\n",
    "$N_o$ is equal to number of output neurons\n",
    "\n",
    "This will give me a basic idea on what number of nodes to begin with then I can adjust after training the model. \n",
    "\n",
    "I will also include a Dropout layer to help reduce in overfitting. This will randomly ignore selected neurons during training and reduce the sensitivity of specific weights. I have chosen 0.2 as my starting point as it is a good compromise in retaining accuracy and overfitting.\n",
    "\n",
    "I will use the softmax activation function in my activation layer as it will interpret the outputs as probabilities for each class.\n",
    "\n",
    "The model I will build will be simple to begin then it will be built upon by testing different hyperparemters with the keras tuner"
   ]
  },
  {
   "cell_type": "code",
   "execution_count": 34,
   "metadata": {},
   "outputs": [
    {
     "name": "stdout",
     "output_type": "stream",
     "text": [
      "The number of hidden nodes is: 400\n"
     ]
    }
   ],
   "source": [
    "hidden_nodes = int(2/3 * (max_sequence_length * 6))\n",
    "print(f\"The number of hidden nodes is: {hidden_nodes}\")"
   ]
  },
  {
   "cell_type": "code",
   "execution_count": 66,
   "metadata": {},
   "outputs": [
    {
     "data": {
      "text/plain": [
       "6697    1\n",
       "6752    1\n",
       "163     2\n",
       "241     2\n",
       "4288    5\n",
       "       ..\n",
       "5068    4\n",
       "2581    1\n",
       "4974    2\n",
       "5397    4\n",
       "7723    3\n",
       "Name: label, Length: 1726, dtype: int64"
      ]
     },
     "execution_count": 66,
     "metadata": {},
     "output_type": "execute_result"
    }
   ],
   "source": [
    "y_val"
   ]
  },
  {
   "cell_type": "code",
   "execution_count": 81,
   "metadata": {},
   "outputs": [],
   "source": [
    "def train_and_evaluate_model(epochs, checkpoint_filepath):\n",
    "    \n",
    "    model= Sequential()\n",
    "    model.add(Embedding(8628, 64, input_length=100))\n",
    "    # add max pooling\n",
    "    # add conv 1d\n",
    "    #model.add(Conv1D(filters=128, kernel_size = 3, padding=\"same\",activation=\"relu\"))\n",
    "    #model.add(MaxPooling1D(pool_size=5))\n",
    "    #model.add(Dropout(0.4))\n",
    "    #model.add(GlobalAveragePooling1D())\n",
    "    #model.add(Dropout(0.5))\n",
    "    model.add(LSTM(50, return_sequences=True)) # kernel_regularizer=keras.regularizers.l2(0.001))) \n",
    "    model.add(LSTM(50,return_sequences=True))\n",
    "    model.add(LSTM(50))\n",
    "    model.add(Dense(1000, activation=\"relu\"))\n",
    "    model.add(Dense(400, activation=\"relu\"))\n",
    "    model.add(Dense(200, activation=\"relu\"))\n",
    "    model.add(Dense(100, activation=\"relu\"))\n",
    "    model.add(Dense(50, activation=\"relu\")) #100 \n",
    "    #model.add(Dense(64, activation=\"tanh\")) 50\n",
    "    #Bidirectional(LSTM(32, dropout=0.5, recurrent_dropout=0.5,kernel_regularizer=keras.regularizers.l2(0.001)))\n",
    "    model.add(Dense(6, activation=\"softmax\"))\n",
    "\n",
    "    model.compile(\n",
    "        optimizer=\"Adam\",\n",
    "        loss='sparse_categorical_crossentropy',\n",
    "        metrics=['accuracy'])\n",
    "    \n",
    "    #model = Sequential([\n",
    "    #keras.layers.Embedding(10000, 64), # exact number of words in dataset\n",
    "    #Conv1D(32, 7, activation='relu'),\n",
    "    #MaxPooling1D(5),\n",
    "    #Bidirectional(LSTM(32, return_sequences=True, dropout=0.5, recurrent_dropout=0.5, kernel_regularizer=keras.regularizers.l2(0.001))),\n",
    "    #Bidirectional(LSTM(32, dropout=0.5, recurrent_dropout=0.5, kernel_regularizer=keras.regularizers.l2(0.001))),\n",
    "    #keras.layers.Dense(6, activation='sigmoid')\n",
    "#])\n",
    "\n",
    "    #model.compile(loss=\"categorical_cross\", optimizer=keras.optimizers.RMSprop(learning_rate=0.001), metrics=[\"accuracy\"])\n",
    "    \n",
    "    early_stopping = EarlyStopping(monitor=\"val_loss\", mode=\"min\", verbose=1, patience=3)\n",
    "    \n",
    "    model_checkpoint = ModelCheckpoint(\n",
    "        filepath=checkpoint_filepath, \n",
    "        monitor=\"val_accuracy\", \n",
    "        mode=\"max\", verbose=1, \n",
    "        save_best_only=True\n",
    "\n",
    "    #reduce_lr = ReduceLROnPlateau(monitor=\"val_loss\", factor=0.2)\n",
    "    )\n",
    "\n",
    "    history = model.fit(X_train, y_train, \n",
    "                        validation_data=(X_val,y_val), \n",
    "                        epochs=epochs,batch_size=64, \n",
    "                        callbacks=[early_stopping, model_checkpoint]) \n",
    "\n",
    "    test_loss, test_accuracy = model.evaluate(X_test, y_test, verbose=0) # test data results when run through the model\n",
    "    print(f\"Test Loss: {test_loss:.4f}, Test Accuracy: {test_accuracy:.4f}\")\n",
    "\n",
    "    #visualizing training and validation results\n",
    "    plt.figure(figsize=(8, 8))\n",
    "\n",
    "    plt.subplot(1, 2, 1)\n",
    "    plt.plot(history.history[\"accuracy\"], label=\"Training Accuracy\")\n",
    "    plt.plot(history.history[\"val_accuracy\"], label=\"Validation Accuracy\")\n",
    "    plt.xlabel(\"Epoch\")\n",
    "    plt.ylabel(\"Accuracy\")\n",
    "    plt.legend()\n",
    "\n",
    "    plt.subplot(1, 2, 2)\n",
    "    plt.plot(history.history[\"loss\"], label=\"Training Loss\")\n",
    "    plt.plot(history.history[\"val_loss\"], label=\"Validation Loss \")\n",
    "    plt.xlabel(\"Epoch\")\n",
    "    plt.ylabel(\"Loss\")\n",
    "    plt.legend()\n",
    "\n",
    "    print(model.summary())\n",
    "\n",
    "    best_model = load_model(checkpoint_filepath)\n",
    "    \n",
    "    return best_model\n"
   ]
  },
  {
   "cell_type": "code",
   "execution_count": 82,
   "metadata": {},
   "outputs": [
    {
     "name": "stdout",
     "output_type": "stream",
     "text": [
      "Epoch 1/50\n",
      "81/81 [==============================] - ETA: 0s - loss: 1.7922 - accuracy: 0.1605\n",
      "Epoch 1: val_accuracy improved from -inf to 0.16686, saving model to ../Lab_RNN/model_save\n",
      "INFO:tensorflow:Assets written to: ../Lab_RNN/model_save/assets\n"
     ]
    },
    {
     "name": "stderr",
     "output_type": "stream",
     "text": [
      "INFO:tensorflow:Assets written to: ../Lab_RNN/model_save/assets\n"
     ]
    },
    {
     "name": "stdout",
     "output_type": "stream",
     "text": [
      "81/81 [==============================] - 55s 541ms/step - loss: 1.7922 - accuracy: 0.1605 - val_loss: 1.7918 - val_accuracy: 0.1669\n",
      "Epoch 2/50\n",
      "81/81 [==============================] - ETA: 0s - loss: 1.7921 - accuracy: 0.1592\n",
      "Epoch 2: val_accuracy did not improve from 0.16686\n",
      "81/81 [==============================] - 28s 347ms/step - loss: 1.7921 - accuracy: 0.1592 - val_loss: 1.7918 - val_accuracy: 0.1669\n",
      "Epoch 3/50\n",
      "81/81 [==============================] - ETA: 0s - loss: 1.7919 - accuracy: 0.1619\n",
      "Epoch 3: val_accuracy did not improve from 0.16686\n",
      "81/81 [==============================] - 27s 337ms/step - loss: 1.7919 - accuracy: 0.1619 - val_loss: 1.7918 - val_accuracy: 0.1663\n",
      "Epoch 4/50\n",
      "81/81 [==============================] - ETA: 0s - loss: 1.7920 - accuracy: 0.1567\n",
      "Epoch 4: val_accuracy did not improve from 0.16686\n",
      "81/81 [==============================] - 28s 347ms/step - loss: 1.7920 - accuracy: 0.1567 - val_loss: 1.7918 - val_accuracy: 0.1663\n",
      "Epoch 5/50\n",
      "81/81 [==============================] - ETA: 0s - loss: 1.7920 - accuracy: 0.1540\n",
      "Epoch 5: val_accuracy did not improve from 0.16686\n",
      "81/81 [==============================] - 27s 338ms/step - loss: 1.7920 - accuracy: 0.1540 - val_loss: 1.7918 - val_accuracy: 0.1669\n",
      "Epoch 6/50\n",
      "81/81 [==============================] - ETA: 0s - loss: 1.7921 - accuracy: 0.1615\n",
      "Epoch 6: val_accuracy did not improve from 0.16686\n",
      "81/81 [==============================] - 28s 342ms/step - loss: 1.7921 - accuracy: 0.1615 - val_loss: 1.7918 - val_accuracy: 0.1669\n",
      "Epoch 7/50\n",
      "81/81 [==============================] - ETA: 0s - loss: 1.7920 - accuracy: 0.1520\n",
      "Epoch 7: val_accuracy did not improve from 0.16686\n",
      "81/81 [==============================] - 27s 334ms/step - loss: 1.7920 - accuracy: 0.1520 - val_loss: 1.7918 - val_accuracy: 0.1669\n",
      "Epoch 8/50\n",
      "81/81 [==============================] - ETA: 0s - loss: 1.7920 - accuracy: 0.1577\n",
      "Epoch 8: val_accuracy did not improve from 0.16686\n",
      "81/81 [==============================] - 28s 346ms/step - loss: 1.7920 - accuracy: 0.1577 - val_loss: 1.7918 - val_accuracy: 0.1669\n",
      "Epoch 8: early stopping\n",
      "Test Loss: 1.7918, Test Accuracy: 0.1663\n",
      "Model: \"sequential_20\"\n",
      "_________________________________________________________________\n",
      " Layer (type)                Output Shape              Param #   \n",
      "=================================================================\n",
      " embedding_20 (Embedding)    (None, 100, 64)           552192    \n",
      "                                                                 \n",
      " lstm_48 (LSTM)              (None, 100, 50)           23000     \n",
      "                                                                 \n",
      " lstm_49 (LSTM)              (None, 100, 50)           20200     \n",
      "                                                                 \n",
      " lstm_50 (LSTM)              (None, 50)                20200     \n",
      "                                                                 \n",
      " dense_89 (Dense)            (None, 1000)              51000     \n",
      "                                                                 \n",
      " dense_90 (Dense)            (None, 400)               400400    \n",
      "                                                                 \n",
      " dense_91 (Dense)            (None, 200)               80200     \n",
      "                                                                 \n",
      " dense_92 (Dense)            (None, 100)               20100     \n",
      "                                                                 \n",
      " dense_93 (Dense)            (None, 50)                5050      \n",
      "                                                                 \n",
      " dense_94 (Dense)            (None, 6)                 306       \n",
      "                                                                 \n",
      "=================================================================\n",
      "Total params: 1172648 (4.47 MB)\n",
      "Trainable params: 1172648 (4.47 MB)\n",
      "Non-trainable params: 0 (0.00 Byte)\n",
      "_________________________________________________________________\n",
      "None\n"
     ]
    },
    {
     "data": {
      "text/plain": [
       "<keras.src.engine.sequential.Sequential at 0x7f4488effaf0>"
      ]
     },
     "execution_count": 82,
     "metadata": {},
     "output_type": "execute_result"
    },
    {
     "data": {
      "image/png": "[encoded data removed]",
      "text/plain": [
       "<Figure size 800x800 with 2 Axes>"
      ]
     },
     "metadata": {},
     "output_type": "display_data"
    }
   ],
   "source": [
    "train_and_evaluate_model(50, \"../Lab_RNN/model_save\")"
   ]
  },
  {
   "cell_type": "markdown",
   "metadata": {},
   "source": [
    "As We can see see this model was not successful at all! I think the model needs to have some more layers. I will now test out keras tuner to test more than one layer and to see which hyper parameters may be more effective. "
   ]
  },
  {
   "cell_type": "code",
   "execution_count": null,
   "metadata": {},
   "outputs": [],
   "source": [
    "def model_builder(hp):\n",
    "    model= Sequential()\n",
    "    model.add(Embedding(20000, \n",
    "                        hp.Int(\"embedding_size\", min_value=32, max_value=256, step=32), \n",
    "                        input_length=80))\n",
    "    model.add(LSTM(units= hp.Int(\"LSTM_units\", min_value= 32, max_value=256, step = 32)))\n",
    "    model.add(Dense(units=hp.Int(\"Dense_units\",min_value = 64, max_value=512, step=64),\n",
    "                    activation=\"relu\"))\n",
    "    model.add(Dropout(rate=hp.Choice(\"dropout\", values=[0.2,0.3,0.4,0.5])))\n",
    "    model.add(Dense(6, activation=\"softmax\"))\n",
    "\n",
    "    model.compile(\n",
    "    optimizer=Adam(hp.Choice(\"learning_rate\", values=[1e-2, 1e-3, 1e-4])),\n",
    "    loss='sparse_categorical_crossentropy',\n",
    "    metrics=['accuracy'])\n",
    "\n",
    "    return model\n",
    "\n",
    "    "
   ]
  },
  {
   "cell_type": "code",
   "execution_count": null,
   "metadata": {},
   "outputs": [],
   "source": [
    "tuner = kt.Hyperband(model_builder,\n",
    "                     objective='val_accuracy', # which parameter to observe\n",
    "                     max_epochs=10,\n",
    "                     factor=3, #the reduction factor, The smaller it is the more aggressive reduction in configurations\n",
    "                     directory='tuner_results_RNN', # results saved to a directory\n",
    "                     project_name='sentiment')"
   ]
  },
  {
   "cell_type": "code",
   "execution_count": null,
   "metadata": {},
   "outputs": [],
   "source": [
    "early_stopping = tf.keras.callbacks.EarlyStopping(monitor=\"val_loss\", patience=3) # early stopping used when better parameters are found to save time in tuning"
   ]
  },
  {
   "cell_type": "code",
   "execution_count": null,
   "metadata": {},
   "outputs": [
    {
     "name": "stdout",
     "output_type": "stream",
     "text": [
      "Trial 30 Complete [00h 06m 56s]\n",
      "val_accuracy: 0.3407500088214874\n",
      "\n",
      "Best val_accuracy So Far: 0.3407500088214874\n",
      "Total elapsed time: 02h 11m 07s\n"
     ]
    }
   ],
   "source": [
    "tuner.search(X_train, y_train, epochs=10, validation_data=(X_val, y_val), callbacks=[early_stopping]) # The training search"
   ]
  },
  {
   "cell_type": "markdown",
   "metadata": {},
   "source": []
  },
  {
   "cell_type": "code",
   "execution_count": null,
   "metadata": {},
   "outputs": [
    {
     "name": "stdout",
     "output_type": "stream",
     "text": [
      "Model: \"sequential\"\n",
      "_________________________________________________________________\n",
      " Layer (type)                Output Shape              Param #   \n",
      "=================================================================\n",
      " embedding (Embedding)       (None, 80, 224)           4480000   \n",
      "                                                                 \n",
      " lstm (LSTM)                 (None, 256)               492544    \n",
      "                                                                 \n",
      " dense (Dense)               (None, 320)               82240     \n",
      "                                                                 \n",
      " dropout (Dropout)           (None, 320)               0         \n",
      "                                                                 \n",
      " dense_1 (Dense)             (None, 6)                 1926      \n",
      "                                                                 \n",
      "=================================================================\n",
      "Total params: 5056710 (19.29 MB)\n",
      "Trainable params: 5056710 (19.29 MB)\n",
      "Non-trainable params: 0 (0.00 Byte)\n",
      "_________________________________________________________________\n",
      "None\n",
      "{'embedding_size': 224, 'LSTM_units': 256, 'Dense_units': 320, 'dropout': 0.5, 'learning_rate': 0.01, 'tuner/epochs': 2, 'tuner/initial_epoch': 0, 'tuner/bracket': 2, 'tuner/round': 0}\n"
     ]
    }
   ],
   "source": [
    "best_model = tuner.get_best_models(num_models=1)\n",
    "print(best_model[0].summary())\n",
    "\n",
    "# prints out best hyperparameters\n",
    "best_hyperparameters = tuner.get_best_hyperparameters(1)[0]\n",
    "print(best_hyperparameters.values)"
   ]
  },
  {
   "cell_type": "markdown",
   "metadata": {},
   "source": [
    "I had a problem with saving the parameters to file. SO i copied the results above just incase I could not retrieve them.\n",
    "\n",
    "```Model: \"sequential\"\n",
    "_________________________________________________________________\n",
    " Layer (type)                Output Shape              Param #   \n",
    "=================================================================\n",
    " embedding (Embedding)       (None, 80, 224)           4480000   \n",
    "                                                                 \n",
    " lstm (LSTM)                 (None, 256)               492544    \n",
    "                                                                 \n",
    " dense (Dense)               (None, 320)               82240     \n",
    "                                                                 \n",
    " dropout (Dropout)           (None, 320)               0         \n",
    "                                                                 \n",
    " dense_1 (Dense)             (None, 6)                 1926      \n",
    "                                                                 \n",
    "=================================================================\n",
    "Total params: 5056710 (19.29 MB)\n",
    "Trainable params: 5056710 (19.29 MB)\n",
    "Non-trainable params: 0 (0.00 Byte)\n",
    "_________________________________________________________________\n",
    "None\n",
    "{'embedding_size': 224, 'LSTM_units': 256, 'Dense_units': 320, 'dropout': 0.5, 'learning_rate': 0.01, 'tuner/epochs': 2, 'tuner/initial_epoch': 0, 'tuner/bracket': 2, 'tuner/round': 0}\n",
    "Trial 30 Complete [00h 06m 56s]\n",
    "val_accuracy: 0.3407500088214874\n",
    "\n",
    "Best val_accuracy So Far: 0.3407500088214874\n",
    "Total elapsed time: 02h 11m 07s\n",
    "```\n"
   ]
  },
  {
   "cell_type": "code",
   "execution_count": null,
   "metadata": {},
   "outputs": [],
   "source": [
    "tuner_hyper = {\n",
    "    \"embed\": 224,\n",
    "    \"LSTM1_units\" : 256,\n",
    "    \"LSTM2_units\" : 256,\n",
    "    \"Dense1_units\" : 320,\n",
    "    \"Dense2_units\" : 160,\n",
    "    \"dropout\" : 0.5,\n",
    "    \"learning_rate\" : 0.01\n",
    "\n",
    "\n",
    "}"
   ]
  },
  {
   "cell_type": "code",
   "execution_count": null,
   "metadata": {},
   "outputs": [],
   "source": [
    "def tuner_model(epochs, checkpoint_filepath,hyperparemeters=None):\n",
    "\n",
    "    if hyperparemeters is None:\n",
    "        hyperparemeters = tuner_hyper\n",
    "    \n",
    "    model= Sequential()\n",
    "    model.add(Embedding(input_dim= 20000, output_dim=hyperparemeters[\"embed\"], input_length=80))\n",
    "    model.add(LSTM(units=hyperparemeters[\"LSTM1_units\"], return_sequences=True))\n",
    "    model.add(LSTM(units=hyperparemeters[\"LSTM2_units\"],return_sequences=False))\n",
    "    model.add(Dense(units=hyperparemeters[\"Dense1_units\"], activation=\"relu\"))\n",
    "    model.add(Dense(units=hyperparemeters[\"Dense2_units\"]))\n",
    "    model.add(Dropout(rate=hyperparemeters[\"dropout\"]))\n",
    "    model.add(Dense(6, activation=\"softmax\"))\n",
    "\n",
    "    model.compile(\n",
    "        optimizer=Adam(learning_rate=hyperparemeters[\"learning_rate\"]),\n",
    "        loss='sparse_categorical_crossentropy',\n",
    "        metrics=['accuracy'])\n",
    "    \n",
    "    early_stopping = EarlyStopping(monitor=\"val_loss\", mode=\"min\", verbose=1, patience=3)\n",
    "    \n",
    "    model_checkpoint = ModelCheckpoint(\n",
    "        filepath=checkpoint_filepath, \n",
    "        monitor=\"val_accuracy\", \n",
    "        mode=\"max\", verbose=1, \n",
    "        save_best_only=True\n",
    "    )\n",
    "\n",
    "    # fitting the model to the training model to train\n",
    "    history = model.fit(X_train,y_train , epochs=epochs, validation_data=(X_val,y_val), callbacks=[early_stopping, model_checkpoint])\n",
    "\n",
    "    # evaluating the model with the test dataset\n",
    "    test_loss, test_accuracy =model.evaluate(X_test, y_test, verbose=0)\n",
    "    print(f\"Test Loss: {test_loss:.4f}, Test Accuracy: {test_accuracy:.4f}\")\n",
    "\n",
    "    # plotting the validation loss and training accuracy\n",
    "    plt.figure(figsize=(8,8))\n",
    "\n",
    "    plt.subplot(1,2,1)\n",
    "    plt.plot(history.history[\"accuracy\"], label=\"Training Accuracy\")\n",
    "    plt.plot(history.history[\"val_accuracy\"], label=\"Validation Accuracy\")\n",
    "    plt.xlabel(\"Epoch\")\n",
    "    plt.ylabel(\"Accuracy\")\n",
    "    plt.legend()\n",
    "\n",
    "    plt.subplot(1,2,2)\n",
    "    plt.plot(history.history[\"loss\"], label=\"Training Loss\")\n",
    "    plt.plot(history.history[\"val_loss\"], label=\"Validation Loss \")\n",
    "    plt.xlabel(\"Epoch\")\n",
    "    plt.ylabel(\"Loss\")\n",
    "    plt.legend()\n",
    "\n",
    "    print(model.summary())\n",
    "    \n",
    "    return best_model\n",
    "    "
   ]
  },
  {
   "cell_type": "code",
   "execution_count": null,
   "metadata": {},
   "outputs": [
    {
     "name": "stdout",
     "output_type": "stream",
     "text": [
      "Epoch 1/50\n",
      "375/375 [==============================] - ETA: 0s - loss: 1.6170 - accuracy: 0.3239\n",
      "Epoch 1: val_accuracy improved from -inf to 0.34075, saving model to ../Lab_RNN/model_save\n",
      "INFO:tensorflow:Assets written to: ../Lab_RNN/model_save/assets\n"
     ]
    },
    {
     "name": "stderr",
     "output_type": "stream",
     "text": [
      "INFO:tensorflow:Assets written to: ../Lab_RNN/model_save/assets\n"
     ]
    },
    {
     "name": "stdout",
     "output_type": "stream",
     "text": [
      "375/375 [==============================] - 246s 647ms/step - loss: 1.6170 - accuracy: 0.3239 - val_loss: 1.5886 - val_accuracy: 0.3408\n",
      "Epoch 2/50\n",
      "375/375 [==============================] - ETA: 0s - loss: 1.5854 - accuracy: 0.3280\n",
      "Epoch 2: val_accuracy did not improve from 0.34075\n",
      "375/375 [==============================] - 235s 627ms/step - loss: 1.5854 - accuracy: 0.3280 - val_loss: 1.5853 - val_accuracy: 0.3408\n",
      "Epoch 3/50\n",
      "375/375 [==============================] - ETA: 0s - loss: 1.5852 - accuracy: 0.3243\n",
      "Epoch 3: val_accuracy did not improve from 0.34075\n",
      "375/375 [==============================] - 234s 623ms/step - loss: 1.5852 - accuracy: 0.3243 - val_loss: 1.5841 - val_accuracy: 0.3408\n",
      "Epoch 4/50\n",
      "375/375 [==============================] - ETA: 0s - loss: 1.5859 - accuracy: 0.3302\n",
      "Epoch 4: val_accuracy did not improve from 0.34075\n",
      "375/375 [==============================] - 234s 625ms/step - loss: 1.5859 - accuracy: 0.3302 - val_loss: 1.5844 - val_accuracy: 0.3408\n",
      "Epoch 5/50\n",
      "375/375 [==============================] - ETA: 0s - loss: 1.5842 - accuracy: 0.3270\n",
      "Epoch 5: val_accuracy did not improve from 0.34075\n",
      "375/375 [==============================] - 238s 635ms/step - loss: 1.5842 - accuracy: 0.3270 - val_loss: 1.5881 - val_accuracy: 0.3408\n",
      "Epoch 6/50\n",
      "375/375 [==============================] - ETA: 0s - loss: 1.5841 - accuracy: 0.3296\n",
      "Epoch 6: val_accuracy did not improve from 0.34075\n",
      "375/375 [==============================] - 226s 602ms/step - loss: 1.5841 - accuracy: 0.3296 - val_loss: 1.5792 - val_accuracy: 0.3408\n",
      "Epoch 7/50\n",
      "375/375 [==============================] - ETA: 0s - loss: 1.5840 - accuracy: 0.3290\n",
      "Epoch 7: val_accuracy did not improve from 0.34075\n",
      "375/375 [==============================] - 226s 602ms/step - loss: 1.5840 - accuracy: 0.3290 - val_loss: 1.5835 - val_accuracy: 0.2858\n",
      "Epoch 8/50\n",
      "375/375 [==============================] - ETA: 0s - loss: 1.5835 - accuracy: 0.3254\n",
      "Epoch 8: val_accuracy did not improve from 0.34075\n",
      "375/375 [==============================] - 225s 600ms/step - loss: 1.5835 - accuracy: 0.3254 - val_loss: 1.5807 - val_accuracy: 0.3408\n",
      "Epoch 9/50\n",
      "375/375 [==============================] - ETA: 0s - loss: 1.5841 - accuracy: 0.3265\n",
      "Epoch 9: val_accuracy did not improve from 0.34075\n",
      "375/375 [==============================] - 214s 572ms/step - loss: 1.5841 - accuracy: 0.3265 - val_loss: 1.5811 - val_accuracy: 0.3408\n",
      "Epoch 9: early stopping\n",
      "Test Loss: 1.5635, Test Accuracy: 0.3422\n",
      "Model: \"sequential_10\"\n",
      "_________________________________________________________________\n",
      " Layer (type)                Output Shape              Param #   \n",
      "=================================================================\n",
      " embedding_5 (Embedding)     (None, 80, 224)           4480000   \n",
      "                                                                 \n",
      " lstm_7 (LSTM)               (None, 80, 256)           492544    \n",
      "                                                                 \n",
      " lstm_8 (LSTM)               (None, 256)               525312    \n",
      "                                                                 \n",
      " dense_7 (Dense)             (None, 320)               82240     \n",
      "                                                                 \n",
      " dense_8 (Dense)             (None, 160)               51360     \n",
      "                                                                 \n",
      " dropout_3 (Dropout)         (None, 160)               0         \n",
      "                                                                 \n",
      " dense_9 (Dense)             (None, 6)                 966       \n",
      "                                                                 \n",
      "=================================================================\n",
      "Total params: 5632422 (21.49 MB)\n",
      "Trainable params: 5632422 (21.49 MB)\n",
      "Non-trainable params: 0 (0.00 Byte)\n",
      "_________________________________________________________________\n",
      "None\n"
     ]
    },
    {
     "data": {
      "text/plain": [
       "[<keras.src.engine.sequential.Sequential at 0x7f5e50359570>]"
      ]
     },
     "execution_count": 78,
     "metadata": {},
     "output_type": "execute_result"
    },
    {
     "data": {
      "image/png": "[encoded data removed]",
      "text/plain": [
       "<Figure size 800x800 with 2 Axes>"
      ]
     },
     "metadata": {},
     "output_type": "display_data"
    }
   ],
   "source": [
    "tuner_model(50, \"../Lab_RNN/model_save\",None)"
   ]
  }
 ],
 "metadata": {
  "kernelspec": {
   "display_name": "venv",
   "language": "python",
   "name": "python3"
  },
  "language_info": {
   "codemirror_mode": {
    "name": "ipython",
    "version": 3
   },
   "file_extension": ".py",
   "mimetype": "text/x-python",
   "name": "python",
   "nbconvert_exporter": "python",
   "pygments_lexer": "ipython3",
   "version": "3.10.12"
  }
 },
 "nbformat": 4,
 "nbformat_minor": 2
}
