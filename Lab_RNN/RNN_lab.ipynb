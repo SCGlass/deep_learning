{
 "cells": [
  {
   "cell_type": "markdown",
   "metadata": {},
   "source": [
    "# RNN Lab - Sentiment Classification"
   ]
  },
  {
   "cell_type": "code",
   "execution_count": 89,
   "metadata": {},
   "outputs": [
    {
     "name": "stderr",
     "output_type": "stream",
     "text": [
      "[nltk_data] Downloading package stopwords to\n",
      "[nltk_data]     /home/sam_glass/nltk_data...\n",
      "[nltk_data]   Package stopwords is already up-to-date!\n",
      "[nltk_data] Downloading package punkt to /home/sam_glass/nltk_data...\n",
      "[nltk_data]   Package punkt is already up-to-date!\n",
      "[nltk_data] Downloading package wordnet to\n",
      "[nltk_data]     /home/sam_glass/nltk_data...\n",
      "[nltk_data]   Package wordnet is already up-to-date!\n"
     ]
    }
   ],
   "source": [
    "# importing relevant packages\n",
    "\n",
    "import pandas as pd\n",
    "import matplotlib.pyplot as plt\n",
    "import nltk\n",
    "nltk.download([\"stopwords\", \"punkt\", \"wordnet\"])\n",
    "from nltk.stem import WordNetLemmatizer\n",
    "from nltk.corpus import stopwords\n",
    "from nltk.tokenize import word_tokenize\n",
    "from sklearn.model_selection import train_test_split\n",
    "import numpy as np\n",
    "\n",
    "import tensorflow as tf\n",
    "from tensorflow.keras.preprocessing.text import Tokenizer\n",
    "from tensorflow.keras.preprocessing.sequence import pad_sequences\n",
    "from  tensorflow.keras.models import Sequential\n",
    "from tensorflow.keras.layers import Bidirectional,LSTM,GRU,Dense,Embedding,Dropout, Conv1D,MaxPooling1D,GlobalAveragePooling1D, SimpleRNN,SpatialDropout1D \n",
    "from tensorflow.keras.callbacks import EarlyStopping, ModelCheckpoint\n",
    "from tensorflow.keras.optimizers import Adam\n",
    "from keras.models import load_model\n",
    "import kerastuner as kt\n",
    "from tensorflow import keras\n",
    "\n",
    "import nlpaug.augmenter.word as naw\n",
    "import torch\n"
   ]
  },
  {
   "cell_type": "markdown",
   "metadata": {},
   "source": [
    "#### Loading data"
   ]
  },
  {
   "cell_type": "code",
   "execution_count": 90,
   "metadata": {},
   "outputs": [
    {
     "data": {
      "text/html": [
       "<div>\n",
       "<style scoped>\n",
       "    .dataframe tbody tr th:only-of-type {\n",
       "        vertical-align: middle;\n",
       "    }\n",
       "\n",
       "    .dataframe tbody tr th {\n",
       "        vertical-align: top;\n",
       "    }\n",
       "\n",
       "    .dataframe thead th {\n",
       "        text-align: right;\n",
       "    }\n",
       "</style>\n",
       "<table border=\"1\" class=\"dataframe\">\n",
       "  <thead>\n",
       "    <tr style=\"text-align: right;\">\n",
       "      <th></th>\n",
       "      <th>text</th>\n",
       "      <th>label</th>\n",
       "    </tr>\n",
       "  </thead>\n",
       "  <tbody>\n",
       "    <tr>\n",
       "      <th>0</th>\n",
       "      <td>i feel so pissed off over an old friend and so...</td>\n",
       "      <td>anger</td>\n",
       "    </tr>\n",
       "    <tr>\n",
       "      <th>1</th>\n",
       "      <td>ive found it has made a huge difference especi...</td>\n",
       "      <td>anger</td>\n",
       "    </tr>\n",
       "    <tr>\n",
       "      <th>2</th>\n",
       "      <td>i also feel it is unfortunate that nearly all ...</td>\n",
       "      <td>sadness</td>\n",
       "    </tr>\n",
       "    <tr>\n",
       "      <th>3</th>\n",
       "      <td>i feel petty a href http clairee</td>\n",
       "      <td>anger</td>\n",
       "    </tr>\n",
       "    <tr>\n",
       "      <th>4</th>\n",
       "      <td>i used to believe that a feeling like fear was...</td>\n",
       "      <td>sadness</td>\n",
       "    </tr>\n",
       "  </tbody>\n",
       "</table>\n",
       "</div>"
      ],
      "text/plain": [
       "                                                text    label\n",
       "0  i feel so pissed off over an old friend and so...    anger\n",
       "1  ive found it has made a huge difference especi...    anger\n",
       "2  i also feel it is unfortunate that nearly all ...  sadness\n",
       "3                   i feel petty a href http clairee    anger\n",
       "4  i used to believe that a feeling like fear was...  sadness"
      ]
     },
     "execution_count": 90,
     "metadata": {},
     "output_type": "execute_result"
    }
   ],
   "source": [
    "data = pd.read_csv(\"../Lab_RNN/Data/emotions.csv\") # creating data frame from the csv file\n",
    "\n",
    "data.head()"
   ]
  },
  {
   "cell_type": "code",
   "execution_count": 5,
   "metadata": {},
   "outputs": [
    {
     "data": {
      "text/plain": [
       "<bound method DataFrame.value_counts of                                                     text    label\n",
       "0      i feel so pissed off over an old friend and so...    anger\n",
       "1      ive found it has made a huge difference especi...    anger\n",
       "2      i also feel it is unfortunate that nearly all ...  sadness\n",
       "3                       i feel petty a href http clairee    anger\n",
       "4      i used to believe that a feeling like fear was...  sadness\n",
       "...                                                  ...      ...\n",
       "19995  i was i might be buying stuff from there but i...      joy\n",
       "19996  i like sonam deepika and genelia who i feel ar...      joy\n",
       "19997  i feel pathetic that i can hardly go a whole d...  sadness\n",
       "19998  id have spent more time with her on reading i ...  sadness\n",
       "19999  i do however feel like one of those pathetic g...  sadness\n",
       "\n",
       "[20000 rows x 2 columns]>"
      ]
     },
     "execution_count": 5,
     "metadata": {},
     "output_type": "execute_result"
    }
   ],
   "source": [
    "data.value_counts # using value count to count how many rows in data frame"
   ]
  },
  {
   "cell_type": "code",
   "execution_count": 6,
   "metadata": {},
   "outputs": [
    {
     "data": {
      "text/plain": [
       "text     0\n",
       "label    0\n",
       "dtype: int64"
      ]
     },
     "execution_count": 6,
     "metadata": {},
     "output_type": "execute_result"
    }
   ],
   "source": [
    "# Checking for any null values\n",
    "data.isnull().sum()"
   ]
  },
  {
   "cell_type": "code",
   "execution_count": 7,
   "metadata": {},
   "outputs": [
    {
     "name": "stdout",
     "output_type": "stream",
     "text": [
      "Duplicates                                                    text label\n",
      "6154  i feel more adventurous willing to take risks ...   joy\n"
     ]
    }
   ],
   "source": [
    "duplicates =data[data.duplicated]\n",
    "print(f\"Duplicates {duplicates}\")"
   ]
  },
  {
   "cell_type": "code",
   "execution_count": 8,
   "metadata": {},
   "outputs": [],
   "source": [
    "# remove duplicates\n",
    "data = data.drop_duplicates()"
   ]
  },
  {
   "cell_type": "markdown",
   "metadata": {},
   "source": [
    "The data set contains 20,000 rows of text lines then classed with an emotion."
   ]
  },
  {
   "cell_type": "code",
   "execution_count": 91,
   "metadata": {},
   "outputs": [
    {
     "data": {
      "text/plain": [
       "<Axes: xlabel='label'>"
      ]
     },
     "execution_count": 91,
     "metadata": {},
     "output_type": "execute_result"
    },
    {
     "data": {
      "image/png": "[encoded data removed]",
      "text/plain": [
       "<Figure size 640x480 with 1 Axes>"
      ]
     },
     "metadata": {},
     "output_type": "display_data"
    }
   ],
   "source": [
    "data.label.value_counts().plot.bar() "
   ]
  },
  {
   "cell_type": "markdown",
   "metadata": {},
   "source": [
    "Here we can see that the data set is not very equal across all catagories. This may make the training more biased to certain emotions like joy and sadness. We also see that there is six different catagories for the emotions."
   ]
  },
  {
   "cell_type": "code",
   "execution_count": 92,
   "metadata": {},
   "outputs": [],
   "source": [
    "joy = data[data[\"label\"]== \"joy\"]\n",
    "sadness = data[data[\"label\"]== \"sadness\"]\n",
    "anger = data[data[\"label\"]== \"anger\"]\n",
    "fear = data[data[\"label\"] == \"fear\"]\n",
    "love = data[data[\"label\"] == \"love\"]\n",
    "surprise = data[data[\"label\"] == \"surprise\"]\n",
    "\n",
    "love = love.sample(n=len(surprise), random_state=42)\n",
    "fear = fear.sample(n=len(surprise), random_state=42)\n",
    "anger = anger.sample(n=len(surprise), random_state=42)\n",
    "sadness = sadness.sample(n=len(surprise), random_state=42)\n",
    "joy = joy.sample(n=len(surprise), random_state=42)\n",
    "\n",
    "data = pd.concat([joy,sadness,anger,fear,love,surprise], axis=0)"
   ]
  },
  {
   "cell_type": "code",
   "execution_count": 11,
   "metadata": {},
   "outputs": [
    {
     "data": {
      "text/html": [
       "<div>\n",
       "<style scoped>\n",
       "    .dataframe tbody tr th:only-of-type {\n",
       "        vertical-align: middle;\n",
       "    }\n",
       "\n",
       "    .dataframe tbody tr th {\n",
       "        vertical-align: top;\n",
       "    }\n",
       "\n",
       "    .dataframe thead th {\n",
       "        text-align: right;\n",
       "    }\n",
       "</style>\n",
       "<table border=\"1\" class=\"dataframe\">\n",
       "  <thead>\n",
       "    <tr style=\"text-align: right;\">\n",
       "      <th></th>\n",
       "      <th>text</th>\n",
       "      <th>label</th>\n",
       "    </tr>\n",
       "  </thead>\n",
       "  <tbody>\n",
       "    <tr>\n",
       "      <th>17713</th>\n",
       "      <td>i feel so glad that im able to have the time t...</td>\n",
       "      <td>joy</td>\n",
       "    </tr>\n",
       "    <tr>\n",
       "      <th>14436</th>\n",
       "      <td>i could look up the coordinates of the cave bu...</td>\n",
       "      <td>joy</td>\n",
       "    </tr>\n",
       "    <tr>\n",
       "      <th>8631</th>\n",
       "      <td>i need you i need someone i need to be protect...</td>\n",
       "      <td>joy</td>\n",
       "    </tr>\n",
       "    <tr>\n",
       "      <th>6740</th>\n",
       "      <td>i can t imagine a real life scenario where i w...</td>\n",
       "      <td>joy</td>\n",
       "    </tr>\n",
       "    <tr>\n",
       "      <th>1381</th>\n",
       "      <td>im feeling very optimistic about it and find m...</td>\n",
       "      <td>joy</td>\n",
       "    </tr>\n",
       "  </tbody>\n",
       "</table>\n",
       "</div>"
      ],
      "text/plain": [
       "                                                    text label\n",
       "17713  i feel so glad that im able to have the time t...   joy\n",
       "14436  i could look up the coordinates of the cave bu...   joy\n",
       "8631   i need you i need someone i need to be protect...   joy\n",
       "6740   i can t imagine a real life scenario where i w...   joy\n",
       "1381   im feeling very optimistic about it and find m...   joy"
      ]
     },
     "execution_count": 11,
     "metadata": {},
     "output_type": "execute_result"
    }
   ],
   "source": [
    "data.head()"
   ]
  },
  {
   "cell_type": "code",
   "execution_count": 12,
   "metadata": {},
   "outputs": [
    {
     "name": "stdout",
     "output_type": "stream",
     "text": [
      "<class 'pandas.core.frame.DataFrame'>\n",
      "Index: 4314 entries, 17713 to 19949\n",
      "Data columns (total 2 columns):\n",
      " #   Column  Non-Null Count  Dtype \n",
      "---  ------  --------------  ----- \n",
      " 0   text    4314 non-null   object\n",
      " 1   label   4314 non-null   object\n",
      "dtypes: object(2)\n",
      "memory usage: 101.1+ KB\n"
     ]
    }
   ],
   "source": [
    "data.info()"
   ]
  },
  {
   "cell_type": "code",
   "execution_count": 93,
   "metadata": {},
   "outputs": [
    {
     "data": {
      "text/plain": [
       "<Axes: xlabel='label'>"
      ]
     },
     "execution_count": 93,
     "metadata": {},
     "output_type": "execute_result"
    },
    {
     "data": {
      "image/png": "[encoded data removed]",
      "text/plain": [
       "<Figure size 640x480 with 1 Axes>"
      ]
     },
     "metadata": {},
     "output_type": "display_data"
    }
   ],
   "source": [
    "data.label.value_counts().plot.bar() "
   ]
  },
  {
   "cell_type": "code",
   "execution_count": 14,
   "metadata": {},
   "outputs": [
    {
     "data": {
      "text/html": [
       "<div>\n",
       "<style scoped>\n",
       "    .dataframe tbody tr th:only-of-type {\n",
       "        vertical-align: middle;\n",
       "    }\n",
       "\n",
       "    .dataframe tbody tr th {\n",
       "        vertical-align: top;\n",
       "    }\n",
       "\n",
       "    .dataframe thead th {\n",
       "        text-align: right;\n",
       "    }\n",
       "</style>\n",
       "<table border=\"1\" class=\"dataframe\">\n",
       "  <thead>\n",
       "    <tr style=\"text-align: right;\">\n",
       "      <th></th>\n",
       "      <th>text</th>\n",
       "      <th>label</th>\n",
       "    </tr>\n",
       "  </thead>\n",
       "  <tbody>\n",
       "    <tr>\n",
       "      <th>17713</th>\n",
       "      <td>[now i feel so glad that im is able to have th...</td>\n",
       "      <td>joy</td>\n",
       "    </tr>\n",
       "    <tr>\n",
       "      <th>14436</th>\n",
       "      <td>[hopefully i could look directly up into the c...</td>\n",
       "      <td>joy</td>\n",
       "    </tr>\n",
       "    <tr>\n",
       "      <th>8631</th>\n",
       "      <td>[i need you amy i need someone i need to would...</td>\n",
       "      <td>joy</td>\n",
       "    </tr>\n",
       "    <tr>\n",
       "      <th>6740</th>\n",
       "      <td>[i can u t imagine a real life scenario scenar...</td>\n",
       "      <td>joy</td>\n",
       "    </tr>\n",
       "    <tr>\n",
       "      <th>1381</th>\n",
       "      <td>[but im feeling very optimistic about it and s...</td>\n",
       "      <td>joy</td>\n",
       "    </tr>\n",
       "    <tr>\n",
       "      <th>...</th>\n",
       "      <td>...</td>\n",
       "      <td>...</td>\n",
       "    </tr>\n",
       "    <tr>\n",
       "      <th>19890</th>\n",
       "      <td>[now i never go easily around people and i act...</td>\n",
       "      <td>surprise</td>\n",
       "    </tr>\n",
       "    <tr>\n",
       "      <th>19901</th>\n",
       "      <td>[and i definitely feel herpes coming i would b...</td>\n",
       "      <td>surprise</td>\n",
       "    </tr>\n",
       "    <tr>\n",
       "      <th>19915</th>\n",
       "      <td>[and i like it to often do things that leave o...</td>\n",
       "      <td>surprise</td>\n",
       "    </tr>\n",
       "    <tr>\n",
       "      <th>19944</th>\n",
       "      <td>[and i feel like a monster because as together...</td>\n",
       "      <td>surprise</td>\n",
       "    </tr>\n",
       "    <tr>\n",
       "      <th>19949</th>\n",
       "      <td>[i feel pretty absolutely freaking amazing]</td>\n",
       "      <td>surprise</td>\n",
       "    </tr>\n",
       "  </tbody>\n",
       "</table>\n",
       "<p>4314 rows × 2 columns</p>\n",
       "</div>"
      ],
      "text/plain": [
       "                                                    text     label\n",
       "17713  [now i feel so glad that im is able to have th...       joy\n",
       "14436  [hopefully i could look directly up into the c...       joy\n",
       "8631   [i need you amy i need someone i need to would...       joy\n",
       "6740   [i can u t imagine a real life scenario scenar...       joy\n",
       "1381   [but im feeling very optimistic about it and s...       joy\n",
       "...                                                  ...       ...\n",
       "19890  [now i never go easily around people and i act...  surprise\n",
       "19901  [and i definitely feel herpes coming i would b...  surprise\n",
       "19915  [and i like it to often do things that leave o...  surprise\n",
       "19944  [and i feel like a monster because as together...  surprise\n",
       "19949        [i feel pretty absolutely freaking amazing]  surprise\n",
       "\n",
       "[4314 rows x 2 columns]"
      ]
     },
     "execution_count": 14,
     "metadata": {},
     "output_type": "execute_result"
    }
   ],
   "source": [
    "def augment_with_emotion(row, aug):\n",
    "    original_text = row['text']\n",
    "    original_emotion = row['label']\n",
    "    \n",
    "    augmented_text = aug.augment(original_text)\n",
    "    \n",
    "    # Create a new row with augmented text and the original emotion label\n",
    "    row[\"text\"] = augmented_text\n",
    "    row[\"label\"] = original_emotion\n",
    "    \n",
    "    return row\n",
    "\n",
    "# Augmenter configuration\n",
    "aug = naw.ContextualWordEmbsAug(model_path='bert-base-uncased', action=\"insert\")\n",
    "\n",
    "# Apply the augmentation function to each row in the DataFrame\n",
    "augmented_df = data.apply(lambda row: augment_with_emotion(row, aug), axis=1)\n",
    "\n",
    "augmented_df"
   ]
  },
  {
   "cell_type": "code",
   "execution_count": 14,
   "metadata": {},
   "outputs": [
    {
     "ename": "NameError",
     "evalue": "name 'augmented_df' is not defined",
     "output_type": "error",
     "traceback": [
      "\u001b[0;31m---------------------------------------------------------------------------\u001b[0m",
      "\u001b[0;31mNameError\u001b[0m                                 Traceback (most recent call last)",
      "Cell \u001b[0;32mIn[14], line 1\u001b[0m\n\u001b[0;32m----> 1\u001b[0m \u001b[43maugmented_df\u001b[49m\u001b[38;5;241m.\u001b[39mto_csv(\u001b[38;5;124m\"\u001b[39m\u001b[38;5;124m../Lab_RNN/Data/augmented.csv\u001b[39m\u001b[38;5;124m\"\u001b[39m)\n",
      "\u001b[0;31mNameError\u001b[0m: name 'augmented_df' is not defined"
     ]
    }
   ],
   "source": [
    "augmented_df.to_csv(\"../Lab_RNN/Data/augmented.csv\")"
   ]
  },
  {
   "cell_type": "code",
   "execution_count": 94,
   "metadata": {},
   "outputs": [
    {
     "data": {
      "text/html": [
       "<div>\n",
       "<style scoped>\n",
       "    .dataframe tbody tr th:only-of-type {\n",
       "        vertical-align: middle;\n",
       "    }\n",
       "\n",
       "    .dataframe tbody tr th {\n",
       "        vertical-align: top;\n",
       "    }\n",
       "\n",
       "    .dataframe thead th {\n",
       "        text-align: right;\n",
       "    }\n",
       "</style>\n",
       "<table border=\"1\" class=\"dataframe\">\n",
       "  <thead>\n",
       "    <tr style=\"text-align: right;\">\n",
       "      <th></th>\n",
       "      <th>Unnamed: 0</th>\n",
       "      <th>text</th>\n",
       "      <th>label</th>\n",
       "    </tr>\n",
       "  </thead>\n",
       "  <tbody>\n",
       "    <tr>\n",
       "      <th>0</th>\n",
       "      <td>0</td>\n",
       "      <td>['now i feel so glad that im is able to have t...</td>\n",
       "      <td>joy</td>\n",
       "    </tr>\n",
       "    <tr>\n",
       "      <th>1</th>\n",
       "      <td>1</td>\n",
       "      <td>['hopefully i could look directly up into the ...</td>\n",
       "      <td>joy</td>\n",
       "    </tr>\n",
       "    <tr>\n",
       "      <th>2</th>\n",
       "      <td>2</td>\n",
       "      <td>['i need you amy i need someone i need to woul...</td>\n",
       "      <td>joy</td>\n",
       "    </tr>\n",
       "    <tr>\n",
       "      <th>3</th>\n",
       "      <td>3</td>\n",
       "      <td>['i can u t imagine a real life scenario scena...</td>\n",
       "      <td>joy</td>\n",
       "    </tr>\n",
       "    <tr>\n",
       "      <th>4</th>\n",
       "      <td>4</td>\n",
       "      <td>['but im feeling very optimistic about it and ...</td>\n",
       "      <td>joy</td>\n",
       "    </tr>\n",
       "    <tr>\n",
       "      <th>...</th>\n",
       "      <td>...</td>\n",
       "      <td>...</td>\n",
       "      <td>...</td>\n",
       "    </tr>\n",
       "    <tr>\n",
       "      <th>4309</th>\n",
       "      <td>4309</td>\n",
       "      <td>['now i never go easily around people and i ac...</td>\n",
       "      <td>surprise</td>\n",
       "    </tr>\n",
       "    <tr>\n",
       "      <th>4310</th>\n",
       "      <td>4310</td>\n",
       "      <td>['and i definitely feel herpes coming i would ...</td>\n",
       "      <td>surprise</td>\n",
       "    </tr>\n",
       "    <tr>\n",
       "      <th>4311</th>\n",
       "      <td>4311</td>\n",
       "      <td>['and i like it to often do things that leave ...</td>\n",
       "      <td>surprise</td>\n",
       "    </tr>\n",
       "    <tr>\n",
       "      <th>4312</th>\n",
       "      <td>4312</td>\n",
       "      <td>['and i feel like a monster because as togethe...</td>\n",
       "      <td>surprise</td>\n",
       "    </tr>\n",
       "    <tr>\n",
       "      <th>4313</th>\n",
       "      <td>4313</td>\n",
       "      <td>['i feel pretty absolutely freaking amazing']</td>\n",
       "      <td>surprise</td>\n",
       "    </tr>\n",
       "  </tbody>\n",
       "</table>\n",
       "<p>4314 rows × 3 columns</p>\n",
       "</div>"
      ],
      "text/plain": [
       "      Unnamed: 0                                               text     label\n",
       "0              0  ['now i feel so glad that im is able to have t...       joy\n",
       "1              1  ['hopefully i could look directly up into the ...       joy\n",
       "2              2  ['i need you amy i need someone i need to woul...       joy\n",
       "3              3  ['i can u t imagine a real life scenario scena...       joy\n",
       "4              4  ['but im feeling very optimistic about it and ...       joy\n",
       "...          ...                                                ...       ...\n",
       "4309        4309  ['now i never go easily around people and i ac...  surprise\n",
       "4310        4310  ['and i definitely feel herpes coming i would ...  surprise\n",
       "4311        4311  ['and i like it to often do things that leave ...  surprise\n",
       "4312        4312  ['and i feel like a monster because as togethe...  surprise\n",
       "4313        4313      ['i feel pretty absolutely freaking amazing']  surprise\n",
       "\n",
       "[4314 rows x 3 columns]"
      ]
     },
     "execution_count": 94,
     "metadata": {},
     "output_type": "execute_result"
    }
   ],
   "source": [
    "augmented_df= pd.read_csv(\"../Lab_RNN/Data/augmented.csv\")\n",
    "augmented_df"
   ]
  },
  {
   "cell_type": "code",
   "execution_count": 95,
   "metadata": {},
   "outputs": [
    {
     "data": {
      "text/html": [
       "<div>\n",
       "<style scoped>\n",
       "    .dataframe tbody tr th:only-of-type {\n",
       "        vertical-align: middle;\n",
       "    }\n",
       "\n",
       "    .dataframe tbody tr th {\n",
       "        vertical-align: top;\n",
       "    }\n",
       "\n",
       "    .dataframe thead th {\n",
       "        text-align: right;\n",
       "    }\n",
       "</style>\n",
       "<table border=\"1\" class=\"dataframe\">\n",
       "  <thead>\n",
       "    <tr style=\"text-align: right;\">\n",
       "      <th></th>\n",
       "      <th>text</th>\n",
       "      <th>label</th>\n",
       "    </tr>\n",
       "  </thead>\n",
       "  <tbody>\n",
       "    <tr>\n",
       "      <th>0</th>\n",
       "      <td>['now i feel so glad that im is able to have t...</td>\n",
       "      <td>joy</td>\n",
       "    </tr>\n",
       "    <tr>\n",
       "      <th>1</th>\n",
       "      <td>['hopefully i could look directly up into the ...</td>\n",
       "      <td>joy</td>\n",
       "    </tr>\n",
       "    <tr>\n",
       "      <th>2</th>\n",
       "      <td>['i need you amy i need someone i need to woul...</td>\n",
       "      <td>joy</td>\n",
       "    </tr>\n",
       "    <tr>\n",
       "      <th>3</th>\n",
       "      <td>['i can u t imagine a real life scenario scena...</td>\n",
       "      <td>joy</td>\n",
       "    </tr>\n",
       "    <tr>\n",
       "      <th>4</th>\n",
       "      <td>['but im feeling very optimistic about it and ...</td>\n",
       "      <td>joy</td>\n",
       "    </tr>\n",
       "    <tr>\n",
       "      <th>...</th>\n",
       "      <td>...</td>\n",
       "      <td>...</td>\n",
       "    </tr>\n",
       "    <tr>\n",
       "      <th>4309</th>\n",
       "      <td>['now i never go easily around people and i ac...</td>\n",
       "      <td>surprise</td>\n",
       "    </tr>\n",
       "    <tr>\n",
       "      <th>4310</th>\n",
       "      <td>['and i definitely feel herpes coming i would ...</td>\n",
       "      <td>surprise</td>\n",
       "    </tr>\n",
       "    <tr>\n",
       "      <th>4311</th>\n",
       "      <td>['and i like it to often do things that leave ...</td>\n",
       "      <td>surprise</td>\n",
       "    </tr>\n",
       "    <tr>\n",
       "      <th>4312</th>\n",
       "      <td>['and i feel like a monster because as togethe...</td>\n",
       "      <td>surprise</td>\n",
       "    </tr>\n",
       "    <tr>\n",
       "      <th>4313</th>\n",
       "      <td>['i feel pretty absolutely freaking amazing']</td>\n",
       "      <td>surprise</td>\n",
       "    </tr>\n",
       "  </tbody>\n",
       "</table>\n",
       "<p>4314 rows × 2 columns</p>\n",
       "</div>"
      ],
      "text/plain": [
       "                                                   text     label\n",
       "0     ['now i feel so glad that im is able to have t...       joy\n",
       "1     ['hopefully i could look directly up into the ...       joy\n",
       "2     ['i need you amy i need someone i need to woul...       joy\n",
       "3     ['i can u t imagine a real life scenario scena...       joy\n",
       "4     ['but im feeling very optimistic about it and ...       joy\n",
       "...                                                 ...       ...\n",
       "4309  ['now i never go easily around people and i ac...  surprise\n",
       "4310  ['and i definitely feel herpes coming i would ...  surprise\n",
       "4311  ['and i like it to often do things that leave ...  surprise\n",
       "4312  ['and i feel like a monster because as togethe...  surprise\n",
       "4313      ['i feel pretty absolutely freaking amazing']  surprise\n",
       "\n",
       "[4314 rows x 2 columns]"
      ]
     },
     "execution_count": 95,
     "metadata": {},
     "output_type": "execute_result"
    }
   ],
   "source": [
    "augmented_df = augmented_df.drop(\"Unnamed: 0\", axis=1)\n",
    "augmented_df"
   ]
  },
  {
   "cell_type": "code",
   "execution_count": 96,
   "metadata": {},
   "outputs": [],
   "source": [
    "augmented_df['text'] = augmented_df['text'].apply(lambda x: str(x).replace('[', '').replace(']', '').replace(\"'\", ''))"
   ]
  },
  {
   "cell_type": "code",
   "execution_count": 97,
   "metadata": {},
   "outputs": [
    {
     "data": {
      "text/html": [
       "<div>\n",
       "<style scoped>\n",
       "    .dataframe tbody tr th:only-of-type {\n",
       "        vertical-align: middle;\n",
       "    }\n",
       "\n",
       "    .dataframe tbody tr th {\n",
       "        vertical-align: top;\n",
       "    }\n",
       "\n",
       "    .dataframe thead th {\n",
       "        text-align: right;\n",
       "    }\n",
       "</style>\n",
       "<table border=\"1\" class=\"dataframe\">\n",
       "  <thead>\n",
       "    <tr style=\"text-align: right;\">\n",
       "      <th></th>\n",
       "      <th>text</th>\n",
       "      <th>label</th>\n",
       "    </tr>\n",
       "  </thead>\n",
       "  <tbody>\n",
       "    <tr>\n",
       "      <th>0</th>\n",
       "      <td>i feel so glad that im able to have the time t...</td>\n",
       "      <td>joy</td>\n",
       "    </tr>\n",
       "    <tr>\n",
       "      <th>1</th>\n",
       "      <td>i could look up the coordinates of the cave bu...</td>\n",
       "      <td>joy</td>\n",
       "    </tr>\n",
       "    <tr>\n",
       "      <th>2</th>\n",
       "      <td>i feel tat all of us in this world are clever ...</td>\n",
       "      <td>joy</td>\n",
       "    </tr>\n",
       "    <tr>\n",
       "      <th>3</th>\n",
       "      <td>i was planning to make cookies this evening bu...</td>\n",
       "      <td>joy</td>\n",
       "    </tr>\n",
       "    <tr>\n",
       "      <th>4</th>\n",
       "      <td>im feeling very optimistic about it and find m...</td>\n",
       "      <td>joy</td>\n",
       "    </tr>\n",
       "    <tr>\n",
       "      <th>...</th>\n",
       "      <td>...</td>\n",
       "      <td>...</td>\n",
       "    </tr>\n",
       "    <tr>\n",
       "      <th>8623</th>\n",
       "      <td>now i never go easily around people and i act ...</td>\n",
       "      <td>surprise</td>\n",
       "    </tr>\n",
       "    <tr>\n",
       "      <th>8624</th>\n",
       "      <td>and i definitely feel herpes coming i would be...</td>\n",
       "      <td>surprise</td>\n",
       "    </tr>\n",
       "    <tr>\n",
       "      <th>8625</th>\n",
       "      <td>and i like it to often do things that leave ot...</td>\n",
       "      <td>surprise</td>\n",
       "    </tr>\n",
       "    <tr>\n",
       "      <th>8626</th>\n",
       "      <td>and i feel like a monster because as together ...</td>\n",
       "      <td>surprise</td>\n",
       "    </tr>\n",
       "    <tr>\n",
       "      <th>8627</th>\n",
       "      <td>i feel pretty absolutely freaking amazing</td>\n",
       "      <td>surprise</td>\n",
       "    </tr>\n",
       "  </tbody>\n",
       "</table>\n",
       "<p>8628 rows × 2 columns</p>\n",
       "</div>"
      ],
      "text/plain": [
       "                                                   text     label\n",
       "0     i feel so glad that im able to have the time t...       joy\n",
       "1     i could look up the coordinates of the cave bu...       joy\n",
       "2     i feel tat all of us in this world are clever ...       joy\n",
       "3     i was planning to make cookies this evening bu...       joy\n",
       "4     im feeling very optimistic about it and find m...       joy\n",
       "...                                                 ...       ...\n",
       "8623  now i never go easily around people and i act ...  surprise\n",
       "8624  and i definitely feel herpes coming i would be...  surprise\n",
       "8625  and i like it to often do things that leave ot...  surprise\n",
       "8626  and i feel like a monster because as together ...  surprise\n",
       "8627          i feel pretty absolutely freaking amazing  surprise\n",
       "\n",
       "[8628 rows x 2 columns]"
      ]
     },
     "execution_count": 97,
     "metadata": {},
     "output_type": "execute_result"
    }
   ],
   "source": [
    "data = pd.concat([data, augmented_df], ignore_index=True)\n",
    "data"
   ]
  },
  {
   "cell_type": "code",
   "execution_count": 98,
   "metadata": {},
   "outputs": [
    {
     "data": {
      "text/plain": [
       "<Axes: xlabel='label'>"
      ]
     },
     "execution_count": 98,
     "metadata": {},
     "output_type": "execute_result"
    },
    {
     "data": {
      "image/png": "[encoded data removed]",
      "text/plain": [
       "<Figure size 640x480 with 1 Axes>"
      ]
     },
     "metadata": {},
     "output_type": "display_data"
    }
   ],
   "source": [
    "data.label.value_counts().plot.bar() "
   ]
  },
  {
   "cell_type": "markdown",
   "metadata": {},
   "source": [
    "#### Preprocessing"
   ]
  },
  {
   "cell_type": "code",
   "execution_count": 99,
   "metadata": {},
   "outputs": [],
   "source": [
    "data['text'] = data['text'].astype(str)\n",
    "data['label'] = data['label'].astype(str)"
   ]
  },
  {
   "cell_type": "code",
   "execution_count": 100,
   "metadata": {},
   "outputs": [],
   "source": [
    "data.loc[:, \"text\"] = data[\"text\"].str.lower().str.replace('[\\[\\]\"\\']','') # convert text to lowercase and remove square brackets and quotation marks\n",
    "data.loc[:, \"label\"] = data[\"label\"].str.lower().str.replace('[^\\w\\s\"\\'\\[\\]]','')\n"
   ]
  },
  {
   "cell_type": "code",
   "execution_count": 101,
   "metadata": {},
   "outputs": [
    {
     "data": {
      "text/html": [
       "<div>\n",
       "<style scoped>\n",
       "    .dataframe tbody tr th:only-of-type {\n",
       "        vertical-align: middle;\n",
       "    }\n",
       "\n",
       "    .dataframe tbody tr th {\n",
       "        vertical-align: top;\n",
       "    }\n",
       "\n",
       "    .dataframe thead th {\n",
       "        text-align: right;\n",
       "    }\n",
       "</style>\n",
       "<table border=\"1\" class=\"dataframe\">\n",
       "  <thead>\n",
       "    <tr style=\"text-align: right;\">\n",
       "      <th></th>\n",
       "      <th>text</th>\n",
       "      <th>label</th>\n",
       "    </tr>\n",
       "  </thead>\n",
       "  <tbody>\n",
       "    <tr>\n",
       "      <th>0</th>\n",
       "      <td>i feel so glad that im able to have the time t...</td>\n",
       "      <td>joy</td>\n",
       "    </tr>\n",
       "    <tr>\n",
       "      <th>1</th>\n",
       "      <td>i could look up the coordinates of the cave bu...</td>\n",
       "      <td>joy</td>\n",
       "    </tr>\n",
       "    <tr>\n",
       "      <th>2</th>\n",
       "      <td>i feel tat all of us in this world are clever ...</td>\n",
       "      <td>joy</td>\n",
       "    </tr>\n",
       "    <tr>\n",
       "      <th>3</th>\n",
       "      <td>i was planning to make cookies this evening bu...</td>\n",
       "      <td>joy</td>\n",
       "    </tr>\n",
       "    <tr>\n",
       "      <th>4</th>\n",
       "      <td>im feeling very optimistic about it and find m...</td>\n",
       "      <td>joy</td>\n",
       "    </tr>\n",
       "    <tr>\n",
       "      <th>...</th>\n",
       "      <td>...</td>\n",
       "      <td>...</td>\n",
       "    </tr>\n",
       "    <tr>\n",
       "      <th>8623</th>\n",
       "      <td>now i never go easily around people and i act ...</td>\n",
       "      <td>surprise</td>\n",
       "    </tr>\n",
       "    <tr>\n",
       "      <th>8624</th>\n",
       "      <td>and i definitely feel herpes coming i would be...</td>\n",
       "      <td>surprise</td>\n",
       "    </tr>\n",
       "    <tr>\n",
       "      <th>8625</th>\n",
       "      <td>and i like it to often do things that leave ot...</td>\n",
       "      <td>surprise</td>\n",
       "    </tr>\n",
       "    <tr>\n",
       "      <th>8626</th>\n",
       "      <td>and i feel like a monster because as together ...</td>\n",
       "      <td>surprise</td>\n",
       "    </tr>\n",
       "    <tr>\n",
       "      <th>8627</th>\n",
       "      <td>i feel pretty absolutely freaking amazing</td>\n",
       "      <td>surprise</td>\n",
       "    </tr>\n",
       "  </tbody>\n",
       "</table>\n",
       "<p>8628 rows × 2 columns</p>\n",
       "</div>"
      ],
      "text/plain": [
       "                                                   text     label\n",
       "0     i feel so glad that im able to have the time t...       joy\n",
       "1     i could look up the coordinates of the cave bu...       joy\n",
       "2     i feel tat all of us in this world are clever ...       joy\n",
       "3     i was planning to make cookies this evening bu...       joy\n",
       "4     im feeling very optimistic about it and find m...       joy\n",
       "...                                                 ...       ...\n",
       "8623  now i never go easily around people and i act ...  surprise\n",
       "8624  and i definitely feel herpes coming i would be...  surprise\n",
       "8625  and i like it to often do things that leave ot...  surprise\n",
       "8626  and i feel like a monster because as together ...  surprise\n",
       "8627          i feel pretty absolutely freaking amazing  surprise\n",
       "\n",
       "[8628 rows x 2 columns]"
      ]
     },
     "execution_count": 101,
     "metadata": {},
     "output_type": "execute_result"
    }
   ],
   "source": [
    "data"
   ]
  },
  {
   "cell_type": "code",
   "execution_count": 159,
   "metadata": {},
   "outputs": [],
   "source": [
    "data.to_csv(\"../Lab_RNN/Data/new_data.csv\")"
   ]
  },
  {
   "cell_type": "code",
   "execution_count": 102,
   "metadata": {},
   "outputs": [],
   "source": [
    "# create a preproccessing function that will process the text column\n",
    "\n",
    "def preprocess_text(text):\n",
    "    \n",
    "    # convert text to lowercase\n",
    "    text = text.lower()\n",
    "\n",
    "    #Remove stop words\n",
    "\n",
    "    stop_words = set(stopwords.words(\"english\"))\n",
    "    tokens = text.split()\n",
    "    filtered_tokens = [token for token in tokens if token not in stop_words]\n",
    "\n",
    "    # Lemmatize the tokens\n",
    "\n",
    "    lemmatizer = WordNetLemmatizer()\n",
    "    lemmatized_tokens = [lemmatizer.lemmatize(token) for token in filtered_tokens]\n",
    "\n",
    "    processed_text = \" \".join(lemmatized_tokens)\n",
    "\n",
    "    return processed_text\n",
    "\n"
   ]
  },
  {
   "cell_type": "code",
   "execution_count": 103,
   "metadata": {},
   "outputs": [
    {
     "data": {
      "text/html": [
       "<div>\n",
       "<style scoped>\n",
       "    .dataframe tbody tr th:only-of-type {\n",
       "        vertical-align: middle;\n",
       "    }\n",
       "\n",
       "    .dataframe tbody tr th {\n",
       "        vertical-align: top;\n",
       "    }\n",
       "\n",
       "    .dataframe thead th {\n",
       "        text-align: right;\n",
       "    }\n",
       "</style>\n",
       "<table border=\"1\" class=\"dataframe\">\n",
       "  <thead>\n",
       "    <tr style=\"text-align: right;\">\n",
       "      <th></th>\n",
       "      <th>text</th>\n",
       "      <th>label</th>\n",
       "    </tr>\n",
       "  </thead>\n",
       "  <tbody>\n",
       "    <tr>\n",
       "      <th>0</th>\n",
       "      <td>feel glad im able time spend time family</td>\n",
       "      <td>joy</td>\n",
       "    </tr>\n",
       "    <tr>\n",
       "      <th>1</th>\n",
       "      <td>could look coordinate cave im feeling adventur...</td>\n",
       "      <td>joy</td>\n",
       "    </tr>\n",
       "    <tr>\n",
       "      <th>2</th>\n",
       "      <td>feel tat u world clever depending u born u bor...</td>\n",
       "      <td>joy</td>\n",
       "    </tr>\n",
       "    <tr>\n",
       "      <th>3</th>\n",
       "      <td>planning make cooky evening feeling good tomorrow</td>\n",
       "      <td>joy</td>\n",
       "    </tr>\n",
       "    <tr>\n",
       "      <th>4</th>\n",
       "      <td>im feeling optimistic find wanting ride</td>\n",
       "      <td>joy</td>\n",
       "    </tr>\n",
       "    <tr>\n",
       "      <th>...</th>\n",
       "      <td>...</td>\n",
       "      <td>...</td>\n",
       "    </tr>\n",
       "    <tr>\n",
       "      <th>8623</th>\n",
       "      <td>never go easily around people act normal someh...</td>\n",
       "      <td>surprise</td>\n",
       "    </tr>\n",
       "    <tr>\n",
       "      <th>8624</th>\n",
       "      <td>definitely feel herpes coming would slightly s...</td>\n",
       "      <td>surprise</td>\n",
       "    </tr>\n",
       "    <tr>\n",
       "      <th>8625</th>\n",
       "      <td>like often thing leave others feeling genuinel...</td>\n",
       "      <td>surprise</td>\n",
       "    </tr>\n",
       "    <tr>\n",
       "      <th>8626</th>\n",
       "      <td>feel like monster together make way silently r...</td>\n",
       "      <td>surprise</td>\n",
       "    </tr>\n",
       "    <tr>\n",
       "      <th>8627</th>\n",
       "      <td>feel pretty absolutely freaking amazing</td>\n",
       "      <td>surprise</td>\n",
       "    </tr>\n",
       "  </tbody>\n",
       "</table>\n",
       "<p>8628 rows × 2 columns</p>\n",
       "</div>"
      ],
      "text/plain": [
       "                                                   text     label\n",
       "0              feel glad im able time spend time family       joy\n",
       "1     could look coordinate cave im feeling adventur...       joy\n",
       "2     feel tat u world clever depending u born u bor...       joy\n",
       "3     planning make cooky evening feeling good tomorrow       joy\n",
       "4               im feeling optimistic find wanting ride       joy\n",
       "...                                                 ...       ...\n",
       "8623  never go easily around people act normal someh...  surprise\n",
       "8624  definitely feel herpes coming would slightly s...  surprise\n",
       "8625  like often thing leave others feeling genuinel...  surprise\n",
       "8626  feel like monster together make way silently r...  surprise\n",
       "8627            feel pretty absolutely freaking amazing  surprise\n",
       "\n",
       "[8628 rows x 2 columns]"
      ]
     },
     "execution_count": 103,
     "metadata": {},
     "output_type": "execute_result"
    }
   ],
   "source": [
    "data.loc[:, \"text\"] = data[\"text\"].apply(preprocess_text)\n",
    "data"
   ]
  },
  {
   "cell_type": "code",
   "execution_count": 104,
   "metadata": {},
   "outputs": [
    {
     "name": "stdout",
     "output_type": "stream",
     "text": [
      "74.40345387111729\n",
      "282\n"
     ]
    }
   ],
   "source": [
    "# checking the length of the strings so that i have an idea of how long i should make the max words in the sequence length for padding\n",
    "print(pd.Series(data[\"text\"]).str.len().mean())\n",
    "print(pd.Series(data[\"text\"]).str.len().max())"
   ]
  },
  {
   "cell_type": "markdown",
   "metadata": {},
   "source": [
    "This gives a rough idea that every string has an average of 74 words and that the longest sentence has 229 words. I can use a box plot to see more clearly"
   ]
  },
  {
   "cell_type": "code",
   "execution_count": 105,
   "metadata": {},
   "outputs": [
    {
     "data": {
      "image/png": "[encoded data removed]",
      "text/plain": [
       "<Figure size 640x480 with 1 Axes>"
      ]
     },
     "metadata": {},
     "output_type": "display_data"
    },
    {
     "data": {
      "text/plain": [
       "count    8628.000000\n",
       "mean       74.403454\n",
       "std        42.870581\n",
       "min         6.000000\n",
       "25%        41.000000\n",
       "50%        66.000000\n",
       "75%        98.000000\n",
       "max       282.000000\n",
       "Name: text, dtype: float64"
      ]
     },
     "execution_count": 105,
     "metadata": {},
     "output_type": "execute_result"
    }
   ],
   "source": [
    "strings_len = pd.Series(data[\"text\"]).str.len()\n",
    "\n",
    "strings_len.plot.box()\n",
    "plt.title(\"Distribution of strings length\")\n",
    "plt.ylabel(\"Number of strings\")\n",
    "plt.show()\n",
    "\n",
    "strings_len.describe()"
   ]
  },
  {
   "cell_type": "markdown",
   "metadata": {},
   "source": [
    "You can see most strings are up to 150 words. But with using the describe function on the length of the strings we can see that around 75 % of the comments are up to 98 words long. This will be taken into account when padding. Some sentences may be shorter so they will need to have padding. This is an important stage as we need to decide how many relevant words of the text should be processed within the model. If we use too many the training process will be longer. We can see on the box plot that most of the text lengths are between the 40 to 100 range. So I think it is reasonable to have the input length at 80.    "
   ]
  },
  {
   "cell_type": "markdown",
   "metadata": {},
   "source": [
    "#### Preparing text to be used with Deep learning model\n",
    "\n",
    "I will now tokenize the text and pad it. I will also one hot code the labels."
   ]
  },
  {
   "cell_type": "code",
   "execution_count": 106,
   "metadata": {},
   "outputs": [
    {
     "data": {
      "text/html": [
       "<div>\n",
       "<style scoped>\n",
       "    .dataframe tbody tr th:only-of-type {\n",
       "        vertical-align: middle;\n",
       "    }\n",
       "\n",
       "    .dataframe tbody tr th {\n",
       "        vertical-align: top;\n",
       "    }\n",
       "\n",
       "    .dataframe thead th {\n",
       "        text-align: right;\n",
       "    }\n",
       "</style>\n",
       "<table border=\"1\" class=\"dataframe\">\n",
       "  <thead>\n",
       "    <tr style=\"text-align: right;\">\n",
       "      <th></th>\n",
       "      <th>text</th>\n",
       "      <th>label</th>\n",
       "    </tr>\n",
       "  </thead>\n",
       "  <tbody>\n",
       "    <tr>\n",
       "      <th>0</th>\n",
       "      <td>feel glad im able time spend time family</td>\n",
       "      <td>2</td>\n",
       "    </tr>\n",
       "    <tr>\n",
       "      <th>1</th>\n",
       "      <td>could look coordinate cave im feeling adventur...</td>\n",
       "      <td>2</td>\n",
       "    </tr>\n",
       "    <tr>\n",
       "      <th>2</th>\n",
       "      <td>feel tat u world clever depending u born u bor...</td>\n",
       "      <td>2</td>\n",
       "    </tr>\n",
       "    <tr>\n",
       "      <th>3</th>\n",
       "      <td>planning make cooky evening feeling good tomorrow</td>\n",
       "      <td>2</td>\n",
       "    </tr>\n",
       "    <tr>\n",
       "      <th>4</th>\n",
       "      <td>im feeling optimistic find wanting ride</td>\n",
       "      <td>2</td>\n",
       "    </tr>\n",
       "  </tbody>\n",
       "</table>\n",
       "</div>"
      ],
      "text/plain": [
       "                                                text  label\n",
       "0           feel glad im able time spend time family      2\n",
       "1  could look coordinate cave im feeling adventur...      2\n",
       "2  feel tat u world clever depending u born u bor...      2\n",
       "3  planning make cooky evening feeling good tomorrow      2\n",
       "4            im feeling optimistic find wanting ride      2"
      ]
     },
     "execution_count": 106,
     "metadata": {},
     "output_type": "execute_result"
    }
   ],
   "source": [
    "# encoding emotions\n",
    "encoded_emotions = {\n",
    "    \"anger\" : 0,\n",
    "    \"fear\": 1,\n",
    "    \"joy\" : 2,\n",
    "    \"love\": 3,\n",
    "    \"sadness\": 4,\n",
    "    \"surprise\": 5\n",
    "}\n",
    "\n",
    "data.replace(encoded_emotions, inplace = True)\n",
    "data.head()"
   ]
  },
  {
   "cell_type": "code",
   "execution_count": 107,
   "metadata": {},
   "outputs": [
    {
     "name": "stdout",
     "output_type": "stream",
     "text": [
      "X_train = (5176,) and y_train = (5176,)\n",
      "X_test = (1726,) and y_test = (1726,)\n",
      "X_val = (1726,) and y_val = (1726,)\n"
     ]
    }
   ],
   "source": [
    "# Splitting the data into train, val and test before toeknization and padding\n",
    "\n",
    "X_train, X_test, y_train, y_test = train_test_split(data[\"text\"], data[\"label\"], test_size=0.2, random_state=42,stratify=data[\"label\"])\n",
    "\n",
    "X_train, X_val, y_train, y_val = train_test_split(X_train, y_train, test_size=0.25, random_state=42,stratify=y_train)\n",
    "\n",
    "print(f\"X_train = {X_train.shape} and y_train = {y_train.shape}\")\n",
    "print(f\"X_test = {X_test.shape} and y_test = {y_test.shape}\")\n",
    "print(f\"X_val = {X_val.shape} and y_val = {y_val.shape}\")\n"
   ]
  },
  {
   "cell_type": "code",
   "execution_count": 108,
   "metadata": {},
   "outputs": [
    {
     "data": {
      "image/png": "[encoded data removed]",
      "text/plain": [
       "<Figure size 1500x500 with 3 Axes>"
      ]
     },
     "metadata": {},
     "output_type": "display_data"
    }
   ],
   "source": [
    "fig, axs = plt.subplots(1, 3, figsize=(15, 5))\n",
    "\n",
    "# Plot for y_train\n",
    "axs[0].bar(y_train.value_counts().index, y_train.value_counts())\n",
    "axs[0].set_title('y_train')\n",
    "axs[0].set_ylabel('Count')\n",
    "\n",
    "# Plot for y_val\n",
    "axs[1].bar(y_val.value_counts().index, y_val.value_counts())\n",
    "axs[1].set_title('y_val')\n",
    "axs[1].set_ylabel('Count')\n",
    "\n",
    "# Plot for y_test\n",
    "axs[2].bar(y_test.value_counts().index, y_test.value_counts())\n",
    "axs[2].set_title('y_test')\n",
    "axs[2].set_ylabel('Count')\n",
    "\n",
    "# Adjust layout\n",
    "plt.tight_layout()\n",
    "\n",
    "# Show the plots\n",
    "plt.show()"
   ]
  },
  {
   "cell_type": "code",
   "execution_count": 109,
   "metadata": {},
   "outputs": [
    {
     "name": "stdout",
     "output_type": "stream",
     "text": [
      "6863\n",
      "{'feel': 1, 'feeling': 2, 'like': 3, 'im': 4, 'really': 5, 'even': 6, 'still': 7, 'little': 8, 'time': 9, 'know': 10, 'also': 11, 'one': 12, 'would': 13, 'make': 14, 'actually': 15, 'always': 16, 'people': 17, 'bit': 18, 'think': 19, 'something': 20, 'get': 21, 'day': 22, 'want': 23, 'thing': 24, 'much': 25, 'life': 26, 'love': 27, 'back': 28, 'ive': 29, 'could': 30, 'need': 31, 'though': 32, 'sometimes': 33, 'way': 34, 'go': 35, 'going': 36, 'today': 37, 'dont': 38, 'around': 39, 'never': 40, 'right': 41, 'pretty': 42, 'good': 43, 'say': 44, 'ever': 45, 'help': 46, 'work': 47, 'strange': 48, 'weird': 49, 'sure': 50, 'friend': 51, 'almost': 52, 'see': 53, 'well': 54, 'le': 55, 'already': 56, 'enough': 57, 'often': 58, 'cant': 59, 'year': 60, 'thought': 61, 'overwhelmed': 62, 'didnt': 63, 'quite': 64, 'many': 65, 'maybe': 66, 'made': 67, 'got': 68, 'new': 69, 'felt': 70, 'yet': 71, 'impressed': 72, 'suddenly': 73, 'funny': 74, 'someone': 75, 'anything': 76, 'amazed': 77, 'somehow': 78, 'getting': 79, 'completely': 80, 'probably': 81, 'first': 82, 'find': 83, 'curious': 84, 'look': 85, 'trying': 86, 'everything': 87, 'kind': 88, 'truly': 89, 'without': 90, 'u': 91, 'week': 92, 'last': 93, 'come': 94, 'take': 95, 'left': 96, 'amazing': 97, 'rather': 98, 'finally': 99, 'book': 100, 'every': 101, 'lot': 102, 'inside': 103, 'surprised': 104, 'started': 105, 'keep': 106, 'remember': 107, 'family': 108, 'old': 109, 'world': 110, 'away': 111, 'god': 112, 'looking': 113, 'since': 114, 'slightly': 115, 'let': 116, 'home': 117, 'better': 118, 'moment': 119, 'two': 120, 'write': 121, 'hot': 122, 'bad': 123, 'may': 124, 'might': 125, 'alone': 126, 'start': 127, 'girl': 128, 'person': 129, 'simply': 130, 'hard': 131, 'night': 132, 'read': 133, 'making': 134, 'sweet': 135, 'loving': 136, 'happy': 137, 'shocked': 138, 'real': 139, 'big': 140, 'cold': 141, 'long': 142, 'writing': 143, 'angry': 144, 'mean': 145, 'especially': 146, 'said': 147, 'able': 148, 'others': 149, 'damn': 150, 'passionate': 151, 'thinking': 152, 'particularly': 153, 'http': 154, 'loved': 155, 'morning': 156, 'somewhat': 157, 'nothing': 158, 'although': 159, 'place': 160, 'next': 161, 'definitely': 162, 'tell': 163, 'else': 164, 'seeing': 165, 'guy': 166, 'usually': 167, 'id': 168, 'great': 169, 'perhaps': 170, 'try': 171, 'instead': 172, 'however': 173, 'anyone': 174, 'whole': 175, 'totally': 176, 'towards': 177, 'hate': 178, 'agitated': 179, 'dazed': 180, 'ill': 181, 'care': 182, 'end': 183, 'together': 184, 'honestly': 185, 'fact': 186, 'fucking': 187, 'eye': 188, 'must': 189, 'href': 190, 'lately': 191, 'another': 192, 'romantic': 193, 'soon': 194, 'heart': 195, 'knowing': 196, 'working': 197, 'personally': 198, 'small': 199, 'anxious': 200, 'talk': 201, 'anymore': 202, 'supporting': 203, 'part': 204, 'everyone': 205, 'saying': 206, 'head': 207, 'hope': 208, 'word': 209, 'wanted': 210, 'pain': 211, 'sad': 212, 'sort': 213, 'kid': 214, 'liked': 215, 'song': 216, 'child': 217, 'put': 218, 'cannot': 219, 'story': 220, 'school': 221, 'past': 222, 'body': 223, 'face': 224, 'done': 225, 'frustrated': 226, 'give': 227, 'blog': 228, 'woman': 229, 'extremely': 230, 'coming': 231, 'stressed': 232, 'found': 233, 'either': 234, 'live': 235, 'starting': 236, 'lost': 237, 'understand': 238, 'guess': 239, 'situation': 240, 'use': 241, 'incredibly': 242, 'believe': 243, 'hurt': 244, 'rushed': 245, 'hated': 246, 'taking': 247, 'generous': 248, 'helpless': 249, 'accepted': 250, 'month': 251, 'mother': 252, 'blessed': 253, 'reason': 254, 'loyal': 255, 'best': 256, 'went': 257, 'share': 258, 'call': 259, 'tender': 260, 'wasnt': 261, 'stuff': 262, 'change': 263, 'idea': 264, 'eat': 265, 'matter': 266, 'admit': 267, 'possibly': 268, 'stop': 269, 'tortured': 270, 'tired': 271, 'post': 272, 'bed': 273, 'important': 274, 'sense': 275, 'anyway': 276, 'scared': 277, 'absolutely': 278, 'show': 279, 'walk': 280, 'gentle': 281, 'afraid': 282, 'caring': 283, 'self': 284, 'confused': 285, 'open': 286, 'tonight': 287, 'naughty': 288, 'hour': 289, 'mostly': 290, 'sympathetic': 291, 'stupid': 292, 'beloved': 293, 'half': 294, 'uncomfortable': 295, 'watching': 296, 'human': 297, 'running': 298, 'living': 299, 'yesterday': 300, 'leave': 301, 'wonder': 302, 'young': 303, 'room': 304, 'house': 305, 'doesnt': 306, 'lovely': 307, 'free': 308, 'hesitant': 309, 'obviously': 310, 'personal': 311, 'boy': 312, 'hear': 313, 'youre': 314, 'exactly': 315, 'thats': 316, 'turn': 317, 'seems': 318, 'job': 319, 'experience': 320, 'nostalgic': 321, 'reading': 322, 'unsure': 323, 'far': 324, 'supportive': 325, 'point': 326, 'bothered': 327, 'insulted': 328, 'different': 329, 'hand': 330, 'nearly': 331, 'certain': 332, 'shy': 333, 'spent': 334, 'nervous': 335, 'run': 336, 'fucked': 337, 'stunned': 338, 'petty': 339, 'seriously': 340, 'intimidated': 341, 'close': 342, 'fully': 343, 'seem': 344, 'nice': 345, 'kinda': 346, 'become': 347, 'sick': 348, 'certainly': 349, 'entire': 350, 'miss': 351, 'strong': 352, 'vulnerable': 353, 'faithful': 354, 'least': 355, 'cause': 356, 'constantly': 357, 'hair': 358, 'food': 359, 'irritable': 360, 'character': 361, 'side': 362, 'man': 363, 'second': 364, 'devoted': 365, 'skin': 366, 'mine': 367, 'ask': 368, 'sleep': 369, 'terrified': 370, 'perfect': 371, 'horny': 372, 'apprehensive': 373, 'paranoid': 374, 'safe': 375, 'memory': 376, 'frightened': 377, 'used': 378, 'came': 379, 'class': 380, 'longer': 381, 'pressured': 382, 'whatever': 383, 'eventually': 384, 'ok': 385, 'entirely': 386, 'uncertain': 387, 'greedy': 388, 'fond': 389, 'enjoy': 390, 'short': 391, 'giving': 392, 'mad': 393, 'baby': 394, 'emotional': 395, 'relationship': 396, 'comfortable': 397, 'needed': 398, 'longing': 399, 'wonderful': 400, 'ago': 401, 'plan': 402, 'lonely': 403, 'insecure': 404, 'told': 405, 'dream': 406, 'along': 407, 'emotion': 408, 'excited': 409, 'disappointed': 410, 'wear': 411, 'high': 412, 'currently': 413, 'late': 414, 'mom': 415, 'creative': 416, 'quickly': 417, 'full': 418, 'happened': 419, 'possible': 420, 'offended': 421, 'sitting': 422, 'movie': 423, 'slowly': 424, 'deeply': 425, 'looked': 426, 'upset': 427, 'game': 428, 'fine': 429, 'using': 430, 'rest': 431, 'comment': 432, 'buy': 433, 'piece': 434, 'selfish': 435, 'wish': 436, 'whether': 437, 'money': 438, 'add': 439, 'four': 440, 'violent': 441, 'low': 442, 'fun': 443, 'shaken': 444, 'delicate': 445, 'guilty': 446, 'resentful': 447, 'fear': 448, 'dissatisfied': 449, 'punished': 450, 'toward': 451, 'reluctant': 452, 'support': 453, 'fall': 454, 'parent': 455, 'water': 456, 'photo': 457, 'outside': 458, 'happen': 459, 'behind': 460, 'problem': 461, 'upon': 462, 'true': 463, 'amp': 464, 'sorry': 465, 'mind': 466, 'yes': 467, 'front': 468, 'havent': 469, 'sharing': 470, 'energy': 471, 'reader': 472, 'eating': 473, 'deal': 474, 'super': 475, 'tiny': 476, 'generally': 477, 'impatient': 478, 'watch': 479, 'ugly': 480, 'awkward': 481, 'positive': 482, 'later': 483, 'realized': 484, 'warm': 485, 'question': 486, 'irritated': 487, 'forward': 488, 'level': 489, 'thankful': 490, 'wronged': 491, 'called': 492, 'shit': 493, 'terrible': 494, 'distracted': 495, 'embarrassed': 496, 'cry': 497, 'decision': 498, 'stubborn': 499, 'beautiful': 500, 'picture': 501, 'wouldnt': 502, 'three': 503, 'immediately': 504, 'took': 505, 'light': 506, 'control': 507, 'happening': 508, 'online': 509, 'break': 510, 'asked': 511, 'pissed': 512, 'dangerous': 513, 'normally': 514, 'bitchy': 515, 'style': 516, 'wrong': 517, 'community': 518, 'compassionate': 519, 'frantic': 520, 'set': 521, 'horrible': 522, 'waiting': 523, 'isnt': 524, 'lucky': 525, 'ready': 526, 'future': 527, 'glad': 528, 'hold': 529, 'move': 530, 'cranky': 531, 'couple': 532, 'losing': 533, 'top': 534, 'jealous': 535, 'except': 536, 'act': 537, 'extra': 538, 'weekend': 539, 'summer': 540, 'supposed': 541, 'restless': 542, 'voice': 543, 'meeting': 544, 'crazy': 545, 'realize': 546, 'stay': 547, 'isolated': 548, 'confident': 549, 'area': 550, 'tad': 551, 'shes': 552, 'fat': 553, 'film': 554, 'leg': 555, 'deep': 556, 'red': 557, 'college': 558, 'minute': 559, 'worth': 560, 'awful': 561, 'terribly': 562, 'wont': 563, 'dark': 564, 'knew': 565, 'disgusted': 566, 'decided': 567, 'music': 568, 'distressed': 569, 'exhausted': 570, 'near': 571, 'sleeping': 572, 'honest': 573, 'telling': 574, 'gift': 575, 'black': 576, 'putting': 577, 'threatened': 578, 'bloody': 579, 'skeptical': 580, 'choice': 581, 'physically': 582, 'grateful': 583, 'shaky': 584, 'annoyed': 585, 'beaten': 586, 'brother': 587, 'single': 588, 'couldnt': 589, 'easily': 590, 'utterly': 591, 'list': 592, 'straight': 593, 'oh': 594, 'treasured': 595, 'playing': 596, 'blank': 597, 'content': 598, 'somewhere': 599, 'wanna': 600, 'tomorrow': 601, 'tried': 602, 'within': 603, 'given': 604, 'history': 605, 'art': 606, 'cool': 607, 'taken': 608, 'learning': 609, 'mood': 610, 'touch': 611, 'issue': 612, 'fan': 613, 'equally': 614, 'leaving': 615, 'considering': 616, 'he': 617, 'drained': 618, 'rebellious': 619, 'wife': 620, 'there': 621, 'finding': 622, 'indecisive': 623, 'trust': 624, 'aching': 625, 'woke': 626, 'talking': 627, 'finish': 628, 'inadequate': 629, 'pathetic': 630, 'blue': 631, 'stand': 632, 'freaking': 633, 'weather': 634, 'rude': 635, 'appreciate': 636, 'company': 637, 'normal': 638, 'usual': 639, 'desire': 640, 'talented': 641, 'wearing': 642, 'dad': 643, 'spirit': 644, 'season': 645, 'hit': 646, 'loss': 647, 'clearly': 648, 'course': 649, 'doubt': 650, 'fairly': 651, 'present': 652, 'allow': 653, 'cute': 654, 'highly': 655, 'wake': 656, 'understanding': 657, 'opportunity': 658, 'type': 659, 'therefore': 660, 'meet': 661, 'sound': 662, 'sit': 663, 'race': 664, 'special': 665, 'whenever': 666, 'grumpy': 667, 'group': 668, 'lethargic': 669, 'step': 670, 'offer': 671, 'truth': 672, 'learned': 673, 'bitter': 674, 'despite': 675, 'empty': 676, 'i': 677, 'order': 678, 'student': 679, 'privileged': 680, 'early': 681, 'fearful': 682, 'discouraged': 683, 'play': 684, 'hopeless': 685, 'general': 686, 'system': 687, 'peace': 688, 'kiss': 689, 'useless': 690, 'badly': 691, 'helping': 692, 'fight': 693, 'team': 694, 'leaf': 695, 'keeping': 696, 'etc': 697, 'fake': 698, 'busy': 699, 'effort': 700, 'vital': 701, '′': 702, 'dumb': 703, 'recently': 704, 'rich': 705, 'death': 706, 'useful': 707, 'pleasant': 708, 'to': 709, 'effect': 710, 'likely': 711, 'hopefully': 712, 'healthy': 713, 'shake': 714, 'walking': 715, 'begin': 716, 'heard': 717, 'strongly': 718, 'strangely': 719, 'training': 720, 'finished': 721, 'honoured': 722, 'enjoying': 723, 'physical': 724, 'distraught': 725, 'dear': 726, 'christmas': 727, 'weight': 728, 'ability': 729, 'humiliated': 730, 'foot': 731, 'current': 732, 'passed': 733, 'okay': 734, 'fuck': 735, 'convinced': 736, 'imagine': 737, 'stood': 738, 'ignored': 739, 'father': 740, 'older': 741, 'walked': 742, 'www': 743, 'easy': 744, 'mile': 745, 'troubled': 746, 'review': 747, 'learn': 748, 'beginning': 749, 'superior': 750, 'save': 751, 'dog': 752, 'chest': 753, 'medium': 754, 'harder': 755, 'scene': 756, 'case': 757, 'drink': 758, 'respected': 759, 'unimportant': 760, 'seen': 761, 'doubtful': 762, 'concerned': 763, 'burdened': 764, 'opinion': 765, 'party': 766, 'final': 767, 'soft': 768, 'tree': 769, 'hell': 770, 'popular': 771, 'fair': 772, 'forever': 773, 'gonna': 774, 'proud': 775, 'everyday': 776, 'odd': 777, 'result': 778, 'complete': 779, 'known': 780, 'brain': 781, 'dull': 782, 'five': 783, 'lord': 784, 'delicious': 785, 'bitch': 786, 'moving': 787, 'country': 788, 'inspired': 789, 'age': 790, 'please': 791, 'finger': 792, 'spot': 793, 'city': 794, 'eager': 795, 'defeated': 796, 'silly': 797, 'indeed': 798, 'computer': 799, 'spend': 800, 'event': 801, 'vain': 802, 'speak': 803, 'writer': 804, 'expected': 805, 'everywhere': 806, 'crappy': 807, 'space': 808, 'arent': 809, 'name': 810, 'task': 811, 'caused': 812, 'groggy': 813, 'gotten': 814, 'saw': 815, 'calling': 816, 'cut': 817, 'suppose': 818, 'desperately': 819, 'numb': 820, 'car': 821, 'difficult': 822, 'pray': 823, 'email': 824, 'internet': 825, 'satisfied': 826, 'seemed': 827, 'choose': 828, 'gone': 829, 'chance': 830, 'sister': 831, 'boyfriend': 832, 'bored': 833, 'melancholy': 834, 'unless': 835, 'regretful': 836, 'throw': 837, 'wanting': 838, 'attention': 839, 'betrayed': 840, 'across': 841, 'husband': 842, 'asking': 843, 'favorite': 844, 'literally': 845, 'perfectly': 846, 'particular': 847, 'fit': 848, 'surely': 849, 'tv': 850, 'depressed': 851, 'envious': 852, 'missing': 853, 'written': 854, 'innocent': 855, 'met': 856, 'based': 857, 'member': 858, 'actual': 859, 'damned': 860, 'peaceful': 861, 'lack': 862, 'outraged': 863, 'state': 864, 'color': 865, 'otherwise': 866, 'dead': 867, 'lazy': 868, 'teacher': 869, 'sexual': 870, 'wait': 871, 'tend': 872, 'page': 873, 'missed': 874, 'pas': 875, 'term': 876, 'experienced': 877, 'awake': 878, 'apparently': 879, 'chocolate': 880, 'air': 881, 'touching': 882, 'treat': 883, 'artistic': 884, 'hearing': 885, 'sun': 886, 'yeah': 887, 'amount': 888, 'men': 889, 'worry': 890, 'heartless': 891, 'total': 892, 'angered': 893, 'lip': 894, 'kept': 895, 'pleased': 896, 'resolved': 897, 'lower': 898, 'stomach': 899, 'worse': 900, 'pick': 901, 'beat': 902, 'enthralled': 903, 'alarmed': 904, 'son': 905, 'mistake': 906, 'push': 907, 'ice': 908, 'protect': 909, 'honored': 910, 'journey': 911, 'studying': 912, 'divine': 913, 'co': 914, 'tear': 915, 'shitty': 916, 'poor': 917, 'sat': 918, 'successful': 919, 'smell': 920, 'increasingly': 921, 'daughter': 922, 'rotten': 923, 'simple': 924, 'beauty': 925, 'ashamed': 926, 'src': 927, 'determined': 928, 'unhappy': 929, 'unwelcome': 930, 'fix': 931, 'fault': 932, 'negative': 933, 'smile': 934, 'relief': 935, 'managed': 936, 'street': 937, 'listen': 938, 'dinner': 939, 'bottom': 940, 'joy': 941, 'contented': 942, 'monday': 943, 'paper': 944, 'acceptable': 945, 'silently': 946, 'six': 947, 'sincere': 948, 'regular': 949, 'lousy': 950, 'crap': 951, 'album': 952, 'pay': 953, 'hardly': 954, 'sore': 955, 'changing': 956, 'discussion': 957, 'line': 958, 'stopped': 959, 'author': 960, 'precious': 961, 'growing': 962, 'theyre': 963, 'powerful': 964, 'star': 965, 'presence': 966, 'avoid': 967, 'overall': 968, 'stranger': 969, 'blood': 970, 'gloomy': 971, 'power': 972, 'answer': 973, 'phone': 974, 'admitting': 975, 'happens': 976, 'beyond': 977, 'ache': 978, 'huge': 979, 'interesting': 980, 'suck': 981, 'neither': 982, 'heartbroken': 983, 'project': 984, 'constant': 985, 'hospital': 986, 'miserable': 987, 'wedding': 988, 'ultimately': 989, 'damaged': 990, 'joyful': 991, 'terrific': 992, 'injury': 993, 'professional': 994, 'lesson': 995, 'friendship': 996, 'thrilled': 997, 'video': 998, 'sadness': 999, 'recent': 1000, 'blessing': 1001, 'direction': 1002, 'match': 1003, 'anxiety': 1004, 'gave': 1005, 'million': 1006, 'partly': 1007, 'rarely': 1008, 'treated': 1009, 'message': 1010, 'importance': 1011, 'comfort': 1012, 'artist': 1013, 'ended': 1014, 'meat': 1015, 'energetic': 1016, 'female': 1017, 'drive': 1018, 'shamed': 1019, 'expect': 1020, 'awesome': 1021, 'worked': 1022, 'arm': 1023, 'happiness': 1024, 'notice': 1025, 'white': 1026, 'allowing': 1027, 'emotionally': 1028, 'meant': 1029, 'nail': 1030, 'optimistic': 1031, 'anybody': 1032, 'pressure': 1033, 'research': 1034, 'spending': 1035, 'shared': 1036, 'freedom': 1037, 'method': 1038, 'magazine': 1039, 'explain': 1040, 'evening': 1041, 'stage': 1042, 'turning': 1043, 'began': 1044, 'afterwards': 1045, 'welcome': 1046, 'facebook': 1047, 'wrote': 1048, 'number': 1049, 'attitude': 1050, 'cast': 1051, 'cancer': 1052, 'needy': 1053, 'degree': 1054, 'valuable': 1055, 'helped': 1056, 'gorgeous': 1057, 'cleaning': 1058, 'shall': 1059, 'secretly': 1060, 'friendly': 1061, 'childhood': 1062, 'breakfast': 1063, 'exact': 1064, 'secret': 1065, 'reality': 1066, 'cover': 1067, 'fantastic': 1068, 'business': 1069, 'suspicious': 1070, 'american': 1071, 'nature': 1072, 'jaded': 1073, 'enjoyed': 1074, 'reach': 1075, 'turned': 1076, 'and': 1077, 'reaction': 1078, 'dirty': 1079, 'performance': 1080, 'wall': 1081, 'dress': 1082, 'letting': 1083, 'doctor': 1084, 'broke': 1085, 'health': 1086, 'website': 1087, 'basically': 1088, 'escape': 1089, 'dance': 1090, 'speaking': 1091, 'field': 1092, 'mention': 1093, 'individual': 1094, 'follow': 1095, 'maintain': 1096, 'continue': 1097, 'friday': 1098, 'chair': 1099, 'similar': 1100, 'doomed': 1101, 'img': 1102, 'soul': 1103, 'blogging': 1104, 'n': 1105, 'involved': 1106, 'snack': 1107, 'quietly': 1108, 'report': 1109, 'master': 1110, 'colour': 1111, 'consider': 1112, 'homesick': 1113, 'stress': 1114, 'fashion': 1115, 'al': 1116, 'favourite': 1117, 'nobody': 1118, 'sarcastic': 1119, 'fabulous': 1120, 'goal': 1121, 'path': 1122, 'deprived': 1123, 'boring': 1124, 'waking': 1125, 'younger': 1126, 'responsibility': 1127, 'lol': 1128, 'laugh': 1129, 'relieved': 1130, 'teenager': 1131, 'leader': 1132, 'hill': 1133, 'difference': 1134, 'mentally': 1135, 'mess': 1136, 'productive': 1137, 'earlier': 1138, 'local': 1139, 'gratitude': 1140, 'sentimental': 1141, 'marathon': 1142, 'intention': 1143, 'born': 1144, 'window': 1145, 'de': 1146, 'lived': 1147, 'passion': 1148, 'schedule': 1149, 'respect': 1150, 'conversation': 1151, 'onto': 1152, 'explore': 1153, 'casual': 1154, 'realizing': 1155, 'outfit': 1156, 'study': 1157, 'clever': 1158, 'goddamn': 1159, 'roll': 1160, 'display': 1161, 'handle': 1162, 'non': 1163, 'uptight': 1164, 'main': 1165, 'luck': 1166, 'smug': 1167, 'sex': 1168, 'unfortunately': 1169, 'grow': 1170, 'med': 1171, 'large': 1172, 'repeatedly': 1173, 'hide': 1174, 'football': 1175, 'properly': 1176, 'image': 1177, 'visit': 1178, 'hence': 1179, 'unable': 1180, 'stuck': 1181, 'anywhere': 1182, 'green': 1183, 'throughout': 1184, 'overly': 1185, 'example': 1186, 'kick': 1187, 'worthwhile': 1188, 'folk': 1189, 'development': 1190, 'intelligent': 1191, 'door': 1192, 'value': 1193, 'calm': 1194, 'fresh': 1195, 'reminder': 1196, 'fellow': 1197, 'posting': 1198, 'guilt': 1199, 'f': 1200, 'silence': 1201, 'win': 1202, 'hostile': 1203, 'directly': 1204, 'reassured': 1205, 'tragic': 1206, 'neurotic': 1207, 'quiet': 1208, 'famous': 1209, 'remind': 1210, 'valued': 1211, 'news': 1212, 'store': 1213, 'view': 1214, 'worker': 1215, 'middle': 1216, 'behavior': 1217, 'accidentally': 1218, 'lie': 1219, 'mountain': 1220, 'brave': 1221, 'falling': 1222, 'concern': 1223, 'private': 1224, 'shower': 1225, 'sudden': 1226, 'changed': 1227, 'appearance': 1228, 'afternoon': 1229, 'intense': 1230, 'earth': 1231, 'release': 1232, 'fast': 1233, 'habit': 1234, 'timid': 1235, 'trip': 1236, 'blogger': 1237, 'newborn': 1238, 'travel': 1239, 'mildly': 1240, 'force': 1241, 'option': 1242, 'deserve': 1243, 'serious': 1244, 'bright': 1245, 'youth': 1246, 'idiotic': 1247, 'catch': 1248, 'plain': 1249, 'mission': 1250, 'classroom': 1251, 'so': 1252, 'plus': 1253, 'smart': 1254, 'drawn': 1255, 'prayer': 1256, 'decide': 1257, 'surgery': 1258, 'carefree': 1259, 'taste': 1260, 'mix': 1261, 'devastated': 1262, 'muscle': 1263, 'exercise': 1264, 'playful': 1265, 'political': 1266, 'pregnant': 1267, 'teenage': 1268, 'sugar': 1269, 'ate': 1270, 'genuinely': 1271, 'oil': 1272, 'forgotten': 1273, 'clean': 1274, 'original': 1275, 'connection': 1276, 'sadly': 1277, 'lying': 1278, 'audience': 1279, 'hello': 1280, 'pull': 1281, 'camera': 1282, 'process': 1283, 'slow': 1284, 'passing': 1285, 'assaulted': 1286, 'till': 1287, 'contact': 1288, 'assured': 1289, 'lame': 1290, 'drama': 1291, 'bare': 1292, 'moved': 1293, 'adult': 1294, 'possibility': 1295, 'solely': 1296, 'closed': 1297, 'law': 1298, 'talked': 1299, 'loud': 1300, 'wet': 1301, 'universe': 1302, 'pool': 1303, 'girlfriend': 1304, 'strength': 1305, 'setting': 1306, 'becoming': 1307, 'ungrateful': 1308, 'adventure': 1309, 'biggest': 1310, 'generation': 1311, 'ad': 1312, 'theory': 1313, 'shut': 1314, 'recall': 1315, 'information': 1316, 'desperate': 1317, 'chemo': 1318, 'sensitive': 1319, 'risk': 1320, 'beside': 1321, 'knowledge': 1322, 'instantly': 1323, 'thanks': 1324, 'various': 1325, 'english': 1326, 'position': 1327, 'overwhelming': 1328, 'interest': 1329, 'reminded': 1330, 'touched': 1331, 'challenge': 1332, 'frankly': 1333, 'bus': 1334, 'response': 1335, 'whats': 1336, 'welcomed': 1337, 'forgive': 1338, 'sin': 1339, 'showing': 1340, 'fighting': 1341, 'heat': 1342, 'frequently': 1343, 'carefully': 1344, 'obvious': 1345, 'raw': 1346, 'record': 1347, 'teach': 1348, 'rejected': 1349, 'killing': 1350, 'rid': 1351, 'breeze': 1352, 'confidence': 1353, 'considerate': 1354, 'test': 1355, 'workout': 1356, 'ex': 1357, 'interested': 1358, 'jump': 1359, 'sorrow': 1360, 'swim': 1361, 'frustration': 1362, 'fill': 1363, 'depression': 1364, 'die': 1365, 'anger': 1366, 'social': 1367, 'smiling': 1368, 'due': 1369, 'daily': 1370, 'carrying': 1371, 'listening': 1372, 'expensive': 1373, 'clothes': 1374, 'received': 1375, 'sign': 1376, 'realise': 1377, 'church': 1378, 'christ': 1379, 'calorie': 1380, 'simultaneously': 1381, 'suffering': 1382, 'capable': 1383, 'planning': 1384, 'dancing': 1385, 'hang': 1386, 'floating': 1387, 'grab': 1388, 'accept': 1389, 'forced': 1390, 'snap': 1391, 'everybody': 1392, 'fruit': 1393, 'weakness': 1394, 'aggravated': 1395, 'thank': 1396, 'suffer': 1397, 'lose': 1398, 'comedy': 1399, 'steady': 1400, 'society': 1401, 'radio': 1402, 'furious': 1403, 'occasionally': 1404, 'count': 1405, 'shouldnt': 1406, 'drunk': 1407, 'gym': 1408, 'acting': 1409, 'created': 1410, 'x': 1411, 'public': 1412, 'appreciative': 1413, 'mixture': 1414, 'ignore': 1415, 'happily': 1416, 'flower': 1417, 'attempt': 1418, 'dessert': 1419, 'wash': 1420, 'journal': 1421, 'beer': 1422, 'worthless': 1423, 'intensely': 1424, 'eight': 1425, 'clear': 1426, 'vaguely': 1427, 'mass': 1428, 'juice': 1429, 'manner': 1430, 'keen': 1431, 'wimpy': 1432, 'forget': 1433, 'trusting': 1434, 'screwed': 1435, 'obnoxious': 1436, 'shoulder': 1437, 'alive': 1438, 'landscape': 1439, 'pleasantly': 1440, 'specific': 1441, 'item': 1442, 'road': 1443, 'worried': 1444, 'breath': 1445, 'critical': 1446, 'customer': 1447, 'discontent': 1448, 'actively': 1449, 'played': 1450, 'experiment': 1451, 'describe': 1452, 'besides': 1453, 'listless': 1454, 'catching': 1455, 'wishing': 1456, 'source': 1457, 'ecstatic': 1458, 'remain': 1459, 'excitement': 1460, 'hoping': 1461, 'joke': 1462, 'driving': 1463, 'standing': 1464, 'twitter': 1465, 'status': 1466, 'cream': 1467, 'belly': 1468, 'unprotected': 1469, 'being': 1470, 'bread': 1471, 'watched': 1472, 'hungry': 1473, 'wholly': 1474, 'stronger': 1475, 'thanksgiving': 1476, 'mr': 1477, 'fitness': 1478, 'posted': 1479, 'apart': 1480, 'previous': 1481, 'became': 1482, 'humor': 1483, 'cost': 1484, 'judge': 1485, 'text': 1486, 'benefit': 1487, 'socially': 1488, 'breathe': 1489, 'vicious': 1490, 'activity': 1491, 'that': 1492, 'series': 1493, 'broken': 1494, 'career': 1495, 'exceptionally': 1496, 'glass': 1497, 'caterpillar': 1498, 'inhibited': 1499, 'gut': 1500, 'key': 1501, 'amused': 1502, 'remorseful': 1503, 'scent': 1504, 'brought': 1505, 'triumphant': 1506, 'crowd': 1507, 'skill': 1508, 'lady': 1509, 'slight': 1510, 'kill': 1511, 'band': 1512, 'culture': 1513, 'mild': 1514, 'club': 1515, 'appalled': 1516, 'focus': 1517, 'emo': 1518, 'gotta': 1519, 'feature': 1520, 'date': 1521, 'pic': 1522, 'quick': 1523, 'la': 1524, 'offering': 1525, 'table': 1526, 'lunch': 1527, 'fever': 1528, 'cuz': 1529, 'carried': 1530, 'relaxed': 1531, 'willing': 1532, 'technology': 1533, 'environment': 1534, 'discover': 1535, 'desk': 1536, 'twice': 1537, 'ahead': 1538, 'sequel': 1539, 'defending': 1540, 'shinobi': 1541, 'contraction': 1542, 'laying': 1543, 'ball': 1544, 'caught': 1545, 'convince': 1546, 'specifically': 1547, 'held': 1548, 'motion': 1549, 'wondering': 1550, 'faster': 1551, 'following': 1552, 'hiding': 1553, 'birthday': 1554, 'bring': 1555, 'birth': 1556, 'height': 1557, 'sky': 1558, 'pride': 1559, 'compared': 1560, 'ride': 1561, 'fate': 1562, 'respond': 1563, 'just': 1564, 'bother': 1565, 'elder': 1566, 'explaining': 1567, 'breaking': 1568, 'insult': 1569, 'painful': 1570, 'agree': 1571, 'decent': 1572, 'hating': 1573, 'aid': 1574, 'action': 1575, 'print': 1576, 'healing': 1577, 'violence': 1578, 'potential': 1579, 'lyric': 1580, 'tool': 1581, 'progress': 1582, 'chosen': 1583, 'per': 1584, 'checking': 1585, 'random': 1586, 'cried': 1587, 'ground': 1588, 'originally': 1589, 'extent': 1590, 'war': 1591, 'lead': 1592, 'express': 1593, 'gesture': 1594, 'ludicrous': 1595, 'hey': 1596, 'egg': 1597, 'overload': 1598, 'brown': 1599, 'george': 1600, 'youve': 1601, 'pop': 1602, 'si': 1603, 'ten': 1604, 'continually': 1605, 'dying': 1606, 'rep': 1607, 'aside': 1608, 'delighted': 1609, 'remembering': 1610, 'religious': 1611, 'practice': 1612, 'create': 1613, 'link': 1614, 'bigger': 1615, 'log': 1616, 'grey': 1617, 'dry': 1618, 'david': 1619, 'jolly': 1620, 'capture': 1621, 'education': 1622, 'mellow': 1623, 'lively': 1624, 'holding': 1625, 'latter': 1626, 'ending': 1627, 'worst': 1628, 'prize': 1629, 'momentarily': 1630, 'joining': 1631, 'detail': 1632, 'staying': 1633, 'yoga': 1634, 'garden': 1635, 'tug': 1636, 'purchase': 1637, 'added': 1638, 'mike': 1639, 'section': 1640, 'plot': 1641, 'blanket': 1642, 'died': 1643, 'third': 1644, 'price': 1645, 'unnecessary': 1646, 'breathing': 1647, 'drug': 1648, 'article': 1649, 'period': 1650, 'regret': 1651, 'player': 1652, 'major': 1653, 'internal': 1654, 'cope': 1655, 'anticipation': 1656, 'title': 1657, 'naturally': 1658, 'affectionate': 1659, 'mum': 1660, 'realistic': 1661, 'lacking': 1662, 'edge': 1663, 'tightly': 1664, 'opened': 1665, 'necessary': 1666, 'sandwich': 1667, 'endure': 1668, 'hateful': 1669, 'oily': 1670, 'bracelet': 1671, 'quality': 1672, 'presentation': 1673, 'lens': 1674, 'assignment': 1675, 'sucked': 1676, 'drinking': 1677, 'rolled': 1678, 'combination': 1679, 'virtuous': 1680, 'messy': 1681, 'aspect': 1682, 'plant': 1683, 'winter': 1684, 'someday': 1685, 'duty': 1686, 'brief': 1687, 'musical': 1688, 'complacent': 1689, 'as': 1690, 'handed': 1691, 'fiercely': 1692, 'service': 1693, 'submissive': 1694, 'finishing': 1695, 'atmosphere': 1696, 'rule': 1697, 'crime': 1698, 'ish': 1699, 'unloved': 1700, 'toe': 1701, 'check': 1702, 'whilst': 1703, 'annoying': 1704, 'spray': 1705, 'majority': 1706, 'ridiculous': 1707, 'impression': 1708, 'distinct': 1709, 'rate': 1710, 'trouble': 1711, 'regarding': 1712, 'bookmark': 1713, 'dating': 1714, 'sincerely': 1715, 'sake': 1716, 'bought': 1717, 'pair': 1718, 'accident': 1719, 'easier': 1720, 'manager': 1721, 'reasonably': 1722, 'develop': 1723, 'compare': 1724, 'thigh': 1725, 'remaining': 1726, 'twenty': 1727, 'tongue': 1728, 'movement': 1729, 'via': 1730, 'pin': 1731, 'tackle': 1732, 'celebrate': 1733, 'feed': 1734, 'slutty': 1735, 'wind': 1736, 'saddened': 1737, 'guest': 1738, 'disillusioned': 1739, 'sensation': 1740, 'wing': 1741, 'begging': 1742, 'handful': 1743, 'discussing': 1744, 'asian': 1745, 'government': 1746, 'urge': 1747, 'brew': 1748, 'french': 1749, 'nap': 1750, 'invigorated': 1751, 'gay': 1752, 'rel': 1753, 'target': 1754, 'storm': 1755, 'supported': 1756, 'c': 1757, 'male': 1758, 'ip': 1759, 'wave': 1760, 'flying': 1761, 'subject': 1762, 'outgoing': 1763, 'figure': 1764, 'web': 1765, 'mentioned': 1766, 'flat': 1767, 'bag': 1768, 'vacation': 1769, 'heavy': 1770, 'needing': 1771, 'barely': 1772, 'natural': 1773, 'sexy': 1774, 'similarly': 1775, 'sacrifice': 1776, 'kitchen': 1777, 'horribly': 1778, 'packed': 1779, 'fails': 1780, 'product': 1781, 'wee': 1782, 'advice': 1783, 'topic': 1784, 'card': 1785, 'cheek': 1786, 'letter': 1787, 'apple': 1788, 'site': 1789, 'town': 1790, 'pregnancy': 1791, 'holiday': 1792, 'ya': 1793, 'marriage': 1794, 'thousand': 1795, 'hopeful': 1796, 'defend': 1797, 'tough': 1798, 'equal': 1799, 'forest': 1800, 'acted': 1801, 'complaining': 1802, 'shoe': 1803, 'disappeared': 1804, 'triumph': 1805, 'slip': 1806, 'dwell': 1807, 'infuriated': 1808, 'safety': 1809, 'experiencing': 1810, 'alright': 1811, 'plenty': 1812, 'block': 1813, 'document': 1814, 'freely': 1815, 'haha': 1816, 'depth': 1817, 'gown': 1818, 'initially': 1819, 'hoped': 1820, 'throwing': 1821, 'dealing': 1822, 'unusual': 1823, 'appointment': 1824, 'factor': 1825, 'daddy': 1826, 'font': 1827, 'successfully': 1828, 'feelin': 1829, 'k': 1830, 'practically': 1831, 'neck': 1832, 'protected': 1833, 'baptized': 1834, 'motivated': 1835, 'semester': 1836, 'related': 1837, 'grade': 1838, 'disoriented': 1839, 'credit': 1840, 'mixed': 1841, 'return': 1842, 'embrace': 1843, 'noon': 1844, 'tap': 1845, 'expression': 1846, 'combine': 1847, 'necessity': 1848, 'magic': 1849, 'toxin': 1850, 'shopping': 1851, 'nose': 1852, 'achieve': 1853, 'charming': 1854, 'appreciated': 1855, 'pearly': 1856, 'puppy': 1857, 'restaurant': 1858, 'yearn': 1859, 'glycerin': 1860, 'pretend': 1861, 'reflect': 1862, 'lift': 1863, 'material': 1864, 'warmth': 1865, 'gaze': 1866, 'pass': 1867, 'ancestral': 1868, 'saving': 1869, 'civil': 1870, 'proper': 1871, 'severely': 1872, 'benevolent': 1873, 'colleague': 1874, 'victim': 1875, 'smooth': 1876, 'pink': 1877, 'dr': 1878, 'twelve': 1879, 'sing': 1880, 'hero': 1881, 'vintage': 1882, 'clothing': 1883, 'craft': 1884, 'observation': 1885, 'bite': 1886, 'remembered': 1887, 'designer': 1888, 'creating': 1889, 'sparkle': 1890, 'african': 1891, 'century': 1892, 'explained': 1893, 'deserves': 1894, 'shot': 1895, 'manage': 1896, 'sam': 1897, 'remembrance': 1898, 'category': 1899, 'importantly': 1900, 'covered': 1901, 'oddly': 1902, 'tiredness': 1903, 'concentrated': 1904, 'timetable': 1905, 'basic': 1906, 'inevitably': 1907, 'shade': 1908, 'immensely': 1909, 'hurting': 1910, 'struggling': 1911, 'building': 1912, 'pace': 1913, 'abused': 1914, 'til': 1915, 'hop': 1916, 'becomes': 1917, 'sunday': 1918, 'lil': 1919, 'consuming': 1920, 'caffeine': 1921, 'craving': 1922, 'tin': 1923, 'south': 1924, 'hadnt': 1925, 'closing': 1926, 'chapter': 1927, 'mirror': 1928, 'foreign': 1929, 'mainly': 1930, 'greatly': 1931, 'production': 1932, 'followed': 1933, 'award': 1934, 'bonding': 1935, 'miracle': 1936, 'filled': 1937, 'haze': 1938, 'grasp': 1939, 'mask': 1940, 'novel': 1941, 'blake': 1942, 'dropped': 1943, 'form': 1944, 'pouring': 1945, 'ward': 1946, 'temple': 1947, 'quote': 1948, 'join': 1949, 'spoiled': 1950, 'darling': 1951, 'dancer': 1952, 'remembers': 1953, 'column': 1954, 'double': 1955, 'adventurous': 1956, 'sooner': 1957, 'survive': 1958, 'entered': 1959, 'vast': 1960, 'weepy': 1961, 'refreshed': 1962, 'bringing': 1963, 'mothering': 1964, 'receive': 1965, 'yard': 1966, 'role': 1967, 'comic': 1968, 'kidnapped': 1969, 'stolen': 1970, 'tour': 1971, 'naked': 1972, 'pm': 1973, 'enamoured': 1974, 'pleasure': 1975, 'wound': 1976, 'wise': 1977, 'jealousy': 1978, 'relate': 1979, 'complaint': 1980, 'marie': 1981, 'draw': 1982, 'relatively': 1983, 'search': 1984, 'silent': 1985, 'neglectful': 1986, 'shirt': 1987, 'amazingly': 1988, 'common': 1989, 'include': 1990, 'recognizing': 1991, 'kuya': 1992, 'buddy': 1993, 'briefly': 1994, 'aloud': 1995, 'developed': 1996, 'weak': 1997, 'scattered': 1998, 'unworthy': 1999, 'sentence': 2000, 'wide': 2001, 'stare': 2002, 'wipe': 2003, 'background': 2004, 'b': 2005, 'attack': 2006, 'despised': 2007, 'yomis': 2008, 'washing': 2009, 'gel': 2010, 'practical': 2011, 'unwanted': 2012, 'downstairs': 2013, 'serenity': 2014, 'resentment': 2015, 'courage': 2016, 'round': 2017, 'creativity': 2018, 'fabric': 2019, 'giant': 2020, 'fellowship': 2021, 'facing': 2022, 'shape': 2023, 'heal': 2024, 'raising': 2025, 'blur': 2026, 'allowfullscreen': 2027, 'resigned': 2028, 'luckily': 2029, 'heck': 2030, 'jumped': 2031, 'casually': 2032, 'tech': 2033, 'picked': 2034, 'painfully': 2035, 'cash': 2036, 'pip': 2037, 'addition': 2038, 'brand': 2039, 'horse': 2040, 'scary': 2041, 'cross': 2042, 'heartache': 2043, 'shed': 2044, 'th': 2045, 'several': 2046, 'versus': 2047, 'jesus': 2048, 'distance': 2049, 'faith': 2050, 'circle': 2051, 'gradually': 2052, 'mental': 2053, 'remove': 2054, 'pursue': 2055, 'grouchy': 2056, 'hockey': 2057, 'headed': 2058, 'countless': 2059, 'here': 2060, 'chase': 2061, 'dragon': 2062, 'mercy': 2063, 'describing': 2064, 'freak': 2065, 'sloth': 2066, 'disheartened': 2067, 'reaching': 2068, 'syndrome': 2069, 'r': 2070, 'condition': 2071, 'perverse': 2072, 'sticky': 2073, 'rush': 2074, 'illness': 2075, 'aunt': 2076, 'upload': 2077, 'quit': 2078, 'cutting': 2079, 'jack': 2080, 'kenny': 2081, 'snob': 2082, 'intellectually': 2083, 'flipping': 2084, 'starved': 2085, 'vampire': 2086, 'lifestyle': 2087, 'presented': 2088, 'foolish': 2089, 'e': 2090, 'sinai': 2091, 'demand': 2092, 'compassion': 2093, 'dismayed': 2094, 'terror': 2095, 'elderly': 2096, 'communicate': 2097, 'ministry': 2098, 'satisfaction': 2099, 'sending': 2100, 'handled': 2101, 'ballroom': 2102, 'cd': 2103, 'creature': 2104, 'absolute': 2105, 'sexually': 2106, 'happier': 2107, 'retrospect': 2108, 'dash': 2109, 'emily': 2110, 'colon': 2111, 'overseas': 2112, 'schs': 2113, 'identity': 2114, 'itd': 2115, 'precisely': 2116, 'prepared': 2117, 'handling': 2118, 'altogether': 2119, 'connect': 2120, 'youll': 2121, 'obligation': 2122, 'wandering': 2123, 'suspect': 2124, 'glimpse': 2125, 'failing': 2126, '2': 2127, 'toilet': 2128, 'perspective': 2129, 'japanese': 2130, 'meaning': 2131, 'moral': 2132, 'unfortunate': 2133, 'cat': 2134, 'victimized': 2135, 'higher': 2136, 'standard': 2137, 'encouraging': 2138, 'spider': 2139, 'barrier': 2140, 'struggle': 2141, 'typically': 2142, 'corner': 2143, 'couch': 2144, 'eaten': 2145, 'blond': 2146, 'sum': 2147, 'participate': 2148, 'adore': 2149, 'compliment': 2150, 'ran': 2151, 'beating': 2152, 'claret': 2153, 'jug': 2154, 'headache': 2155, 'poetry': 2156, 'nd': 2157, 'range': 2158, 'exposed': 2159, 'interview': 2160, 'episode': 2161, 'fell': 2162, 'resting': 2163, 'inner': 2164, 'greatest': 2165, 'academic': 2166, 'drove': 2167, 'focusing': 2168, 'promised': 2169, 'seemingly': 2170, 'classic': 2171, 'wondered': 2172, 'whatsoever': 2173, 'dragging': 2174, 'queen': 2175, 'sized': 2176, 'sounding': 2177, 'harrassment': 2178, 'coerced': 2179, 'lover': 2180, 'empathetic': 2181, 'land': 2182, 'partner': 2183, 'shadow': 2184, 'console': 2185, 'impact': 2186, 'plane': 2187, 'hyper': 2188, 'pavement': 2189, 'dumped': 2190, 'saturday': 2191, 'forgiving': 2192, 'smaller': 2193, 'deodorant': 2194, 'lore': 2195, 'awe': 2196, 'required': 2197, 'empathy': 2198, 'adjective': 2199, 'sara': 2200, 'padding': 2201, 'appealing': 2202, 'diversity': 2203, 'suffered': 2204, 'disorder': 2205, 'mere': 2206, 'stroke': 2207, 'officer': 2208, 'sharp': 2209, 'poke': 2210, 'copy': 2211, 'stone': 2212, 'saved': 2213, 'manuscript': 2214, 'flattered': 2215, 'achieved': 2216, 'plastic': 2217, 'largely': 2218, 'wildly': 2219, 'assessment': 2220, 'excitedly': 2221, 'actor': 2222, 'session': 2223, 'cleaner': 2224, 'learnt': 2225, 'margaret': 2226, 'exam': 2227, 'viewing': 2228, 'universal': 2229, 'christian': 2230, 'whiff': 2231, 'wow': 2232, 'size': 2233, 'graduation': 2234, 'treasure': 2235, 'hidden': 2236, 'rely': 2237, 'digital': 2238, 'craves': 2239, 'fortunate': 2240, 'pepper': 2241, 'rice': 2242, 'steep': 2243, 'bike': 2244, 'anthony': 2245, 'sympathy': 2246, 'allergy': 2247, 'rite': 2248, 'minimize': 2249, 'reached': 2250, 'halfway': 2251, 'climb': 2252, 'dam': 2253, 'scientific': 2254, 'combined': 2255, 'patch': 2256, 'cap': 2257, 'note': 2258, 'drop': 2259, 'trophy': 2260, 'tone': 2261, 'jim': 2262, 'golden': 2263, 'file': 2264, 'angel': 2265, 'energized': 2266, 'effective': 2267, 'armor': 2268, 'upstairs': 2269, 'breast': 2270, 'unpleasant': 2271, 'vanilla': 2272, 'powder': 2273, 'essential': 2274, 'context': 2275, 'admire': 2276, 'dare': 2277, 'murder': 2278, 'quirky': 2279, 'false': 2280, 'informed': 2281, 'married': 2282, 'follows': 2283, 'nowhere': 2284, 'slice': 2285, 'trail': 2286, 'questioning': 2287, 'begged': 2288, 'imagining': 2289, 'gracious': 2290, 'decoration': 2291, 'appeal': 2292, 'se': 2293, 'taco': 2294, 'teamed': 2295, 'avoiding': 2296, 'abandoned': 2297, 'shock': 2298, 'vegetable': 2299, 'bird': 2300, 'relating': 2301, 'grandparent': 2302, 'believed': 2303, 'opposition': 2304, 'personality': 2305, 'considered': 2306, 'unemployed': 2307, 'antsy': 2308, 'burning': 2309, 'grace': 2310, 'introduce': 2311, 'celebrated': 2312, 'captivated': 2313, 'bunch': 2314, 'accessory': 2315, 'jewellery': 2316, 'diamond': 2317, 'tension': 2318, 'alongside': 2319, 'siren': 2320, 'native': 2321, 'supposedly': 2322, 'psychologist': 2323, 'gallery': 2324, 'vision': 2325, 'admitted': 2326, 'cup': 2327, 'flash': 2328, 'potentially': 2329, 'disturb': 2330, 'justin': 2331, 'aryiku': 2332, 'unusually': 2333, 'ear': 2334, 'tag': 2335, 'indicated': 2336, 'tropical': 2337, 'connected': 2338, 'wild': 2339, 'clicked': 2340, 'resolution': 2341, 'thanked': 2342, 'sent': 2343, 'alien': 2344, 'adding': 2345, 'relax': 2346, 'hunter': 2347, 'spiritual': 2348, 'awareness': 2349, 'outcome': 2350, 'sl': 2351, 'mama': 2352, 'james': 2353, 'lit': 2354, 'noted': 2355, 'cooped': 2356, 'itll': 2357, 'earring': 2358, 'loneliness': 2359, 'raise': 2360, 'raised': 2361, 'aware': 2362, 'safely': 2363, 'beatles': 2364, 'equation': 2365, 'dig': 2366, 'wasted': 2367, 'swing': 2368, 'tub': 2369, 'nut': 2370, 'entering': 2371, 'bathroom': 2372, 'devotion': 2373, 'rejection': 2374, 'awfully': 2375, 'gossip': 2376, 'logging': 2377, 'lay': 2378, 'coat': 2379, 'endless': 2380, 'lettuce': 2381, 'resource': 2382, 'notebook': 2383, 'ole': 2384, 'surface': 2385, 'mark': 2386, 'quo': 2387, 'nudge': 2388, 'clue': 2389, 'sunshine': 2390, 'drake': 2391, 'surround': 2392, 'pulling': 2393, 'blinded': 2394, 'wallet': 2395, 'cure': 2396, 'russia': 2397, 'citizen': 2398, 'smiled': 2399, 'river': 2400, 'jean': 2401, 'flowy': 2402, 'dialog': 2403, 'despair': 2404, 'teaching': 2405, 'longed': 2406, 'comparison': 2407, 'sweat': 2408, 'xvi': 2409, 'whose': 2410, 'animal': 2411, 'core': 2412, 'ryan': 2413, 'giver': 2414, 'bruised': 2415, 'organization': 2416, 'brilliant': 2417, 'them': 2418, 'rain': 2419, 'indulgent': 2420, 'cigarette': 2421, 'butterfly': 2422, 'attending': 2423, 'laundry': 2424, 'whiney': 2425, 'app': 2426, 'maker': 2427, 'bitterly': 2428, 'limit': 2429, 'fridge': 2430, 'orange': 2431, 'precise': 2432, 'wouldve': 2433, 'stating': 2434, 'biological': 2435, 'somebody': 2436, 'temperature': 2437, 'scarlet': 2438, 'reply': 2439, 'myspace': 2440, 'broad': 2441, 'hanging': 2442, 'improve': 2443, 'rabbit': 2444, 'california': 2445, 'hint': 2446, 'of': 2447, 'incident': 2448, 'distant': 2449, 'description': 2450, 'sufficiently': 2451, 'canadian': 2452, 'oncologist': 2453, 'discovering': 2454, 'enter': 2455, 'educated': 2456, 'larger': 2457, 'deeper': 2458, 'recommend': 2459, 'wig': 2460, 'frame': 2461, 'closure': 2462, 'forgot': 2463, 'deliberately': 2464, 'climbed': 2465, 'cherry': 2466, 'thick': 2467, 'lest': 2468, 'stealing': 2469, 'very': 2470, 'impressive': 2471, 'clinic': 2472, 'butt': 2473, 'pile': 2474, 'wrapped': 2475, 'loaded': 2476, 'twin': 2477, 'alternative': 2478, 'domain': 2479, 'bill': 2480, 'fragrance': 2481, 'suggested': 2482, 'contain': 2483, 'direct': 2484, 'solution': 2485, '1': 2486, 'exhibit': 2487, 'singer': 2488, 'sewing': 2489, 'cheer': 2490, 'nine': 2491, 'unique': 2492, 'score': 2493, 'monster': 2494, 'messed': 2495, 'president': 2496, 'conservative': 2497, 'shell': 2498, 'fiction': 2499, 'scale': 2500, 'patient': 2501, 'tapped': 2502, 'unknown': 2503, 'thoughtful': 2504, 'continues': 2505, 'suicide': 2506, 'scan': 2507, 'cook': 2508, 'meal': 2509, 'preschool': 2510, 'serve': 2511, 'constructive': 2512, 'frequency': 2513, 'whiny': 2514, 'vile': 2515, 'crave': 2516, 'lighter': 2517, 'rhythm': 2518, 'guessed': 2519, 'oscar': 2520, 'zombie': 2521, 'pub': 2522, 'glamorous': 2523, 'sensory': 2524, 'extended': 2525, 'select': 2526, 'scott': 2527, 'wednesday': 2528, 'incredible': 2529, 'nerve': 2530, 'depending': 2531, 'attracted': 2532, 'population': 2533, 'dat': 2534, 'spiteful': 2535, 'tempted': 2536, 'program': 2537, 'resident': 2538, 'linger': 2539, 'youthful': 2540, 'expecting': 2541, 'dollar': 2542, 'spoken': 2543, 'righteousness': 2544, 'bone': 2545, 'opening': 2546, 'instant': 2547, 'london': 2548, 'nephew': 2549, 'literary': 2550, 'todd': 2551, 'cruel': 2552, 'studio': 2553, 'pen': 2554, 'rachel': 2555, 'petrified': 2556, 'pictured': 2557, 'discus': 2558, 'doll': 2559, 'decorate': 2560, 'dressing': 2561, 'destroying': 2562, 'autumn': 2563, 'refreshing': 2564, 'sting': 2565, 'unlike': 2566, 'closer': 2567, 'pure': 2568, 'positively': 2569, 'bond': 2570, 'bos': 2571, 'cocky': 2572, 'spring': 2573, 'jersey': 2574, 'debate': 2575, 'rapidly': 2576, 'elegant': 2577, 'disgusting': 2578, 'considers': 2579, 'weapon': 2580, 'medicine': 2581, 'uncle': 2582, 'neutral': 2583, 'nofollow': 2584, 'eve': 2585, 'reacting': 2586, 'knocking': 2587, 'assume': 2588, 'influenced': 2589, 'polish': 2590, 'neuropathy': 2591, 'allows': 2592, 'confess': 2593, 'hehe': 2594, 'costume': 2595, 'washed': 2596, 'spontaneously': 2597, 'stephanie': 2598, 'verdict': 2599, 'ridiculously': 2600, 'coupled': 2601, 'dump': 2602, 'peter': 2603, 'belong': 2604, 'deserved': 2605, 'sociable': 2606, 'medication': 2607, 'pant': 2608, 'trauma': 2609, 'screaming': 2610, 'lab': 2611, 'hat': 2612, 'copper': 2613, 'noticing': 2614, 'google': 2615, 'west': 2616, 'china': 2617, 'budget': 2618, 'rise': 2619, 'reputation': 2620, 'balance': 2621, 'savage': 2622, 'tom': 2623, 'affected': 2624, 'stole': 2625, 'foster': 2626, 'guiding': 2627, 'teen': 2628, 'bout': 2629, 'mighty': 2630, 'cousin': 2631, 'underneath': 2632, 'atop': 2633, 'none': 2634, 'enemy': 2635, 'proposed': 2636, 'chasing': 2637, 'staring': 2638, 'theme': 2639, 'throne': 2640, 'coach': 2641, 'steve': 2642, 'attached': 2643, 'whispered': 2644, 'unhealthy': 2645, 'situated': 2646, 'talent': 2647, 'refuse': 2648, 'emphasize': 2649, 'disturbed': 2650, 'nicely': 2651, 'ordinary': 2652, 'sorta': 2653, 'disaster': 2654, 'cringe': 2655, 'heavily': 2656, 'typing': 2657, 'charged': 2658, 'ideal': 2659, 'depend': 2660, 'mouth': 2661, 'pushing': 2662, 'fish': 2663, 'rare': 2664, 'neglected': 2665, 'sword': 2666, 'france': 2667, 'dawn': 2668, 'freshness': 2669, 'cupcake': 2670, 'tho': 2671, 'radiance': 2672, 'permanent': 2673, 'chain': 2674, 'grocery': 2675, 'zone': 2676, 'windy': 2677, 'tube': 2678, 'surprising': 2679, 'bug': 2680, 'prominent': 2681, 'foundation': 2682, 'distinctly': 2683, 'york': 2684, 'religion': 2685, 'hurry': 2686, 'tastic': 2687, 'agent': 2688, 'planted': 2689, 'hip': 2690, 'panic': 2691, 'mode': 2692, 'bye': 2693, 'spell': 2694, 'inspiration': 2695, 'mush': 2696, 'vocal': 2697, 'sensible': 2698, 'theyll': 2699, 'wonderfully': 2700, 'active': 2701, 'british': 2702, 'focused': 2703, 'impacted': 2704, 'chunk': 2705, 'geographically': 2706, 'australian': 2707, 'denied': 2708, 'weve': 2709, 'feedback': 2710, 'circumstance': 2711, 'previously': 2712, 'vividly': 2713, 'design': 2714, 'stick': 2715, 'smack': 2716, 'paid': 2717, 'me': 2718, 'flustered': 2719, 'fame': 2720, 'los': 2721, 'angeles': 2722, 'starter': 2723, 'needle': 2724, 'grown': 2725, 'inherent': 2726, 'shame': 2727, 'submit': 2728, 'downtown': 2729, 'ultimate': 2730, 'appropriate': 2731, 'base': 2732, 'annual': 2733, 'clench': 2734, 'patiently': 2735, 'earthquake': 2736, 'gather': 2737, 'blowout': 2738, 'ancient': 2739, 'viewed': 2740, 'alcoholic': 2741, 'including': 2742, 'arcade': 2743, 'revenge': 2744, 'soo': 2745, 'language': 2746, 'brings': 2747, 'nauseous': 2748, 'when': 2749, 'tablet': 2750, 'consequence': 2751, 'former': 2752, 'settle': 2753, 'excluded': 2754, 'curl': 2755, 'chose': 2756, 'offensive': 2757, 'tale': 2758, 'lake': 2759, 'defensive': 2760, 'smoothie': 2761, 'fandom': 2762, 'lend': 2763, 'insecurity': 2764, 'gladly': 2765, 'closest': 2766, 'theyd': 2767, 'abuse': 2768, 'therapy': 2769, 'extraordinarily': 2770, 'insane': 2771, 'gazing': 2772, 'november': 2773, 'pre': 2774, 'maintaining': 2775, 'goodbye': 2776, 'sometime': 2777, 'intentionally': 2778, 'iron': 2779, 'bashful': 2780, 'essentially': 2781, 'routine': 2782, 'variety': 2783, 'withdrawn': 2784, 'noone': 2785, 'impostor': 2786, 'visitor': 2787, 'el': 2788, 'splurge': 2789, 'spur': 2790, 'blah': 2791, 'timing': 2792, 'politician': 2793, 'collar': 2794, 'bounce': 2795, 'singapore': 2796, 'div': 2797, 'clearboth': 2798, 'coincidence': 2799, 'ecstasy': 2800, 'victory': 2801, 'disability': 2802, 'targeted': 2803, 'sensationalist': 2804, 'newtown': 2805, 'connecticut': 2806, 'confusion': 2807, 'recovered': 2808, 'mira': 2809, 'castle': 2810, 'fulfilled': 2811, 'lowly': 2812, 'reserved': 2813, 'lock': 2814, 'plate': 2815, 'choir': 2816, 'paste': 2817, 'asks': 2818, 'goldschlager': 2819, 'immediate': 2820, 'purchasing': 2821, 'vancouver': 2822, 'constructivism': 2823, 'unit': 2824, 'philosophy': 2825, 'slipper': 2826, 'dopey': 2827, 'receiving': 2828, '17': 2829, 'posh': 2830, 'cushy': 2831, 'carseat': 2832, 'toddler': 2833, 'exciting': 2834, 'reluctantly': 2835, 'nemo': 2836, 'hi': 2837, 'cathy': 2838, 'distortion': 2839, 'serina': 2840, 'comatose': 2841, 'highschool': 2842, 'concept': 2843, 'throat': 2844, 'onguard': 2845, 'regime': 2846, 'nip': 2847, 'bud': 2848, 'who': 2849, 'georgia': 2850, 'serif': 2851, 'px': 2852, 'yk': 2853, 'idling': 2854, 'fearless': 2855, 'relaxing': 2856, 'funky': 2857, 'promotion': 2858, 'possession': 2859, 'harm': 2860, 'dreamy': 2861, 'slut': 2862, 'creep': 2863, 'tummy': 2864, 'comparing': 2865, 'sneha': 2866, 'endured': 2867, 'wth': 2868, 'financial': 2869, 'cashier': 2870, 'fumble': 2871, 'coin': 2872, 'purse': 2873, 'relative': 2874, 'seek': 2875, 'conscience': 2876, 'optimism': 2877, 'refusal': 2878, 'trap': 2879, 'weewee': 2880, 'adoption': 2881, 'district': 2882, 'beachbody': 2883, 'metal': 2884, 'kim': 2885, 'dirt': 2886, 'birthed': 2887, 'genetices': 2888, 'midterm': 2889, 'judged': 2890, 'jeered': 2891, 'infection': 2892, 'shooting': 2893, 'unprofessional': 2894, 'academy': 2895, 'allowed': 2896, 'stimulating': 2897, 'wilder': 2898, 'apartment': 2899, 'vented': 2900, 'excuse': 2901, 'communicat': 2902, 'grayish': 2903, 'nowadays': 2904, 'hilariously': 2905, 'metaphor': 2906, 'backed': 2907, 'chink': 2908, 'dismiss': 2909, 'radiologist': 2910, 'protocol': 2911, 'hobble': 2912, 'clicking': 2913, 'protein': 2914, 'mashmellows': 2915, 'accurately': 2916, 'outpouring': 2917, 'harmful': 2918, 'floor': 2919, 'vote': 2920, 'stretch': 2921, 'homework': 2922, 'discovered': 2923, 'nipping': 2924, 'assumption': 2925, 'utter': 2926, 'condone': 2927, 'coworker': 2928, 'gracias': 2929, 'por': 2930, 'todo': 2931, 'thus': 2932, 'cheese': 2933, 'chip': 2934, 'zico': 2935, 'coconut': 2936, 'lends': 2937, 'explanation': 2938, 'projected': 2939, 'potato': 2940, 'legally': 2941, 'hollyoaks': 2942, 'suppport': 2943, 'stared': 2944, 'whimsical': 2945, 'sensibility': 2946, 'cheap': 2947, 'inscrie': 2948, 'intr': 2949, 'un': 2950, 'rafinament': 2951, 'lejer': 2952, 'extrem': 2953, 'feminin': 2954, 'carryout': 2955, 'aj': 2956, 'frowned': 2957, 'intake': 2958, 'reilly': 2959, 'cleansing': 2960, 'robbed': 2961, 'serence': 2962, 'heavier': 2963, 'normalized': 2964, 'oblivion': 2965, 'hovel': 2966, 'enormous': 2967, 'mourn': 2968, 'derby': 2969, 'familiarity': 2970, 'janis': 2971, 'sander': 2972, 'abusing': 2973, 'farther': 2974, 'metformin': 2975, 'overslept': 2976, 'hangover': 2977, 'kicked': 2978, 'mid': 2979, 'replied': 2980, 'repentant': 2981, 'missionary': 2982, 'woefully': 2983, 'adorable': 2984, 'concentrate': 2985, 'compagnon': 2986, 'whooped': 2987, 'bat': 2988, 'unsteady': 2989, 'duration': 2990, 'polyamorous': 2991, 'hung': 2992, 'unappreciated': 2993, 'blonde': 2994, 'observed': 2995, 'disconnected': 2996, 'babysitter': 2997, 'guitar': 2998, 'apologize': 2999, 'diaper': 3000, 'shop': 3001, 'firmly': 3002, 'qualified': 3003, 'venue': 3004, 'questioned': 3005, 'spilled': 3006, 'calmly': 3007, 'aspire': 3008, 'austere': 3009, 'introspective': 3010, 'euskc': 3011, 'ignorant': 3012, 'healer': 3013, 'quarter': 3014, 'operation': 3015, 'participating': 3016, 'jesse': 3017, 'hike': 3018, 'mihm': 3019, 'yardage': 3020, 'fulfill': 3021, 'sale': 3022, 'measurement': 3023, 'medical': 3024, 'puzzled': 3025, 'wiggle': 3026, 'pelvis': 3027, 'bump': 3028, 'thump': 3029, 'singing': 3030, 'lightmeter': 3031, 'characteristic': 3032, 'photography': 3033, 'tyler': 3034, 'quilt': 3035, 'invitation': 3036, 'instinct': 3037, 'chill': 3038, 'freaky': 3039, 'pattern': 3040, 'bbm': 3041, 'frickin': 3042, 'loose': 3043, 'sitter': 3044, 'knitting': 3045, 'pump': 3046, 'tolerating': 3047, 'model': 3048, 'watcher': 3049, 'consisting': 3050, 'museli': 3051, 'yoghurt': 3052, 'scenario': 3053, 'dilute': 3054, 'wander': 3055, 'market': 3056, 'solved': 3057, 'liverpool': 3058, 'puzzle': 3059, 'zumba': 3060, 'housewife': 3061, 'esque': 3062, 'korean': 3063, 'omg': 3064, 'exist': 3065, 'moonbeam': 3066, 'shine': 3067, 'dreamily': 3068, 'humbled': 3069, 'swarming': 3070, 'carnivore': 3071, 'comforted': 3072, 'spite': 3073, 'chick': 3074, 'primarily': 3075, 'jubilant': 3076, 'elation': 3077, 'drip': 3078, 'rlsh': 3079, 'gimmick': 3080, 'joined': 3081, 'elihu': 3082, 'christmastime': 3083, 'mill': 3084, 'darkly': 3085, 'stately': 3086, 'dignified': 3087, 'urgent': 3088, 'drew': 3089, 'ugliness': 3090, 'ceo': 3091, 'bob': 3092, 'relented': 3093, 'corrected': 3094, 'annoyingly': 3095, 'fuel': 3096, 'designing': 3097, 'bridesmaid': 3098, 'stray': 3099, 'mansoor': 3100, 'structural': 3101, 'linguistics': 3102, 'deconstructionist': 3103, 'clamour': 3104, 'winner': 3105, 'director': 3106, 'wardrode': 3107, 'decade': 3108, 'feverish': 3109, 'expose': 3110, 'confronted': 3111, 'respecting': 3112, 'lied': 3113, 'nearest': 3114, 'nyquil': 3115, 'catholic': 3116, 'vortex': 3117, 'rating': 3118, 'frustrates': 3119, 'cherished': 3120, 'tranny': 3121, 'hiatus': 3122, 'sprog': 3123, 'peculiar': 3124, 'encounter': 3125, 'palpably': 3126, 'box': 3127, 'speechless': 3128, 'meaningless': 3129, 'diagram': 3130, 'freezing': 3131, 'immense': 3132, 'invited': 3133, 'stoop': 3134, 'sink': 3135, 'milk': 3136, 'glow': 3137, 'relation': 3138, 'thereof': 3139, 'investigator': 3140, 'ponder': 3141, 'esteem': 3142, 'purposeless': 3143, 'equilibrium': 3144, 'sims': 3145, 'recede': 3146, 'faced': 3147, 'owning': 3148, 'clog': 3149, 'pore': 3150, 'baker': 3151, 'smallest': 3152, 'hall': 3153, 'sideline': 3154, 'ye': 3155, 'necklace': 3156, 'fleet': 3157, 'adjust': 3158, 'defeat': 3159, 'toddlerhood': 3160, 'mack': 3161, 'michael': 3162, 'quest': 3163, 'axilla': 3164, 'ached': 3165, 'upstream': 3166, 'strip': 3167, 'holy': 3168, 'corpse': 3169, 'tied': 3170, 'stock': 3171, 'happenstance': 3172, 'lingering': 3173, 'performed': 3174, 'wayne': 3175, 'nikki': 3176, 'minaj': 3177, 'dope': 3178, 'dread': 3179, 'senior': 3180, 'homemade': 3181, 'route': 3182, 'legitimate': 3183, 'authentic': 3184, 'piano': 3185, 'hercules': 3186, 'controlling': 3187, 'grew': 3188, 'stopping': 3189, 'attacked': 3190, 'portray': 3191, 'intermarrying': 3192, 'lane': 3193, 'gardening': 3194, 'border': 3195, 'slobby': 3196, 'trimester': 3197, 'trusted': 3198, 'storage': 3199, 'closet': 3200, 'irrational': 3201, 'jaw': 3202, 'bold': 3203, 'leopard': 3204, 'munch': 3205, 'savory': 3206, 'yearned': 3207, 'homey': 3208, 'warming': 3209, 'belittled': 3210, 'keyed': 3211, 'trigger': 3212, 'inarticulate': 3213, 'laughable': 3214, 'flattened': 3215, 'knowledgeable': 3216, 'springy': 3217, 'drank': 3218, 'chendol': 3219, 'kacang': 3220, 'hyena': 3221, 'idiocy': 3222, 'supremely': 3223, 'fastforwarding': 3224, 'animosity': 3225, 'alot': 3226, 'actuality': 3227, 'comeback': 3228, 'miller': 3229, 'devour': 3230, 'bitten': 3231, 'sausage': 3232, 'bar': 3233, 'traveling': 3234, 'unfairness': 3235, 'companion': 3236, 'average': 3237, 'feelings': 3238, 'britain': 3239, 'louis': 3240, 'antoinette': 3241, 'comparatively': 3242, 'psycho': 3243, 'capitol': 3244, 'chemistry': 3245, 'engaging': 3246, 'watchable': 3247, 'tomato': 3248, 'sophist': 3249, 'classwork': 3250, 'comforting': 3251, 'examine': 3252, 'exempted': 3253, 'veer': 3254, 'disorientated': 3255, 'queasy': 3256, 'ben': 3257, 'modern': 3258, 'yelp': 3259, 'hunting': 3260, 'root': 3261, 'released': 3262, 'village': 3263, 'jurer': 3264, 'construction': 3265, 'nurturing': 3266, 'primary': 3267, 'obbie': 3268, 'abit': 3269, 'east': 3270, 'from': 3271, 'conspiracy': 3272, 'unsolved': 3273, 'hugely': 3274, 'awhile': 3275, 'guide': 3276, 'affection': 3277, 'frog': 3278, 'recover': 3279, 'inclined': 3280, 'alexander': 3281, 'persistence': 3282, 'relish': 3283, 'squelching': 3284, 'mud': 3285, 'reckless': 3286, 'angee': 3287, 'unfolds': 3288, 'launch': 3289, 'opener': 3290, 'ebony': 3291, 'pinpoint': 3292, 'ass': 3293, 'coolum': 3294, 'repeating': 3295, 'romantically': 3296, 'immerse': 3297, 'leech': 3298, 'conference': 3299, 'wine': 3300, 'persistent': 3301, 'nonsense': 3302, 'advertising': 3303, 'knee': 3304, 'biggie': 3305, 'bore': 3306, 'testimony': 3307, 'remotely': 3308, 'oneself': 3309, 'merely': 3310, 'garbage': 3311, 'insatiably': 3312, 'marketing': 3313, 'bath': 3314, 'lb': 3315, 'creeping': 3316, 'hyde': 3317, 'row': 3318, 'dip': 3319, 'oriented': 3320, 'ignoring': 3321, 'junior': 3322, 'drugged': 3323, 'communion': 3324, 'tremendous': 3325, 'theologically': 3326, 'patience': 3327, 'economically': 3328, 'pinning': 3329, 'nanashi': 3330, 'cycle': 3331, 'articulating': 3332, 'verbally': 3333, 'buying': 3334, 'blush': 3335, 'willingly': 3336, 'chiangmai': 3337, 'bishan': 3338, 'fetch': 3339, 'nick': 3340, 'bear': 3341, 'mindset': 3342, 'radiation': 3343, 'initally': 3344, 'internist': 3345, 'nasal': 3346, 'sarcoma': 3347, 'destiny': 3348, 'hospitalized': 3349, 'opposite': 3350, 'float': 3351, 'benedict': 3352, 'dislike': 3353, 'susceptible': 3354, 'clock': 3355, 'corporate': 3356, 'traded': 3357, 'management': 3358, 'rotation': 3359, 'highlight': 3360, 'residue': 3361, 'brownish': 3362, 'tint': 3363, 'brow': 3364, 'grandfather': 3365, 'lifetime': 3366, 'damage': 3367, 'bruise': 3368, 'fragile': 3369, 'certifiably': 3370, 'opposed': 3371, 'contrast': 3372, 'snake': 3373, 'crawling': 3374, 'curveballs': 3375, 'procedure': 3376, 'volvo': 3377, 'tidy': 3378, 'unsimilar': 3379, 'waddle': 3380, 'recipe': 3381, 'united': 3382, 'southern': 3383, 'categorie': 3384, 'nacho': 3385, 'switch': 3386, 'nl': 3387, 'central': 3388, 'cog': 3389, 'championship': 3390, 'pedestrian': 3391, 'narrative': 3392, 'critically': 3393, 'flawed': 3394, 'reporting': 3395, 'attribute': 3396, 'bqff': 3397, 'stack': 3398, 'expressing': 3399, 'rave': 3400, 'commented': 3401, 'ecker': 3402, 'easter': 3403, 'creme': 3404, 'correctly': 3405, 'idk': 3406, 'candy': 3407, 'endeavor': 3408, 'corys': 3409, 'iframe': 3410, 'frameborder': 3411, 'godaddy': 3412, 'privellege': 3413, 'vehemently': 3414, 'oppose': 3415, 'shoved': 3416, 'stable': 3417, 'g': 3418, 'outlandish': 3419, 'subtle': 3420, 'eligible': 3421, 'instruction': 3422, 'lee': 3423, 'breastfeeding': 3424, 'hobby': 3425, 'te': 3426, 'belonging': 3427, 'laundering': 3428, 'suggest': 3429, 'disruptive': 3430, 'reacted': 3431, 'dramatic': 3432, 'technically': 3433, 'provide': 3434, 'hihi': 3435, 'whack': 3436, 'sucking': 3437, 'spitting': 3438, 'tends': 3439, 'certified': 3440, 'ace': 3441, 'button': 3442, 'layout': 3443, 'horizontal': 3444, 'buzzy': 3445, 'panicky': 3446, 'aroma': 3447, 'entry': 3448, 'occur': 3449, 'representative': 3450, 'dick': 3451, 'steely': 3452, 'secondly': 3453, 'explored': 3454, 'remained': 3455, 'crow': 3456, 'only': 3457, 'xx': 3458, 'notify': 3459, 'infidelity': 3460, 'sweety': 3461, 'savingyourmarriagebeforeitstarts': 3462, 'kindly': 3463, 'sandblog': 3464, 'anniversary': 3465, 'nickey': 3466, 'harmonious': 3467, 'asciatic': 3468, 'fluid': 3469, 'burn': 3470, 'bunion': 3471, 'counted': 3472, 'sh': 3473, 'adapt': 3474, 'technique': 3475, 'soften': 3476, 'spin': 3477, 'dental': 3478, 'deliberation': 3479, 'repaired': 3480, 'thorough': 3481, 'spotless': 3482, 'mollusk': 3483, 'cloth': 3484, 'stabbed': 3485, 'wisconsin': 3486, 'instance': 3487, 'compensated': 3488, 'earn': 3489, 'cave': 3490, 'demanding': 3491, 'apt': 3492, 'brooding': 3493, 'gnawing': 3494, 'fed': 3495, 'gig': 3496, 'prepare': 3497, 'riva': 3498, 'harvey': 3499, 'weinstein': 3500, 'investing': 3501, 'dummy': 3502, 'science': 3503, 'pariah': 3504, 'acctually': 3505, 'wonderfull': 3506, 'israel': 3507, 'pig': 3508, 'duke': 3509, 'parmesan': 3510, 'truffle': 3511, 'prawn': 3512, 'lollipop': 3513, 'separate': 3514, 'crowded': 3515, 'pulse': 3516, 'translate': 3517, 'unfold': 3518, 'ol': 3519, 'feefyefo': 3520, 'blabber': 3521, 'transparent': 3522, 'naega': 3523, 'deo': 3524, 'apaya': 3525, 'hae': 3526, 'dasi': 3527, 'neol': 3528, 'chajeul': 3529, 'su': 3530, 'itge': 3531, 'sigani': 3532, 'heureulsurok': 3533, 'gaseumi': 3534, 'apawa': 3535, 'dan': 3536, 'hanbeon': 3537, 'manirado': 3538, 'wo': 3539, 'doedollil': 3540, 'suman': 3541, 'itdamyeon': 3542, 'gotong': 3543, 'ttawin': 3544, 'naegen': 3545, 'regularly': 3546, 'runnin': 3547, 'bein': 3548, 'confined': 3549, 'stic': 3550, 'mg': 3551, 'seroquel': 3552, 'rock': 3553, 'handsome': 3554, 'advance': 3555, 'economic': 3556, 'growth': 3557, 'global': 3558, 'cudnt': 3559, 'frens': 3560, 'da': 3561, 'philippine': 3562, 'rapid': 3563, 'giggly': 3564, 'whereby': 3565, 'publicly': 3566, 'purple': 3567, 'tangled': 3568, 'forearm': 3569, 'applying': 3570, 'untrieds': 3571, 'generator': 3572, 'employment': 3573, 'confession': 3574, 'planner': 3575, 'bridezillas': 3576, 'groom': 3577, 'canvas': 3578, 'sinking': 3579, 'stalker': 3580, 'convicted': 3581, 'redundant': 3582, 'credential': 3583, 'handsomefamily': 3584, 'frequent': 3585, 'achy': 3586, 'tumor': 3587, 'metastasis': 3588, 'battle': 3589, 'childlike': 3590, 'di': 3591, 'hundred': 3592, 'resorted': 3593, 'peak': 3594, 'housebound': 3595, 'peckish': 3596, 'send': 3597, 'shire': 3598, 'reunited': 3599, 'cheered': 3600, 'feast': 3601, 'elvive': 3602, 'strayed': 3603, 'formula': 3604, 'poet': 3605, 'belongs': 3606, 'developer': 3607, 'deranged': 3608, 'helena': 3609, 'bonham': 3610, 'carter': 3611, 'sweeney': 3612, 'harshness': 3613, 'wearied': 3614, 'relentlessness': 3615, 'angst': 3616, 'rosa': 3617, 'grandpa': 3618, 'chasm': 3619, 'flawless': 3620, 'bareminerals': 3621, 'filmed': 3622, 'scar': 3623, 'evolution': 3624, 'kerouac': 3625, 'tossing': 3626, 'marble': 3627, 'maelstrom': 3628, 'surf': 3629, 'sur': 3630, 'loosen': 3631, 'restricted': 3632, 'misbehavior': 3633, 'werner': 3634, 'thomas': 3635, 'musician': 3636, 'insulting': 3637, 'proclaiming': 3638, 'fortunately': 3639, 'virtual': 3640, 'office': 3641, 'stinging': 3642, 'fondness': 3643, 'coeur': 3644, 'alene': 3645, 'surrounded': 3646, 'unmotivated': 3647, 'drape': 3648, 'tie': 3649, 'xia': 3650, 'pedicure': 3651, 'massaging': 3652, 'tootsies': 3653, 'barbie': 3654, 'heel': 3655, 'prompted': 3656, 'portrayed': 3657, 'preparing': 3658, 'florida': 3659, 'bungalow': 3660, 'collection': 3661, 'splash': 3662, 'cologne': 3663, 'energizing': 3664, 'tall': 3665, 'feeding': 3666, 'amish': 3667, 'stereotype': 3668, 'maternal': 3669, 'blamed': 3670, 'functioning': 3671, 'autism': 3672, 'justify': 3673, 'laziness': 3674, 'skinny': 3675, 'pitcher': 3676, 'mound': 3677, 'league': 3678, 'shifty': 3679, 'residual': 3680, 'nyc': 3681, 'technical': 3682, 'intimidating': 3683, 'asleep': 3684, 'plug': 3685, 'such': 3686, 'israeli': 3687, 'occupation': 3688, 'lasted': 3689, 'guessing': 3690, 'adopt': 3691, 'shield': 3692, 'drawing': 3693, 'tissue': 3694, 'contaminated': 3695, 'nuclear': 3696, 'protest': 3697, 'riot': 3698, 'police': 3699, 'canada': 3700, 'soooo': 3701, 'rage': 3702, 'hatred': 3703, 'gentleman': 3704, 'politely': 3705, 'greed': 3706, 'devote': 3707, 'andover': 3708, 'supermarket': 3709, 'stride': 3710, 'nonstop': 3711, 'accompanied': 3712, 'liking': 3713, 'surprise': 3714, 'va': 3715, 'prandi': 3716, 'antisocial': 3717, 'cooperation': 3718, 'nathan': 3719, 'travis': 3720, 'spark': 3721, 'underage': 3722, 'spiritually': 3723, 'meditating': 3724, 'greatness': 3725, 'psalm': 3726, 'observing': 3727, 'closely': 3728, 'buried': 3729, 'ethan': 3730, 'smackdown': 3731, 'daniel': 3732, 'bryan': 3733, 'appear': 3734, 'jade': 3735, 'prone': 3736, 'spencer': 3737, 'dickinson': 3738, 'semi': 3739, 'enhance': 3740, 'enjambment': 3741, 'sonnet': 3742, 'bible': 3743, 'flow': 3744, 'minor': 3745, 'fingernail': 3746, 'cu': 3747, 'toy': 3748, 'castanets': 3749, 'ray': 3750, 'raposa': 3751, 'crested': 3752, 'bubble': 3753, 'sea': 3754, 'plainly': 3755, 'symptom': 3756, 'exhaustion': 3757, 's': 3758, 'setback': 3759, 'honesty': 3760, 'jury': 3761, 'immune': 3762, 'irrationally': 3763, 'extreme': 3764, 'warning': 3765, 'aimless': 3766, 'jayson': 3767, 'delivery': 3768, 'ollie': 3769, 'quad': 3770, 'aggravating': 3771, 'battered': 3772, 'shift': 3773, 'feminist': 3774, 'everythings': 3775, 'migrate': 3776, 'disbelieving': 3777, 'described': 3778, 'obsession': 3779, 'commodore': 3780, 'profoundly': 3781, 'sids': 3782, 'grief': 3783, 'exclusively': 3784, 'admin': 3785, 'hopped': 3786, 'thankfully': 3787, 'cardio': 3788, 'emilyhursh': 3789, 'fraud': 3790, 'hypocrite': 3791, 'object': 3792, 'sience': 3793, 'rocketed': 3794, 'daunting': 3795, 'occasion': 3796, 'modeling': 3797, 'robin': 3798, 'duet': 3799, 'blame': 3800, 'backward': 3801, 'unreasonable': 3802, 'lent': 3803, 'scissors': 3804, 'consequently': 3805, 'exceedingly': 3806, 'resented': 3807, 'track': 3808, 'ballet': 3809, 'shiny': 3810, 'santa': 3811, 'spontaneous': 3812, 'jrock': 3813, 'tommorrow': 3814, 'lightly': 3815, 'overlapping': 3816, 'phase': 3817, 'charity': 3818, 'falsely': 3819, 'refer': 3820, 'sally': 3821, 'mop': 3822, 'hahaha': 3823, 'nikos': 3824, 'niko': 3825, 'nerd': 3826, 'impromptu': 3827, 'refrain': 3828, 'clint': 3829, 'fund': 3830, 'royal': 3831, 'stir': 3832, 'karma': 3833, 'contentment': 3834, 'jacked': 3835, 'supply': 3836, '19': 3837, 'penetrating': 3838, 'boob': 3839, 'forgetting': 3840, 'flirty': 3841, 'contributing': 3842, 'stoic': 3843, 'icky': 3844, 'vocalist': 3845, 'embarassed': 3846, 'femininely': 3847, 'complain': 3848, 'offline': 3849, 'beneath': 3850, 'alley': 3851, 'gentrified': 3852, 'ghetto': 3853, 'muffin': 3854, 'nude': 3855, 'nation': 3856, 'borne': 3857, 'detatched': 3858, 'sol': 3859, 'expressive': 3860, 'yuuki': 3861, 'believing': 3862, 'bi': 3863, 'manufacturing': 3864, 'finance': 3865, 'judging': 3866, 'compelled': 3867, 'meek': 3868, 'curiosity': 3869, 'amy': 3870, 'd': 3871, 'officially': 3872, 'improving': 3873, 'led': 3874, 'rent': 3875, 'detox': 3876, 'neighborhood': 3877, 'expert': 3878, 'anti': 3879, 'unbreakable': 3880, 'established': 3881, 'godly': 3882, 'childrens': 3883, 'praise': 3884, 'gunong': 3885, 'ledang': 3886, 'legend': 3887, 'fairy': 3888, 'houston': 3889, 'amorous': 3890, 'feng': 3891, 'us': 3892, 'conditioned': 3893, 'aa': 3894, 'handrail': 3895, 'basement': 3896, 'stair': 3897, 'vegetarian': 3898, 'vegan': 3899, 'eater': 3900, 'speech': 3901, 'immature': 3902, 'gloss': 3903, 'improvement': 3904, 'swath': 3905, 'legacy': 3906, 'v': 3907, 'policy': 3908, 'analysis': 3909, 'build': 3910, 'shoudlnt': 3911, 'cathartic': 3912, 'mychem': 3913, 'damaging': 3914, 'cred': 3915, 'widow': 3916, 'psychology': 3917, 'stuffed': 3918, '3': 3919, 'oakwood': 3920, 'campus': 3921, 'vanity': 3922, 'meme': 3923, 'autocorrect': 3924, 'moody': 3925, 'grandmother': 3926, 'humbling': 3927, 'influence': 3928, 'influencing': 3929, 'prejudice': 3930, 'crew': 3931, 'fulfil': 3932, 'ambition': 3933, 'bcoz': 3934, 'publicity': 3935, 'settling': 3936, 'bridge': 3937, 'hollywood': 3938, 'trial': 3939, 'crazily': 3940, 'frantically': 3941, 'scheme': 3942, 'dumbfounded': 3943, 'deceived': 3944, 'sidewalk': 3945, 'pothole': 3946, 'smelling': 3947, 'wood': 3948, 'somthing': 3949, 'vague': 3950, 'enclose': 3951, 'verse': 3952, 'weigh': 3953, 'researching': 3954, 'a': 3955, 'misty': 3956, 'foggy': 3957, 'coldness': 3958, 'herald': 3959, 'sifting': 3960, 'predictably': 3961, 'liquor': 3962, 'split': 3963, 'weirdly': 3964, 'crossing': 3965, '4': 3966, 'porch': 3967, 'sunlight': 3968, 'bathed': 3969, 'surprisingly': 3970, 'cooled': 3971, 'aggressive': 3972, 'unfair': 3973, 'sd': 3974, 'aggression': 3975, 'sheep': 3976, 'grand': 3977, 'publication': 3978, 'pour': 3979, 'brandy': 3980, 'coffee': 3981, 'pronounced': 3982, 'accordance': 3983, 'faithfulness': 3984, 'gifted': 3985, 'intricate': 3986, 'essence': 3987, 'trait': 3988, 'uk': 3989, 'cloudy': 3990, 'sunny': 3991, 'treating': 3992, 'less': 3993, 'piss': 3994, 'threw': 3995, 'chinese': 3996, 'declare': 3997, 'protecting': 3998, 'substance': 3999, 'mushy': 4000, 'feverishly': 4001, 'preparation': 4002, 'caregiver': 4003, 'generated': 4004, 'transformer': 4005, 'fluidly': 4006, 'integrated': 4007, 'complimented': 4008, 'uneasy': 4009, 'virtually': 4010, 'kindness': 4011, 'incoming': 4012, 'hella': 4013, 'waste': 4014, 'honor': 4015, 'traditional': 4016, 'princess': 4017, 'robot': 4018, 'impressing': 4019, 'noticer': 4020, 'grappling': 4021, 'estate': 4022, 'proceed': 4023, 'contagious': 4024, 'entertain': 4025, 'mulatto': 4026, 'albino': 4027, 'mosquito': 4028, 'libido': 4029, 'yay': 4030, 'fought': 4031, 'instinctively': 4032, 'passer': 4033, 'promise': 4034, 'secretary': 4035, 'eh': 4036, 'kneel': 4037, 'crotch': 4038, 'ni': 4039, 'laid': 4040, 'stoner': 4041, 'escaped': 4042, 'priority': 4043, 'brassed': 4044, 'wearily': 4045, 'sleeve': 4046, 'onset': 4047, 'infamous': 4048, 'bonk': 4049, 'upfront': 4050, 'scanning': 4051, 'thi': 4052, 'hasnt': 4053, 'excellent': 4054, 'shortage': 4055, 'laughing': 4056, 'approve': 4057, 'disapprove': 4058, 'dot': 4059, 'com': 4060, 'installment': 4061, 'starlight': 4062, 'caress': 4063, 'ember': 4064, 'tidbit': 4065, 'innate': 4066, 'inability': 4067, 'flashed': 4068, 'painting': 4069, 'hooker': 4070, 'ons': 4071, 'available': 4072, 'midori': 4073, 'teeny': 4074, 'itsy': 4075, 'bitsy': 4076, 'vogue': 4077, 'muttered': 4078, 'undertaking': 4079, 'programme': 4080, 'submitted': 4081, 'fifteen': 4082, 'pea': 4083, 'carrot': 4084, 'travelling': 4085, 'galaxy': 4086, 'jude': 4087, 'bask': 4088, 'straightforward': 4089, 'logical': 4090, 'library': 4091, 'owner': 4092, 'emoticon': 4093, 'subkect': 4094, 'boast': 4095, 'macendarfer': 4096, 'doused': 4097, 'freind': 4098, 'asasoulawakens': 4099, 'feeli': 4100, 'shoot': 4101, 'openly': 4102, 'roslin': 4103, 'figured': 4104, 'unresolved': 4105, 'severe': 4106, 'showed': 4107, 'wtf': 4108, 'bravely': 4109, 'revert': 4110, 'skirtsports': 4111, 'parody': 4112, 'challenging': 4113, 'decompress': 4114, 'entertaining': 4115, 'newsprint': 4116, 'readership': 4117, 'intended': 4118, 'ur': 4119, 'taut': 4120, 'chew': 4121, 'reckon': 4122, 'monarch': 4123, 'removed': 4124, 'intimate': 4125, 'shore': 4126, 'claimed': 4127, 'nutrition': 4128, 'adf': 4129, 'unity': 4130, 'consecrated': 4131, 'frequented': 4132, 'allah': 4133, 'puff': 4134, 'peer': 4135, 'ness': 4136, 'landed': 4137, 'behalf': 4138, 'consumed': 4139, 'succumb': 4140, 'doc': 4141, 'selected': 4142, 'reference': 4143, 'avenue': 4144, 'q': 4145, 'muse': 4146, 'goin': 4147, 'moshav': 4148, 'dancin': 4149, 'errand': 4150, 'cora': 4151, 'sleeper': 4152, 'incense': 4153, 'hymn': 4154, 'interpretation': 4155, 'helterskelter': 4156, 'transformed': 4157, 'yelled': 4158, 'carrry': 4159, 'implication': 4160, 'uploading': 4161, 'imperfection': 4162, 'mocked': 4163, 'continuing': 4164, 'britney': 4165, 'divinity': 4166, 'dizzy': 4167, 'nineteen': 4168, 'sober': 4169, 'resolve': 4170, 'tooth': 4171, 'confront': 4172, 'openness': 4173, 'answering': 4174, 'moaning': 4175, 'cluttered': 4176, 'dozen': 4177, 'pang': 4178, 'funes': 4179, 'rank': 4180, '«': 4181, 'generic': 4182, 'obligated': 4183, 'stayed': 4184, 'thursday': 4185, 'lightness': 4186, 'desirable': 4187, 'validation': 4188, 'solid': 4189, 'supplicate': 4190, 'it': 4191, 'realness': 4192, 'portrayal': 4193, 'truck': 4194, 'cough': 4195, 'remarkably': 4196, 'idiot': 4197, 'bal': 4198, 'visiting': 4199, 'athf': 4200, 'tuesday': 4201, 'fishing': 4202, '10': 4203, 'era': 4204, 'captured': 4205, 'atmospheric': 4206, 'automation': 4207, 'memset': 4208, 'devastating': 4209, 'impolite': 4210, 'fool': 4211, 'thief': 4212, 'exposure': 4213, 'crudely': 4214, 'jenny': 4215, 'spayed': 4216, 'spoon': 4217, 'belief': 4218, 'deciding': 4219, 'dribbling': 4220, 'counter': 4221, 'repetition': 4222, 'morose': 4223, 'legitimately': 4224, 'adrasteius': 4225, 'eulalias': 4226, 'port': 4227, 'gear': 4228, 'awaken': 4229, 'joie': 4230, 'vivre': 4231, 'connecting': 4232, 'darkness': 4233, 'ally': 4234, 'nurse': 4235, 'uniquely': 4236, 'reduce': 4237, 'babsbrisbane': 4238, 'blogged': 4239, 'him': 4240, 'shiver': 4241, 'combo': 4242, 'dish': 4243, 'belittle': 4244, 'elated': 4245, 'crawl': 4246, 'request': 4247, 'flushed': 4248, 'embarrassment': 4249, 'arouse': 4250, 'maltese': 4251, 'dharavi': 4252, 'mumbai': 4253, 'turnover': 4254, 'environmental': 4255, 'resort': 4256, 'gain': 4257, 'biannual': 4258, 'mammogram': 4259, 'hows': 4260, 'thirty': 4261, 'grant': 4262, 'unappreciative': 4263, 'ease': 4264, 'duo': 4265, 'destroy': 4266, 'revulsion': 4267, 'elicits': 4268, 'fascination': 4269, 'stash': 4270, 'horror': 4271, 'isolation': 4272, 'creeped': 4273, 'cosplay': 4274, 'goon': 4275, 'smoothly': 4276, 'obstacle': 4277, 'pertaining': 4278, 'porcelain': 4279, 'waterside': 4280, 'startled': 4281, 'pursuit': 4282, 'uber': 4283, 'seed': 4284, 'cared': 4285, 'why': 4286, 'bewildered': 4287, 'rearranged': 4288, 'furniture': 4289, 'graduating': 4290, 'teeth': 4291, 'nana': 4292, 'blowing': 4293, 'pained': 4294, 'ageing': 4295, 'soundtrack': 4296, 'charlie': 4297, 'daydreaming': 4298, 'shove': 4299, 'panty': 4300, 'giddy': 4301, 'amazement': 4302, 'nicole': 4303, 'sip': 4304, 'contemplation': 4305, 'consolidation': 4306, 'aout': 4307, 'bullet': 4308, 'loki': 4309, 'bgr': 4310, 'montagues': 4311, 'tantrum': 4312, 'privilege': 4313, 'barcial': 4314, 'derided': 4315, 'respectful': 4316, 'referee': 4317, 'shouting': 4318, 'swearing': 4319, 'separately': 4320, 'upside': 4321, 'comfy': 4322, 'zealand': 4323, 'precipice': 4324, 'urgency': 4325, 'resistant': 4326, 'flashback': 4327, 'yurusei': 4328, 'yatsura': 4329, 'coheed': 4330, 'cambria': 4331, 'ripped': 4332, 'lucas': 4333, 'grows': 4334, 'divert': 4335, 'purpose': 4336, 'truthful': 4337, 'arialblue': 4338, 'chat': 4339, 'tight': 4340, 'flipped': 4341, 'digress': 4342, 'litte': 4343, 'logic': 4344, 'randomly': 4345, 'thereby': 4346, 'psychological': 4347, 'noah': 4348, 'providing': 4349, 'slalom': 4350, 'clover': 4351, 'assistance': 4352, 'accepting': 4353, 'psychotic': 4354, 'obtain': 4355, 'wushu': 4356, 'heartedly': 4357, 'nearing': 4358, 'divulge': 4359, 'info': 4360, 'stylings': 4361, 'pastor': 4362, 'gerry': 4363, 'pasta': 4364, 'crack': 4365, 'bothering': 4366, 'settled': 4367, 'fearing': 4368, 'vibe': 4369, 'more': 4370, 'worthy': 4371, 'lurking': 4372, 'varnish': 4373, 'olivia': 4374, 'assistant': 4375, 'stuffing': 4376, 'adrift': 4377, 'candle': 4378, 'sleepy': 4379, 'virginia': 4380, 'wll': 4381, 'theater': 4382, 'grounded': 4383, 'stressful': 4384, 'alcohol': 4385, 'rubbish': 4386, 'transformation': 4387, 'packing': 4388, 'melodious': 4389, 'deteriorated': 4390, 'sabrina': 4391, 'notting': 4392, 'dated': 4393, 'injustice': 4394, 'blogspot': 4395, 'fired': 4396, 'detectin': 4397, 'persevere': 4398, 'miraculous': 4399, 'bullying': 4400, 'moreso': 4401, 'unexpected': 4402, 'overconfident': 4403, 'miyavi': 4404, 'judgement': 4405, 'abandon': 4406, 'en': 4407, 'maschke': 4408, 'unsavory': 4409, 'referred': 4410, 'cornish': 4411, 'cornwall': 4412, 'vunerable': 4413, 'pent': 4414, 'compete': 4415, 'locate': 4416, 'jeff': 4417, 'misery': 4418, 'north': 4419, 'bury': 4420, 'hatchet': 4421, 'apologizing': 4422, 'punk': 4423, 'mystery': 4424, 'eagleandhammer': 4425, 'mccarthy': 4426, 'consistently': 4427, 'humanize': 4428, 'balancing': 4429, 'sweaty': 4430, 'rant': 4431, 'gosh': 4432, 'curb': 4433, 'woodman': 4434, 'cowardly': 4435, 'lion': 4436, 'completing': 4437, 'channel': 4438, 'brag': 4439, 'fattie': 4440, 'screenwriter': 4441, 'roberto': 4442, 'orcis': 4443, 'bizarre': 4444, 'adoration': 4445, 'dubya': 4446, 'pampered': 4447, 'bush': 4448, 'responsible': 4449, 'orci': 4450, 'cuddling': 4451, 'kissing': 4452, 'dried': 4453, 'bloated': 4454, 'bash': 4455, 'layer': 4456, 'nervously': 4457, 'idc': 4458, 'involving': 4459, 'whoever': 4460, 'among': 4461, 'continued': 4462, 'clot': 4463, 'programming': 4464, 'redden': 4465, 'manhood': 4466, 'subconsciously': 4467, 'nakedness': 4468, 'maid': 4469, 'curtain': 4470, 'ambulance': 4471, 'blindly': 4472, 'latex': 4473, 'hungover': 4474, 'marketplace': 4475, 'lightening': 4476, 'umbrella': 4477, 'limb': 4478, 'indifferent': 4479, 'bloom': 4480, 'woodland': 4481, 'lungfuls': 4482, 'bt': 4483, 'thn': 4484, 'bf': 4485, 'tabby': 4486, 'multiple': 4487, 'precision': 4488, 'completeness': 4489, 'sobered': 4490, 'because': 4491, 'reminding': 4492, 'mustered': 4493, 'christmassy': 4494, 'complex': 4495, 'wicked': 4496, 'wierd': 4497, 'electricity': 4498, 'paw': 4499, 'lyman': 4500, 'snippy': 4501, 'ought': 4502, 'percolated': 4503, 'synonym': 4504, 'inform': 4505, 'presently': 4506, 'fuzzy': 4507, 'laden': 4508, 'curiously': 4509, 'cum': 4510, 'amid': 4511, 'robotic': 4512, 'snug': 4513, 'bummed': 4514, 'vbac': 4515, 'snatched': 4516, 'prayed': 4517, 'failed': 4518, 'disciple': 4519, 'manifestation': 4520, 'slightest': 4521, 'liv': 4522, 'howling': 4523, 'comet': 4524, 'kicking': 4525, 'john': 4526, 'nutritional': 4527, 'solve': 4528, 'evolving': 4529, 'scraper': 4530, 'montana': 4531, 'goat': 4532, 'immersed': 4533, 'assure': 4534, 'dominican': 4535, 'republican': 4536, 'republic': 4537, 'entirelly': 4538, 'resisting': 4539, 'peregrinos': 4540, 'absolutly': 4541, 'flourishing': 4542, 'cyber': 4543, 'fighter': 4544, 'gusto': 4545, 'wishful': 4546, 'gaining': 4547, 'performing': 4548, 'commitment': 4549, 'she': 4550, 'cliff': 4551, 'escorting': 4552, 'riding': 4553, 'brutally': 4554, 'equivalent': 4555, 'shortly': 4556, 'eluded': 4557, 'intrusive': 4558, 'whereas': 4559, 'confuse': 4560, 'swear': 4561, 'stanley': 4562, 'ridden': 4563, 'marked': 4564, 'skate': 4565, 'atlanta': 4566, 'enabling': 4567, 'headachie': 4568, 'bridal': 4569, 'eternal': 4570, 'quitter': 4571, 'recollection': 4572, 'woody': 4573, 'allen': 4574, 'brook': 4575, 'earl': 4576, 'billy': 4577, 'security': 4578, 'concealed': 4579, 'hesitation': 4580, 'representing': 4581, 'recite': 4582, 'mantra': 4583, 'shiftless': 4584, 'intent': 4585, 'leo': 4586, 'clara': 4587, 'abandonment': 4588, 'cliche': 4589, 'oncologists': 4590, 'burden': 4591, 'coated': 4592, 'returned': 4593, 'threatening': 4594, 'pete': 4595, 'soliciting': 4596, 'exploiting': 4597, 'tank': 4598, 'lovedi': 4599, 'unhappiness': 4600, 'warms': 4601, 'midst': 4602, 'inter': 4603, 'generational': 4604, 'reminds': 4605, 'accomplished': 4606, 'epic': 4607, 'feat': 4608, 'thankfulness': 4609, 'festive': 4610, 'creepy': 4611, 'macabre': 4612, 'fountain': 4613, 'jerry': 4614, 'springer': 4615, 'porn': 4616, 'hun': 4617, 'hype': 4618, 'cop': 4619, 'weighing': 4620, 'ocean': 4621, 'goddess': 4622, 'rising': 4623, 'argument': 4624, 'patron': 4625, 'metropolitan': 4626, 'brazilian': 4627, 'workload': 4628, 'anansi': 4629, 'hunger': 4630, 'arrangement': 4631, 'leaping': 4632, 'sustainable': 4633, 'neo': 4634, 'terminology': 4635, 'custom': 4636, 'modification': 4637, 'commandment': 4638, 'bona': 4639, 'fide': 4640, 'sacred': 4641, 'preserving': 4642, 'liberty': 4643, 'veteran': 4644, 'memorial': 4645, 'retired': 4646, 'but': 4647, 'corbin': 4648, 'slung': 4649, 'october': 4650, 'deserted': 4651, 'blow': 4652, 'reward': 4653, 'recovering': 4654, 'goliath': 4655, 'undone': 4656, 'humblest': 4657, 'lightheaded': 4658, 'killer': 4659, 'resenting': 4660, 'brd': 4661, 'brds': 4662, 'sock': 4663, 'liable': 4664, 'drown': 4665, 'pogues': 4666, 'reggae': 4667, 'independence': 4668, 'sponsored': 4669, 'poverty': 4670, 'unanimously': 4671, 'spacey': 4672, 'cake': 4673, 'dye': 4674, 'nausea': 4675, 'unpleasantness': 4676, 'eldest': 4677, 'zofran': 4678, 'angsty': 4679, 'headspace': 4680, 'jensen': 4681, 'bon': 4682, 'jovi': 4683, 'stark': 4684, 'declined': 4685, 'begun': 4686, 'addictive': 4687, 'gently': 4688, 'mri': 4689, 'nodded': 4690, 'procure': 4691, 'nagging': 4692, 'alonger': 4693, 'encouragement': 4694, 'putter': 4695, 'board': 4696, 'morally': 4697, 'prolonged': 4698, 'subsequently': 4699, 'tense': 4700, 'replacing': 4701, 'produce': 4702, 'ruling': 4703, 'rebellion': 4704, 'mentality': 4705, 'ha': 4706, 'goth': 4707, 'visual': 4708, 'richness': 4709, 'cgi': 4710, 'italy': 4711, 'indian': 4712, 'smith': 4713, 'slugging': 4714, 'melt': 4715, 'gripping': 4716, 'limited': 4717, 'readjust': 4718, 'centre': 4719, 'powerless': 4720, 'quilting': 4721, 'sanity': 4722, 'pistol': 4723, 'demonstrate': 4724, 'understood': 4725, 'bbq': 4726, 'backyard': 4727, 'donald': 4728, 'duck': 4729, 'coping': 4730, 'shallow': 4731, 'picturesque': 4732, 'oak': 4733, 'lifelong': 4734, 'defiant': 4735, 'dennis': 4736, 'covingtons': 4737, 'merit': 4738, 'reflection': 4739, 'annulled': 4740, 'quaker': 4741, 'announced': 4742, 'fortnight': 4743, 'proving': 4744, 'typical': 4745, 'dependent': 4746, 'ranbir': 4747, 'ayan': 4748, 'mukerji': 4749, 'filmfare': 4750, 'disappoint': 4751, 'bleeding': 4752, 'architectural': 4753, 'wowed': 4754, 'built': 4755, 'omission': 4756, 'avoidance': 4757, 'spinal': 4758, 'greeted': 4759, 'shatter': 4760, 'crystal': 4761, 'slipped': 4762, 'missgivings': 4763, 'rat': 4764, 'skinner': 4765, 'leadership': 4766, 'fahad': 4767, 'leaning': 4768, 'skeleton': 4769, 'impulse': 4770, 'wed': 4771, 'numbness': 4772, 'international': 4773, 'yummy': 4774, 'soup': 4775, 'leftover': 4776, 'odkh': 4777, 'brightens': 4778, 'nourished': 4779, 'proposal': 4780, 'itch': 4781, 'center': 4782, 'cellphone': 4783, 'ring': 4784, 'convenient': 4785, 'fielding': 4786, 'incredulous': 4787, 'outer': 4788, 'cautiously': 4789, 'greg': 4790, 'dolphin': 4791, 'cincinnati': 4792, 'bengal': 4793, 'overtime': 4794, 'seldom': 4795, 'utmost': 4796, 'delivering': 4797, 'comfortably': 4798, 'carol': 4799, 'hobica': 4800, 'usa': 4801, '16': 4802, 'prevent': 4803, 'improved': 4804, 'stickiness': 4805, 'lisas': 4806, 'recognised': 4807, 'comedic': 4808, 'alfred': 4809, 'molina': 4810, 'dimensional': 4811, 'caricature': 4812, 'overshadowed': 4813, 'gillard': 4814, 'emergency': 4815, 'detrimental': 4816, 'gameplay': 4817, 'mommy': 4818, 'encountered': 4819, 'rounded': 4820, 'holli': 4821, 'reese': 4822, 'saint': 4823, 'spouting': 4824, 'muck': 4825, 'apparent': 4826, 'retiring': 4827, 'fancy': 4828, 'occurred': 4829, 'colbert': 4830, 'darker': 4831, 'snobbish': 4832, 'naming': 4833, 'unpleasantly': 4834, 'stormy': 4835, 'bowled': 4836, 'welling': 4837, 'sarcastically': 4838, 'stiller': 4839, 'vaughn': 4840, 'hater': 4841, 'enjoyment': 4842, 'bacon': 4843, 'burst': 4844, 'mixer': 4845, 'extension': 4846, 'murt': 4847, 'jerk': 4848, 'unsatisfying': 4849, 'internetsphere': 4850, 'marginalized': 4851, 'disregarded': 4852, 'vellas': 4853, 'tougher': 4854, 'separated': 4855, 'pinterest': 4856, 'fetish': 4857, 'passengered': 4858, 'behave': 4859, 'culturally': 4860, 'canning': 4861, 'trusty': 4862, 'louche': 4863, 'progressing': 4864, 'suburb': 4865, 'midwest': 4866, 'matthew': 4867, 'heimbuch': 4868, 'documented': 4869, 'midwestern': 4870, 'manly': 4871, 'mouthed': 4872, 'rattled': 4873, 'confirmed': 4874, 'torso': 4875, 'unnoticed': 4876, 'invest': 4877, 'charitable': 4878, 'alert': 4879, 'mega': 4880, 'manila': 4881, 'prevention': 4882, 'guard': 4883, 'deception': 4884, 'catapulted': 4885, 'observant': 4886, 'cheerleader': 4887, 'bunny': 4888, 'consumption': 4889, 'junk': 4890, 'ingredient': 4891, 'unfit': 4892, 'memorable': 4893, 'rob': 4894, 'spill': 4895, 'endurance': 4896, 'stingy': 4897, 'newly': 4898, 'tendency': 4899, 'realization': 4900, 'independent': 4901, 'pesters': 4902, 'impossible': 4903, 'pie': 4904, 'whining': 4905, 'ing': 4906, 'abandoning': 4907, 'clay': 4908, 'mastery': 4909, 'unconscious': 4910, 'failure': 4911, 'succeed': 4912, 'falter': 4913, 'crumbles': 4914, 'labeled': 4915, 'accuser': 4916, 'increase': 4917, 'recovery': 4918, 'digging': 4919, 'continuous': 4920, 'wailing': 4921, 'hears': 4922, 'conventional': 4923, 'sens': 4924, 'ceiling': 4925, 'covering': 4926, 'indefinite': 4927, 'lh': 4928, 'sensing': 4929, 'meantime': 4930, 'teddy': 4931, 'forcing': 4932, 'celebrating': 4933, 'consumerism': 4934, 'granted': 4935, 'gray': 4936, 'sandal': 4937, 'meanwhile': 4938, 'recreational': 4939, 'unwillingly': 4940, 'predicting': 4941, 'joint': 4942, 'oeuvre': 4943, 'dewitt': 4944, 'battery': 4945, 'skilled': 4946, 'presentational': 4947, 'casting': 4948, 'necessarily': 4949, 'stoup': 4950, 'communication': 4951, 'suuuper': 4952, 'managing': 4953, 'pretending': 4954, 'aint': 4955, 'distinctive': 4956, 'deduce': 4957, 'marrying': 4958, 'negate': 4959, 'oversized': 4960, 'nevertheless': 4961, 'occurs': 4962, 'betrayal': 4963, 'vase': 4964, 'affirmed': 4965, 'sensuous': 4966, 'makeup': 4967, 'intend': 4968, 'albeit': 4969, 'riku': 4970, 'passport': 4971, 'washroom': 4972, 'contained': 4973, 'differ': 4974, 'homeowner': 4975, 'parked': 4976, 'gape': 4977, 'landscaping': 4978, 'taunted': 4979, 'unto': 4980, 'bless': 4981, 'em': 4982, 'sliding': 4983, 'distracting': 4984, 'beneficial': 4985, 'sophisticated': 4986, 'requirement': 4987, 'infinite': 4988, 'jakun': 4989, 'lonley': 4990, 'thoroughly': 4991, 'ipod': 4992, 'synthwave': 4993, 'neds': 4994, 'atomic': 4995, 'dustbin': 4996, 'posy': 4997, 'pixy': 4998, 'springhouse': 4999, 'morrissey': 5000, 'fragment': 5001, 'disappear': 5002, 'baggage': 5003, 'offspring': 5004, 'docile': 5005, 'pee': 5006, 'poking': 5007, 'stimulation': 5008, 'pursuits': 5009, 'brach': 5010, 'chipmunk': 5011, 'crossed': 5012, 'horseback': 5013, 'undercurrent': 5014, 'unk': 5015, 'fixture': 5016, 'longevity': 5017, 'speculation': 5018, 'yo': 5019, 'bald': 5020, 'familiar': 5021, 'chemical': 5022, 'disease': 5023, 'prince': 5024, 'gulam': 5025, 'ali': 5026, 'contemporary': 5027, 'classical': 5028, 'stretching': 5029, 'vent': 5030, 'outrageously': 5031, 'tourette': 5032, 'unpredictability': 5033, 'carnage': 5034, 'athletic': 5035, 'joked': 5036, 'undressing': 5037, 'garment': 5038, 'cheaply': 5039, 'forty': 5040, 'dinosaur': 5041, 'soldier': 5042, 'aged': 5043, 'analyzing': 5044, 'weaker': 5045, 'memoir': 5046, 'qualify': 5047, 'privately': 5048, 'decidedly': 5049, 'bitterness': 5050, 'seam': 5051, 'detracted': 5052, 'mouthfeel': 5053, 'randythomas': 5054, 'guinness': 5055, 'rooster': 5056, 'bull': 5057, 'shark': 5058, 'ranch': 5059, 'snapping': 5060, 'cynical': 5061, 'realizes': 5062, 'xelliealicex': 5063, 'existing': 5064, 'disrupt': 5065, 'grieve': 5066, 'component': 5067, 'slipping': 5068, 'reassurance': 5069, 'karate': 5070, 'chop': 5071, 'abdomen': 5072, 'basis': 5073, 'scrambled': 5074, 'complicated': 5075, 'mathematics': 5076, 'worsen': 5077, 'perform': 5078, 'clutter': 5079, 'trans': 5080, 'hurtled': 5081, 'blocked': 5082, 'require': 5083, 'monogamous': 5084, 'payment': 5085, 'blair': 5086, 'coordinate': 5087, 'tibris': 5088, 'winced': 5089, 'indigo': 5090, 'pot': 5091, 'preschooler': 5092, 'seat': 5093, 'firefly': 5094, 'dwindle': 5095, 'woken': 5096, 'customary': 5097, 'siesta': 5098, 'homemaker': 5099, 'lola': 5100, 'demographic': 5101, 'asserting': 5102, 'roundly': 5103, 'ravaged': 5104, 'sheer': 5105, 'induced': 5106, 'hyphen': 5107, 'fluffing': 5108, 'detailed': 5109, 'dale': 5110, 'frusterated': 5111, 'tradition': 5112, 'storytelling': 5113, 'chaperone': 5114, 'mason': 5115, 'hole': 5116, 'adulthood': 5117, 'concieve': 5118, 'crab': 5119, 'sinus': 5120, 'bikini': 5121, 'survived': 5122, 'comprehensive': 5123, 'mount': 5124, 'ton': 5125, 'delve': 5126, 'evaluate': 5127, 'arranged': 5128, 'outing': 5129, 'harsh': 5130, 'abroad': 5131, 'embedded': 5132, 'screw': 5133, 'geology': 5134, 'map': 5135, 'spiral': 5136, 'totaled': 5137, 'bernd': 5138, 'odds': 5139, 'sportsbook': 5140, 'addison': 5141, 'reed': 5142, 'collector': 5143, 'filthy': 5144, 'beckon': 5145, 'obtained': 5146, 'perusal': 5147, 'spazzola': 5148, 'prima': 5149, 'andare': 5150, 'dormire': 5151, 'brush': 5152, 'gardener': 5153, 'boot': 5154, 'curse': 5155, 'antique': 5156, 'underwear': 5157, 'edgy': 5158, 'wrongly': 5159, 'unavoidable': 5160, 'vigorously': 5161, 'argue': 5162, 'protective': 5163, 'mona': 5164, 'hurriedly': 5165, 'stoned': 5166, 'endorphin': 5167, 'seizing': 5168, 'cal': 5169, 'internalize': 5170, 'silver': 5171, 'gyp': 5172, 'traitor': 5173, 'shack': 5174, 'weighins': 5175, 'caramel': 5176, 'syrup': 5177, 'shhh': 5178, 'cabin': 5179, 'miniscule': 5180, 'integral': 5181, 'atletico': 5182, 'sleepless': 5183, 'mold': 5184, 'sibling': 5185, 'rivalry': 5186, 'provokingbeauty': 5187, 'barfed': 5188, 'winked': 5189, 'homely': 5190, 'romance': 5191, 'irish': 5192, 'shifted': 5193, 'forth': 5194, 'excess': 5195, 'thrive': 5196, 'will': 5197, 'ordained': 5198, 'priest': 5199, 'subsequent': 5200, 'occassionally': 5201, 'rolling': 5202, 'printing': 5203, 'ginger': 5204, 'plump': 5205, 'appearanc': 5206, 'ewhich': 5207, 'movign': 5208, 'ah': 5209, 'pope': 5210, 'resign': 5211, 'gripped': 5212, 'hubby': 5213, 'inappropriate': 5214, 'ingorant': 5215, 'rubble': 5216, 'utopia': 5217, 'alternate': 5218, 'redeem': 5219, 'military': 5220, 'fron': 5221, 'eco': 5222, 'imitates': 5223, 'myself': 5224, 'understands': 5225, 'revealing': 5226, 'forgets': 5227, 'arrives': 5228, 'nate': 5229, 'brewing': 5230, 'moronic': 5231, 'serioulsy': 5232, 'xango': 5233, 'stiff': 5234, 'beta': 5235, 'edmonton': 5236, 'wainwright': 5237, 'module': 5238, 'peep': 5239, 'snidey': 5240, 'soooooooooooo': 5241, 'zero': 5242, 'biostatistics': 5243, 'physiology': 5244, 'touchy': 5245, 'couldve': 5246, 'access': 5247, 'anonymity': 5248, 'uglier': 5249, 'deformed': 5250, 'tea': 5251, 'keyboard': 5252, 'booth': 5253, 'reciting': 5254, 'memorized': 5255, 'spiel': 5256, 'mentioning': 5257, 'ashlotte': 5258, 'talim': 5259, 'steadily': 5260, 'crampy': 5261, 'flavour': 5262, 'glossy': 5263, 'elf': 5264, 'regain': 5265, 'contribution': 5266, 'unsophisticated': 5267, 'alteration': 5268, 'jon': 5269, 'advanced': 5270, 'mating': 5271, 'assessed': 5272, 'calculated': 5273, 'signal': 5274, 'standby': 5275, 'foresee': 5276, 'traffic': 5277, 'crib': 5278, 'unsafe': 5279, 'knight': 5280, 'instrumental': 5281, 'ala': 5282, 'hizaki': 5283, 'contempt': 5284, 'acquaintance': 5285, 'continuously': 5286, 'palm': 5287, 'sydney': 5288, 'coworkers': 5289, 'predict': 5290, 'startling': 5291, 'faking': 5292, 'outcasted': 5293, 'stitch': 5294, 'psychically': 5295, 'galvanised': 5296, 'wrestle': 5297, 'jerusalem': 5298, 'pipe': 5299, 'contemplated': 5300, 'flowed': 5301, 'outward': 5302, 'teasing': 5303, 'heathen': 5304, 'enjoys': 5305, 'arousing': 5306, 'delight': 5307, 'silky': 5308, 'faiting': 5309, 'puzzling': 5310, 'cyprus': 5311, 'timeline': 5312, 'visibly': 5313, 'overworked': 5314, 'harrass': 5315, 'oppressed': 5316, 'aforementioned': 5317, 'schmidt': 5318, 'stability': 5319, 'contribute': 5320, 'encompass': 5321, 'rumor': 5322, 'architecture': 5323, 'rebuild': 5324, 'youngster': 5325, 'dominated': 5326, 'microcosm': 5327, 'fertile': 5328, 'endorsed': 5329, 'littered': 5330, 'racist': 5331, 'capital': 5332, 'uttered': 5333, 'removing': 5334, 'selling': 5335, 'maryland': 5336, 'cuff': 5337, 'anklet': 5338, 'pocket': 5339, 'cruz': 5340, 'meaningful': 5341, 'square': 5342, 'caf': 5343, 'react': 5344, 'fixing': 5345, 'controversy': 5346, 'espressed': 5347, 'tweeting': 5348, 'bollywood': 5349, 'western': 5350, 'depict': 5351, 'w': 5352, 'claire': 5353, 'md': 5354, 'guidance': 5355, 'ritalin': 5356, 'flias': 5357, 'padlock': 5358, 'relevant': 5359, 'auction': 5360, 'hoo': 5361, 'roar': 5362, 'inflated': 5363, 'articulate': 5364, 'vindictive': 5365, 'battalion': 5366, 'heater': 5367, 'curled': 5368, 'muddling': 5369, 'guild': 5370, 'wot': 5371, 'suitable': 5372, 'convention': 5373, 'rmb': 5374, 'ugh': 5375, 'rearview': 5376, 'darren': 5377, 'lorena': 5378, 'fail': 5379, 'cleaned': 5380, 'mopping': 5381, 'tidying': 5382, 'sickness': 5383, 'fatigue': 5384, 'pesach': 5385, 'ethnic': 5386, 'jingly': 5387, 'idle': 5388, 'whir': 5389, 'motor': 5390, 'relived': 5391, 'truely': 5392, 'intellect': 5393, 'hands': 5394, 'aahhh': 5395, 'milestone': 5396, 'hatter': 5397, 'alice': 5398, 'dwelling': 5399, 'solo': 5400, 'choral': 5401, 'bruce': 5402, 'cramp': 5403, 'whiz': 5404, 'rumble': 5405, 'ty': 5406, 'callous': 5407, 'unfaithful': 5408, 'boiling': 5409, 'spilling': 5410, 'weasel': 5411, 'donut': 5412, 'squad': 5413, 'floundering': 5414, 'pirate': 5415, 'aesthetic': 5416, 'depends': 5417, 'echoes': 5418, 'seven': 5419, 'reaffirmed': 5420, 'inclusive': 5421, 'muslim': 5422, 'comprehend': 5423, 'lasting': 5424, 'discipline': 5425, 'trillion': 5426, 'discovery': 5427, 'digust': 5428, 'jason': 5429, 'with': 5430, 'hitting': 5431, 'rd': 5432, 'st': 5433, 'dd': 5434, 'scabbed': 5435, 'unhealed': 5436, 'selectively': 5437, 'tingling': 5438, 'someplace': 5439, 'womb': 5440, 'desired': 5441, 'puteri': 5442, 'evoking': 5443, 'jungle': 5444, 'thriller': 5445, 'pack': 5446, 'bedroom': 5447, 'admired': 5448, 'zhuo': 5449, 'pupil': 5450, 'xiao': 5451, 'grain': 5452, 'orleans': 5453, 'whim': 5454, 'strongest': 5455, 'america': 5456, 'washington': 5457, 'responded': 5458, 'listed': 5459, 'ideological': 5460, 'secure': 5461, 'pipsqueak': 5462, 'tossed': 5463, 'rag': 5464, 'overeat': 5465, 'employer': 5466, 'survey': 5467, 'moderately': 5468, 'ghost': 5469, 'themselves': 5470, 'stirred': 5471, 'am': 5472, 'stillness': 5473, 'hum': 5474, 'oomph': 5475, 'everyfuckingthing': 5476, 'passive': 5477, 'minded': 5478, 'tolerate': 5479, 'cheaper': 5480, 'eatery': 5481, 'involvement': 5482, 'spice': 5483, 'flavor': 5484, 'bioware': 5485, 'sasha': 5486, 'fierce': 5487, 'beyonc': 5488, 'celebration': 5489, 'paternal': 5490, 'sigh': 5491, 'farmer': 5492, 'blast': 5493, 'internalized': 5494, 'richard': 5495, 'linklater': 5496, 'chuffed': 5497, 'playfully': 5498, 'jogger': 5499, 'outsprinted': 5500, 'spain': 5501, 'varied': 5502, 'whitley': 5503, 'premonition': 5504, 'dewi': 5505, 'lestari': 5506, 'script': 5507, 'address': 5508, 'implement': 5509, 'organizational': 5510, 'tip': 5511, 'intensity': 5512, 'masochist': 5513, 'janine': 5514, 'appears': 5515, 'ringing': 5516, 'runner': 5517, 'flame': 5518, 'singed': 5519, 'frail': 5520, 'foul': 5521, 'concoction': 5522, 'burnt': 5523, 'flesh': 5524, 'paying': 5525, 'criticized': 5526, 'undeservedly': 5527, 'harmed': 5528, 'boredom': 5529, 'buzz': 5530, 'forming': 5531, 'raped': 5532, 'significant': 5533, 'locked': 5534, 'dutch': 5535, 'inevitable': 5536, 'german': 5537, 'treachery': 5538, 'jerome': 5539, 'darn': 5540, 'undergoing': 5541, 'ima': 5542, 'colored': 5543, 'bee': 5544, 'pollen': 5545, 'increased': 5546, 'barometric': 5547, 'kilter': 5548, 'graceful': 5549, 'do': 5550, 'ingrained': 5551, 'flaw': 5552, 'lloyd': 5553, 'grossman': 5554, 'ditched': 5555, 'jene': 5556, 'henderson': 5557, 'braved': 5558, 'seoul': 5559, 'geremiafamily': 5560, 'maladaptive': 5561, 'trembling': 5562, 'unlikely': 5563, 'indication': 5564, 'l': 5565, 'fifth': 5566, 'belt': 5567, 'tightened': 5568, 'federal': 5569, 'eradication': 5570, 'volunteered': 5571, 'companionship': 5572, 'sweetener': 5573, 'refined': 5574, 'measuring': 5575, 'tracking': 5576, 'unfocused': 5577, 'establishing': 5578, 'preference': 5579, 'gender': 5580, 'mia': 5581, 'grieving': 5582, 'fewer': 5583, 'profile': 5584, 'shocking': 5585, 'okc': 5586, 'eharmony': 5587, 'ups': 5588, 'advantage': 5589, 'variant': 5590, 'bombed': 5591, 'longest': 5592, 'kai': 5593, 'principle': 5594, 'highest': 5595, 'fb': 5596, 'screen': 5597, 'execute': 5598, 'trick': 5599, 'dishwasher': 5600, 'hearted': 5601, 'desert': 5602, 'heated': 5603, 'spouse': 5604, 'concerning': 5605, 'influential': 5606, 'nailed': 5607, 'googler': 5608, 'rough': 5609, '2016': 5610, 'uh': 5611, 'pulled': 5612, 'stump': 5613, 'droppings': 5614, 'healthier': 5615, 'flooding': 5616, '2009': 5617, 'imaginary': 5618, 'deny': 5619, 'smoker': 5620, 'espresso': 5621, 'engage': 5622, 'persist': 5623, 'sa': 5624, 'wa': 5625, 'earthly': 5626, 'thirsty': 5627, 'processed': 5628, 'formerly': 5629, 'ting': 5630, 'tranquil': 5631, 'lease': 5632, 'lawful': 5633, 'coz': 5634, 'backstabber': 5635, 'testing': 5636, 'accusation': 5637, 'alarming': 5638, 'affair': 5639, 'algebra': 5640, 'overhearing': 5641, 'trigonometry': 5642, 'tutor': 5643, 'tutee': 5644, 'calmed': 5645, 'xd': 5646, 'rudely': 5647, 'tempered': 5648, 'beam': 5649, 'metre': 5650, 'relates': 5651, 'workplace': 5652, 'masala': 5653, 'entertainer': 5654, 'offend': 5655, 'aubrey': 5656, 'baptism': 5657, 'antagonism': 5658, 'misunderstanding': 5659, 'wholeheartedly': 5660, 'armistice': 5661, 'centenary': 5662, 'lounge': 5663, 'diet': 5664, 'sluggish': 5665, 'cooky': 5666, 'salvaging': 5667, 'sebastian': 5668, 'owe': 5669, 'sooooo': 5670, 'survival': 5671, 'chanting': 5672, 'reverberate': 5673, 'shown': 5674, 'demonstrated': 5675, 'indulge': 5676, 'triggering': 5677, 'scream': 5678, 'worldwide': 5679, 'shyness': 5680, 'aloof': 5681, 'ample': 5682, 'getin': 5683, 'bank': 5684, 'account': 5685, 'tryin': 5686, 'gud': 5687, 'pal': 5688, 'understad': 5689, 'abt': 5690, 'problemn': 5691, 'carin': 5692, 'rte': 5693, 'theoretically': 5694, 'nonetheless': 5695, 'greater': 5696, 'dazzled': 5697, 'comradeship': 5698, 'exile': 5699, 'inhospitable': 5700, 'casper': 5701, 'claus': 5702, 'loot': 5703, 'growled': 5704, '1997': 5705, 'stature': 5706, 'lauren': 5707, 'strengthen': 5708, 'diva': 5709, 'division': 5710, 'wrestler': 5711, 'teammate': 5712, 'shiva': 5713, 'scientist': 5714, 'admiring': 5715, 'on': 5716, 'continuity': 5717, 'winning': 5718, 'suspected': 5719, 'stagnate': 5720, 'criminal': 5721, 'enacting': 5722, 'arrogance': 5723, 'favor': 5724, 'clarify': 5725, 'popped': 5726, 'urging': 5727, 'obligatory': 5728, 'impulsive': 5729, 'bhubaneswar': 5730, 'orissa': 5731, 'reproduce': 5732, 'treatment': 5733, 'fog': 5734, 'focalors': 5735, 'sigil': 5736, 'opium': 5737, 'grabbing': 5738, 'wooden': 5739, 'meditated': 5740, '25': 5741, 'ongoing': 5742, 'oxford': 5743, 'segregated': 5744, 'jake': 5745, 'breeding': 5746, 'piddi': 5747, 'chamber': 5748, 'antm': 5749, 'proudest': 5750, 'accommodate': 5751, 'jehovah': 5752, 'dryer': 5753, 'logistics': 5754, 'magical': 5755, 'woop': 5756, 'vey': 5757, 'oncology': 5758, 'dpt': 5759, 'paranoiud': 5760, 'genetic': 5761, 'incision': 5762, 'woe': 5763, 'enraged': 5764, 'punch': 5765, 'gervase': 5766, 'piped': 5767, 'shaking': 5768, 'pajama': 5769, 'jeremy': 5770, 'murua': 5771, 'ti': 5772, 'grill': 5773, 'definition': 5774, 'widely': 5775, 'rented': 5776, 'unexpectedly': 5777, 'ab': 5778, 'disrespected': 5779, 'priestess': 5780, 'ven': 5781, 'talia': 5782, 'loses': 5783, 'dreamed': 5784, 'council': 5785, 'genuine': 5786, 'vaster': 5787, 'achievement': 5788, 'scraped': 5789, 'nook': 5790, 'cranny': 5791, 'oyster': 5792, 'juicy': 5793, 'morsel': 5794, 'spends': 5795, 'approach': 5796, 'empathize': 5797, 'capacity': 5798, 'impatience': 5799, 'determining': 5800, 'gp': 5801, 'rested': 5802, 'paralysed': 5803, 'shuts': 5804, 'snoring': 5805, 'dreamland': 5806, 'prey': 5807, 'tattered': 5808, 'drowning': 5809, 'rattle': 5810, 'gust': 5811, 'knock': 5812, 'taker': 5813, 'confirm': 5814, 'contract': 5815, 'tsunami': 5816, 'cordial': 5817, 'nostalgia': 5818, 'exemplified': 5819, 'unforgettable': 5820, 'narrowly': 5821, 'king': 5822, 'temporarily': 5823, 'oxygen': 5824, 'machine': 5825, 'intoxicating': 5826, 'impractical': 5827, 'revealed': 5828, 'socializing': 5829, 'swallow': 5830, 'finalized': 5831, 'whined': 5832, 'depressing': 5833, 'unrewarding': 5834, 'enthusiastically': 5835, 'joking': 5836, 'sublime': 5837, 'thou': 5838, 'expressed': 5839, 'liberation': 5840, 'paint': 5841, 'warhound': 5842, 'fieldi': 5843, 'wax': 5844, 'unibrow': 5845, 'spare': 5846, 'softly': 5847, 'eyelid': 5848, 'stream': 5849, 'cholesterol': 5850, 'turnout': 5851, 'traction': 5852, 'named': 5853, 'denise': 5854, 'eepctqlhiafjwnrrmas': 5855, 'quota': 5856, 'brimming': 5857, 'eviction': 5858, 'overdue': 5859, 'practicing': 5860, 'department': 5861, 'spine': 5862, 'bet': 5863, 'shameless': 5864, 'lad': 5865, 'hottest': 5866, 'fist': 5867, 'lemon': 5868, 'purchased': 5869, 'warehouse': 5870, 'obrian': 5871, 'characterisation': 5872, 'evidenced': 5873, 'characters': 5874, 'extend': 5875, 'client': 5876, 'bundle': 5877, 'function': 5878, 'plummeting': 5879, 'tot': 5880, 'stats': 5881, 'staunch': 5882, 'proponent': 5883, 'england': 5884, 'searching': 5885, 'ipad': 5886, 'authority': 5887, 'marlin': 5888, 'halloween': 5889, 'december': 5890, 'grandchild': 5891, 'definately': 5892, 'wotcs': 5893, 'swag': 5894, 'possessive': 5895, 'ptsd': 5896, 'territory': 5897, 'weirdo': 5898, 'backwards': 5899, 'application': 5900, 'desktop': 5901, 'netflix': 5902, 'deprivation': 5903, 'emma': 5904, 'benjamin': 5905, 'executed': 5906, 'topping': 5907, 'actauly': 5908, 'fitting': 5909, 'wardrobe': 5910, 'nervousness': 5911, 'lurk': 5912, 'theo': 5913, 'eli': 5914, 'embedding': 5915, '1972': 5916, 'killed': 5917, '1987': 5918, 'bouncier': 5919, 'bastard': 5920, 'rapist': 5921, 'rigorously': 5922, 'hanged': 5923, 'blatant': 5924, 'defiance': 5925, 'olivias': 5926, 'riled': 5927, 'unsheathe': 5928, 'photograph': 5929, 'scramble': 5930, 'meticulously': 5931, 'evil': 5932, 'ibs': 5933, 'bowel': 5934, 'reducing': 5935, 'circus': 5936, 'underpants': 5937, 'tighter': 5938, 'remains': 5939, 'lottery': 5940, 'blend': 5941, 'planned': 5942, 'legal': 5943, 'corrupting': 5944, 'recalling': 5945, 'attic': 5946, 'distanced': 5947, 'subtly': 5948, 'shh': 5949, 'bah': 5950, 'wasting': 5951, 'trite': 5952, 'dunno': 5953, 'warmly': 5954, 'opera': 5955, 'commonly': 5956, 'cohesive': 5957, 'arist': 5958, 'michelle': 5959, 'italian': 5960, 'chicago': 5961, 'searched': 5962, 'swore': 5963, 'blubbering': 5964, 'trapped': 5965, 'rocking': 5966, 'fascinated': 5967, 'bake': 5968, 'clenching': 5969, 'hachi': 5970, 'nobu': 5971, 'ash': 5972, 'illusion': 5973, 'reverse': 5974, 'motivation': 5975, 'annotation': 5976, 'thequeenbuzz': 5977, 'batting': 5978, 'approaching': 5979, 'caveman': 5980, 'forsaken': 5981, 'includes': 5982, 'increasing': 5983, 'lecture': 5984, 'anticipated': 5985, 'erratic': 5986, 'swoon': 5987, 'jot': 5988, 'hussein': 5989, 'thug': 5990, 'administration': 5991, 'browsing': 5992, 'net': 5993, 'ant': 5994, 'interrupt': 5995, 'waft': 5996, 'charred': 5997, 'lathi': 5998, 'camp': 5999, 'sterile': 6000, 'remarkable': 6001, 'ironic': 6002, 'mature': 6003, 'tenderness': 6004, 'taiwan': 6005, 'communist': 6006, 'predictable': 6007, 'athlete': 6008, 'adrenaline': 6009, 'releasing': 6010, 'appeared': 6011, 'noticed': 6012, 'awoke': 6013, 'shrugged': 6014, 'educational': 6015, 'prefer': 6016, 'situations': 6017, 'philosophical': 6018, 'strike': 6019, 'applied': 6020, 'profound': 6021, 'ser': 6022, 'empowering': 6023, 'india': 6024, 'cynicism': 6025, 'clubbed': 6026, 'dose': 6027, 'frivolous': 6028, '2002': 6029, 'christchurch': 6030, 'milligram': 6031, 'recommended': 6032, 'fallen': 6033, 'poem': 6034, 'occupied': 6035, 'attend': 6036, 'freshman': 6037, 'lipstick': 6038, 'absurd': 6039, 'countertop': 6040, 'emerges': 6041, 'purely': 6042, 'marks': 6043, 'formed': 6044, 'audio': 6045, 'martin': 6046, 'irving': 6047, 'brazil': 6048, 'upper': 6049, 'herpes': 6050, 'checkup': 6051, 'heaviness': 6052, 'intervene': 6053, 'prove': 6054, 'taylor': 6055, 'fixable': 6056, 'guilted': 6057, 'massive': 6058, 'pointing': 6059, 'waving': 6060, 'cheated': 6061, 'outcast': 6062, 'shifting': 6063, 'delivered': 6064, 'knot': 6065, 'drain': 6066, 'carbohydrate': 6067, 'expand': 6068, 'waistline': 6069, 'sixth': 6070, 'motif': 6071, 'underlying': 6072, 'inbalance': 6073, 'committment': 6074, 'counselling': 6075, 'reconciliation': 6076, 'twist': 6077, 'moffat': 6078, 'foreshadowing': 6079, 'suspense': 6080, 'alton': 6081, 'tower': 6082, 'flew': 6083, 'downward': 6084, 'rollercoaster': 6085, 'beak': 6086, 'spoke': 6087, 'reported': 6088, 'dissassociated': 6089, 'jane': 6090, 'eyre': 6091, 'bigged': 6092, 'heap': 6093, 'msg': 6094, 'prologue': 6095, 'completed': 6096, 'mammal': 6097, 'destined': 6098, 'accompaniment': 6099, 'cx': 6100, 'adam': 6101, 'coped': 6102, 'wrung': 6103, 'competition': 6104, 'possessing': 6105, 'superfluous': 6106, 'jenn': 6107, 'elaine': 6108, 'denis': 6109, 'dave': 6110, 'proliferation': 6111, 'agency': 6112, 'illegitimate': 6113, 'dichotomy': 6114, 'crucial': 6115, 'overjoyed': 6116, 'thrill': 6117, 'kissed': 6118, 'proffer': 6119, 'dang': 6120, 'hen': 6121, 'brilliance': 6122, 'frozen': 6123, 'crol': 6124, 'tl': 6125, 'secondary': 6126, 'billion': 6127, 'denounced': 6128, 'grotesque': 6129, 'unrealistic': 6130, 'brutality': 6131, 'nightmare': 6132, 'speed': 6133, 'ia': 6134, 'in': 6135, 'stubbornly': 6136, 'september': 6137, 'aftermath': 6138, 'genre': 6139, 'pt': 6140, 'lp': 6141, 'fm': 6142, 'hurried': 6143, 'frayed': 6144, 'mindful': 6145, 'absence': 6146, 'julie': 6147, 'kremlin': 6148, 'bomber': 6149, 'chechen': 6150, 'cia': 6151, 'saudi': 6152, 'trained': 6153, 'afghan': 6154, 'mujahedin': 6155, 'patio': 6156, 'storming': 6157, 'flush': 6158, 'household': 6159, 'slumber': 6160, 'convoluted': 6161, 'exhausting': 6162, 'skdd': 6163, 'trash': 6164, 'bin': 6165, 'sought': 6166, 'poignantly': 6167, 'oliver': 6168, 'caleb': 6169, 'comus': 6170, 'inn': 6171, 'verging': 6172, 'menstrual': 6173, 'buddhist': 6174, 'ajahn': 6175, 'brahmavamso': 6176, 'mani': 6177, 'guru': 6178, 'acquired': 6179, 'vibrant': 6180, 'fourth': 6181, 'informing': 6182, 'wire': 6183, 'malacca': 6184, 'hostel': 6185, 'measure': 6186, 'defining': 6187, 'newest': 6188, 'bam': 6189, 'valorized': 6190, 'argued': 6191, 'phoenix': 6192, 'slapping': 6193, 'boil': 6194, 'flare': 6195, 'papamoka': 6196, 'update': 6197, 'region': 6198, 'ardent': 6199, 'justice': 6200, 'served': 6201, 'persevered': 6202, 'yell': 6203, 'scored': 6204, 'conflicting': 6205, 'gush': 6206, 'version': 6207, 'velocity': 6208, 'gained': 6209, 'flashlight': 6210, 'ashers': 6211, 'contemplating': 6212, 'existance': 6213, 'sport': 6214, 'debt': 6215, 'biscuit': 6216, 'squeek': 6217, 'grossed': 6218, 'steal': 6219, 'acknowledge': 6220, 'conflict': 6221, 'tournament': 6222, 'deck': 6223, 'zendikar': 6224, 'rotates': 6225, 'kay': 6226, 'sunrise': 6227, 'retarted': 6228, 'sight': 6229, 'interrupting': 6230, 'hotest': 6231, 'excotick': 6232, 'beaty': 6233, 'waist': 6234, 'yummyy': 6235, 'deisire': 6236, 'enjoin': 6237, 'slanted': 6238, 'adequately': 6239, 'medicated': 6240, 'sympathise': 6241, 'bernard': 6242, 'centered': 6243, 'evolve': 6244, 'skirt': 6245, 'soooooooo': 6246, 'grave': 6247, 'philippe': 6248, 'playroom': 6249, 'bombsite': 6250, 'conservatory': 6251, 'escaping': 6252, 'hellip': 6253, 'been': 6254, 'wealth': 6255, 'greek': 6256, 'soothed': 6257, 'stimulated': 6258, 'glorious': 6259, 'alhamdulillah': 6260, 'disregard': 6261, 'turkey': 6262, 'exboyfriend': 6263, 'shout': 6264, 'fifty': 6265, 'midnight': 6266, 'visited': 6267, 'dedicated': 6268, 'luminary': 6269, 'humility': 6270, 'nosy': 6271, 'peice': 6272, 'checked': 6273, 'dorm': 6274, 'inspected': 6275, 'slate': 6276, 'unilaterally': 6277, 'carelessness': 6278, 'perceived': 6279, 'blocking': 6280, 'passionately': 6281, 'knitter': 6282, 'scad': 6283, 'lovey': 6284, 'dovey': 6285, 'fitch': 6286, 'magnitude': 6287, 'easygoing': 6288, 'demo': 6289, 'rammstein': 6290, 'unbearably': 6291, 'crushingly': 6292, 'creativeliar': 6293, 'franchise': 6294, 'valley': 6295, 'yknow': 6296, 'walmart': 6297, 'maceys': 6298, 'consumer': 6299, 'frank': 6300, '20': 6301, 'adsense': 6302, 'affiliate': 6303, 'success': 6304, 'prick': 6305, 'dreaming': 6306, 'paused': 6307, 'dramatically': 6308, 'que': 6309, 'similarity': 6310, '‚': 6311, 'commuter': 6312, 'reliable': 6313, 'gifting': 6314, 'subscription': 6315, 'zeno': 6316, 'attempting': 6317, 'kleinkinders': 6318, 'violated': 6319, 'acute': 6320, 'angrily': 6321, 'saloon': 6322, 'haircut': 6323, 'h': 6324, '1967': 6325, 'damp': 6326, 'harper': 6327, 'pregant': 6328, 'affirmation': 6329, 'ian': 6330, 'bully': 6331, 'youd': 6332, 'coloring': 6333, 'lj': 6334, 'suspicion': 6335, 'iming': 6336, 'pleading': 6337, 'island': 6338, 'quantity': 6339, 'cucumber': 6340, 'unfurling': 6341, 'sarcoidosis': 6342, 'terrifying': 6343, 'proved': 6344, 'prescribed': 6345, 'indie': 6346, 'organisation': 6347, 'disagree': 6348, 'definite': 6349, 'demostrators': 6350, 'transform': 6351, 'ticket': 6352, 'submission': 6353, 'zem': 6354, 'slink': 6355, 'forbidden': 6356, 'unsuccessfully': 6357, 'percieve': 6358, 'booked': 6359, 'flight': 6360, 'burbank': 6361, 'empowered': 6362, 'invested': 6363, 'dresden': 6364, 'marred': 6365, 'considerably': 6366, 'prose': 6367, 'zooming': 6368, 'trinity': 6369, 'whinging': 6370, 'behavioral': 6371, 'underrated': 6372, 'discussed': 6373, 'diabetes': 6374, 'clinical': 6375, 'prescription': 6376, 'rigid': 6377, 'abstinence': 6378, 'eighty': 6379, 'listened': 6380, 'specialist': 6381, 'anna': 6382, 'iya': 6383, 'erik': 6384, 'giggle': 6385, 'tilted': 6386, 'epidural': 6387, 'determine': 6388, 'emptiness': 6389, 'apostrophe': 6390, 'pairing': 6391, 'dangerously': 6392, 'ie': 6393, 'cooler': 6394, 'pillow': 6395, 'yelling': 6396, 'posse': 6397, 'practise': 6398, 'nursery': 6399, 'slope': 6400, 'radiant': 6401, 'shimmer': 6402, 'glittery': 6403, 'sickening': 6404, 'songy': 6405, 'chris': 6406, 'seattle': 6407, 'showcase': 6408, 'barker': 6409, 'backing': 6410, 'relying': 6411, 'sipping': 6412, 'pear': 6413, 'blueberry': 6414, 'examining': 6415, 'constructively': 6416, 'sympathizing': 6417, 'ed': 6418, 'demon': 6419, 'dropping': 6420, 'congregated': 6421, 'rhinebeck': 6422, 'julia': 6423, 'incorporated': 6424, 'smothered': 6425, 'resent': 6426, 'rebel': 6427, 'sympathize': 6428, 'rescuing': 6429, 'prematurely': 6430, 'roughly': 6431, 'length': 6432, 'stinking': 6433, 'drill': 6434, 'partially': 6435, 'crunch': 6436, 'looming': 6437, 'deadline': 6438, 'airport': 6439, 'locker': 6440, 'witnessing': 6441, 'dm': 6442, 'dignity': 6443, 'glance': 6444, 'lacked': 6445, 'humorous': 6446, 'instructor': 6447, 'oldest': 6448, 'outdoor': 6449, 'assortment': 6450, 'uncertainty': 6451, 'concise': 6452, 'singular': 6453, 'starring': 6454, 'loquacious': 6455, 'cow': 6456, 'dung': 6457, 'marry': 6458, 'grievance': 6459, 'haunting': 6460, 'recording': 6461, 'victorian': 6462, 'niece': 6463, 'woah': 6464, 'acquaint': 6465, 'jewelry': 6466, 'frugal': 6467, 'antic': 6468, 'improv': 6469, 'quiz': 6470, 'offered': 6471, 'staffed': 6472, 'wistful': 6473, 'soaking': 6474, 'remorse': 6475, 'maniacal': 6476, 'omangy': 6477, 'crumbling': 6478, 'taryn': 6479, 'jumping': 6480, 'tether': 6481, 'collaborator': 6482, 'beverage': 6483, 'bulk': 6484, 'flub': 6485, 'verge': 6486, 'weariness': 6487, 'tenderly': 6488, 'clubbing': 6489, 'titled': 6490, '101': 6491, 'sasuke': 6492, 'fatally': 6493, 'injured': 6494, 'soap': 6495, 'ew': 6496, 'implies': 6497, 'cell': 6498, '1996': 6499, 'divisional': 6500, 'heading': 6501, 'mlb': 6502, 'bandaid': 6503, 'cub': 6504, 'youngest': 6505, 'ruach': 6506, 'hakodesh': 6507, 'butter': 6508, 'zach': 6509, 'maria': 6510, 'alex': 6511, 'bobby': 6512, 'guardian': 6513, 'contest': 6514, 'grabbed': 6515, 'indiscriminately': 6516, 'permanently': 6517, 'mend': 6518, 'adjoining': 6519, 'cubicle': 6520, 'outsize': 6521, 'mac': 6522, 'sou': 6523, 'wester': 6524, 'dangled': 6525, 'wellies': 6526, 'gulity': 6527, 'cheating': 6528, 'entertained': 6529, 'publishing': 6530, 'josh': 6531, 'dreamworld': 6532, 'hiring': 6533, 'transcends': 6534, 'gorgeously': 6535, 'cinematic': 6536, 'apologise': 6537, 'consideration': 6538, 'subscriber': 6539, 'fade': 6540, 'hairstyle': 6541, 'droop': 6542, 'frizz': 6543, 'math': 6544, 'tuition': 6545, 'sanitiation': 6546, 'snoozel': 6547, 'uggs': 6548, 'bandwagon': 6549, 'rider': 6550, 'unaware': 6551, 'infected': 6552, 'spit': 6553, 'lebanese': 6554, 'prosecution': 6555, 'mongering': 6556, 'elashis': 6557, 'noor': 6558, 'courthouse': 6559, 'structure': 6560, 'overdo': 6561, 'panorma': 6562, 'northern': 6563, 'indonesia': 6564, 'about': 6565, 'committed': 6566, 'unintentionally': 6567, 'wealthy': 6568, 'overwhelmingly': 6569, 'bladder': 6570, 'advocate': 6571, 'adoring': 6572, 'sucker': 6573, 'overhead': 6574, 'strictly': 6575, 'isolating': 6576, 'typed': 6577, 'committee': 6578, 'reground': 6579, 'hug': 6580, 'sleek': 6581, 'smoother': 6582, 'blaster': 6583, 'nicer': 6584, 'developing': 6585, 'dir': 6586, 'ltr': 6587, 'henypire': 6588, 'san': 6589, 'vicente': 6590, 'confusing': 6591, 'iteration': 6592, 'alway': 6593, 'elusively': 6594, 'dubai': 6595, 'jared': 6596, 'pitocin': 6597, 'piling': 6598, 'perceives': 6599, 'swaddled': 6600, 'wrapping': 6601, 'bonka': 6602, 'neva': 6603, 'fa': 6604, 'press': 6605, 'quarrel': 6606, 'faintly': 6607, 'twisted': 6608, 'tutorial': 6609, 'milling': 6610, 'rose': 6611, 'petal': 6612, 'researched': 6613, 'youtube': 6614, 'clown': 6615, 'arc': 6616, 'gwen': 6617, 'stacey': 6618, 'ruin': 6619, 'cognize': 6620, 'disregarding': 6621, 'cosmos': 6622, 'years': 6623, 'consciously': 6624, 'playwright': 6625, 'robert': 6626, 'reid': 6627, 'loosing': 6628, 'quicker': 6629, 'organizing': 6630, 'gathering': 6631, 'retain': 6632, 'boost': 6633, 'refocus': 6634, 'stressing': 6635, 'smooch': 6636, 'bullshit': 6637, 'psych': 6638, 'defined': 6639, 'placed': 6640, 'premature': 6641, 'graying': 6642, 'musing': 6643, 'scrubbed': 6644, 'slum': 6645, 'huddled': 6646, 'register': 6647, 'jillian': 6648, 'hosting': 6649, 'northwestern': 6650, 'dominate': 6651, 'believer': 6652, 'duckling': 6653, 'obama': 6654, 'supporter': 6655, 'twinge': 6656, 'humble': 6657, 'presidency': 6658, 'rut': 6659, 'sodium': 6660, 'morbid': 6661, 'negotiating': 6662, 'cherish': 6663, 'temporary': 6664, 'asset': 6665, 'bogged': 6666, 'calf': 6667, 'tire': 6668, 'ripe': 6669, '″': 6670, 'aggressively': 6671, 'follower': 6672, 'calmer': 6673, 'ominous': 6674, 'renaissance': 6675, 'baroque': 6676, 'jamie': 6677, 'inanimate': 6678, 'options': 6679, 'flutter': 6680, 'functional': 6681, 'java': 6682, 'python': 6683, 'tested': 6684, 'proven': 6685, 'emerging': 6686, 'haskell': 6687, 'months': 6688, 'heartbeat': 6689, 'hacking': 6690, 'inviting': 6691, 'tae': 6692, 'gradual': 6693, 'arvo': 6694, 'worldly': 6695, 'irc': 6696, 'mi': 6697, 'uplifted': 6698, 'martinez': 6699, 'association': 6700, 'occupy': 6701, 'firstly': 6702, 'uncharted': 6703, 'maturity': 6704, 'aka': 6705, 'midlife': 6706, 'crisis': 6707, 'tracy': 6708, 'anderson': 6709, 'haired': 6710, '2d': 6711, 'pokemon': 6712, 'requesting': 6713, 'liza': 6714, 'marilyn': 6715, 'veggie': 6716, 'conversing': 6717, 'gigantic': 6718, 'vessel': 6719, 'marvel': 6720, 'ged': 6721, 'underground': 6722, 'hometown': 6723, 'sweater': 6724, 'europe': 6725, 'bowl': 6726, 'apathy': 6727, 'exploring': 6728, 'thoughts': 6729, 'drafting': 6730, 'filling': 6731, 'enlist': 6732, 'accomplishing': 6733, 'erotic': 6734, 'neighbor': 6735, 'resonate': 6736, 'complication': 6737, 'electronic': 6738, 'literature': 6739, 'cited': 6740, 'scarce': 6741, 'johnson': 6742, 'smoke': 6743, 'cent': 6744, 'ratbagx': 6745, 'hb': 6746, 'traumatised': 6747, 'pestilence': 6748, 'convenience': 6749, 'starvation': 6750, 'directed': 6751, 'decluttering': 6752, 'yarn': 6753, 'busting': 6754, 'bonus': 6755, 'members': 6756, 'pi': 6757, 'ata': 6758, 'spewing': 6759, 'elect': 6760, 'worn': 6761, 'rugby': 6762, 'prep': 6763, 'peacefulness': 6764, 'speaks': 6765, 'outsourcing': 6766, 'picky': 6767, 'sod': 6768, 'outsource': 6769, 'howard': 6770, 'weekday': 6771, 'proclaimed': 6772, 'swollen': 6773, 'imagebox': 6774, 'dinn': 6775, 'skip': 6776, 'limbo': 6777, 'feauture': 6778, 'feautures': 6779, 'selena': 6780, 'reasoning': 6781, 'lull': 6782, 'asa': 6783, 'obssessed': 6784, 'embarrassing': 6785, 'vest': 6786, 'cellulite': 6787, 'exiting': 6788, 'helplessness': 6789, 'lawn': 6790, 'bouncy': 6791, 'fluttering': 6792, 'arriving': 6793, 'exhilarating': 6794, 'scenery': 6795, 'ini': 6796, 'occult': 6797, 'bezos': 6798, 'presumably': 6799, 'reporter': 6800, 'cardiovascular': 6801, 'awkwardness': 6802, 'pollution': 6803, 'dew': 6804, 'moisturising': 6805, 'luxurious': 6806, 'delicately': 6807, 'saddest': 6808, 'surviving': 6809, 'planet': 6810, 'columbia': 6811, 'handedly': 6812, 'industry': 6813, 'banjo': 6814, 'molly': 6815, 'prefers': 6816, 'katy': 6817, 'perry': 6818, 'purrrr': 6819, 'thin': 6820, 'shaving': 6821, 'marvellous': 6822, 'progressively': 6823, 'voiced': 6824, 'motivating': 6825, 'supernatural': 6826, 'thrown': 6827, 'towel': 6828, 'sinfully': 6829, 'communing': 6830, 'valbuena': 6831, 'diaby': 6832, 'overhaul': 6833, 'motionless': 6834, 'absently': 6835, 'predicted': 6836, 'angle': 6837, 'gallows': 6838, 'excelent': 6839, 'anime': 6840, 'nouveau': 6841, 'gamer': 6842, 'delilahlwl': 6843, 'raping': 6844, 'pet': 6845, 'reversed': 6846, 'astonishment': 6847, 'granny': 6848, 'stated': 6849, 'pediatrician': 6850, 'soak': 6851, 'robust': 6852, 'professionalism': 6853, 'specification': 6854, 'maintenance': 6855, 'wonderland': 6856, 'classy': 6857, 'redesign': 6858, 'spritzer': 6859, 'nagalene': 6860, 'wifi': 6861, 'stellarium': 6862}\n",
      "Sequence 1: [1, 798, 104, 470, 256, 406, 82, 40, 233, 470]\n",
      "Sequence 2: [59, 46, 15, 2, 48, 2783, 935, 751]\n",
      "Sequence 3: [1801, 2784, 141, 177, 149, 240, 2197, 2198, 38, 182, 38, 16, 1, 2, 698]\n",
      "Sequence 4: [171, 1, 245, 407, 149, 699]\n",
      "Sequence 5: [63, 1, 3, 174, 5, 246, 2785, 69, 276, 936, 19]\n",
      "Sequence 6: [357, 1802, 2, 122]\n",
      "Sequence 7: [334, 25, 172, 294, 156, 2, 3, 2786, 78, 6, 2787, 75, 2788, 26, 80, 387, 76, 161, 161]\n",
      "Sequence 8: [4, 88, 2, 335, 200, 493, 37]\n",
      "Sequence 9: [10, 2, 34, 13, 11, 344, 388, 162, 345, 1020, 75, 2789, 2790, 183, 652, 119, 4491, 357, 511]\n",
      "Sequence 10: [3, 594, 316, 1021, 2791, 3, 4492, 617, 1358, 128, 3, 10, 1223, 14, 1, 49, 3]\n"
     ]
    }
   ],
   "source": [
    "# Tokenize the text data\n",
    "\n",
    "max_words = 10000\n",
    "tokenizer = Tokenizer(num_words=max_words)\n",
    "tokenizer.fit_on_texts(X_train.astype(str))\n",
    "\n",
    "X_train_seq = tokenizer.texts_to_sequences(X_train.astype(str))\n",
    "X_val_seq = tokenizer.texts_to_sequences(X_val.astype(str))\n",
    "X_test_seq = tokenizer.texts_to_sequences(X_test.astype(str))\n",
    "\n",
    "\n",
    "vocab_size = len(tokenizer.word_index) + 1\n",
    "print(vocab_size)\n",
    "print(tokenizer.word_index)\n",
    "\n",
    "for i in range (10):\n",
    "    print(f\"Sequence {i + 1}: {X_train_seq[i]}\")\n"
   ]
  },
  {
   "cell_type": "code",
   "execution_count": 110,
   "metadata": {},
   "outputs": [
    {
     "name": "stdout",
     "output_type": "stream",
     "text": [
      "Sequence1: [  1 798 104 470 256 406  82  40 233 470   0   0   0   0   0   0   0   0\n",
      "   0   0   0   0   0   0   0   0   0   0   0   0   0   0   0   0   0   0\n",
      "   0   0   0   0   0   0   0   0   0   0   0   0   0   0   0   0   0   0\n",
      "   0   0   0   0   0   0   0   0   0   0   0   0   0   0   0   0   0   0\n",
      "   0   0   0   0   0   0   0   0   0   0   0   0   0   0   0   0   0   0\n",
      "   0   0   0   0   0   0   0   0   0   0]\n",
      "Sequence2: [  59   46   15    2   48 2783  935  751    0    0    0    0    0    0\n",
      "    0    0    0    0    0    0    0    0    0    0    0    0    0    0\n",
      "    0    0    0    0    0    0    0    0    0    0    0    0    0    0\n",
      "    0    0    0    0    0    0    0    0    0    0    0    0    0    0\n",
      "    0    0    0    0    0    0    0    0    0    0    0    0    0    0\n",
      "    0    0    0    0    0    0    0    0    0    0    0    0    0    0\n",
      "    0    0    0    0    0    0    0    0    0    0    0    0    0    0\n",
      "    0    0]\n",
      "Sequence3: [1801 2784  141  177  149  240 2197 2198   38  182   38   16    1    2\n",
      "  698    0    0    0    0    0    0    0    0    0    0    0    0    0\n",
      "    0    0    0    0    0    0    0    0    0    0    0    0    0    0\n",
      "    0    0    0    0    0    0    0    0    0    0    0    0    0    0\n",
      "    0    0    0    0    0    0    0    0    0    0    0    0    0    0\n",
      "    0    0    0    0    0    0    0    0    0    0    0    0    0    0\n",
      "    0    0    0    0    0    0    0    0    0    0    0    0    0    0\n",
      "    0    0]\n"
     ]
    }
   ],
   "source": [
    "max_sequence_length = 100\n",
    "\n",
    "X_train = pad_sequences(X_train_seq, maxlen=max_sequence_length, padding=\"post\")\n",
    "X_val = pad_sequences(X_val_seq, maxlen=max_sequence_length, padding=\"post\")\n",
    "X_test = pad_sequences(X_test_seq, maxlen=max_sequence_length, padding=\"post\")\n",
    "\n",
    "for i in range (3):\n",
    "    print(f\"Sequence{i +1}: {X_train[i]}\")\n"
   ]
  },
  {
   "cell_type": "code",
   "execution_count": 111,
   "metadata": {},
   "outputs": [
    {
     "data": {
      "text/plain": [
       "array([[   1,  798,  104, ...,    0,    0,    0],\n",
       "       [  59,   46,   15, ...,    0,    0,    0],\n",
       "       [1801, 2784,  141, ...,    0,    0,    0],\n",
       "       ...,\n",
       "       [   1,  387,   87, ...,    0,    0,    0],\n",
       "       [   4,    2,   77, ...,    0,    0,    0],\n",
       "       [   1,    3,  170, ...,    0,    0,    0]], dtype=int32)"
      ]
     },
     "execution_count": 111,
     "metadata": {},
     "output_type": "execute_result"
    }
   ],
   "source": [
    "X_train"
   ]
  },
  {
   "cell_type": "markdown",
   "metadata": {},
   "source": [
    "# converting to Tensorflow tensors for the model\n",
    "X_train_tensor = tf.constant(X__train_padded, dtype=tf.int32)\n",
    "y_train_tensor = tf.constant(y_train, dtype=tf.int32)\n",
    "\n",
    "train_dataset = tf.data.Dataset.from_tensor_slices((X_train_tensor, y_train_tensor))\n",
    "\n",
    "X_val_tensor = tf.constant(X_val_padded, dtype=tf.int32)\n",
    "y_val_tensor = tf.constant(y_val, dtype=tf.int32)\n",
    "\n",
    "val_dataset = tf.data.Dataset.from_tensor_slices((X_val_tensor, y_val_tensor))\n",
    "\n",
    "print(train_dataset)\n",
    "print(val_dataset)"
   ]
  },
  {
   "cell_type": "markdown",
   "metadata": {},
   "source": [
    "### Designing a model"
   ]
  },
  {
   "cell_type": "markdown",
   "metadata": {},
   "source": [
    "I will now design a model. I will use the Long Short-Term Memory(LSTM) type of RNN model as it handles stochastic gradient failure better than a regular RNN. It can handle longer sequences better. I will start by creating a simple network with one LTSM layer to see how the  model performs.\n",
    "\n",
    "I will use the following formula to determine the number of nodes within the layer: \n",
    "\n",
    "$ N_i = \\frac{2}{3} * (N_i + N_o) $\n",
    "\n",
    "$N_i$ is equal to the number of input words\n",
    "$N_o$ is equal to number of output neurons\n",
    "\n",
    "This will give me a basic idea on what number of nodes to begin with then I can adjust after training the model. \n",
    "\n",
    "I will also include a Dropout layer to help reduce in overfitting. This will randomly ignore selected neurons during training and reduce the sensitivity of specific weights. I have chosen 0.2 as my starting point as it is a good compromise in retaining accuracy and overfitting.\n",
    "\n",
    "I will use the softmax activation function in my activation layer as it will interpret the outputs as probabilities for each class.\n",
    "\n",
    "The model I will build will be simple to begin then it will be built upon by testing different hyperparemters with the keras tuner"
   ]
  },
  {
   "cell_type": "code",
   "execution_count": 112,
   "metadata": {},
   "outputs": [
    {
     "name": "stdout",
     "output_type": "stream",
     "text": [
      "The number of hidden nodes is: 400\n"
     ]
    }
   ],
   "source": [
    "hidden_nodes = int(2/3 * (max_sequence_length * 6))\n",
    "print(f\"The number of hidden nodes is: {hidden_nodes}\")"
   ]
  },
  {
   "cell_type": "code",
   "execution_count": 113,
   "metadata": {},
   "outputs": [
    {
     "data": {
      "text/plain": [
       "6697    1\n",
       "6752    1\n",
       "163     2\n",
       "241     2\n",
       "4288    5\n",
       "       ..\n",
       "5068    4\n",
       "2581    1\n",
       "4974    2\n",
       "5397    4\n",
       "7723    3\n",
       "Name: label, Length: 1726, dtype: int64"
      ]
     },
     "execution_count": 113,
     "metadata": {},
     "output_type": "execute_result"
    }
   ],
   "source": [
    "y_val"
   ]
  },
  {
   "cell_type": "code",
   "execution_count": 114,
   "metadata": {},
   "outputs": [],
   "source": [
    "def train_and_evaluate_model(epochs, checkpoint_filepath):\n",
    "    \n",
    "    model= Sequential()\n",
    "    model.add(Embedding(8628, 64, input_length=100))\n",
    "    # add max pooling\n",
    "    # add conv 1d\n",
    "    #model.add(Conv1D(filters=128, kernel_size = 3, padding=\"same\",activation=\"relu\"))\n",
    "    #model.add(MaxPooling1D(pool_size=5))\n",
    "    #model.add(Dropout(0.4))\n",
    "    #model.add(GlobalAveragePooling1D())\n",
    "    #model.add(Dropout(0.5))\n",
    "    #model.add(LSTM(50, return_sequences=True)) # kernel_regularizer=keras.regularizers.l2(0.001))) \n",
    "    #model.add(LSTM(50,return_sequences=True))\n",
    "    model.add(SpatialDropout1D(0.2))\n",
    "    model.add(LSTM(100, dropout=0.2, recurrent_dropout=0.2))\n",
    "    #model.add(Dense(1000, activation=\"relu\"))\n",
    "    #model.add(Dense(400, activation=\"relu\"))\n",
    "    #model.add(Dense(200, activation=\"relu\"))\n",
    "    #model.add(Dense(100, activation=\"relu\"))\n",
    "    #model.add(Dense(50, activation=\"relu\")) #100 \n",
    "    #model.add(Dense(64, activation=\"tanh\")) 50\n",
    "    #Bidirectional(LSTM(32, dropout=0.5, recurrent_dropout=0.5,kernel_regularizer=keras.regularizers.l2(0.001)))\n",
    "    model.add(Dense(6, activation=\"softmax\"))\n",
    "\n",
    "    model.compile(\n",
    "        optimizer=\"Adam\",\n",
    "        loss='categorical_crossentropy',\n",
    "        metrics=['accuracy'])\n",
    "    \n",
    "    #model = Sequential([\n",
    "    #keras.layers.Embedding(10000, 64), # exact number of words in dataset\n",
    "    #Conv1D(32, 7, activation='relu'),\n",
    "    #MaxPooling1D(5),\n",
    "    #Bidirectional(LSTM(32, return_sequences=True, dropout=0.5, recurrent_dropout=0.5, kernel_regularizer=keras.regularizers.l2(0.001))),\n",
    "    #Bidirectional(LSTM(32, dropout=0.5, recurrent_dropout=0.5, kernel_regularizer=keras.regularizers.l2(0.001))),\n",
    "    #keras.layers.Dense(6, activation='sigmoid')\n",
    "#])\n",
    "\n",
    "    #model.compile(loss=\"categorical_cross\", optimizer=keras.optimizers.RMSprop(learning_rate=0.001), metrics=[\"accuracy\"])\n",
    "    \n",
    "    early_stopping = EarlyStopping(monitor=\"val_loss\", mode=\"min\", verbose=1, patience=3)\n",
    "    \n",
    "    model_checkpoint = ModelCheckpoint(\n",
    "        filepath=checkpoint_filepath, \n",
    "        monitor=\"val_accuracy\", \n",
    "        mode=\"max\", verbose=1, \n",
    "        save_best_only=True\n",
    "\n",
    "    #reduce_lr = ReduceLROnPlateau(monitor=\"val_loss\", factor=0.2)\n",
    "    )\n",
    "\n",
    "    history = model.fit(X_train, y_train, \n",
    "                        validation_data=(X_val,y_val), \n",
    "                        epochs=epochs,batch_size=64, \n",
    "                        callbacks=[early_stopping, model_checkpoint]) \n",
    "\n",
    "    test_loss, test_accuracy = model.evaluate(X_test, y_test, verbose=0) # test data results when run through the model\n",
    "    print(f\"Test Loss: {test_loss:.4f}, Test Accuracy: {test_accuracy:.4f}\")\n",
    "\n",
    "    #visualizing training and validation results\n",
    "    plt.figure(figsize=(8, 8))\n",
    "\n",
    "    plt.subplot(1, 2, 1)\n",
    "    plt.plot(history.history[\"accuracy\"], label=\"Training Accuracy\")\n",
    "    plt.plot(history.history[\"val_accuracy\"], label=\"Validation Accuracy\")\n",
    "    plt.xlabel(\"Epoch\")\n",
    "    plt.ylabel(\"Accuracy\")\n",
    "    plt.legend()\n",
    "\n",
    "    plt.subplot(1, 2, 2)\n",
    "    plt.plot(history.history[\"loss\"], label=\"Training Loss\")\n",
    "    plt.plot(history.history[\"val_loss\"], label=\"Validation Loss \")\n",
    "    plt.xlabel(\"Epoch\")\n",
    "    plt.ylabel(\"Loss\")\n",
    "    plt.legend()\n",
    "\n",
    "    print(model.summary())\n",
    "\n",
    "    best_model = load_model(checkpoint_filepath)\n",
    "    \n",
    "    return best_model\n"
   ]
  },
  {
   "cell_type": "code",
   "execution_count": 115,
   "metadata": {},
   "outputs": [
    {
     "name": "stdout",
     "output_type": "stream",
     "text": [
      "Epoch 1/50\n"
     ]
    },
    {
     "ename": "ValueError",
     "evalue": "in user code:\n\n    File \"/home/sam_glass/deep_learning/venv/lib/python3.10/site-packages/keras/src/engine/training.py\", line 1401, in train_function  *\n        return step_function(self, iterator)\n    File \"/home/sam_glass/deep_learning/venv/lib/python3.10/site-packages/keras/src/engine/training.py\", line 1384, in step_function  **\n        outputs = model.distribute_strategy.run(run_step, args=(data,))\n    File \"/home/sam_glass/deep_learning/venv/lib/python3.10/site-packages/keras/src/engine/training.py\", line 1373, in run_step  **\n        outputs = model.train_step(data)\n    File \"/home/sam_glass/deep_learning/venv/lib/python3.10/site-packages/keras/src/engine/training.py\", line 1151, in train_step\n        loss = self.compute_loss(x, y, y_pred, sample_weight)\n    File \"/home/sam_glass/deep_learning/venv/lib/python3.10/site-packages/keras/src/engine/training.py\", line 1209, in compute_loss\n        return self.compiled_loss(\n    File \"/home/sam_glass/deep_learning/venv/lib/python3.10/site-packages/keras/src/engine/compile_utils.py\", line 277, in __call__\n        loss_value = loss_obj(y_t, y_p, sample_weight=sw)\n    File \"/home/sam_glass/deep_learning/venv/lib/python3.10/site-packages/keras/src/losses.py\", line 143, in __call__\n        losses = call_fn(y_true, y_pred)\n    File \"/home/sam_glass/deep_learning/venv/lib/python3.10/site-packages/keras/src/losses.py\", line 270, in call  **\n        return ag_fn(y_true, y_pred, **self._fn_kwargs)\n    File \"/home/sam_glass/deep_learning/venv/lib/python3.10/site-packages/keras/src/losses.py\", line 2221, in categorical_crossentropy\n        return backend.categorical_crossentropy(\n    File \"/home/sam_glass/deep_learning/venv/lib/python3.10/site-packages/keras/src/backend.py\", line 5573, in categorical_crossentropy\n        target.shape.assert_is_compatible_with(output.shape)\n\n    ValueError: Shapes (None, 1) and (None, 6) are incompatible\n",
     "output_type": "error",
     "traceback": [
      "\u001b[0;31m---------------------------------------------------------------------------\u001b[0m",
      "\u001b[0;31mValueError\u001b[0m                                Traceback (most recent call last)",
      "Cell \u001b[0;32mIn[115], line 1\u001b[0m\n\u001b[0;32m----> 1\u001b[0m \u001b[43mtrain_and_evaluate_model\u001b[49m\u001b[43m(\u001b[49m\u001b[38;5;241;43m50\u001b[39;49m\u001b[43m,\u001b[49m\u001b[43m \u001b[49m\u001b[38;5;124;43m\"\u001b[39;49m\u001b[38;5;124;43m../Lab_RNN/model_save\u001b[39;49m\u001b[38;5;124;43m\"\u001b[39;49m\u001b[43m)\u001b[49m\n",
      "Cell \u001b[0;32mIn[114], line 52\u001b[0m, in \u001b[0;36mtrain_and_evaluate_model\u001b[0;34m(epochs, checkpoint_filepath)\u001b[0m\n\u001b[1;32m     41\u001b[0m early_stopping \u001b[38;5;241m=\u001b[39m EarlyStopping(monitor\u001b[38;5;241m=\u001b[39m\u001b[38;5;124m\"\u001b[39m\u001b[38;5;124mval_loss\u001b[39m\u001b[38;5;124m\"\u001b[39m, mode\u001b[38;5;241m=\u001b[39m\u001b[38;5;124m\"\u001b[39m\u001b[38;5;124mmin\u001b[39m\u001b[38;5;124m\"\u001b[39m, verbose\u001b[38;5;241m=\u001b[39m\u001b[38;5;241m1\u001b[39m, patience\u001b[38;5;241m=\u001b[39m\u001b[38;5;241m3\u001b[39m)\n\u001b[1;32m     43\u001b[0m model_checkpoint \u001b[38;5;241m=\u001b[39m ModelCheckpoint(\n\u001b[1;32m     44\u001b[0m     filepath\u001b[38;5;241m=\u001b[39mcheckpoint_filepath, \n\u001b[1;32m     45\u001b[0m     monitor\u001b[38;5;241m=\u001b[39m\u001b[38;5;124m\"\u001b[39m\u001b[38;5;124mval_accuracy\u001b[39m\u001b[38;5;124m\"\u001b[39m, \n\u001b[0;32m   (...)\u001b[0m\n\u001b[1;32m     49\u001b[0m \u001b[38;5;66;03m#reduce_lr = ReduceLROnPlateau(monitor=\"val_loss\", factor=0.2)\u001b[39;00m\n\u001b[1;32m     50\u001b[0m )\n\u001b[0;32m---> 52\u001b[0m history \u001b[38;5;241m=\u001b[39m \u001b[43mmodel\u001b[49m\u001b[38;5;241;43m.\u001b[39;49m\u001b[43mfit\u001b[49m\u001b[43m(\u001b[49m\u001b[43mX_train\u001b[49m\u001b[43m,\u001b[49m\u001b[43m \u001b[49m\u001b[43my_train\u001b[49m\u001b[43m,\u001b[49m\u001b[43m \u001b[49m\n\u001b[1;32m     53\u001b[0m \u001b[43m                    \u001b[49m\u001b[43mvalidation_data\u001b[49m\u001b[38;5;241;43m=\u001b[39;49m\u001b[43m(\u001b[49m\u001b[43mX_val\u001b[49m\u001b[43m,\u001b[49m\u001b[43my_val\u001b[49m\u001b[43m)\u001b[49m\u001b[43m,\u001b[49m\u001b[43m \u001b[49m\n\u001b[1;32m     54\u001b[0m \u001b[43m                    \u001b[49m\u001b[43mepochs\u001b[49m\u001b[38;5;241;43m=\u001b[39;49m\u001b[43mepochs\u001b[49m\u001b[43m,\u001b[49m\u001b[43mbatch_size\u001b[49m\u001b[38;5;241;43m=\u001b[39;49m\u001b[38;5;241;43m64\u001b[39;49m\u001b[43m,\u001b[49m\u001b[43m \u001b[49m\n\u001b[1;32m     55\u001b[0m \u001b[43m                    \u001b[49m\u001b[43mcallbacks\u001b[49m\u001b[38;5;241;43m=\u001b[39;49m\u001b[43m[\u001b[49m\u001b[43mearly_stopping\u001b[49m\u001b[43m,\u001b[49m\u001b[43m \u001b[49m\u001b[43mmodel_checkpoint\u001b[49m\u001b[43m]\u001b[49m\u001b[43m)\u001b[49m \n\u001b[1;32m     57\u001b[0m test_loss, test_accuracy \u001b[38;5;241m=\u001b[39m model\u001b[38;5;241m.\u001b[39mevaluate(X_test, y_test, verbose\u001b[38;5;241m=\u001b[39m\u001b[38;5;241m0\u001b[39m) \u001b[38;5;66;03m# test data results when run through the model\u001b[39;00m\n\u001b[1;32m     58\u001b[0m \u001b[38;5;28mprint\u001b[39m(\u001b[38;5;124mf\u001b[39m\u001b[38;5;124m\"\u001b[39m\u001b[38;5;124mTest Loss: \u001b[39m\u001b[38;5;132;01m{\u001b[39;00mtest_loss\u001b[38;5;132;01m:\u001b[39;00m\u001b[38;5;124m.4f\u001b[39m\u001b[38;5;132;01m}\u001b[39;00m\u001b[38;5;124m, Test Accuracy: \u001b[39m\u001b[38;5;132;01m{\u001b[39;00mtest_accuracy\u001b[38;5;132;01m:\u001b[39;00m\u001b[38;5;124m.4f\u001b[39m\u001b[38;5;132;01m}\u001b[39;00m\u001b[38;5;124m\"\u001b[39m)\n",
      "File \u001b[0;32m~/deep_learning/venv/lib/python3.10/site-packages/keras/src/utils/traceback_utils.py:70\u001b[0m, in \u001b[0;36mfilter_traceback.<locals>.error_handler\u001b[0;34m(*args, **kwargs)\u001b[0m\n\u001b[1;32m     67\u001b[0m     filtered_tb \u001b[38;5;241m=\u001b[39m _process_traceback_frames(e\u001b[38;5;241m.\u001b[39m__traceback__)\n\u001b[1;32m     68\u001b[0m     \u001b[38;5;66;03m# To get the full stack trace, call:\u001b[39;00m\n\u001b[1;32m     69\u001b[0m     \u001b[38;5;66;03m# `tf.debugging.disable_traceback_filtering()`\u001b[39;00m\n\u001b[0;32m---> 70\u001b[0m     \u001b[38;5;28;01mraise\u001b[39;00m e\u001b[38;5;241m.\u001b[39mwith_traceback(filtered_tb) \u001b[38;5;28;01mfrom\u001b[39;00m \u001b[38;5;28;01mNone\u001b[39;00m\n\u001b[1;32m     71\u001b[0m \u001b[38;5;28;01mfinally\u001b[39;00m:\n\u001b[1;32m     72\u001b[0m     \u001b[38;5;28;01mdel\u001b[39;00m filtered_tb\n",
      "File \u001b[0;32m/tmp/__autograph_generated_filewsqgvx7x.py:15\u001b[0m, in \u001b[0;36mouter_factory.<locals>.inner_factory.<locals>.tf__train_function\u001b[0;34m(iterator)\u001b[0m\n\u001b[1;32m     13\u001b[0m \u001b[38;5;28;01mtry\u001b[39;00m:\n\u001b[1;32m     14\u001b[0m     do_return \u001b[38;5;241m=\u001b[39m \u001b[38;5;28;01mTrue\u001b[39;00m\n\u001b[0;32m---> 15\u001b[0m     retval_ \u001b[38;5;241m=\u001b[39m ag__\u001b[38;5;241m.\u001b[39mconverted_call(ag__\u001b[38;5;241m.\u001b[39mld(step_function), (ag__\u001b[38;5;241m.\u001b[39mld(\u001b[38;5;28mself\u001b[39m), ag__\u001b[38;5;241m.\u001b[39mld(iterator)), \u001b[38;5;28;01mNone\u001b[39;00m, fscope)\n\u001b[1;32m     16\u001b[0m \u001b[38;5;28;01mexcept\u001b[39;00m:\n\u001b[1;32m     17\u001b[0m     do_return \u001b[38;5;241m=\u001b[39m \u001b[38;5;28;01mFalse\u001b[39;00m\n",
      "\u001b[0;31mValueError\u001b[0m: in user code:\n\n    File \"/home/sam_glass/deep_learning/venv/lib/python3.10/site-packages/keras/src/engine/training.py\", line 1401, in train_function  *\n        return step_function(self, iterator)\n    File \"/home/sam_glass/deep_learning/venv/lib/python3.10/site-packages/keras/src/engine/training.py\", line 1384, in step_function  **\n        outputs = model.distribute_strategy.run(run_step, args=(data,))\n    File \"/home/sam_glass/deep_learning/venv/lib/python3.10/site-packages/keras/src/engine/training.py\", line 1373, in run_step  **\n        outputs = model.train_step(data)\n    File \"/home/sam_glass/deep_learning/venv/lib/python3.10/site-packages/keras/src/engine/training.py\", line 1151, in train_step\n        loss = self.compute_loss(x, y, y_pred, sample_weight)\n    File \"/home/sam_glass/deep_learning/venv/lib/python3.10/site-packages/keras/src/engine/training.py\", line 1209, in compute_loss\n        return self.compiled_loss(\n    File \"/home/sam_glass/deep_learning/venv/lib/python3.10/site-packages/keras/src/engine/compile_utils.py\", line 277, in __call__\n        loss_value = loss_obj(y_t, y_p, sample_weight=sw)\n    File \"/home/sam_glass/deep_learning/venv/lib/python3.10/site-packages/keras/src/losses.py\", line 143, in __call__\n        losses = call_fn(y_true, y_pred)\n    File \"/home/sam_glass/deep_learning/venv/lib/python3.10/site-packages/keras/src/losses.py\", line 270, in call  **\n        return ag_fn(y_true, y_pred, **self._fn_kwargs)\n    File \"/home/sam_glass/deep_learning/venv/lib/python3.10/site-packages/keras/src/losses.py\", line 2221, in categorical_crossentropy\n        return backend.categorical_crossentropy(\n    File \"/home/sam_glass/deep_learning/venv/lib/python3.10/site-packages/keras/src/backend.py\", line 5573, in categorical_crossentropy\n        target.shape.assert_is_compatible_with(output.shape)\n\n    ValueError: Shapes (None, 1) and (None, 6) are incompatible\n"
     ]
    }
   ],
   "source": [
    "train_and_evaluate_model(50, \"../Lab_RNN/model_save\")"
   ]
  },
  {
   "cell_type": "markdown",
   "metadata": {},
   "source": [
    "As We can see see this model was not successful at all! I think the model needs to have some more layers. I will now test out keras tuner to test more than one layer and to see which hyper parameters may be more effective. "
   ]
  },
  {
   "cell_type": "code",
   "execution_count": null,
   "metadata": {},
   "outputs": [],
   "source": [
    "def model_builder(hp):\n",
    "    model= Sequential()\n",
    "    model.add(Embedding(20000, \n",
    "                        hp.Int(\"embedding_size\", min_value=32, max_value=256, step=32), \n",
    "                        input_length=80))\n",
    "    model.add(LSTM(units= hp.Int(\"LSTM_units\", min_value= 32, max_value=256, step = 32)))\n",
    "    model.add(Dense(units=hp.Int(\"Dense_units\",min_value = 64, max_value=512, step=64),\n",
    "                    activation=\"relu\"))\n",
    "    model.add(Dropout(rate=hp.Choice(\"dropout\", values=[0.2,0.3,0.4,0.5])))\n",
    "    model.add(Dense(6, activation=\"softmax\"))\n",
    "\n",
    "    model.compile(\n",
    "    optimizer=Adam(hp.Choice(\"learning_rate\", values=[1e-2, 1e-3, 1e-4])),\n",
    "    loss='sparse_categorical_crossentropy',\n",
    "    metrics=['accuracy'])\n",
    "\n",
    "    return model\n",
    "\n",
    "    "
   ]
  },
  {
   "cell_type": "code",
   "execution_count": null,
   "metadata": {},
   "outputs": [],
   "source": [
    "tuner = kt.Hyperband(model_builder,\n",
    "                     objective='val_accuracy', # which parameter to observe\n",
    "                     max_epochs=10,\n",
    "                     factor=3, #the reduction factor, The smaller it is the more aggressive reduction in configurations\n",
    "                     directory='tuner_results_RNN', # results saved to a directory\n",
    "                     project_name='sentiment')"
   ]
  },
  {
   "cell_type": "code",
   "execution_count": null,
   "metadata": {},
   "outputs": [],
   "source": [
    "early_stopping = tf.keras.callbacks.EarlyStopping(monitor=\"val_loss\", patience=3) # early stopping used when better parameters are found to save time in tuning"
   ]
  },
  {
   "cell_type": "code",
   "execution_count": null,
   "metadata": {},
   "outputs": [
    {
     "name": "stdout",
     "output_type": "stream",
     "text": [
      "Trial 30 Complete [00h 06m 56s]\n",
      "val_accuracy: 0.3407500088214874\n",
      "\n",
      "Best val_accuracy So Far: 0.3407500088214874\n",
      "Total elapsed time: 02h 11m 07s\n"
     ]
    }
   ],
   "source": [
    "tuner.search(X_train, y_train, epochs=10, validation_data=(X_val, y_val), callbacks=[early_stopping]) # The training search"
   ]
  },
  {
   "cell_type": "markdown",
   "metadata": {},
   "source": []
  },
  {
   "cell_type": "code",
   "execution_count": null,
   "metadata": {},
   "outputs": [
    {
     "name": "stdout",
     "output_type": "stream",
     "text": [
      "Model: \"sequential\"\n",
      "_________________________________________________________________\n",
      " Layer (type)                Output Shape              Param #   \n",
      "=================================================================\n",
      " embedding (Embedding)       (None, 80, 224)           4480000   \n",
      "                                                                 \n",
      " lstm (LSTM)                 (None, 256)               492544    \n",
      "                                                                 \n",
      " dense (Dense)               (None, 320)               82240     \n",
      "                                                                 \n",
      " dropout (Dropout)           (None, 320)               0         \n",
      "                                                                 \n",
      " dense_1 (Dense)             (None, 6)                 1926      \n",
      "                                                                 \n",
      "=================================================================\n",
      "Total params: 5056710 (19.29 MB)\n",
      "Trainable params: 5056710 (19.29 MB)\n",
      "Non-trainable params: 0 (0.00 Byte)\n",
      "_________________________________________________________________\n",
      "None\n",
      "{'embedding_size': 224, 'LSTM_units': 256, 'Dense_units': 320, 'dropout': 0.5, 'learning_rate': 0.01, 'tuner/epochs': 2, 'tuner/initial_epoch': 0, 'tuner/bracket': 2, 'tuner/round': 0}\n"
     ]
    }
   ],
   "source": [
    "best_model = tuner.get_best_models(num_models=1)\n",
    "print(best_model[0].summary())\n",
    "\n",
    "# prints out best hyperparameters\n",
    "best_hyperparameters = tuner.get_best_hyperparameters(1)[0]\n",
    "print(best_hyperparameters.values)"
   ]
  },
  {
   "cell_type": "markdown",
   "metadata": {},
   "source": [
    "I had a problem with saving the parameters to file. SO i copied the results above just incase I could not retrieve them.\n",
    "\n",
    "```Model: \"sequential\"\n",
    "_________________________________________________________________\n",
    " Layer (type)                Output Shape              Param #   \n",
    "=================================================================\n",
    " embedding (Embedding)       (None, 80, 224)           4480000   \n",
    "                                                                 \n",
    " lstm (LSTM)                 (None, 256)               492544    \n",
    "                                                                 \n",
    " dense (Dense)               (None, 320)               82240     \n",
    "                                                                 \n",
    " dropout (Dropout)           (None, 320)               0         \n",
    "                                                                 \n",
    " dense_1 (Dense)             (None, 6)                 1926      \n",
    "                                                                 \n",
    "=================================================================\n",
    "Total params: 5056710 (19.29 MB)\n",
    "Trainable params: 5056710 (19.29 MB)\n",
    "Non-trainable params: 0 (0.00 Byte)\n",
    "_________________________________________________________________\n",
    "None\n",
    "{'embedding_size': 224, 'LSTM_units': 256, 'Dense_units': 320, 'dropout': 0.5, 'learning_rate': 0.01, 'tuner/epochs': 2, 'tuner/initial_epoch': 0, 'tuner/bracket': 2, 'tuner/round': 0}\n",
    "Trial 30 Complete [00h 06m 56s]\n",
    "val_accuracy: 0.3407500088214874\n",
    "\n",
    "Best val_accuracy So Far: 0.3407500088214874\n",
    "Total elapsed time: 02h 11m 07s\n",
    "```\n"
   ]
  },
  {
   "cell_type": "code",
   "execution_count": null,
   "metadata": {},
   "outputs": [],
   "source": [
    "tuner_hyper = {\n",
    "    \"embed\": 224,\n",
    "    \"LSTM1_units\" : 256,\n",
    "    \"LSTM2_units\" : 256,\n",
    "    \"Dense1_units\" : 320,\n",
    "    \"Dense2_units\" : 160,\n",
    "    \"dropout\" : 0.5,\n",
    "    \"learning_rate\" : 0.01\n",
    "\n",
    "\n",
    "}"
   ]
  },
  {
   "cell_type": "code",
   "execution_count": null,
   "metadata": {},
   "outputs": [],
   "source": [
    "def tuner_model(epochs, checkpoint_filepath,hyperparemeters=None):\n",
    "\n",
    "    if hyperparemeters is None:\n",
    "        hyperparemeters = tuner_hyper\n",
    "    \n",
    "    model= Sequential()\n",
    "    model.add(Embedding(input_dim= 20000, output_dim=hyperparemeters[\"embed\"], input_length=80))\n",
    "    model.add(LSTM(units=hyperparemeters[\"LSTM1_units\"], return_sequences=True))\n",
    "    model.add(LSTM(units=hyperparemeters[\"LSTM2_units\"],return_sequences=False))\n",
    "    model.add(Dense(units=hyperparemeters[\"Dense1_units\"], activation=\"relu\"))\n",
    "    model.add(Dense(units=hyperparemeters[\"Dense2_units\"]))\n",
    "    model.add(Dropout(rate=hyperparemeters[\"dropout\"]))\n",
    "    model.add(Dense(6, activation=\"softmax\"))\n",
    "\n",
    "    model.compile(\n",
    "        optimizer=Adam(learning_rate=hyperparemeters[\"learning_rate\"]),\n",
    "        loss='sparse_categorical_crossentropy',\n",
    "        metrics=['accuracy'])\n",
    "    \n",
    "    early_stopping = EarlyStopping(monitor=\"val_loss\", mode=\"min\", verbose=1, patience=3)\n",
    "    \n",
    "    model_checkpoint = ModelCheckpoint(\n",
    "        filepath=checkpoint_filepath, \n",
    "        monitor=\"val_accuracy\", \n",
    "        mode=\"max\", verbose=1, \n",
    "        save_best_only=True\n",
    "    )\n",
    "\n",
    "    # fitting the model to the training model to train\n",
    "    history = model.fit(X_train,y_train , epochs=epochs, validation_data=(X_val,y_val), callbacks=[early_stopping, model_checkpoint])\n",
    "\n",
    "    # evaluating the model with the test dataset\n",
    "    test_loss, test_accuracy =model.evaluate(X_test, y_test, verbose=0)\n",
    "    print(f\"Test Loss: {test_loss:.4f}, Test Accuracy: {test_accuracy:.4f}\")\n",
    "\n",
    "    # plotting the validation loss and training accuracy\n",
    "    plt.figure(figsize=(8,8))\n",
    "\n",
    "    plt.subplot(1,2,1)\n",
    "    plt.plot(history.history[\"accuracy\"], label=\"Training Accuracy\")\n",
    "    plt.plot(history.history[\"val_accuracy\"], label=\"Validation Accuracy\")\n",
    "    plt.xlabel(\"Epoch\")\n",
    "    plt.ylabel(\"Accuracy\")\n",
    "    plt.legend()\n",
    "\n",
    "    plt.subplot(1,2,2)\n",
    "    plt.plot(history.history[\"loss\"], label=\"Training Loss\")\n",
    "    plt.plot(history.history[\"val_loss\"], label=\"Validation Loss \")\n",
    "    plt.xlabel(\"Epoch\")\n",
    "    plt.ylabel(\"Loss\")\n",
    "    plt.legend()\n",
    "\n",
    "    print(model.summary())\n",
    "    \n",
    "    return best_model\n",
    "    "
   ]
  },
  {
   "cell_type": "code",
   "execution_count": null,
   "metadata": {},
   "outputs": [
    {
     "name": "stdout",
     "output_type": "stream",
     "text": [
      "Epoch 1/50\n",
      "375/375 [==============================] - ETA: 0s - loss: 1.6170 - accuracy: 0.3239\n",
      "Epoch 1: val_accuracy improved from -inf to 0.34075, saving model to ../Lab_RNN/model_save\n",
      "INFO:tensorflow:Assets written to: ../Lab_RNN/model_save/assets\n"
     ]
    },
    {
     "name": "stderr",
     "output_type": "stream",
     "text": [
      "INFO:tensorflow:Assets written to: ../Lab_RNN/model_save/assets\n"
     ]
    },
    {
     "name": "stdout",
     "output_type": "stream",
     "text": [
      "375/375 [==============================] - 246s 647ms/step - loss: 1.6170 - accuracy: 0.3239 - val_loss: 1.5886 - val_accuracy: 0.3408\n",
      "Epoch 2/50\n",
      "375/375 [==============================] - ETA: 0s - loss: 1.5854 - accuracy: 0.3280\n",
      "Epoch 2: val_accuracy did not improve from 0.34075\n",
      "375/375 [==============================] - 235s 627ms/step - loss: 1.5854 - accuracy: 0.3280 - val_loss: 1.5853 - val_accuracy: 0.3408\n",
      "Epoch 3/50\n",
      "375/375 [==============================] - ETA: 0s - loss: 1.5852 - accuracy: 0.3243\n",
      "Epoch 3: val_accuracy did not improve from 0.34075\n",
      "375/375 [==============================] - 234s 623ms/step - loss: 1.5852 - accuracy: 0.3243 - val_loss: 1.5841 - val_accuracy: 0.3408\n",
      "Epoch 4/50\n",
      "375/375 [==============================] - ETA: 0s - loss: 1.5859 - accuracy: 0.3302\n",
      "Epoch 4: val_accuracy did not improve from 0.34075\n",
      "375/375 [==============================] - 234s 625ms/step - loss: 1.5859 - accuracy: 0.3302 - val_loss: 1.5844 - val_accuracy: 0.3408\n",
      "Epoch 5/50\n",
      "375/375 [==============================] - ETA: 0s - loss: 1.5842 - accuracy: 0.3270\n",
      "Epoch 5: val_accuracy did not improve from 0.34075\n",
      "375/375 [==============================] - 238s 635ms/step - loss: 1.5842 - accuracy: 0.3270 - val_loss: 1.5881 - val_accuracy: 0.3408\n",
      "Epoch 6/50\n",
      "375/375 [==============================] - ETA: 0s - loss: 1.5841 - accuracy: 0.3296\n",
      "Epoch 6: val_accuracy did not improve from 0.34075\n",
      "375/375 [==============================] - 226s 602ms/step - loss: 1.5841 - accuracy: 0.3296 - val_loss: 1.5792 - val_accuracy: 0.3408\n",
      "Epoch 7/50\n",
      "375/375 [==============================] - ETA: 0s - loss: 1.5840 - accuracy: 0.3290\n",
      "Epoch 7: val_accuracy did not improve from 0.34075\n",
      "375/375 [==============================] - 226s 602ms/step - loss: 1.5840 - accuracy: 0.3290 - val_loss: 1.5835 - val_accuracy: 0.2858\n",
      "Epoch 8/50\n",
      "375/375 [==============================] - ETA: 0s - loss: 1.5835 - accuracy: 0.3254\n",
      "Epoch 8: val_accuracy did not improve from 0.34075\n",
      "375/375 [==============================] - 225s 600ms/step - loss: 1.5835 - accuracy: 0.3254 - val_loss: 1.5807 - val_accuracy: 0.3408\n",
      "Epoch 9/50\n",
      "375/375 [==============================] - ETA: 0s - loss: 1.5841 - accuracy: 0.3265\n",
      "Epoch 9: val_accuracy did not improve from 0.34075\n",
      "375/375 [==============================] - 214s 572ms/step - loss: 1.5841 - accuracy: 0.3265 - val_loss: 1.5811 - val_accuracy: 0.3408\n",
      "Epoch 9: early stopping\n",
      "Test Loss: 1.5635, Test Accuracy: 0.3422\n",
      "Model: \"sequential_10\"\n",
      "_________________________________________________________________\n",
      " Layer (type)                Output Shape              Param #   \n",
      "=================================================================\n",
      " embedding_5 (Embedding)     (None, 80, 224)           4480000   \n",
      "                                                                 \n",
      " lstm_7 (LSTM)               (None, 80, 256)           492544    \n",
      "                                                                 \n",
      " lstm_8 (LSTM)               (None, 256)               525312    \n",
      "                                                                 \n",
      " dense_7 (Dense)             (None, 320)               82240     \n",
      "                                                                 \n",
      " dense_8 (Dense)             (None, 160)               51360     \n",
      "                                                                 \n",
      " dropout_3 (Dropout)         (None, 160)               0         \n",
      "                                                                 \n",
      " dense_9 (Dense)             (None, 6)                 966       \n",
      "                                                                 \n",
      "=================================================================\n",
      "Total params: 5632422 (21.49 MB)\n",
      "Trainable params: 5632422 (21.49 MB)\n",
      "Non-trainable params: 0 (0.00 Byte)\n",
      "_________________________________________________________________\n",
      "None\n"
     ]
    },
    {
     "data": {
      "text/plain": [
       "[<keras.src.engine.sequential.Sequential at 0x7f5e50359570>]"
      ]
     },
     "execution_count": 78,
     "metadata": {},
     "output_type": "execute_result"
    },
    {
     "data": {
      "image/png": "[encoded data removed]",
      "text/plain": [
       "<Figure size 800x800 with 2 Axes>"
      ]
     },
     "metadata": {},
     "output_type": "display_data"
    }
   ],
   "source": [
    "tuner_model(50, \"../Lab_RNN/model_save\",None)"
   ]
  }
 ],
 "metadata": {
  "kernelspec": {
   "display_name": "venv",
   "language": "python",
   "name": "python3"
  },
  "language_info": {
   "codemirror_mode": {
    "name": "ipython",
    "version": 3
   },
   "file_extension": ".py",
   "mimetype": "text/x-python",
   "name": "python",
   "nbconvert_exporter": "python",
   "pygments_lexer": "ipython3",
   "version": "3.10.12"
  }
 },
 "nbformat": 4,
 "nbformat_minor": 2
}
