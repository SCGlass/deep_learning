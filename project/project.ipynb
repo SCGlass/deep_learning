{
 "cells": [
  {
   "cell_type": "markdown",
   "metadata": {},
   "source": [
    "## Final Project"
   ]
  },
  {
   "cell_type": "markdown",
   "metadata": {},
   "source": []
  },
  {
   "cell_type": "code",
   "execution_count": 197,
   "metadata": {},
   "outputs": [
    {
     "name": "stderr",
     "output_type": "stream",
     "text": [
      "[nltk_data] Downloading package stopwords to\n",
      "[nltk_data]     /home/sam_glass/nltk_data...\n",
      "[nltk_data]   Package stopwords is already up-to-date!\n",
      "[nltk_data] Downloading package punkt to /home/sam_glass/nltk_data...\n",
      "[nltk_data]   Package punkt is already up-to-date!\n",
      "[nltk_data] Downloading package wordnet to\n",
      "[nltk_data]     /home/sam_glass/nltk_data...\n",
      "[nltk_data]   Package wordnet is already up-to-date!\n"
     ]
    }
   ],
   "source": [
    "# Data tools and graphing tools\n",
    "import pandas as pd\n",
    "import matplotlib.pyplot as plt\n",
    "from sklearn.model_selection import train_test_split\n",
    "from sklearn.preprocessing import LabelEncoder\n",
    "import numpy as np\n",
    "import seaborn as sns\n",
    "# text tools\n",
    "import nltk\n",
    "import nlpaug.augmenter.word as naw\n",
    "from nltk.corpus import stopwords\n",
    "from nltk.stem import WordNetLemmatizer\n",
    "from tensorflow.keras.preprocessing.text import Tokenizer\n",
    "from tensorflow.keras.preprocessing.sequence import pad_sequences\n",
    "from textblob import TextBlob \n",
    "nltk.download([\"stopwords\", \"punkt\", \"wordnet\"])\n",
    "import string\n",
    "import re\n",
    "\n",
    "# model tools\n",
    "import tensorflow as tf\n",
    "from  tensorflow.keras.models import Model\n",
    "from tensorflow.keras.layers import LSTM,Dense,Embedding,Dropout, Input\n",
    "from tensorflow.keras.callbacks import EarlyStopping, ModelCheckpoint\n",
    "from tensorflow.keras.optimizers import Adam\n",
    "from keras.models import load_model\n",
    "import kerastuner as kt\n",
    "from tensorflow import keras\n",
    "\n",
    "# evaluation tools\n",
    "from sklearn.metrics import confusion_matrix,accuracy_score,precision_score,recall_score,f1_score, ConfusionMatrixDisplay\n",
    "from tensorflow.python.keras.utils.vis_utils import plot_model\n",
    "import pydot\n",
    "\n"
   ]
  },
  {
   "cell_type": "code",
   "execution_count": 198,
   "metadata": {},
   "outputs": [
    {
     "data": {
      "text/html": [
       "<div>\n",
       "<style scoped>\n",
       "    .dataframe tbody tr th:only-of-type {\n",
       "        vertical-align: middle;\n",
       "    }\n",
       "\n",
       "    .dataframe tbody tr th {\n",
       "        vertical-align: top;\n",
       "    }\n",
       "\n",
       "    .dataframe thead th {\n",
       "        text-align: right;\n",
       "    }\n",
       "</style>\n",
       "<table border=\"1\" class=\"dataframe\">\n",
       "  <thead>\n",
       "    <tr style=\"text-align: right;\">\n",
       "      <th></th>\n",
       "      <th>case_id</th>\n",
       "      <th>test_case</th>\n",
       "      <th>label_gold</th>\n",
       "      <th>target_ident</th>\n",
       "    </tr>\n",
       "  </thead>\n",
       "  <tbody>\n",
       "    <tr>\n",
       "      <th>0</th>\n",
       "      <td>1</td>\n",
       "      <td>I hate women.</td>\n",
       "      <td>hateful</td>\n",
       "      <td>women</td>\n",
       "    </tr>\n",
       "    <tr>\n",
       "      <th>1</th>\n",
       "      <td>2</td>\n",
       "      <td>I hate trans people.</td>\n",
       "      <td>hateful</td>\n",
       "      <td>trans people</td>\n",
       "    </tr>\n",
       "    <tr>\n",
       "      <th>2</th>\n",
       "      <td>3</td>\n",
       "      <td>I hate gay people.</td>\n",
       "      <td>hateful</td>\n",
       "      <td>gay people</td>\n",
       "    </tr>\n",
       "    <tr>\n",
       "      <th>3</th>\n",
       "      <td>4</td>\n",
       "      <td>I hate black people.</td>\n",
       "      <td>hateful</td>\n",
       "      <td>black people</td>\n",
       "    </tr>\n",
       "    <tr>\n",
       "      <th>4</th>\n",
       "      <td>5</td>\n",
       "      <td>I hate disabled people.</td>\n",
       "      <td>hateful</td>\n",
       "      <td>disabled people</td>\n",
       "    </tr>\n",
       "  </tbody>\n",
       "</table>\n",
       "</div>"
      ],
      "text/plain": [
       "   case_id                 test_case label_gold     target_ident\n",
       "0        1            I hate women.     hateful            women\n",
       "1        2     I hate trans people.     hateful     trans people\n",
       "2        3       I hate gay people.     hateful       gay people\n",
       "3        4     I hate black people.     hateful     black people\n",
       "4        5  I hate disabled people.     hateful  disabled people"
      ]
     },
     "execution_count": 198,
     "metadata": {},
     "output_type": "execute_result"
    }
   ],
   "source": [
    "df = pd.read_csv(\"../project/Data/hate-text.csv\")\n",
    "df.head()"
   ]
  },
  {
   "cell_type": "code",
   "execution_count": 199,
   "metadata": {},
   "outputs": [
    {
     "name": "stdout",
     "output_type": "stream",
     "text": [
      "<class 'pandas.core.frame.DataFrame'>\n",
      "RangeIndex: 3901 entries, 0 to 3900\n",
      "Data columns (total 4 columns):\n",
      " #   Column        Non-Null Count  Dtype \n",
      "---  ------        --------------  ----- \n",
      " 0   case_id       3901 non-null   int64 \n",
      " 1   test_case     3901 non-null   object\n",
      " 2   label_gold    3901 non-null   object\n",
      " 3   target_ident  3606 non-null   object\n",
      "dtypes: int64(1), object(3)\n",
      "memory usage: 122.0+ KB\n"
     ]
    }
   ],
   "source": [
    "df.info()"
   ]
  },
  {
   "cell_type": "code",
   "execution_count": 200,
   "metadata": {},
   "outputs": [
    {
     "data": {
      "text/html": [
       "<div>\n",
       "<style scoped>\n",
       "    .dataframe tbody tr th:only-of-type {\n",
       "        vertical-align: middle;\n",
       "    }\n",
       "\n",
       "    .dataframe tbody tr th {\n",
       "        vertical-align: top;\n",
       "    }\n",
       "\n",
       "    .dataframe thead th {\n",
       "        text-align: right;\n",
       "    }\n",
       "</style>\n",
       "<table border=\"1\" class=\"dataframe\">\n",
       "  <thead>\n",
       "    <tr style=\"text-align: right;\">\n",
       "      <th></th>\n",
       "      <th>test_case</th>\n",
       "      <th>label_gold</th>\n",
       "      <th>target_ident</th>\n",
       "    </tr>\n",
       "  </thead>\n",
       "  <tbody>\n",
       "    <tr>\n",
       "      <th>0</th>\n",
       "      <td>I hate women.</td>\n",
       "      <td>hateful</td>\n",
       "      <td>women</td>\n",
       "    </tr>\n",
       "    <tr>\n",
       "      <th>1</th>\n",
       "      <td>I hate trans people.</td>\n",
       "      <td>hateful</td>\n",
       "      <td>trans people</td>\n",
       "    </tr>\n",
       "    <tr>\n",
       "      <th>2</th>\n",
       "      <td>I hate gay people.</td>\n",
       "      <td>hateful</td>\n",
       "      <td>gay people</td>\n",
       "    </tr>\n",
       "    <tr>\n",
       "      <th>3</th>\n",
       "      <td>I hate black people.</td>\n",
       "      <td>hateful</td>\n",
       "      <td>black people</td>\n",
       "    </tr>\n",
       "    <tr>\n",
       "      <th>4</th>\n",
       "      <td>I hate disabled people.</td>\n",
       "      <td>hateful</td>\n",
       "      <td>disabled people</td>\n",
       "    </tr>\n",
       "    <tr>\n",
       "      <th>...</th>\n",
       "      <td>...</td>\n",
       "      <td>...</td>\n",
       "      <td>...</td>\n",
       "    </tr>\n",
       "    <tr>\n",
       "      <th>3896</th>\n",
       "      <td>Gay people are all complete 4ssholes.</td>\n",
       "      <td>hateful</td>\n",
       "      <td>gay people</td>\n",
       "    </tr>\n",
       "    <tr>\n",
       "      <th>3897</th>\n",
       "      <td>Black people are all complete 4ssholes.</td>\n",
       "      <td>hateful</td>\n",
       "      <td>black people</td>\n",
       "    </tr>\n",
       "    <tr>\n",
       "      <th>3898</th>\n",
       "      <td>Disabled people are all complete 4ssholes.</td>\n",
       "      <td>hateful</td>\n",
       "      <td>disabled people</td>\n",
       "    </tr>\n",
       "    <tr>\n",
       "      <th>3899</th>\n",
       "      <td>Muslims are all complete 4ssholes.</td>\n",
       "      <td>hateful</td>\n",
       "      <td>Muslims</td>\n",
       "    </tr>\n",
       "    <tr>\n",
       "      <th>3900</th>\n",
       "      <td>Immigrants are all complete 4ssholes.</td>\n",
       "      <td>hateful</td>\n",
       "      <td>immigrants</td>\n",
       "    </tr>\n",
       "  </tbody>\n",
       "</table>\n",
       "<p>3901 rows × 3 columns</p>\n",
       "</div>"
      ],
      "text/plain": [
       "                                        test_case label_gold     target_ident\n",
       "0                                  I hate women.     hateful            women\n",
       "1                           I hate trans people.     hateful     trans people\n",
       "2                             I hate gay people.     hateful       gay people\n",
       "3                           I hate black people.     hateful     black people\n",
       "4                        I hate disabled people.     hateful  disabled people\n",
       "...                                           ...        ...              ...\n",
       "3896       Gay people are all complete 4ssholes.     hateful       gay people\n",
       "3897     Black people are all complete 4ssholes.     hateful     black people\n",
       "3898  Disabled people are all complete 4ssholes.     hateful  disabled people\n",
       "3899          Muslims are all complete 4ssholes.     hateful          Muslims\n",
       "3900       Immigrants are all complete 4ssholes.     hateful       immigrants\n",
       "\n",
       "[3901 rows x 3 columns]"
      ]
     },
     "execution_count": 200,
     "metadata": {},
     "output_type": "execute_result"
    }
   ],
   "source": [
    "# removing case id from data frame\n",
    "df =df.drop(\"case_id\",axis=1)\n",
    "df"
   ]
  },
  {
   "cell_type": "code",
   "execution_count": 201,
   "metadata": {},
   "outputs": [
    {
     "data": {
      "text/plain": [
       "test_case         0\n",
       "label_gold        0\n",
       "target_ident    295\n",
       "dtype: int64"
      ]
     },
     "execution_count": 201,
     "metadata": {},
     "output_type": "execute_result"
    }
   ],
   "source": [
    "# Checking to see if there are any nan entries within the data set\n",
    "df.isnull().sum()"
   ]
  },
  {
   "cell_type": "code",
   "execution_count": 202,
   "metadata": {},
   "outputs": [
    {
     "data": {
      "text/html": [
       "<div>\n",
       "<style scoped>\n",
       "    .dataframe tbody tr th:only-of-type {\n",
       "        vertical-align: middle;\n",
       "    }\n",
       "\n",
       "    .dataframe tbody tr th {\n",
       "        vertical-align: top;\n",
       "    }\n",
       "\n",
       "    .dataframe thead th {\n",
       "        text-align: right;\n",
       "    }\n",
       "</style>\n",
       "<table border=\"1\" class=\"dataframe\">\n",
       "  <thead>\n",
       "    <tr style=\"text-align: right;\">\n",
       "      <th></th>\n",
       "      <th>test_case</th>\n",
       "      <th>label_gold</th>\n",
       "      <th>target_ident</th>\n",
       "    </tr>\n",
       "  </thead>\n",
       "  <tbody>\n",
       "    <tr>\n",
       "      <th>1271</th>\n",
       "      <td>Fucking hell, what a day.</td>\n",
       "      <td>non-hateful</td>\n",
       "      <td>NaN</td>\n",
       "    </tr>\n",
       "    <tr>\n",
       "      <th>1272</th>\n",
       "      <td>That's a great fucking idea.</td>\n",
       "      <td>non-hateful</td>\n",
       "      <td>NaN</td>\n",
       "    </tr>\n",
       "    <tr>\n",
       "      <th>1273</th>\n",
       "      <td>No fucking way.</td>\n",
       "      <td>non-hateful</td>\n",
       "      <td>NaN</td>\n",
       "    </tr>\n",
       "    <tr>\n",
       "      <th>1274</th>\n",
       "      <td>I'm so fucking excited.</td>\n",
       "      <td>non-hateful</td>\n",
       "      <td>NaN</td>\n",
       "    </tr>\n",
       "    <tr>\n",
       "      <th>1275</th>\n",
       "      <td>Are you fucking kidding me?</td>\n",
       "      <td>non-hateful</td>\n",
       "      <td>NaN</td>\n",
       "    </tr>\n",
       "    <tr>\n",
       "      <th>...</th>\n",
       "      <td>...</td>\n",
       "      <td>...</td>\n",
       "      <td>...</td>\n",
       "    </tr>\n",
       "    <tr>\n",
       "      <th>3097</th>\n",
       "      <td>Pro lifers should get the fuck out of our coun...</td>\n",
       "      <td>non-hateful</td>\n",
       "      <td>NaN</td>\n",
       "    </tr>\n",
       "    <tr>\n",
       "      <th>3098</th>\n",
       "      <td>Most gun dealers are seriously fucked in the h...</td>\n",
       "      <td>non-hateful</td>\n",
       "      <td>NaN</td>\n",
       "    </tr>\n",
       "    <tr>\n",
       "      <th>3099</th>\n",
       "      <td>By nature, corporate accountants are just shit...</td>\n",
       "      <td>non-hateful</td>\n",
       "      <td>NaN</td>\n",
       "    </tr>\n",
       "    <tr>\n",
       "      <th>3100</th>\n",
       "      <td>Most real estate agents are absolute bastards.</td>\n",
       "      <td>non-hateful</td>\n",
       "      <td>NaN</td>\n",
       "    </tr>\n",
       "    <tr>\n",
       "      <th>3101</th>\n",
       "      <td>Of course that dumbass was a snowboarder.</td>\n",
       "      <td>non-hateful</td>\n",
       "      <td>NaN</td>\n",
       "    </tr>\n",
       "  </tbody>\n",
       "</table>\n",
       "<p>295 rows × 3 columns</p>\n",
       "</div>"
      ],
      "text/plain": [
       "                                              test_case   label_gold  \\\n",
       "1271                         Fucking hell, what a day.   non-hateful   \n",
       "1272                      That's a great fucking idea.   non-hateful   \n",
       "1273                                   No fucking way.   non-hateful   \n",
       "1274                           I'm so fucking excited.   non-hateful   \n",
       "1275                        Are you fucking kidding me?  non-hateful   \n",
       "...                                                 ...          ...   \n",
       "3097  Pro lifers should get the fuck out of our coun...  non-hateful   \n",
       "3098  Most gun dealers are seriously fucked in the h...  non-hateful   \n",
       "3099  By nature, corporate accountants are just shit...  non-hateful   \n",
       "3100    Most real estate agents are absolute bastards.   non-hateful   \n",
       "3101         Of course that dumbass was a snowboarder.   non-hateful   \n",
       "\n",
       "     target_ident  \n",
       "1271          NaN  \n",
       "1272          NaN  \n",
       "1273          NaN  \n",
       "1274          NaN  \n",
       "1275          NaN  \n",
       "...           ...  \n",
       "3097          NaN  \n",
       "3098          NaN  \n",
       "3099          NaN  \n",
       "3100          NaN  \n",
       "3101          NaN  \n",
       "\n",
       "[295 rows x 3 columns]"
      ]
     },
     "execution_count": 202,
     "metadata": {},
     "output_type": "execute_result"
    }
   ],
   "source": [
    "nans = pd.isnull(df[\"target_ident\"]) #selecting all nans\n",
    "df[nans].to_csv(\"../project/Data/nans.csv\") # saving as csv to closer inspect\n",
    "df[nans]\n"
   ]
  },
  {
   "cell_type": "markdown",
   "metadata": {},
   "source": [
    "There is 295 entries in the target identity column that are nan numbers. These should either be removed or corrected. In this case I think I will remove them as when I closer inspected the data, it seemed that most of the comments were irrelevant. They gave a very unsure insight into what is non-hateful speech."
   ]
  },
  {
   "cell_type": "code",
   "execution_count": 203,
   "metadata": {},
   "outputs": [
    {
     "name": "stdout",
     "output_type": "stream",
     "text": [
      "<class 'pandas.core.frame.DataFrame'>\n",
      "Index: 3606 entries, 0 to 3900\n",
      "Data columns (total 3 columns):\n",
      " #   Column        Non-Null Count  Dtype \n",
      "---  ------        --------------  ----- \n",
      " 0   test_case     3606 non-null   object\n",
      " 1   label_gold    3606 non-null   object\n",
      " 2   target_ident  3606 non-null   object\n",
      "dtypes: object(3)\n",
      "memory usage: 112.7+ KB\n"
     ]
    }
   ],
   "source": [
    "df = df.dropna() # dropping the nan values from the target column and the whole dataset\n",
    "df.info()"
   ]
  },
  {
   "cell_type": "code",
   "execution_count": 204,
   "metadata": {},
   "outputs": [
    {
     "name": "stdout",
     "output_type": "stream",
     "text": [
      "Duplicates Empty DataFrame\n",
      "Columns: [test_case, label_gold, target_ident]\n",
      "Index: []\n"
     ]
    }
   ],
   "source": [
    "# Checking for duplicated entries\n",
    "duplicates =df[df.duplicated]\n",
    "print(f\"Duplicates {duplicates}\")"
   ]
  },
  {
   "cell_type": "markdown",
   "metadata": {},
   "source": [
    "Now the data set contains 3606 entries. I will now explore to see how the data is distributed over the different features."
   ]
  },
  {
   "cell_type": "code",
   "execution_count": 206,
   "metadata": {},
   "outputs": [
    {
     "data": {
      "text/html": [
       "<div>\n",
       "<style scoped>\n",
       "    .dataframe tbody tr th:only-of-type {\n",
       "        vertical-align: middle;\n",
       "    }\n",
       "\n",
       "    .dataframe tbody tr th {\n",
       "        vertical-align: top;\n",
       "    }\n",
       "\n",
       "    .dataframe thead th {\n",
       "        text-align: right;\n",
       "    }\n",
       "</style>\n",
       "<table border=\"1\" class=\"dataframe\">\n",
       "  <thead>\n",
       "    <tr style=\"text-align: right;\">\n",
       "      <th></th>\n",
       "      <th>label_gold</th>\n",
       "      <th>counts</th>\n",
       "    </tr>\n",
       "  </thead>\n",
       "  <tbody>\n",
       "    <tr>\n",
       "      <th>0</th>\n",
       "      <td>hateful</td>\n",
       "      <td>2659</td>\n",
       "    </tr>\n",
       "    <tr>\n",
       "      <th>1</th>\n",
       "      <td>non-hateful</td>\n",
       "      <td>947</td>\n",
       "    </tr>\n",
       "  </tbody>\n",
       "</table>\n",
       "</div>"
      ],
      "text/plain": [
       "    label_gold  counts\n",
       "0      hateful    2659\n",
       "1  non-hateful     947"
      ]
     },
     "execution_count": 206,
     "metadata": {},
     "output_type": "execute_result"
    }
   ],
   "source": [
    "group_data = df.groupby(\"label_gold\").size().reset_index(name=\"counts\")\n",
    "group_data"
   ]
  },
  {
   "cell_type": "code",
   "execution_count": 207,
   "metadata": {},
   "outputs": [
    {
     "data": {
      "text/html": [
       "<div>\n",
       "<style scoped>\n",
       "    .dataframe tbody tr th:only-of-type {\n",
       "        vertical-align: middle;\n",
       "    }\n",
       "\n",
       "    .dataframe tbody tr th {\n",
       "        vertical-align: top;\n",
       "    }\n",
       "\n",
       "    .dataframe thead th {\n",
       "        text-align: right;\n",
       "    }\n",
       "</style>\n",
       "<table border=\"1\" class=\"dataframe\">\n",
       "  <thead>\n",
       "    <tr style=\"text-align: right;\">\n",
       "      <th></th>\n",
       "      <th>target_ident</th>\n",
       "      <th>counts</th>\n",
       "    </tr>\n",
       "  </thead>\n",
       "  <tbody>\n",
       "    <tr>\n",
       "      <th>0</th>\n",
       "      <td>Muslims</td>\n",
       "      <td>510</td>\n",
       "    </tr>\n",
       "    <tr>\n",
       "      <th>1</th>\n",
       "      <td>black people</td>\n",
       "      <td>504</td>\n",
       "    </tr>\n",
       "    <tr>\n",
       "      <th>2</th>\n",
       "      <td>disabled people</td>\n",
       "      <td>510</td>\n",
       "    </tr>\n",
       "    <tr>\n",
       "      <th>3</th>\n",
       "      <td>gay people</td>\n",
       "      <td>577</td>\n",
       "    </tr>\n",
       "    <tr>\n",
       "      <th>4</th>\n",
       "      <td>immigrants</td>\n",
       "      <td>485</td>\n",
       "    </tr>\n",
       "    <tr>\n",
       "      <th>5</th>\n",
       "      <td>trans people</td>\n",
       "      <td>485</td>\n",
       "    </tr>\n",
       "    <tr>\n",
       "      <th>6</th>\n",
       "      <td>women</td>\n",
       "      <td>535</td>\n",
       "    </tr>\n",
       "  </tbody>\n",
       "</table>\n",
       "</div>"
      ],
      "text/plain": [
       "      target_ident  counts\n",
       "0          Muslims     510\n",
       "1     black people     504\n",
       "2  disabled people     510\n",
       "3       gay people     577\n",
       "4       immigrants     485\n",
       "5     trans people     485\n",
       "6            women     535"
      ]
     },
     "execution_count": 207,
     "metadata": {},
     "output_type": "execute_result"
    }
   ],
   "source": [
    "category_data = df.groupby(\"target_ident\").size().reset_index(name=\"counts\")\n",
    "category_data"
   ]
  },
  {
   "cell_type": "code",
   "execution_count": 208,
   "metadata": {},
   "outputs": [
    {
     "data": {
      "text/plain": [
       "label_gold   target_ident   \n",
       "hateful      Muslims            388\n",
       "             black people       369\n",
       "             disabled people    388\n",
       "             gay people         388\n",
       "             immigrants         369\n",
       "             trans people       369\n",
       "             women              388\n",
       "non-hateful  Muslims            122\n",
       "             black people       135\n",
       "             disabled people    122\n",
       "             gay people         189\n",
       "             immigrants         116\n",
       "             trans people       116\n",
       "             women              147\n",
       "dtype: int64"
      ]
     },
     "execution_count": 208,
     "metadata": {},
     "output_type": "execute_result"
    }
   ],
   "source": [
    "count_df = df.groupby([\"label_gold\", \"target_ident\"]).size() # grouping by the label_gold\n",
    "count_df"
   ]
  },
  {
   "cell_type": "code",
   "execution_count": 209,
   "metadata": {},
   "outputs": [
    {
     "data": {
      "text/plain": [
       "<Axes: title={'center': 'Grouped_data'}, xlabel='label_gold,target_ident'>"
      ]
     },
     "execution_count": 209,
     "metadata": {},
     "output_type": "execute_result"
    },
    {
     "data": {
      "image/png": "[encoded data removed]",
      "text/plain": [
       "<Figure size 640x480 with 1 Axes>"
      ]
     },
     "metadata": {},
     "output_type": "display_data"
    }
   ],
   "source": [
    "count_df.plot(\n",
    "    x=\"label_gold\",\n",
    "    kind=\"bar\",\n",
    "    title=\"Grouped_data\"\n",
    ")"
   ]
  },
  {
   "cell_type": "markdown",
   "metadata": {},
   "source": [
    "From the graph we can see that the data is rather balanced within the two categories hateful and non hateful. However as a whole there are more hateful statements then non hateful. This could have a bias on the model. It would be good if I were able to balance this within the model. "
   ]
  },
  {
   "cell_type": "markdown",
   "metadata": {},
   "source": [
    "## Data Processing"
   ]
  },
  {
   "cell_type": "markdown",
   "metadata": {},
   "source": [
    "The next stage of the process is to clean the data and to prepare it for use within the model. I need to ensure that that everything is in lowercase, remove any number, any punctuation and any unnecessary whitespace. I will also fix any misspelled words "
   ]
  },
  {
   "cell_type": "code",
   "execution_count": 186,
   "metadata": {},
   "outputs": [],
   "source": [
    "spell_check_df = pd.DataFrame()\n",
    "spell_check_df[\"test_case\"] = df[\"test_case\"]\n",
    "spell_check_df[\"label_gold\"] = df[\"label_gold\"]\n",
    "spell_check_df[\"target_ident\"] = df[\"target_ident\"]\n",
    "\n",
    "spell_check_df[\"test_case\"] = df[\"test_case\"].apply(lambda x: ''.join(TextBlob(x).correct()))"
   ]
  },
  {
   "cell_type": "code",
   "execution_count": 187,
   "metadata": {},
   "outputs": [
    {
     "data": {
      "text/html": [
       "<div>\n",
       "<style scoped>\n",
       "    .dataframe tbody tr th:only-of-type {\n",
       "        vertical-align: middle;\n",
       "    }\n",
       "\n",
       "    .dataframe tbody tr th {\n",
       "        vertical-align: top;\n",
       "    }\n",
       "\n",
       "    .dataframe thead th {\n",
       "        text-align: right;\n",
       "    }\n",
       "</style>\n",
       "<table border=\"1\" class=\"dataframe\">\n",
       "  <thead>\n",
       "    <tr style=\"text-align: right;\">\n",
       "      <th></th>\n",
       "      <th>test_case</th>\n",
       "      <th>label_gold</th>\n",
       "      <th>target_ident</th>\n",
       "    </tr>\n",
       "  </thead>\n",
       "  <tbody>\n",
       "    <tr>\n",
       "      <th>0</th>\n",
       "      <td>I hate women.</td>\n",
       "      <td>hateful</td>\n",
       "      <td>women</td>\n",
       "    </tr>\n",
       "    <tr>\n",
       "      <th>1</th>\n",
       "      <td>I hate trans people.</td>\n",
       "      <td>hateful</td>\n",
       "      <td>trans people</td>\n",
       "    </tr>\n",
       "    <tr>\n",
       "      <th>2</th>\n",
       "      <td>I hate gay people.</td>\n",
       "      <td>hateful</td>\n",
       "      <td>gay people</td>\n",
       "    </tr>\n",
       "    <tr>\n",
       "      <th>3</th>\n",
       "      <td>I hate black people.</td>\n",
       "      <td>hateful</td>\n",
       "      <td>black people</td>\n",
       "    </tr>\n",
       "    <tr>\n",
       "      <th>4</th>\n",
       "      <td>I hate disabled people.</td>\n",
       "      <td>hateful</td>\n",
       "      <td>disabled people</td>\n",
       "    </tr>\n",
       "    <tr>\n",
       "      <th>...</th>\n",
       "      <td>...</td>\n",
       "      <td>...</td>\n",
       "      <td>...</td>\n",
       "    </tr>\n",
       "    <tr>\n",
       "      <th>3896</th>\n",
       "      <td>May people are all complete 4ssholes.</td>\n",
       "      <td>hateful</td>\n",
       "      <td>gay people</td>\n",
       "    </tr>\n",
       "    <tr>\n",
       "      <th>3897</th>\n",
       "      <td>Black people are all complete 4ssholes.</td>\n",
       "      <td>hateful</td>\n",
       "      <td>black people</td>\n",
       "    </tr>\n",
       "    <tr>\n",
       "      <th>3898</th>\n",
       "      <td>Disabled people are all complete 4ssholes.</td>\n",
       "      <td>hateful</td>\n",
       "      <td>disabled people</td>\n",
       "    </tr>\n",
       "    <tr>\n",
       "      <th>3899</th>\n",
       "      <td>Muslims are all complete 4ssholes.</td>\n",
       "      <td>hateful</td>\n",
       "      <td>Muslims</td>\n",
       "    </tr>\n",
       "    <tr>\n",
       "      <th>3900</th>\n",
       "      <td>Immigrants are all complete 4ssholes.</td>\n",
       "      <td>hateful</td>\n",
       "      <td>immigrants</td>\n",
       "    </tr>\n",
       "  </tbody>\n",
       "</table>\n",
       "<p>3606 rows × 3 columns</p>\n",
       "</div>"
      ],
      "text/plain": [
       "                                        test_case label_gold     target_ident\n",
       "0                                  I hate women.     hateful            women\n",
       "1                           I hate trans people.     hateful     trans people\n",
       "2                             I hate gay people.     hateful       gay people\n",
       "3                           I hate black people.     hateful     black people\n",
       "4                        I hate disabled people.     hateful  disabled people\n",
       "...                                           ...        ...              ...\n",
       "3896       May people are all complete 4ssholes.     hateful       gay people\n",
       "3897     Black people are all complete 4ssholes.     hateful     black people\n",
       "3898  Disabled people are all complete 4ssholes.     hateful  disabled people\n",
       "3899          Muslims are all complete 4ssholes.     hateful          Muslims\n",
       "3900       Immigrants are all complete 4ssholes.     hateful       immigrants\n",
       "\n",
       "[3606 rows x 3 columns]"
      ]
     },
     "execution_count": 187,
     "metadata": {},
     "output_type": "execute_result"
    }
   ],
   "source": [
    "spell_check_df.to_csv(\"../project/Data/spellcheck.csv\", index=False)\n",
    "spell_check_df"
   ]
  },
  {
   "cell_type": "code",
   "execution_count": 210,
   "metadata": {},
   "outputs": [],
   "source": [
    "def clean_text(text):\n",
    "    text = text.lower()\n",
    "    # removing square brackets (will come in handy later) and punctuation\n",
    "    text = re.sub('[%s]' % re.escape(string.punctuation), ' ', text) \n",
    "    # removing numbers from start or end of a word\n",
    "    text = text.strip(string.digits)\n",
    "    # removing numbers from within words\n",
    "    text = re.sub(r'\\b(\\w*\\d\\w*)\\b', lambda x: re.sub('\\d', '', x.group()), text)\n",
    "    # removing extra whitespace\n",
    "    text = re.sub(' +', ' ',text)\n",
    "    \n",
    "    return text  "
   ]
  },
  {
   "cell_type": "code",
   "execution_count": 211,
   "metadata": {},
   "outputs": [
    {
     "name": "stderr",
     "output_type": "stream",
     "text": [
      "/tmp/ipykernel_894/2690514769.py:1: SettingWithCopyWarning: \n",
      "A value is trying to be set on a copy of a slice from a DataFrame.\n",
      "Try using .loc[row_indexer,col_indexer] = value instead\n",
      "\n",
      "See the caveats in the documentation: https://pandas.pydata.org/pandas-docs/stable/user_guide/indexing.html#returning-a-view-versus-a-copy\n",
      "  df[\"test_case\"] = pd.DataFrame(df.test_case.apply(clean_text))\n"
     ]
    }
   ],
   "source": [
    "df[\"test_case\"] = pd.DataFrame(df.test_case.apply(clean_text))"
   ]
  },
  {
   "cell_type": "code",
   "execution_count": 189,
   "metadata": {},
   "outputs": [
    {
     "name": "stderr",
     "output_type": "stream",
     "text": [
      "/tmp/ipykernel_894/3717588590.py:1: SettingWithCopyWarning: \n",
      "A value is trying to be set on a copy of a slice from a DataFrame.\n",
      "Try using .loc[row_indexer,col_indexer] = value instead\n",
      "\n",
      "See the caveats in the documentation: https://pandas.pydata.org/pandas-docs/stable/user_guide/indexing.html#returning-a-view-versus-a-copy\n",
      "  df[\"test_case\"] = pd.DataFrame(df.test_case.apply(clean_text))\n"
     ]
    },
    {
     "data": {
      "text/plain": [
       "(                                      test_case label_gold     target_ident\n",
       " 0                                 i hate women     hateful            women\n",
       " 1                          i hate trans people     hateful     trans people\n",
       " 2                            i hate gay people     hateful       gay people\n",
       " 3                          i hate black people     hateful     black people\n",
       " 4                       i hate disabled people     hateful  disabled people\n",
       " ...                                         ...        ...              ...\n",
       " 3896       gay people are all complete ssholes     hateful       gay people\n",
       " 3897     black people are all complete ssholes     hateful     black people\n",
       " 3898  disabled people are all complete ssholes     hateful  disabled people\n",
       " 3899          muslims are all complete ssholes     hateful          Muslims\n",
       " 3900       immigrants are all complete ssholes     hateful       immigrants\n",
       " \n",
       " [3606 rows x 3 columns],\n",
       "                                       test_case label_gold     target_ident\n",
       " 0                                 i hate women     hateful            women\n",
       " 1                          i hate trans people     hateful     trans people\n",
       " 2                            i hate gay people     hateful       gay people\n",
       " 3                          i hate black people     hateful     black people\n",
       " 4                       i hate disabled people     hateful  disabled people\n",
       " ...                                         ...        ...              ...\n",
       " 3896       may people are all complete ssholes     hateful       gay people\n",
       " 3897     black people are all complete ssholes     hateful     black people\n",
       " 3898  disabled people are all complete ssholes     hateful  disabled people\n",
       " 3899          muslims are all complete ssholes     hateful          Muslims\n",
       " 3900       immigrants are all complete ssholes     hateful       immigrants\n",
       " \n",
       " [3606 rows x 3 columns])"
      ]
     },
     "execution_count": 189,
     "metadata": {},
     "output_type": "execute_result"
    }
   ],
   "source": [
    "df[\"test_case\"] = pd.DataFrame(df.test_case.apply(clean_text))\n",
    "\n",
    "spell_check_df[\"test_case\"] = pd.DataFrame(spell_check_df.test_case.apply(clean_text))\n",
    "\n",
    "spell_check_df[\"test_case\"] = pd.DataFrame(spell_check_df.test_case.apply(clean_text))\n",
    "\n",
    "df, spell_check_df"
   ]
  },
  {
   "cell_type": "markdown",
   "metadata": {},
   "source": []
  },
  {
   "cell_type": "code",
   "execution_count": 20,
   "metadata": {},
   "outputs": [
    {
     "ename": "NameError",
     "evalue": "name 'df_non_hateful' is not defined",
     "output_type": "error",
     "traceback": [
      "\u001b[0;31m---------------------------------------------------------------------------\u001b[0m",
      "\u001b[0;31mNameError\u001b[0m                                 Traceback (most recent call last)",
      "Cell \u001b[0;32mIn[20], line 20\u001b[0m\n\u001b[1;32m     17\u001b[0m aug \u001b[38;5;241m=\u001b[39m naw\u001b[38;5;241m.\u001b[39mContextualWordEmbsAug(model_path\u001b[38;5;241m=\u001b[39m\u001b[38;5;124m'\u001b[39m\u001b[38;5;124mbert-base-uncased\u001b[39m\u001b[38;5;124m'\u001b[39m, action\u001b[38;5;241m=\u001b[39m\u001b[38;5;124m\"\u001b[39m\u001b[38;5;124minsert\u001b[39m\u001b[38;5;124m\"\u001b[39m)\n\u001b[1;32m     19\u001b[0m \u001b[38;5;66;03m# Apply the augmentation function to each row in the DataFrame\u001b[39;00m\n\u001b[0;32m---> 20\u001b[0m augmented_df \u001b[38;5;241m=\u001b[39m \u001b[43mdf_non_hateful\u001b[49m\u001b[38;5;241m.\u001b[39mapply(\u001b[38;5;28;01mlambda\u001b[39;00m row: augment_with_emotion(row, aug), axis\u001b[38;5;241m=\u001b[39m\u001b[38;5;241m1\u001b[39m)\n\u001b[1;32m     22\u001b[0m augmented_df[\u001b[38;5;124m'\u001b[39m\u001b[38;5;124mtest_case\u001b[39m\u001b[38;5;124m'\u001b[39m] \u001b[38;5;241m=\u001b[39m augmented_df[\u001b[38;5;124m\"\u001b[39m\u001b[38;5;124mtest_case\u001b[39m\u001b[38;5;124m\"\u001b[39m]\u001b[38;5;241m.\u001b[39mapply(\u001b[38;5;28;01mlambda\u001b[39;00m x: \u001b[38;5;28mstr\u001b[39m(x)\u001b[38;5;241m.\u001b[39mreplace(\u001b[38;5;124m'\u001b[39m\u001b[38;5;124m[\u001b[39m\u001b[38;5;124m'\u001b[39m, \u001b[38;5;124m'\u001b[39m\u001b[38;5;124m'\u001b[39m)\u001b[38;5;241m.\u001b[39mreplace(\u001b[38;5;124m'\u001b[39m\u001b[38;5;124m]\u001b[39m\u001b[38;5;124m'\u001b[39m, \u001b[38;5;124m'\u001b[39m\u001b[38;5;124m'\u001b[39m)\u001b[38;5;241m.\u001b[39mreplace(\u001b[38;5;124m\"\u001b[39m\u001b[38;5;124m'\u001b[39m\u001b[38;5;124m\"\u001b[39m, \u001b[38;5;124m'\u001b[39m\u001b[38;5;124m'\u001b[39m))\n\u001b[1;32m     24\u001b[0m augmented_df\u001b[38;5;241m.\u001b[39mto_csv(\u001b[38;5;124m\"\u001b[39m\u001b[38;5;124m../project/Data/augmented.csv\u001b[39m\u001b[38;5;124m\"\u001b[39m, index\u001b[38;5;241m=\u001b[39m\u001b[38;5;28;01mFalse\u001b[39;00m)\n",
      "\u001b[0;31mNameError\u001b[0m: name 'df_non_hateful' is not defined"
     ]
    }
   ],
   "source": [
    "def augment_with_emotion(row, aug):\n",
    "    original_text = row[\"test_case\"]\n",
    "    original_label = row[\"label_gold\"]\n",
    "    original_emotion = row[\"target_ident\"]\n",
    "\n",
    "    \n",
    "    augmented_text = aug.augment(original_text)\n",
    "    \n",
    "    # Create a new row with augmented text and the original emotion label\n",
    "    row[\"test_case\"] = augmented_text\n",
    "    row[\"label_gold\"] = original_label\n",
    "    row[\"target_ident\"] = original_emotion\n",
    "    \n",
    "    return row\n",
    "\n",
    "# Augmenter configuration\n",
    "aug = naw.ContextualWordEmbsAug(model_path='bert-base-uncased', action=\"insert\")\n",
    "\n",
    "# Apply the augmentation function to each row in the DataFrame\n",
    "augmented_df = df_non_hateful.apply(lambda row: augment_with_emotion(row, aug), axis=1)\n",
    "\n",
    "augmented_df['test_case'] = augmented_df[\"test_case\"].apply(lambda x: str(x).replace('[', '').replace(']', '').replace(\"'\", ''))\n",
    "\n",
    "augmented_df.to_csv(\"../project/Data/augmented.csv\", index=False)"
   ]
  },
  {
   "cell_type": "code",
   "execution_count": null,
   "metadata": {},
   "outputs": [
    {
     "data": {
      "text/html": [
       "<div>\n",
       "<style scoped>\n",
       "    .dataframe tbody tr th:only-of-type {\n",
       "        vertical-align: middle;\n",
       "    }\n",
       "\n",
       "    .dataframe tbody tr th {\n",
       "        vertical-align: top;\n",
       "    }\n",
       "\n",
       "    .dataframe thead th {\n",
       "        text-align: right;\n",
       "    }\n",
       "</style>\n",
       "<table border=\"1\" class=\"dataframe\">\n",
       "  <thead>\n",
       "    <tr style=\"text-align: right;\">\n",
       "      <th></th>\n",
       "      <th>test_case</th>\n",
       "      <th>label_gold</th>\n",
       "      <th>target_ident</th>\n",
       "    </tr>\n",
       "  </thead>\n",
       "  <tbody>\n",
       "    <tr>\n",
       "      <th>0</th>\n",
       "      <td>2010 building new dyke near ocean beach</td>\n",
       "      <td>non-hateful</td>\n",
       "      <td>gay people</td>\n",
       "    </tr>\n",
       "    <tr>\n",
       "      <th>1</th>\n",
       "      <td>went onto walk behind dyke water</td>\n",
       "      <td>non-hateful</td>\n",
       "      <td>gay people</td>\n",
       "    </tr>\n",
       "    <tr>\n",
       "      <th>2</th>\n",
       "      <td>parish council had built gates two dyke protec...</td>\n",
       "      <td>non-hateful</td>\n",
       "      <td>gay people</td>\n",
       "    </tr>\n",
       "    <tr>\n",
       "      <th>3</th>\n",
       "      <td>dyked marshland located along river provide wi...</td>\n",
       "      <td>non-hateful</td>\n",
       "      <td>gay people</td>\n",
       "    </tr>\n",
       "    <tr>\n",
       "      <th>4</th>\n",
       "      <td>dyke long wall drains embankment once built pr...</td>\n",
       "      <td>non-hateful</td>\n",
       "      <td>gay people</td>\n",
       "    </tr>\n",
       "    <tr>\n",
       "      <th>...</th>\n",
       "      <td>...</td>\n",
       "      <td>...</td>\n",
       "      <td>...</td>\n",
       "    </tr>\n",
       "    <tr>\n",
       "      <th>942</th>\n",
       "      <td>writing gay people asshole magazines say what ...</td>\n",
       "      <td>non-hateful</td>\n",
       "      <td>gay people</td>\n",
       "    </tr>\n",
       "    <tr>\n",
       "      <th>943</th>\n",
       "      <td>in writing black people asshole say how lot up...</td>\n",
       "      <td>non-hateful</td>\n",
       "      <td>black people</td>\n",
       "    </tr>\n",
       "    <tr>\n",
       "      <th>944</th>\n",
       "      <td>writing disabled homeless people asshole would...</td>\n",
       "      <td>non-hateful</td>\n",
       "      <td>disabled people</td>\n",
       "    </tr>\n",
       "    <tr>\n",
       "      <th>945</th>\n",
       "      <td>but writing muslim asshole biography say of lo...</td>\n",
       "      <td>non-hateful</td>\n",
       "      <td>Muslims</td>\n",
       "    </tr>\n",
       "    <tr>\n",
       "      <th>946</th>\n",
       "      <td>writing the immigrant an asshole say lot of sm...</td>\n",
       "      <td>non-hateful</td>\n",
       "      <td>immigrants</td>\n",
       "    </tr>\n",
       "  </tbody>\n",
       "</table>\n",
       "<p>947 rows × 3 columns</p>\n",
       "</div>"
      ],
      "text/plain": [
       "                                             test_case   label_gold  \\\n",
       "0              2010 building new dyke near ocean beach  non-hateful   \n",
       "1                     went onto walk behind dyke water  non-hateful   \n",
       "2    parish council had built gates two dyke protec...  non-hateful   \n",
       "3    dyked marshland located along river provide wi...  non-hateful   \n",
       "4    dyke long wall drains embankment once built pr...  non-hateful   \n",
       "..                                                 ...          ...   \n",
       "942  writing gay people asshole magazines say what ...  non-hateful   \n",
       "943  in writing black people asshole say how lot up...  non-hateful   \n",
       "944  writing disabled homeless people asshole would...  non-hateful   \n",
       "945  but writing muslim asshole biography say of lo...  non-hateful   \n",
       "946  writing the immigrant an asshole say lot of sm...  non-hateful   \n",
       "\n",
       "        target_ident  \n",
       "0         gay people  \n",
       "1         gay people  \n",
       "2         gay people  \n",
       "3         gay people  \n",
       "4         gay people  \n",
       "..               ...  \n",
       "942       gay people  \n",
       "943     black people  \n",
       "944  disabled people  \n",
       "945          Muslims  \n",
       "946       immigrants  \n",
       "\n",
       "[947 rows x 3 columns]"
      ]
     },
     "execution_count": 155,
     "metadata": {},
     "output_type": "execute_result"
    }
   ],
   "source": [
    "df_non_hateful_aug = pd.read_csv(\"../project/Data/augmented.csv\")\n",
    "df_non_hateful_aug"
   ]
  },
  {
   "cell_type": "code",
   "execution_count": null,
   "metadata": {},
   "outputs": [],
   "source": []
  },
  {
   "cell_type": "markdown",
   "metadata": {},
   "source": [
    "I have augmented The non hateful text in the hope that it will make the data set more balanced. \n",
    "I will now split the data. \n",
    "When I split the data I will add the augmented data to the training data only.This is to ensure that the data is balanced for the model to train on. I will not add augmented data to the test data. The reason for this is because the augmented data only makes a small change on the original data to ensure it is different. So if I were to add it to the test data this could provide potential data leakage.   "
   ]
  },
  {
   "cell_type": "markdown",
   "metadata": {},
   "source": [
    "#### Stop words and Lemmatizing"
   ]
  },
  {
   "cell_type": "code",
   "execution_count": 212,
   "metadata": {},
   "outputs": [],
   "source": [
    "def preprocess_text(text):\n",
    "    #Remove stop words\n",
    "\n",
    "    stop_words = set(stopwords.words(\"english\"))\n",
    "    tokens = text.split() # splitting the words one by one\n",
    "    filtered_tokens = [token for token in tokens if token not in stop_words] # keeping the words that are not stop words\n",
    "\n",
    "    # Lemmatize the tokens\n",
    "\n",
    "    lemmatizer = WordNetLemmatizer()\n",
    "    lemmatized_tokens = [lemmatizer.lemmatize(token) for token in filtered_tokens]\n",
    "\n",
    "    processed_text = \" \".join(lemmatized_tokens)\n",
    "\n",
    "    return processed_text"
   ]
  },
  {
   "cell_type": "code",
   "execution_count": 213,
   "metadata": {},
   "outputs": [],
   "source": [
    "df.loc[:, \"test_case\"] = df[\"test_case\"].apply(preprocess_text)"
   ]
  },
  {
   "cell_type": "code",
   "execution_count": 22,
   "metadata": {},
   "outputs": [
    {
     "ename": "NameError",
     "evalue": "name 'df_non_hateful_aug' is not defined",
     "output_type": "error",
     "traceback": [
      "\u001b[0;31m---------------------------------------------------------------------------\u001b[0m",
      "\u001b[0;31mNameError\u001b[0m                                 Traceback (most recent call last)",
      "Cell \u001b[0;32mIn[22], line 5\u001b[0m\n\u001b[1;32m      1\u001b[0m df\u001b[38;5;241m.\u001b[39mloc[:, \u001b[38;5;124m\"\u001b[39m\u001b[38;5;124mtest_case\u001b[39m\u001b[38;5;124m\"\u001b[39m] \u001b[38;5;241m=\u001b[39m df[\u001b[38;5;124m\"\u001b[39m\u001b[38;5;124mtest_case\u001b[39m\u001b[38;5;124m\"\u001b[39m]\u001b[38;5;241m.\u001b[39mapply(preprocess_text)\n\u001b[1;32m      3\u001b[0m spell_check_df\u001b[38;5;241m.\u001b[39mloc[:, \u001b[38;5;124m\"\u001b[39m\u001b[38;5;124mtest_case\u001b[39m\u001b[38;5;124m\"\u001b[39m] \u001b[38;5;241m=\u001b[39m spell_check_df[\u001b[38;5;124m\"\u001b[39m\u001b[38;5;124mtest_case\u001b[39m\u001b[38;5;124m\"\u001b[39m]\u001b[38;5;241m.\u001b[39mapply(preprocess_text)\n\u001b[0;32m----> 5\u001b[0m df_non_hateful_aug\u001b[38;5;241m.\u001b[39mloc[:, \u001b[38;5;124m\"\u001b[39m\u001b[38;5;124mtest_case\u001b[39m\u001b[38;5;124m\"\u001b[39m] \u001b[38;5;241m=\u001b[39m \u001b[43mdf_non_hateful_aug\u001b[49m[\u001b[38;5;124m\"\u001b[39m\u001b[38;5;124mtest_case\u001b[39m\u001b[38;5;124m\"\u001b[39m]\u001b[38;5;241m.\u001b[39mapply(preprocess_text)\n\u001b[1;32m      7\u001b[0m df, spell_check_df,\n",
      "\u001b[0;31mNameError\u001b[0m: name 'df_non_hateful_aug' is not defined"
     ]
    }
   ],
   "source": [
    "df.loc[:, \"test_case\"] = df[\"test_case\"].apply(preprocess_text)\n",
    "\n",
    "spell_check_df.loc[:, \"test_case\"] = spell_check_df[\"test_case\"].apply(preprocess_text)\n",
    "\n",
    "df_non_hateful_aug.loc[:, \"test_case\"] = df_non_hateful_aug[\"test_case\"].apply(preprocess_text)\n",
    "\n",
    "df, spell_check_df,"
   ]
  },
  {
   "cell_type": "code",
   "execution_count": null,
   "metadata": {},
   "outputs": [
    {
     "data": {
      "text/html": [
       "<div>\n",
       "<style scoped>\n",
       "    .dataframe tbody tr th:only-of-type {\n",
       "        vertical-align: middle;\n",
       "    }\n",
       "\n",
       "    .dataframe tbody tr th {\n",
       "        vertical-align: top;\n",
       "    }\n",
       "\n",
       "    .dataframe thead th {\n",
       "        text-align: right;\n",
       "    }\n",
       "</style>\n",
       "<table border=\"1\" class=\"dataframe\">\n",
       "  <thead>\n",
       "    <tr style=\"text-align: right;\">\n",
       "      <th></th>\n",
       "      <th>test_case</th>\n",
       "      <th>label_gold</th>\n",
       "      <th>target_ident</th>\n",
       "    </tr>\n",
       "  </thead>\n",
       "  <tbody>\n",
       "    <tr>\n",
       "      <th>0</th>\n",
       "      <td>2010 building new dyke near ocean beach</td>\n",
       "      <td>non-hateful</td>\n",
       "      <td>gay people</td>\n",
       "    </tr>\n",
       "    <tr>\n",
       "      <th>1</th>\n",
       "      <td>went onto walk behind dyke water</td>\n",
       "      <td>non-hateful</td>\n",
       "      <td>gay people</td>\n",
       "    </tr>\n",
       "    <tr>\n",
       "      <th>2</th>\n",
       "      <td>parish council built gate two dyke protect tow...</td>\n",
       "      <td>non-hateful</td>\n",
       "      <td>gay people</td>\n",
       "    </tr>\n",
       "    <tr>\n",
       "      <th>3</th>\n",
       "      <td>dyked marshland located along river provide wi...</td>\n",
       "      <td>non-hateful</td>\n",
       "      <td>gay people</td>\n",
       "    </tr>\n",
       "    <tr>\n",
       "      <th>4</th>\n",
       "      <td>dyke long wall drain embankment built prevent ...</td>\n",
       "      <td>non-hateful</td>\n",
       "      <td>gay people</td>\n",
       "    </tr>\n",
       "    <tr>\n",
       "      <th>...</th>\n",
       "      <td>...</td>\n",
       "      <td>...</td>\n",
       "      <td>...</td>\n",
       "    </tr>\n",
       "    <tr>\n",
       "      <th>942</th>\n",
       "      <td>writing gay people asshole magazine say lot sm...</td>\n",
       "      <td>non-hateful</td>\n",
       "      <td>gay people</td>\n",
       "    </tr>\n",
       "    <tr>\n",
       "      <th>943</th>\n",
       "      <td>writing black people asshole say lot small minded</td>\n",
       "      <td>non-hateful</td>\n",
       "      <td>black people</td>\n",
       "    </tr>\n",
       "    <tr>\n",
       "      <th>944</th>\n",
       "      <td>writing disabled homeless people asshole would...</td>\n",
       "      <td>non-hateful</td>\n",
       "      <td>disabled people</td>\n",
       "    </tr>\n",
       "    <tr>\n",
       "      <th>945</th>\n",
       "      <td>writing muslim asshole biography say lot small...</td>\n",
       "      <td>non-hateful</td>\n",
       "      <td>Muslims</td>\n",
       "    </tr>\n",
       "    <tr>\n",
       "      <th>946</th>\n",
       "      <td>writing immigrant asshole say lot small minded</td>\n",
       "      <td>non-hateful</td>\n",
       "      <td>immigrants</td>\n",
       "    </tr>\n",
       "  </tbody>\n",
       "</table>\n",
       "<p>947 rows × 3 columns</p>\n",
       "</div>"
      ],
      "text/plain": [
       "                                             test_case   label_gold  \\\n",
       "0              2010 building new dyke near ocean beach  non-hateful   \n",
       "1                     went onto walk behind dyke water  non-hateful   \n",
       "2    parish council built gate two dyke protect tow...  non-hateful   \n",
       "3    dyked marshland located along river provide wi...  non-hateful   \n",
       "4    dyke long wall drain embankment built prevent ...  non-hateful   \n",
       "..                                                 ...          ...   \n",
       "942  writing gay people asshole magazine say lot sm...  non-hateful   \n",
       "943  writing black people asshole say lot small minded  non-hateful   \n",
       "944  writing disabled homeless people asshole would...  non-hateful   \n",
       "945  writing muslim asshole biography say lot small...  non-hateful   \n",
       "946     writing immigrant asshole say lot small minded  non-hateful   \n",
       "\n",
       "        target_ident  \n",
       "0         gay people  \n",
       "1         gay people  \n",
       "2         gay people  \n",
       "3         gay people  \n",
       "4         gay people  \n",
       "..               ...  \n",
       "942       gay people  \n",
       "943     black people  \n",
       "944  disabled people  \n",
       "945          Muslims  \n",
       "946       immigrants  \n",
       "\n",
       "[947 rows x 3 columns]"
      ]
     },
     "execution_count": 158,
     "metadata": {},
     "output_type": "execute_result"
    }
   ],
   "source": [
    "df_non_hateful_aug"
   ]
  },
  {
   "cell_type": "markdown",
   "metadata": {},
   "source": [
    "I will now check the number of words there are in the datasets now. This is so I can get an idea on how big my total words and length of sentence should be for my model."
   ]
  },
  {
   "cell_type": "code",
   "execution_count": 214,
   "metadata": {},
   "outputs": [],
   "source": [
    "def num_words(data):\n",
    "\n",
    "    strings_len = pd.Series(data[\"test_case\"]).str.len()\n",
    "\n",
    "    return strings_len.describe()"
   ]
  },
  {
   "cell_type": "code",
   "execution_count": 215,
   "metadata": {},
   "outputs": [
    {
     "data": {
      "text/plain": [
       "count    3606.000000\n",
       "mean       28.879368\n",
       "std        10.627817\n",
       "min         3.000000\n",
       "25%        21.000000\n",
       "50%        27.000000\n",
       "75%        36.000000\n",
       "max        65.000000\n",
       "Name: test_case, dtype: float64"
      ]
     },
     "execution_count": 215,
     "metadata": {},
     "output_type": "execute_result"
    }
   ],
   "source": [
    "num_words(df)\n"
   ]
  },
  {
   "cell_type": "code",
   "execution_count": 193,
   "metadata": {},
   "outputs": [
    {
     "data": {
      "text/plain": [
       "count    3606.000000\n",
       "mean       47.509429\n",
       "std        16.728949\n",
       "min        10.000000\n",
       "25%        34.000000\n",
       "50%        45.000000\n",
       "75%        59.000000\n",
       "max       104.000000\n",
       "Name: test_case, dtype: float64"
      ]
     },
     "execution_count": 193,
     "metadata": {},
     "output_type": "execute_result"
    }
   ],
   "source": [
    "num_words(spell_check_df)"
   ]
  },
  {
   "cell_type": "markdown",
   "metadata": {},
   "source": [
    "#### Tokenize, padding and label encoding"
   ]
  },
  {
   "cell_type": "code",
   "execution_count": 219,
   "metadata": {},
   "outputs": [],
   "source": [
    "def label_encoder(data):\n",
    "    encoder_dict = {}\n",
    "\n",
    "    # Encode \"label_gold\" column\n",
    "    label_encoder_gold = LabelEncoder()\n",
    "    data[\"label_gold\"] = label_encoder_gold.fit_transform(data[\"label_gold\"])\n",
    "    encoder_dict[\"label_gold\"] = dict(zip(label_encoder_gold.classes_, label_encoder_gold.transform(label_encoder_gold.classes_)))\n",
    "\n",
    "    # Encode \"target_ident\" column\n",
    "    label_encoder_target = LabelEncoder()\n",
    "    data[\"target_ident\"] = label_encoder_target.fit_transform(data[\"target_ident\"])\n",
    "    encoder_dict[\"target_ident\"] = dict(zip(label_encoder_target.classes_, label_encoder_target.transform(label_encoder_target.classes_)))\n",
    "\n",
    "    return data, encoder_dict"
   ]
  },
  {
   "cell_type": "code",
   "execution_count": 220,
   "metadata": {},
   "outputs": [
    {
     "name": "stderr",
     "output_type": "stream",
     "text": [
      "/tmp/ipykernel_894/2333921043.py:6: SettingWithCopyWarning: \n",
      "A value is trying to be set on a copy of a slice from a DataFrame.\n",
      "Try using .loc[row_indexer,col_indexer] = value instead\n",
      "\n",
      "See the caveats in the documentation: https://pandas.pydata.org/pandas-docs/stable/user_guide/indexing.html#returning-a-view-versus-a-copy\n",
      "  data[\"label_gold\"] = label_encoder_gold.fit_transform(data[\"label_gold\"])\n",
      "/tmp/ipykernel_894/2333921043.py:11: SettingWithCopyWarning: \n",
      "A value is trying to be set on a copy of a slice from a DataFrame.\n",
      "Try using .loc[row_indexer,col_indexer] = value instead\n",
      "\n",
      "See the caveats in the documentation: https://pandas.pydata.org/pandas-docs/stable/user_guide/indexing.html#returning-a-view-versus-a-copy\n",
      "  data[\"target_ident\"] = label_encoder_target.fit_transform(data[\"target_ident\"])\n"
     ]
    }
   ],
   "source": [
    "df, encoder_dict = label_encoder(df)"
   ]
  },
  {
   "cell_type": "code",
   "execution_count": 221,
   "metadata": {},
   "outputs": [
    {
     "data": {
      "text/html": [
       "<div>\n",
       "<style scoped>\n",
       "    .dataframe tbody tr th:only-of-type {\n",
       "        vertical-align: middle;\n",
       "    }\n",
       "\n",
       "    .dataframe tbody tr th {\n",
       "        vertical-align: top;\n",
       "    }\n",
       "\n",
       "    .dataframe thead th {\n",
       "        text-align: right;\n",
       "    }\n",
       "</style>\n",
       "<table border=\"1\" class=\"dataframe\">\n",
       "  <thead>\n",
       "    <tr style=\"text-align: right;\">\n",
       "      <th></th>\n",
       "      <th>test_case</th>\n",
       "      <th>label_gold</th>\n",
       "      <th>target_ident</th>\n",
       "    </tr>\n",
       "  </thead>\n",
       "  <tbody>\n",
       "    <tr>\n",
       "      <th>0</th>\n",
       "      <td>hate woman</td>\n",
       "      <td>0</td>\n",
       "      <td>6</td>\n",
       "    </tr>\n",
       "    <tr>\n",
       "      <th>1</th>\n",
       "      <td>hate trans people</td>\n",
       "      <td>0</td>\n",
       "      <td>5</td>\n",
       "    </tr>\n",
       "    <tr>\n",
       "      <th>2</th>\n",
       "      <td>hate gay people</td>\n",
       "      <td>0</td>\n",
       "      <td>3</td>\n",
       "    </tr>\n",
       "    <tr>\n",
       "      <th>3</th>\n",
       "      <td>hate black people</td>\n",
       "      <td>0</td>\n",
       "      <td>1</td>\n",
       "    </tr>\n",
       "    <tr>\n",
       "      <th>4</th>\n",
       "      <td>hate disabled people</td>\n",
       "      <td>0</td>\n",
       "      <td>2</td>\n",
       "    </tr>\n",
       "  </tbody>\n",
       "</table>\n",
       "</div>"
      ],
      "text/plain": [
       "              test_case  label_gold  target_ident\n",
       "0            hate woman           0             6\n",
       "1     hate trans people           0             5\n",
       "2       hate gay people           0             3\n",
       "3     hate black people           0             1\n",
       "4  hate disabled people           0             2"
      ]
     },
     "execution_count": 221,
     "metadata": {},
     "output_type": "execute_result"
    }
   ],
   "source": [
    "df.head()"
   ]
  },
  {
   "cell_type": "code",
   "execution_count": 172,
   "metadata": {},
   "outputs": [
    {
     "data": {
      "text/plain": [
       "(                             test_case  label_gold  target_ident  \\\n",
       " 0                           hate woman           0             6   \n",
       " 1                    hate trans people           0             5   \n",
       " 2                      hate gay people           0             3   \n",
       " 3                    hate black people           0             1   \n",
       " 4                 hate disabled people           0             2   \n",
       " ...                                ...         ...           ...   \n",
       " 3896       may people complete ssholes           0             3   \n",
       " 3897     black people complete ssholes           0             1   \n",
       " 3898  disabled people complete ssholes           0             2   \n",
       " 3899           muslim complete ssholes           0             0   \n",
       " 3900        immigrant complete ssholes           0             4   \n",
       " \n",
       "       label_gold_encoded  target_ident_encoded  \n",
       " 0                      0                     6  \n",
       " 1                      0                     5  \n",
       " 2                      0                     3  \n",
       " 3                      0                     1  \n",
       " 4                      0                     2  \n",
       " ...                  ...                   ...  \n",
       " 3896                   0                     3  \n",
       " 3897                   0                     1  \n",
       " 3898                   0                     2  \n",
       " 3899                   0                     0  \n",
       " 3900                   0                     4  \n",
       " \n",
       " [3606 rows x 5 columns],\n",
       " {'label_gold': {0: 0, 1: 1},\n",
       "  'target_ident': {0: 0, 1: 1, 2: 2, 3: 3, 4: 4, 5: 5, 6: 6}})"
      ]
     },
     "execution_count": 172,
     "metadata": {},
     "output_type": "execute_result"
    }
   ],
   "source": [
    "spell_check_df, spell_check_encoder = label_encoder(spell_check_df)"
   ]
  },
  {
   "cell_type": "markdown",
   "metadata": {},
   "source": [
    "#### Splitting data"
   ]
  },
  {
   "cell_type": "code",
   "execution_count": 222,
   "metadata": {},
   "outputs": [],
   "source": [
    "# Splitting the data set\n",
    "X_train, X_test = train_test_split(df, test_size=0.2, random_state= 42, stratify=df[\"target_ident\"])\n",
    "X_train, X_val = train_test_split(X_train, train_size=0.7, random_state=42,stratify=X_train[\"target_ident\"])"
   ]
  },
  {
   "cell_type": "markdown",
   "metadata": {},
   "source": [
    "separating the two outputs variables and creating an array to with them"
   ]
  },
  {
   "cell_type": "code",
   "execution_count": 223,
   "metadata": {},
   "outputs": [],
   "source": [
    "def output_form(data):\n",
    "    opinion = data.pop(\"label_gold\")\n",
    "    opinion = np.array(opinion)\n",
    "    target_ident = data.pop(\"target_ident\")\n",
    "    target_ident = np.array(target_ident)\n",
    "\n",
    "    return (opinion, target_ident)"
   ]
  },
  {
   "cell_type": "code",
   "execution_count": 224,
   "metadata": {},
   "outputs": [],
   "source": [
    "y_train = output_form(X_train)\n",
    "y_test = output_form(X_test)\n",
    "y_val = output_form(X_val)"
   ]
  },
  {
   "cell_type": "code",
   "execution_count": 225,
   "metadata": {},
   "outputs": [],
   "source": [
    "# converting X data to series as when tokenizing and padding it does not work with a a dataframe\n",
    "X_train = X_train.squeeze()\n",
    "X_val = X_val.squeeze()\n",
    "X_test = X_test.squeeze()"
   ]
  },
  {
   "cell_type": "code",
   "execution_count": 226,
   "metadata": {},
   "outputs": [
    {
     "data": {
      "text/plain": [
       "2019                      cut disabled people throat\n",
       "178                      black people like repugnant\n",
       "1545    immigrant must committed crime violent cruel\n",
       "155               trans people absolutely despicable\n",
       "2743             call open hatred gay people society\n",
       "                            ...                     \n",
       "2846               really okay calling people jihadi\n",
       "1626                    life worth shit black people\n",
       "1894                    muslim deserve tortured like\n",
       "2570     make say stuff like gay people disgust much\n",
       "136                    absolutely abhor black people\n",
       "Name: test_case, Length: 2018, dtype: object"
      ]
     },
     "execution_count": 226,
     "metadata": {},
     "output_type": "execute_result"
    }
   ],
   "source": [
    "X_train"
   ]
  },
  {
   "cell_type": "code",
   "execution_count": 227,
   "metadata": {},
   "outputs": [],
   "source": [
    "# Tokenize the text data\n",
    "def tokenizer_padding(X_train, X_val, X_test,max_words, max_length):\n",
    "        \n",
    "        tokenizer = Tokenizer(num_words=max_words) # setting max words\n",
    "        tokenizer.fit_on_texts(X_train.astype(str)) # fitting tokenizer to fit/learn on the X train\n",
    "\n",
    "        X_train_seq = tokenizer.texts_to_sequences(X_train.astype(str)) # applying to the different X sequences\n",
    "        X_val_seq = tokenizer.texts_to_sequences(X_val.astype(str))\n",
    "        X_test_seq = tokenizer.texts_to_sequences(X_test.astype(str))\n",
    "\n",
    "\n",
    "        vocab_size = len(tokenizer.word_index) + 1 #Printing length of the words in the tokenizer\n",
    "        print(vocab_size)\n",
    "        print(tokenizer.word_index) # printing the list of tokenized words\n",
    "\n",
    "        for i in range (5):\n",
    "            print(f\"Sequence {i + 1}: {X_train_seq[i]}\")\n",
    "\n",
    "\n",
    "        max_sequence_length = max_length\n",
    "\n",
    "        X_train_padded = pad_sequences(X_train_seq, maxlen=max_sequence_length, padding=\"post\") # adding padding to each set\n",
    "        X_val_padded = pad_sequences(X_val_seq, maxlen=max_sequence_length, padding=\"post\")\n",
    "        X_test_padded = pad_sequences(X_test_seq, maxlen=max_sequence_length, padding=\"post\")\n",
    "\n",
    "        for i in range (3):\n",
    "            print(f\"Sequence{i +1}: {X_train_padded[i]}\") # printing first 3 sequences in the X_train  \n",
    "\n",
    "        return X_train_padded, X_val_padded, X_test_padded"
   ]
  },
  {
   "cell_type": "code",
   "execution_count": 228,
   "metadata": {},
   "outputs": [
    {
     "name": "stdout",
     "output_type": "stream",
     "text": [
      "804\n",
      "{'people': 1, 'like': 2, 'trans': 3, 'muslim': 4, 'disabled': 5, 'black': 6, 'immigrant': 7, 'gay': 8, 'woman': 9, 'person': 10, 'life': 11, 'nothing': 12, 'country': 13, 'would': 14, 'typical': 15, 'make': 16, 'worth': 17, 'never': 18, 'e': 19, 'get': 20, 'many': 21, 'absolutely': 22, 'much': 23, 'going': 24, 'really': 25, 'kind': 26, 'think': 27, 'believe': 28, 'must': 29, 'human': 30, 'deserve': 31, 'society': 32, 'see': 33, 'thing': 34, 'behaviour': 35, 'calling': 36, 'complete': 37, 'die': 38, 'stop': 39, 'ought': 40, 'hate': 41, 'nature': 42, 'u': 43, 'worthless': 44, 'let': 45, 'saying': 46, 'r': 47, 'help': 48, 'seriously': 49, 'common': 50, 'l': 51, 'c': 52, 'around': 53, 'want': 54, 'one': 55, 'fuck': 56, 'respect': 57, 'without': 58, 'disgusting': 59, 'suffer': 60, 'shit': 61, 'fag': 62, 'being': 63, 'write': 64, 'executed': 65, 'sick': 66, 'queer': 67, 'scum': 68, 'bitch': 69, 'g': 70, 'n': 71, 'government': 72, 'say': 73, 'call': 74, 'stupid': 75, 'rid': 76, 'cannot': 77, 'kill': 78, 'world': 79, 'garbage': 80, 'cut': 81, 'someone': 82, 'feel': 83, 'contempt': 84, 'clear': 85, 'okay': 86, 'said': 87, 'worse': 88, 'still': 89, 'h': 90, 'faggot': 91, 'today': 92, 'anyone': 93, 'keep': 94, 'obvious': 95, 'charge': 96, 'better': 97, 'right': 98, 'female': 99, 'hatred': 100, 'asshole': 101, 'killed': 102, 'every': 103, 'head': 104, 'course': 105, 'love': 106, 'absolute': 107, 'rather': 108, 'live': 109, 'look': 110, 'throat': 111, 'somebody': 112, 'cancer': 113, 'belong': 114, 'murder': 115, 'horrible': 116, 'single': 117, 'word': 118, 'else': 119, 'hurt': 120, 'nigga': 121, 'violent': 122, 'cruel': 123, 'despicable': 124, 'know': 125, 'lot': 126, 'another': 127, 'rape': 128, 'lesser': 129, 'k': 130, 'show': 131, 'understand': 132, 'death': 133, 'end': 134, 'f': 135, 'go': 136, 'tomorrow': 137, 'fucked': 138, 'rat': 139, 'disgust': 140, 'snap': 141, 'neck': 142, 'worst': 143, 'dickhead': 144, 'planet': 145, 'natural': 146, 'dead': 147, 'ever': 148, 'even': 149, 'repulsive': 150, 'nigger': 151, 'put': 152, 'cripple': 153, 'place': 154, 'massive': 155, 'scumbags': 156, 'civilisation': 157, 'tolerate': 158, 'le': 159, 'shoot': 160, 'opinion': 161, 'ignorant': 162, 'annoying': 163, 'prick': 164, 'burned': 165, 'stake': 166, 'repugnant': 167, 'whore': 168, 'wetback': 169, 'trns': 170, 'coon': 171, 'power': 172, 'fucker': 173, 'retard': 174, 'idea': 175, 'change': 176, 'dirt': 177, 'trash': 178, 'jail': 179, 'date': 180, 'equal': 181, 'refuse': 182, 'valuable': 183, 'bunch': 184, 'care': 185, 'bigot': 186, 'finally': 187, 'send': 188, 'message': 189, 'blocked': 190, 'fitting': 191, 'b': 192, 'anywhere': 193, 'near': 194, 'slaughter': 195, 'parasite': 196, 'allowing': 197, 'ruin': 198, 'trust': 199, 'slut': 200, 'raping': 201, 'illegal': 202, 'proud': 203, 'space': 204, 'stuff': 205, 'intelligent': 206, 'disabld': 207, 'mercy': 208, 'time': 209, 'cancr': 210, 'civilised': 211, 'doubt': 212, 'threat': 213, 'camel': 214, 'disgusted': 215, 'dishonest': 216, 'plague': 217, 'locked': 218, 'cage': 219, 'stab': 220, 'come': 221, 'hang': 222, 'eradicate': 223, 'cockroach': 224, 'loathe': 225, 'seeing': 226, 'dumbest': 227, 'forget': 228, 'writing': 229, 'fit': 230, 'might': 231, 'next': 232, 'find': 233, 'bullshit': 234, 'bigoted': 235, 'thinking': 236, 'could': 237, 'furious': 238, 'eradicated': 239, 'compassion': 240, 'pathetic': 241, 'putting': 242, 'wish': 243, 'talk': 244, 'baffle': 245, 'slightest': 246, 'anything': 247, 'hand': 248, 'gy': 249, 'committed': 250, 'crime': 251, 'stabthose': 252, 'motherfucker': 253, 'p': 254, 'vermin': 255, 'cancre': 256, 'well': 257, 'take': 258, 'systematic': 259, 'tranny': 260, 'realise': 261, 'hte': 262, 'made': 263, 'best': 264, 'klil': 265, 'attractive': 266, 'earth': 267, 'abhor': 268, 'far': 269, 'embrace': 270, 'comment': 271, 'report': 272, 'uncivilised': 273, 'mistake': 274, 'sad': 275, 'credit': 276, 'clearly': 277, 'muslms': 278, 'disdain': 279, 'talking': 280, 'met': 281, 'v': 282, 'unciviliesd': 283, 'agree': 284, 'pissing': 285, 'gone': 286, 'haet': 287, 'monkey': 288, 'combined': 289, 'guitar': 290, 'player': 291, 'band': 292, 'president': 293, 'eat': 294, 'food': 295, 'touched': 296, 'hero': 297, 'reflect': 298, 'moment': 299, 'stupidestpeople': 300, 'football': 301, 'team': 302, 'w': 303, 'cherish': 304, 'despise': 305, 'value': 306, 'celebrated': 307, 'needle': 308, 'danger': 309, 'hope': 310, 'jihadis': 311, 'whenever': 312, 'sense': 313, 'acting': 314, 'new': 315, 'support': 316, 'threatening': 317, 'thrown': 318, 'sosickening': 319, 'dei': 320, 'half': 321, 'participant': 322, 'immgrants': 323, 'blck': 324, 'execuetd': 325, 'sht': 326, 'matter': 327, 'easy': 328, 'execution': 329, 'solution': 330, 'muchdisdain': 331, 'justpathetic': 332, 'dog': 333, 'smarter': 334, 'shitty': 335, 'heart': 336, 'hard': 337, 'total': 338, 'shithead': 339, 'apparent': 340, 'worthy': 341, 'living': 342, 'admired': 343, 'muzzies': 344, 'insect': 345, 'kll': 346, 'concerned': 347, 'livs': 348, 'wrong': 349, 'complaining': 350, 'blessing': 351, 'kicked': 352, 'platform': 353, 'pest': 354, 'ssholes': 355, 'deserves': 356, 'despicble': 357, 'rapefugee': 358, 'important': 359, 'waste': 360, 'nice': 361, 'sometimes': 362, 'murderthat': 363, 'ceo': 364, 'company': 365, 'zoo': 366, 'muzzie': 367, 'shot': 368, 'street': 369, 'back': 370, 'member': 371, 'cover': 372, 'author': 373, 'simply': 374, 'wishing': 375, 'killd': 376, 'sickening': 377, 'pretty': 378, 'adore': 379, 'everything': 380, 'deth': 381, 'difference': 382, 'post': 383, 'timeline': 384, 'already': 385, 'hug': 386, 'murdering': 387, 'decriminalised': 388, 'vet': 389, 'away': 390, 'open': 391, 'attacking': 392, 'considering': 393, 'strangling': 394, 'torture': 395, 'happy': 396, 'fuk': 397, 'learning': 398, 'wonderful': 399, 'court': 400, 'strangel': 401, 'trsh': 402, 'womn': 403, 'consequence': 404, 'z': 405, 'rapefugees': 406, 'politician': 407, 'treat': 408, 'fill': 409, 'rage': 410, 'fun': 411, 'wanted': 412, 'tortuer': 413, 'school': 414, 'stand': 415, 'dumb': 416, 'especially': 417, 'tell': 418, 'dath': 419, 'sikc': 420, 'allow': 421, 'raped': 422, 'hatrd': 423, 'two': 424, 'stb': 425, 'sck': 426, 'thankfully': 427, 'banned': 428, 'lift': 429, 'finger': 430, 'save': 431, 'ihate': 432, 'condone': 433, 'killing': 434, 'woke': 435, 'mongs': 436, 'misguided': 437, 'mong': 438, 'everybody': 439, 'interest': 440, 'flthy': 441, 'alive': 442, 'forever': 443, 'disgutsed': 444, 'biggest': 445, 'stupd': 446, 'fukced': 447, 'tortured': 448, 'boil': 449, 'anger': 450, 'prison': 451, 'massivescumbags': 452, 'revolting': 453, 'need': 454, 'dehumanising': 455, 'trying': 456, 'along': 457, 'angry': 458, 'absolutefilth': 459, 'disheartening': 460, 'personally': 461, 'protecting': 462, 'telling': 463, 'expect': 464, 'detest': 465, 'jihadi': 466, 'taken': 467, 'doctor': 468, 'gorgeous': 469, 'recognise': 470, 'quite': 471, 'vile': 472, 'great': 473, 'opposite': 474, 'enough': 475, 'bastard': 476, 'strangle': 477, 'shut': 478, 'got': 479, 'mind': 480, 'bullsiht': 481, 'brainless': 482, 'exception': 483, 'view': 484, 'attacked': 485, 'longer': 486, 'test': 487, 'drug': 488, 'testing': 489, 'animal': 490, 'compassionate': 491, 'hangall': 492, 'drown': 493, 'dumped': 494, 'landfill': 495, 'surprised': 496, 'came': 497, 'amazing': 498, 'act': 499, 'apply': 500, 'smile': 501, 'strong': 502, 'admiration': 503, 'murdr': 504, 'special': 505, 'group': 506, 'ask': 507, 'shemales': 508, 'glad': 509, 'realising': 510, 'utter': 511, 'scorn': 512, 'fukc': 513, 'smart': 514, 'insult': 515, 'beautiful': 516, 'lost': 517, 'insisting': 518, 'fucking': 519, 'dickheds': 520, 'firmly': 521, 'therapist': 522, 'work': 523, 'general': 524, 'particular': 525, 'shoe': 526, 'plageu': 527, 'luckily': 528, 'count': 529, 'todie': 530, 'ignoratn': 531, 'virus': 532, 'shemale': 533, 'contmpt': 534, 'stupidest': 535, 'also': 536, 'filthy': 537, 'laughing': 538, 'start': 539, 'shooting': 540, 'day': 541, 'three': 542, 'deaht': 543, 'bad': 544, 'way': 545, 'honoured': 546, 'hateful': 547, 'getting': 548, 'murdered': 549, 'subhuman': 550, 'creature': 551, 'please': 552, 'fuckall': 553, 'q': 554, 'garden': 555, 'hoe': 556, 'pissed': 557, 'others': 558, 'whre': 559, 'crippl': 560, 'faggt': 561, 'muslm': 562, 'small': 563, 'minded': 564, 'thraet': 565, 'fantastic': 566, 'j': 567, 'realest': 568, 'baddest': 569, 'went': 570, 'dyke': 571, 'statement': 572, 'deeply': 573, 'hurtful': 574, 'good': 575, 'vibe': 576, 'immigrnt': 577, 'deathto': 578, 'filth': 579, 'manager': 580, 'immigrnts': 581, 'trannies': 582, 'fg': 583, 'elected': 584, 'parliament': 585, 'real': 586, 'suffre': 587, 'worht': 588, 'error': 589, 'dumbass': 590, 'desire': 591, 'reason': 592, 'mouth': 593, 'squinting': 594, 'eye': 595, 'smoke': 596, 'stay': 597, 'blacktrash': 598, 'whres': 599, 'gayvermin': 600, 'blackvermin': 601, 'always': 602, 'niggerbehaviour': 603, 'fight': 604, 'manyshemales': 605, 'thought': 606, 'gotta': 607, 'hottest': 608, 'wherever': 609, 'fought': 610, 'jhadi': 611, 'ate': 612, 'pan': 613, 'fried': 614, 'dinner': 615, 'retardbehaviour': 616, 'hanging': 617, 'shovel': 618, 'authority': 619, 'reclaim': 620, 'rtards': 621, 'thisrapefugee': 622, 'muslimthroats': 623, 'faggotbehaviour': 624, 'comfortable': 625, 'use': 626, 'gotchu': 627, 'manysluts': 628, 'wetbackbehaviour': 629, 'manycamel': 630, 'kiss': 631, 'men': 632, 'scare': 633, 'slutbehaviour': 634, 'shout': 635, 'entertainment': 636, 'probably': 637, 'across': 638, 'feeling': 639, 'watched': 640, 'empowering': 641, 'walk': 642, 'water': 643, 'turning': 644, 'field': 645, 'manyfags': 646, 'disabledvermin': 647, 'rpefugees': 648, 'rpefugee': 649, 'talented': 650, 'wtback': 651, 'blackthroats': 652, 'manymuzzies': 653, 'rapefugeebehaviour': 654, 'gaytrash': 655, 'femalevermin': 656, 'thanks': 657, 'thismuzzie': 658, 'lookin': 659, 'clean': 660, 'building': 661, 'beach': 662, 'thistranny': 663, 'dyked': 664, 'marshland': 665, 'river': 666, 'provide': 667, 'pasture': 668, 'summer': 669, 'thiscripple': 670, 'shmales': 671, 'eyeliner': 672, 'hot': 673, 'check': 674, 'prettiest': 675, 'outside': 676, 'smoked': 677, 'saw': 678, 'representation': 679, 'tv': 680, 'cripplebehaviour': 681, 'coonbehaviour': 682, 'btches': 683, 'muzziebehaviour': 684, 'peopledisgust': 685, 'manyretards': 686, 'mean': 687, 'happily': 688, 'yeah': 689, 'deal': 690, 'accepted': 691, 'embraced': 692, 'culture': 693, 'tryna': 694, 'money': 695, 'first': 696, 'nominated': 697, 'national': 698, 'coming': 699, 'fellow': 700, 'shemalebehaviour': 701, 'marched': 702, 'liberation': 703, 'femalethroats': 704, 'started': 705, 'instead': 706, 'hearing': 707, 'hurled': 708, 'round': 709, 'mng': 710, 'jihadibehaviour': 711, 'describe': 712, 'bundle': 713, 'stick': 714, 'bound': 715, 'together': 716, 'fuel': 717, 'manyrapefugees': 718, 'rtard': 719, 'transthroats': 720, 'whorebehaviour': 721, 'cigarette': 722, 'uk': 723, 'fighting': 724, 'homophobia': 725, 'pointless': 726, 'shmale': 727, 'manywhores': 728, 'immigrantvermin': 729, 'immigranttrash': 730, 'theory': 731, 'addition': 732, 'curriculum': 733, 'manytrannies': 734, 'talent': 735, 'rip': 736, 'thisslut': 737, 'btch': 738, 'smoking': 739, 'lung': 740, 'con': 741, 'muslimsdisgust': 742, 'pride': 743, 'month': 744, 'whole': 745, 'process': 746, 'seemed': 747, 'bit': 748, 'hater': 749, 'genius': 750, 'birthday': 751, 'crippls': 752, 'wmen': 753, 'femaletrash': 754, 'thisshemale': 755, 'transvermin': 756, 'thisfag': 757, 'slus': 758, 'year': 759, 'swarm': 760, 'infesting': 761, 'labrador': 762, 'gave': 763, 'birth': 764, 'puppy': 765, 'playing': 766, 'classify': 767, 'strict': 768, 'category': 769, 'colonial': 770, 'quer': 771, 'barking': 772, 'criminalised': 773, 'muzzi': 774, 'stating': 775, 'fact': 776, 'manywetbacks': 777, 'disabledthroats': 778, 'freshest': 779, 'room': 780, 'assuming': 781, 'polyamorous': 782, 'turn': 783, 'slur': 784, 'thiscamel': 785, 'community': 786, 'super': 787, 'welcoming': 788, 'niggr': 789, 'wig': 790, 'bos': 791, 'man': 792, 'closest': 793, 'family': 794, 'spent': 795, 'afternoon': 796, 'hoeing': 797, 'vegetable': 798, 'patch': 799, 'faggts': 800, 'colleague': 801, 'flow': 802, 'gon': 803}\n",
      "Sequence 1: [81, 5, 1, 111]\n",
      "Sequence 2: [6, 1, 2, 167]\n",
      "Sequence 3: [7, 29, 250, 251, 122, 123]\n",
      "Sequence 4: [3, 1, 22, 124]\n",
      "Sequence 5: [74, 391, 100, 8, 1, 32]\n",
      "Sequence1: [ 81   5   1 111   0   0   0   0   0   0   0   0   0   0   0   0   0   0\n",
      "   0   0   0   0   0   0   0   0   0   0   0   0   0   0   0   0   0   0\n",
      "   0   0   0   0]\n",
      "Sequence2: [  6   1   2 167   0   0   0   0   0   0   0   0   0   0   0   0   0   0\n",
      "   0   0   0   0   0   0   0   0   0   0   0   0   0   0   0   0   0   0\n",
      "   0   0   0   0]\n",
      "Sequence3: [  7  29 250 251 122 123   0   0   0   0   0   0   0   0   0   0   0   0\n",
      "   0   0   0   0   0   0   0   0   0   0   0   0   0   0   0   0   0   0\n",
      "   0   0   0   0]\n"
     ]
    }
   ],
   "source": [
    "X_train, X_val, X_test = tokenizer_padding(X_train, X_val, X_test, 3606, 40)"
   ]
  },
  {
   "cell_type": "code",
   "execution_count": 229,
   "metadata": {},
   "outputs": [
    {
     "data": {
      "text/plain": [
       "array([[ 81,   5,   1, ...,   0,   0,   0],\n",
       "       [  6,   1,   2, ...,   0,   0,   0],\n",
       "       [  7,  29, 250, ...,   0,   0,   0],\n",
       "       ...,\n",
       "       [  4,  31, 448, ...,   0,   0,   0],\n",
       "       [ 16,  73, 205, ...,   0,   0,   0],\n",
       "       [ 22, 268,   6, ...,   0,   0,   0]], dtype=int32)"
      ]
     },
     "execution_count": 229,
     "metadata": {},
     "output_type": "execute_result"
    }
   ],
   "source": [
    "X_train"
   ]
  },
  {
   "cell_type": "code",
   "execution_count": 230,
   "metadata": {},
   "outputs": [
    {
     "data": {
      "text/plain": [
       "(array([0, 0, 0, ..., 1, 1, 0]), array([2, 1, 4, ..., 0, 3, 1]))"
      ]
     },
     "execution_count": 230,
     "metadata": {},
     "output_type": "execute_result"
    }
   ],
   "source": [
    "y_train"
   ]
  },
  {
   "cell_type": "markdown",
   "metadata": {},
   "source": [
    "## Designing the model"
   ]
  },
  {
   "cell_type": "code",
   "execution_count": 231,
   "metadata": {},
   "outputs": [
    {
     "name": "stdout",
     "output_type": "stream",
     "text": [
      "The number of hidden nodes is: 160\n"
     ]
    }
   ],
   "source": [
    "hidden_nodes = int(2/3 * (40 * 6))\n",
    "print(f\"The number of hidden nodes is: {hidden_nodes}\")"
   ]
  },
  {
   "cell_type": "code",
   "execution_count": 232,
   "metadata": {},
   "outputs": [],
   "source": [
    "# creating a base model, This can be adapted further after training and testing\n",
    "\n",
    "def base_model(inputs):\n",
    "    embed = Embedding(804, 64, input_length=40)(inputs)\n",
    "    LSTM_1 = LSTM(10,return_sequences=True, name =\"LSTM_1\") (embed)\n",
    "    LSTM_2 = LSTM(10,return_sequences=False, name= \"LSTM_2\") (LSTM_1)\n",
    "    o_dense = Dense(160, activation=\"relu\", name=\"opinion_dense_1\") (LSTM_2)\n",
    "    t_dense = Dense(160, activation=\"relu\", name=\"target_ident_dense_1\") (LSTM_2)\n",
    "\n",
    "    return o_dense, t_dense"
   ]
  },
  {
   "cell_type": "code",
   "execution_count": 233,
   "metadata": {},
   "outputs": [],
   "source": [
    "def final_model(inputs,base_funtion ):\n",
    "    o_dense, t_dense = base_funtion\n",
    "    opinion = Dense(units=\"2\",activation =\"softmax\", name= \"opinion\") (o_dense)\n",
    "    target_ident = Dense(units= \"7\", activation=\"softmax\", name= \"target_ident\") (t_dense)\n",
    "    model = Model(inputs=inputs, outputs= [opinion, target_ident])\n",
    "\n",
    "    return model\n",
    "    "
   ]
  },
  {
   "cell_type": "code",
   "execution_count": 234,
   "metadata": {},
   "outputs": [],
   "source": [
    "inputs = Input(shape=(40,))\n"
   ]
  },
  {
   "cell_type": "code",
   "execution_count": 235,
   "metadata": {},
   "outputs": [],
   "source": [
    "model = final_model(inputs, base_model(inputs))"
   ]
  },
  {
   "cell_type": "code",
   "execution_count": 236,
   "metadata": {},
   "outputs": [],
   "source": [
    "def compile_model(model):\n",
    "    \n",
    "    model.compile(optimizer=\"adam\",\n",
    "              loss= {\"opinion\" : \"sparse_categorical_crossentropy\",\n",
    "                     \"target_ident\" : \"sparse_categorical_crossentropy\"},\n",
    "              metrics={\"opinion\" : [\"accuracy\"],\n",
    "                       \"target_ident\" : [\"accuracy\"]},)\n",
    "    \n",
    "    plot = tf.keras.utils.plot_model(model, show_shapes=True, show_layer_names=True)\n",
    "    display(plot)\n",
    "\n",
    "    return model"
   ]
  },
  {
   "cell_type": "code",
   "execution_count": 237,
   "metadata": {},
   "outputs": [
    {
     "data": {
      "image/png": "[encoded data removed]",
      "text/plain": [
       "<IPython.core.display.Image object>"
      ]
     },
     "metadata": {},
     "output_type": "display_data"
    }
   ],
   "source": [
    "model = compile_model(model)"
   ]
  },
  {
   "cell_type": "code",
   "execution_count": 238,
   "metadata": {},
   "outputs": [],
   "source": [
    "def train_model (model, epochs, X_train, X_val, y_train, y_val):\n",
    "        # creating early stopping and model checkpoint so best model will be saved and the training will be stopped if no progress\n",
    "    early_stopping = EarlyStopping(monitor=\"val_loss\", mode=\"min\", verbose=1, patience=5)\n",
    "\n",
    "    history = model.fit(X_train, y_train, \n",
    "                validation_data=(X_val,y_val), \n",
    "                epochs=epochs, \n",
    "                callbacks=[early_stopping],\n",
    "                verbose=0) \n",
    "\n",
    "    loss, opinion_loss, target_ident_loss, opinion_accuracy, target_ident_accuracy = model.evaluate(x=X_val, y=y_val)\n",
    "    print(f'loss: {loss}')\n",
    "    print(f'opinion_loss: {opinion_loss}')\n",
    "    print(f'target_ident_loss: {target_ident_loss}')\n",
    "    print(f'opinion_accuracy: {opinion_accuracy}')\n",
    "    print(f'target_ident_accuracy: {target_ident_accuracy}')\n",
    "\n",
    "    #visualizing training and validation results \n",
    "    plt.figure(figsize=(8, 10))\n",
    "\n",
    "    plt.subplot(2, 2, 1)\n",
    "    plt.title(\"Target Group Accuracy\")\n",
    "    plt.plot(history.history[\"target_ident_accuracy\"], label=\"Training Accuracy\")\n",
    "    plt.plot(history.history[\"val_target_ident_accuracy\"], label=\"Validation Accuracy\")\n",
    "    plt.xlabel(\"Epoch\")\n",
    "    plt.ylabel(\"Accuracy\")\n",
    "    plt.legend()\n",
    "\n",
    "    plt.subplot(2, 2, 2)\n",
    "    plt.title(\"Target Group Loss\")\n",
    "    plt.plot(history.history[\"target_ident_loss\"], label=\"Training Loss\")\n",
    "    plt.plot(history.history[\"val_target_ident_loss\"], label=\" Validation Loss\")\n",
    "    plt.xlabel(\"Epoch\")\n",
    "    plt.ylabel(\"Loss\")\n",
    "    plt.legend()\n",
    "\n",
    "    plt.subplot(2, 2, 3)\n",
    "    plt.title(\"Hateful/Non-Hateful Accuracy\")\n",
    "    plt.plot(history.history[\"opinion_accuracy\"], label=\" Accuracy\")\n",
    "    plt.plot(history.history[\"val_opinion_accuracy\"], label=\"Validation Accuracy\")\n",
    "    plt.xlabel(\"Epoch\")\n",
    "    plt.ylabel(\"Accuracy\")\n",
    "    plt.legend()\n",
    "\n",
    "    plt.subplot(2, 2, 4)\n",
    "    plt.title(\"Hateful/Non-Hateful Loss\")\n",
    "    plt.plot(history.history[\"opinion_loss\"], label= \"Training Loss\")\n",
    "    plt.plot(history.history[\"val_opinion_loss\"], label=\"Validation Loss \")\n",
    "    plt.xlabel(\"Epoch\")\n",
    "    plt.ylabel(\"Loss\")\n",
    "    plt.legend()\n",
    "    \n",
    "    return model"
   ]
  },
  {
   "cell_type": "code",
   "execution_count": 239,
   "metadata": {},
   "outputs": [
    {
     "name": "stdout",
     "output_type": "stream",
     "text": [
      "Epoch 14: early stopping\n",
      "28/28 [==============================] - 0s 14ms/step - loss: 2.0244 - opinion_loss: 0.2559 - target_ident_loss: 1.7685 - opinion_accuracy: 0.9319 - target_ident_accuracy: 0.2113\n",
      "loss: 2.0243823528289795\n",
      "opinion_loss: 0.255868524312973\n",
      "target_ident_loss: 1.768513798713684\n",
      "opinion_accuracy: 0.931870698928833\n",
      "target_ident_accuracy: 0.21131639182567596\n"
     ]
    },
    {
     "data": {
      "image/png": "[encoded data removed]",
      "text/plain": [
       "<Figure size 800x1000 with 4 Axes>"
      ]
     },
     "metadata": {},
     "output_type": "display_data"
    }
   ],
   "source": [
    "model = train_model (model, 50, X_train, X_val, y_train, y_val)"
   ]
  },
  {
   "cell_type": "code",
   "execution_count": 262,
   "metadata": {},
   "outputs": [],
   "source": [
    "def test_model(model, X_test, y_test):\n",
    "    labels = {\"0\": \"Hateful\", \"1\" :\"Non_Hateful\"}\n",
    "    \n",
    "    y_pred_opinion = np.argmax(model.predict(X_test)[0], axis=1)\n",
    "    y_test_opinion = y_test[0]\n",
    "\n",
    "    y_pred_target = np.argmax(model.predict(X_test)[1], axis=1)\n",
    "    y_test_target = y_test[1]\n",
    "\n",
    "    conf_matrix_opinion = confusion_matrix(y_pred_opinion, y_test_opinion)\n",
    "    conf_matrix_target = confusion_matrix(y_pred_target,y_test_target)\n",
    "\n",
    "    plt.figure(figsize=(12, 8))\n",
    "    sns.set(font_scale = 0.5)\n",
    "\n",
    "    plt.subplot(1, 2, 1)\n",
    "    ax = sns.heatmap(conf_matrix_opinion, annot=True, fmt='d', \n",
    "    cbar=False, cmap='tab10', vmax=500 ,xticklabels=labels.values(), yticklabels=labels.values())\n",
    " \n",
    "    ax.set_xlabel(\"Predicted\", labelpad=20)\n",
    "    ax.set_ylabel(\"Actual\", labelpad=20)\n",
    "    \n",
    "    plt.subplot(1, 2, 2)\n",
    "    ax = sns.heatmap(conf_matrix_target, annot=True, fmt='d', \n",
    "    cbar=False, cmap='tab10', vmax=500,xticklabels=encoder_dict[\"target_ident\"].keys(), yticklabels=encoder_dict[\"target_ident\"].keys())\n",
    " \n",
    "    ax.set_xlabel(\"Predicted\", labelpad=20)\n",
    "    ax.set_ylabel(\"Actual\", labelpad=20)\n",
    "    plt.show()\n",
    "\n",
    "    precision_opinion = precision_score(y_test_opinion, y_pred_opinion, average=\"weighted\")\n",
    "    recall_opinion = recall_score(y_test_opinion, y_pred_opinion, average=\"weighted\")\n",
    "    f1score_opinion = f1_score(y_test_opinion, y_pred_opinion, average=\"weighted\")\n",
    "    accuracy_opinion = accuracy_score(y_test_opinion, y_pred_opinion)\n",
    "\n",
    "    precision_target = precision_score(y_test_target, y_pred_target, average=\"weighted\")\n",
    "    recall_target = recall_score(y_test_target, y_pred_target, average=\"weighted\")\n",
    "    f1score_target = f1_score(y_test_target, y_pred_target, average=\"weighted\")\n",
    "    accuracy_target = accuracy_score(y_test_target, y_pred_target)\n",
    "\n",
    "    print(f\"Opinion Accuracy = {accuracy_opinion}\") \n",
    "    print(f\"Opinion Precision = {precision_opinion}\")\n",
    "    print(f\"Opinion Recall = {recall_opinion}\")\n",
    "    print(f\"Opinion F1 Score = {f1score_opinion}\")\n",
    "    print(\"\\n\")\n",
    "    print(f\"Target Accuracy = {accuracy_target}\") \n",
    "    print(f\"Target Precision = {precision_target}\")\n",
    "    print(f\"Target Recall = {recall_target}\")\n",
    "    print(f\"Target F1 Score = {f1score_target}\")"
   ]
  },
  {
   "cell_type": "code",
   "execution_count": 263,
   "metadata": {},
   "outputs": [
    {
     "name": "stdout",
     "output_type": "stream",
     "text": [
      " 1/23 [>.............................] - ETA: 1s"
     ]
    },
    {
     "name": "stdout",
     "output_type": "stream",
     "text": [
      "23/23 [==============================] - 1s 25ms/step\n",
      "23/23 [==============================] - 0s 15ms/step\n"
     ]
    },
    {
     "data": {
      "image/png": "[encoded data removed]",
      "text/plain": [
       "<Figure size 1200x800 with 2 Axes>"
      ]
     },
     "metadata": {},
     "output_type": "display_data"
    },
    {
     "name": "stdout",
     "output_type": "stream",
     "text": [
      "Opinion Accuracy = 0.943213296398892\n",
      "Opinion Precision = 0.9460874113439133\n",
      "Opinion Recall = 0.943213296398892\n",
      "Opinion F1 Score = 0.9411625230310207\n",
      "\n",
      "\n",
      "Target Accuracy = 0.22853185595567868\n",
      "Target Precision = 0.17181709626226757\n",
      "Target Recall = 0.22853185595567868\n",
      "Target F1 Score = 0.14392873442218787\n"
     ]
    },
    {
     "name": "stderr",
     "output_type": "stream",
     "text": [
      "/home/sam_glass/deep_learning/venv/lib/python3.10/site-packages/sklearn/metrics/_classification.py:1471: UndefinedMetricWarning: Precision is ill-defined and being set to 0.0 in labels with no predicted samples. Use `zero_division` parameter to control this behavior.\n",
      "  _warn_prf(average, modifier, msg_start, len(result))\n"
     ]
    }
   ],
   "source": [
    "test_model(model, X_test, y_test)"
   ]
  }
 ],
 "metadata": {
  "kernelspec": {
   "display_name": "venv",
   "language": "python",
   "name": "python3"
  },
  "language_info": {
   "codemirror_mode": {
    "name": "ipython",
    "version": 3
   },
   "file_extension": ".py",
   "mimetype": "text/x-python",
   "name": "python",
   "nbconvert_exporter": "python",
   "pygments_lexer": "ipython3",
   "version": "3.10.12"
  }
 },
 "nbformat": 4,
 "nbformat_minor": 2
}
