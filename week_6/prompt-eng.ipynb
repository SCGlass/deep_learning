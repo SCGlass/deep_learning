{
 "cells": [
  {
   "cell_type": "code",
   "execution_count": 3,
   "id": "e3086620",
   "metadata": {},
   "outputs": [],
   "source": [
    "import openai\n",
    "import json\n",
    "import os\n",
    "\n",
    "from dotenv import load_dotenv"
   ]
  },
  {
   "cell_type": "markdown",
   "id": "e2ef5e81",
   "metadata": {},
   "source": [
    "# Open AI config"
   ]
  },
  {
   "cell_type": "code",
   "execution_count": 6,
   "id": "806cc4a9",
   "metadata": {},
   "outputs": [
    {
     "data": {
      "text/plain": [
       "False"
      ]
     },
     "execution_count": 6,
     "metadata": {},
     "output_type": "execute_result"
    }
   ],
   "source": [
    "# This is if you have your API key in an .env file, if not remove this line\n",
    "load_dotenv()"
   ]
  },
  {
   "cell_type": "code",
   "execution_count": 7,
   "id": "0d7a0c28",
   "metadata": {},
   "outputs": [],
   "source": [
    "# Your API key, can just write it in here instead of geting it from environment\n",
    "openai.api_key = os.getenv(\"API_KEY\") "
   ]
  },
  {
   "cell_type": "markdown",
   "id": "ac137f16",
   "metadata": {},
   "source": [
    "# ChatGPT Request"
   ]
  },
  {
   "cell_type": "code",
   "execution_count": 8,
   "id": "ae76392e",
   "metadata": {},
   "outputs": [],
   "source": [
    "prompt = \"\"\"\n",
    "    Vad är huvudstaden i Frankrike?\n",
    "    Svara i Json.\n",
    "    \n",
    "\"\"\"\n",
    "\n",
    "# Svara på följande format:\n",
    "    #{\"a\" : []}"
   ]
  },
  {
   "cell_type": "code",
   "execution_count": 9,
   "id": "075badba",
   "metadata": {},
   "outputs": [],
   "source": [
    "r = openai.ChatCompletion.create(\n",
    "        model=\"gpt-3.5-turbo\",\n",
    "        messages=[\n",
    "            {\n",
    "                \"role\": \"user\",\n",
    "                \"content\": prompt\n",
    "            }\n",
    "        ]\n",
    "    )"
   ]
  },
  {
   "cell_type": "code",
   "execution_count": 10,
   "id": "e7c0ddf9",
   "metadata": {},
   "outputs": [
    {
     "name": "stdout",
     "output_type": "stream",
     "text": [
      "{\n",
      "  \"id\": \"chatcmpl-8f3Zc8fsNdxhywKs1iao4lXCPc7Nl\",\n",
      "  \"object\": \"chat.completion\",\n",
      "  \"created\": 1704795876,\n",
      "  \"model\": \"gpt-3.5-turbo-0613\",\n",
      "  \"choices\": [\n",
      "    {\n",
      "      \"index\": 0,\n",
      "      \"message\": {\n",
      "        \"role\": \"assistant\",\n",
      "        \"content\": \"Huvudstaden i Frankrike \\u00e4r Paris.\"\n",
      "      },\n",
      "      \"logprobs\": null,\n",
      "      \"finish_reason\": \"stop\"\n",
      "    }\n",
      "  ],\n",
      "  \"usage\": {\n",
      "    \"prompt_tokens\": 20,\n",
      "    \"completion_tokens\": 11,\n",
      "    \"total_tokens\": 31\n",
      "  },\n",
      "  \"system_fingerprint\": null\n",
      "}\n"
     ]
    }
   ],
   "source": [
    "print(r)"
   ]
  },
  {
   "cell_type": "code",
   "execution_count": 11,
   "id": "ff288de3",
   "metadata": {},
   "outputs": [],
   "source": [
    "content = r.choices[0].message.content"
   ]
  },
  {
   "cell_type": "code",
   "execution_count": null,
   "id": "ea6cfbb7",
   "metadata": {},
   "outputs": [],
   "source": [
    "json.loads(content)"
   ]
  },
  {
   "cell_type": "code",
   "execution_count": 12,
   "id": "2ea0d2c9",
   "metadata": {},
   "outputs": [
    {
     "data": {
      "text/plain": [
       "'Huvudstaden i Frankrike är Paris.'"
      ]
     },
     "execution_count": 12,
     "metadata": {},
     "output_type": "execute_result"
    }
   ],
   "source": [
    "content"
   ]
  }
 ],
 "metadata": {
  "kernelspec": {
   "display_name": "venv",
   "language": "python",
   "name": "python3"
  },
  "language_info": {
   "codemirror_mode": {
    "name": "ipython",
    "version": 3
   },
   "file_extension": ".py",
   "mimetype": "text/x-python",
   "name": "python",
   "nbconvert_exporter": "python",
   "pygments_lexer": "ipython3",
   "version": "3.10.12"
  }
 },
 "nbformat": 4,
 "nbformat_minor": 5
}
